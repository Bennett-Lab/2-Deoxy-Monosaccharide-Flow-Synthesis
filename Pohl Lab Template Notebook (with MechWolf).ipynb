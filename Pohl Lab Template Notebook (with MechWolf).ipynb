{
 "cells": [
  {
   "cell_type": "markdown",
   "metadata": {},
   "source": [
    "# Name\n",
    "\n",
    "## Date \n",
    "\n",
    "### Reaction"
   ]
  },
  {
   "cell_type": "code",
   "execution_count": 2,
   "metadata": {},
   "outputs": [],
   "source": [
    "# notebook and mechwolf modules, do not delete \n",
    "\n",
    "import mechwolf as mw\n",
    "from datetime import timedelta\n",
    "from astropy.table import QTable, Table, Column \n",
    "from sigfig import round"
   ]
  },
  {
   "cell_type": "markdown",
   "metadata": {},
   "source": [
    "### Reaction Scheme"
   ]
  },
  {
   "cell_type": "code",
   "execution_count": 2,
   "metadata": {},
   "outputs": [],
   "source": [
    "#copy and paste .png file here"
   ]
  },
  {
   "cell_type": "markdown",
   "metadata": {},
   "source": [
    "### Reagent Information and Stoichiometry"
   ]
  },
  {
   "cell_type": "code",
   "execution_count": 3,
   "metadata": {},
   "outputs": [
    {
     "ename": "SyntaxError",
     "evalue": "invalid syntax (<ipython-input-3-a744c4e0e487>, line 15)",
     "output_type": "error",
     "traceback": [
      "\u001b[0;36m  File \u001b[0;32m\"<ipython-input-3-a744c4e0e487>\"\u001b[0;36m, line \u001b[0;32m15\u001b[0m\n\u001b[0;31m    molecular_weight_limiting = #number\u001b[0m\n\u001b[0m                                ^\u001b[0m\n\u001b[0;31mSyntaxError\u001b[0m\u001b[0;31m:\u001b[0m invalid syntax\n"
     ]
    }
   ],
   "source": [
    "# strings in the template must remain as strings in your code i.e. writing in \"\"\n",
    "# the limiting reagent you define becomes reagent 1, you do not need to name reagent 1 after adding limiting reagent\n",
    "# the molecular_weight_limiting becomes molecular_weight_reagent_1, you do not need to define it again\n",
    "# reagents that are numbered are solids and reagents that are lettered are liquids \n",
    "# InChI and InChiKey are found in chem draw edit --> copy as --> InChi/InChiKey\n",
    "# nothing can be left blank, if something doesn't apply, use \"N/A\"\n",
    "#notes left as comments are to help guide setting up the notebook page, they may be deleted after they are no longer needed\n",
    "\n",
    "\n",
    "\n",
    "\n",
    "#scale\n",
    "\n",
    "limiting_reagent = \"name of limiting reagent here\"\n",
    "molecular_weight_limiting = #number\n",
    "mass_scale = input(\"Mass of limiting reagent in grams: \")\n",
    "\n",
    "try:\n",
    "    mass_scale = float(mass_scale)\n",
    "except:\n",
    "    print('Invalid input: numerical values only')\n",
    "\n",
    "molar_scale = mass_scale/molecular_weight_limiting\n",
    "\n",
    "scale = float(molar_scale)\n",
    "\n",
    "print(scale)\n",
    "\n",
    "    \n",
    "# solids\n",
    "     \n",
    "reagent_1 = limiting_reagent            \n",
    "formula_1 = \"formula_1\"\n",
    "molecular_weight_1 = molecular_weight_limiting\n",
    "reagent_1_equivalents = 1#number\n",
    "solvent_1 = 'solvent name'\n",
    "solvent_volume_1_mL = #number\n",
    "purity_1 = \"purtiy\"\n",
    "InChI_1 = \"paste InChI string here\"\n",
    "InChIKey_1 = \"paste InChiKey string here\"\n",
    "safety_1 = \"notes about safety\"\n",
    "notes_1 = \"notes about reagent, sentence form works here\"\n",
    "reagent_vessel_1 = mw.Vessel(\"name of reagent for summary table\", name = \"name of vessel on graphic\")\n",
    "\n",
    "#the code below is standard, only change if you want to adjust the rounding of variables \n",
    "moles_1 = scale * reagent_1_equivalents\n",
    "mass_1 = moles_1*molecular_weight_1\n",
    "mass_1 = round(mass_1, decimals=6)\n",
    "moles_1 = round(moles_1, decimals=8)\n",
    "molarity_1 = moles_1/(solvent_volume_1_mL/1000)\n",
    "molarity_1 = round(molarity_1, decimals = 4)\n",
    "\n",
    "\n",
    "#copy and paste this whole block and change the numbers within variable names to add solid reagents i.e. reagent_2 =, etc. \n",
    "\n",
    "\n",
    "\n",
    "\n",
    "#liquids\n",
    "\n",
    "\n",
    "reagent_a = \"name of liquid reagent here\"\n",
    "formula_a = \"reagent formula\"\n",
    "density_a_g_mL = #number\n",
    "molecular_weight_a =  #number\n",
    "solvent_a = \"solvent name if applicable\"\n",
    "solvent_a_volume_mL = #number here if applicable \n",
    "reagent_a_equivalents = #number\n",
    "normality_a = \"N/A\"\n",
    "purity_a = \"purtiy\"\n",
    "InChI_a = \"InChI\"\n",
    "InChIKey_a = \"InChIKey\"\n",
    "safety_a = \"safety information for reagent here, sentence form works\"\n",
    "notes_a = \"notes about reagent, sentence form works\"\n",
    "reagent_vessel_2 = mw.Vessel(\"reagent name for table\", name = \"name of vessel for graphic\")\n",
    "\n",
    "#the code below is standard, only change if you want to adjust the rounding of variables \n",
    "moles_a = scale * reagent_a_equivalents\n",
    "molarity_a = moles_a/(solvent_a_volume_mL/1000)\n",
    "molarity_a = round(molarity_a, decimals = 4)\n",
    "moles_a = round(moles_a, decimals=8)\n",
    "volume_a_mL = reagent_a_equivalents*scale*(molecular_weight_a/density_a_g_mL)\n",
    "volume_a_mL = round(volume_a_mL, decimals=4)\n",
    "\n",
    "#solvent information\n",
    "\n",
    "solvent = \"name of solvent\"\n",
    "formula_solvent = \"solvent formula\"\n",
    "density_solvent_g_mL =  #number\n",
    "molecular_weight_solvent = #number\n",
    "InChI_Solvent = \"InChI\"\n",
    "InChIKey_solvent =\"InChIKey\"\n",
    "safety_solvent = \"safety information for solvent, sentece form works here\"\n",
    "notes_solvent = \"notes about solvent, sentences for works here\"\n",
    "\n",
    "#stoichiometry table\n",
    "#each column needs the same number of arguments (rows). Use \"N/A\" to fill in space when a column doesn't use every row. \n",
    "\n",
    "\n",
    "# Note that there are two table here separated by \"if\" and \"else\". \n",
    "# The code will use the first table if the scale of the reaction is less than 0.0005 moles for the limiting reagent\n",
    "# The code will use the bottom table if the scale of the reaction is greater than or equal to 0.0005 moles for the limiting reagent\n",
    "# this scale can be changed by adjusting the the number after the 'if' statement \n",
    "# when adding more than two reagents, be sure to only change the number on the arguments already in the table\n",
    "# i.e. moles_1*1000 for reagent one, moles_2*1000 for reagent two\n",
    "\n",
    "if scale < 0.0005: \n",
    "    t = QTable()\n",
    "    t['Reagent'] = (reagent_1, reagent_a, solvent)\n",
    "    t['Formula'] = (formula_1, formula_a, formula_solvent)\n",
    "    t['Molecular Weight-g/mol'] = (molecular_weight_1, molecular_weight_a, molecular_weight_solvent)\n",
    "    t['milimoles'] = (moles_1*1000, moles_a*1000,\"N/A\")\n",
    "    t['Equivalents'] = (reagent_1_equivalents, reagent_a_equivalents, \"N/A\")\n",
    "    t['Mass-mg'] = (mass_1*1000, \"N/A\", \"N/A\")\n",
    "    t['Volume-mL'] = (\"N/A\", volume_a_mL, \"N/A\")\n",
    "    \n",
    "    #define parameters of table printout\n",
    "    t.pprint(max_lines=-1, max_width=-1)\n",
    "    \n",
    "    #description of vessels\n",
    "    print( )\n",
    "    print(\"Reagent vessels\")\n",
    "    print( )\n",
    "    print(\"Vessel 1: total volume of vessel here\", molarity_1*1000, \"mM\", \"name of reagent here with space after\", \"in\", solvent_1)\n",
    "    print( )\n",
    "    print(\"Vessel 2: total volume of vessel\", molarity_a*1000, \"mM\", \"name of reagent here with space after\", \"in\", solvent_1 )\n",
    "    print( )\n",
    "\n",
    "\n",
    "\n",
    "else:\n",
    "    t = QTable()\n",
    "    t['Reagent'] = (reagent_1, reagent_a, solvent)\n",
    "    t['Formula'] = (formula_1, formula_a, formula_solvent)\n",
    "    t['Molecular Weight-g/mol'] = (molecular_weight_1, molecular_weight_a, molecular_weight_solvent)\n",
    "    t['moles'] = (moles_1, moles_a,\"N/A\")\n",
    "    t['Equivalents'] = (reagent_1_equivalents, reagent_a_equivalents, \"N/A\")\n",
    "    t['Mass-g'] = (mass_1, \"N/A\", \"N/A\")\n",
    "    t['Volume-mL'] = (\"N/A\", volume_a_mL, \"N/A\")\n",
    "    \n",
    "    #define parameters of table printout\n",
    "    t.pprint(max_lines=-1, max_width=-1)\n",
    "    \n",
    "    # description of vessels \n",
    "    print( )\n",
    "    print(\"Reagent vessels\")\n",
    "    print( )\n",
    "    print(\"Vessel 1: 5ml\", molarity_1, \"M \", \"name of reagent here with space after\", \"in \", solvent_1)\n",
    "    print( )\n",
    "    print(\"Vessel 2: total volume of vessel here\", molarity_a, \"M \", \"name of reagent here with space after\", \"in \", solvent_1 )\n",
    "    print( )\n",
    "\n",
    "\n",
    "# safety information and notes on reagents\n",
    "# add information about reagents by adding lines in the format shown using the reagent names, safety, and notes that correspond\n",
    "# i.e. (reagent_2, \":\", safety_2)\n",
    "#the 'print' line after each line of code is for a space between reagents in the prinout, note that there is a deliberate space in the parentheses. \n",
    "\n",
    "\n",
    "print(\"Safety Information\")\n",
    "print( )\n",
    "print(reagent_1,\":\", safety_1)\n",
    "print(\"Notes: \", notes_1)\n",
    "print( )\n",
    "print(reagent_a, \":\", safety_a)\n",
    "print(\"Notes :\", notes_a)\n",
    "print( )\n",
    "print(solvent, \":\", safety_solvent)\n",
    "print(\"Notes :\", notes_solvent)\n",
    "print( )\n",
    "print(solvent, \":\", safety_solvent)\n",
    "print(\"Notes :\", notes_solvent)\n",
    "print( )"
   ]
  },
  {
   "cell_type": "markdown",
   "metadata": {},
   "source": [
    "### Links to SDS Sheets"
   ]
  },
  {
   "cell_type": "code",
   "execution_count": null,
   "metadata": {},
   "outputs": [],
   "source": [
    "# optinal\n",
    "\n",
    "\n",
    "#format for pasting links to SDS sheets is given below\n",
    "from IPython.core.display import display, HTML\n",
    "\n",
    "#display(HTML(\"\"\"<a href=\"paste link here\"></a>\"\"\"))\n",
    "\n",
    "#examples \n",
    "\n",
    "\n",
    "# acetonitrile\n",
    "\n",
    "from IPython.core.display import display, HTML\n",
    "\n",
    "display(HTML(\"\"\"<a href=\"https://fscimage.fishersci.com/msds/00170.htm\">Acetonitrile</a>\"\"\"))\n",
    "\n",
    "# FMOC serine\n",
    "\n",
    "from IPython.core.display import display, HTML\n",
    "\n",
    "display(HTML(\"\"\"<a href=\"https://www.sigmaaldrich.com/MSDS/MSDS/DisplayMSDSPage.do?country=US&language=en&productNumber=47601&brand=ALDRICH&PageToGoToURL=https%3A%2F%2Fwww.sigmaaldrich.com%2Fcatalog%2Fproduct%2Faldrich%2F47601%3Flang%3Den\">FMOC-Ser-OH</a>\"\"\"))\n",
    "\n",
    "\n"
   ]
  },
  {
   "cell_type": "markdown",
   "metadata": {},
   "source": [
    "### Product and Yield Information"
   ]
  },
  {
   "cell_type": "code",
   "execution_count": null,
   "metadata": {},
   "outputs": [],
   "source": [
    "#This cell requires the name of the product and its molecular weight \n",
    "#Because this is based on the limiting reagent, no other changes should be required for use\n",
    "#Note the use of the 'if' and 'else' functions again which follows the same structure as in the cell above\n",
    "#this scale can be changed to present information as cleanly as possible \n",
    "\n",
    "product_vessel = mw.Vessel(\"name of product\", name = \"name of vessel for graphic\")\n",
    "product = \"name of product here\"\n",
    "product_molecular_weight = #number\n",
    "\n",
    "# code from here should work for every notebook\n",
    "#changes can be made for specific cases in the rounding of numbers and the scale of the units \n",
    "\n",
    "theoretical_yield = scale*product_molecular_weight\n",
    "theoretical_yield = round(theoretical_yield, decimals = 5)\n",
    "\n",
    "print(product, \"; molecular weight: \", product_molecular_weight)\n",
    "\n",
    "if scale < 0.0005: \n",
    "    print(\"Theoretical Yield:\", theoretical_yield*1000, 'mg')\n",
    "    mass_product = input(\"Enter mass of product in mg: \")\n",
    "    actual_yield = mass_product\n",
    "    actual_yield = float(actual_yield)\n",
    "    print(\"Actual Yield:\", actual_yield, \"mg\")\n",
    "    percent_yield = actual_yield/(theoretical_yield*1000) * 100\n",
    "else:\n",
    "    print(\"Theoretical Yield:\", theoretical_yield, 'g')\n",
    "    mass_product = input(\"Enter mass of product in g: \")\n",
    "    actual_yield = mass_product\n",
    "    print(\"Actual Yield:\", actual_yield, \"g\")\n",
    "    actual_yield = float(actual_yield)\n",
    "    percent_yield = actual_yield/(theoretical_yield) * 100\n",
    "\n",
    "\n",
    "percent_yield = round(percent_yield, decimals = 1)\n",
    "print(\"Percent Yield:\", percent_yield,\"%\")\n",
    "\n"
   ]
  },
  {
   "cell_type": "markdown",
   "metadata": {},
   "source": [
    "## MechWolf Information"
   ]
  },
  {
   "cell_type": "markdown",
   "metadata": {},
   "source": [
    "### Define Active Components"
   ]
  },
  {
   "cell_type": "code",
   "execution_count": 3,
   "metadata": {},
   "outputs": [
    {
     "ename": "UndefinedUnitError",
     "evalue": "'max' is not defined in the unit registry",
     "output_type": "error",
     "traceback": [
      "\u001b[0;31m---------------------------------------------------------------------------\u001b[0m",
      "\u001b[0;31mUndefinedUnitError\u001b[0m                        Traceback (most recent call last)",
      "\u001b[0;32m<ipython-input-3-843046097d5f>\u001b[0m in \u001b[0;36m<module>\u001b[0;34m\u001b[0m\n\u001b[1;32m     12\u001b[0m \u001b[0;34m\u001b[0m\u001b[0m\n\u001b[1;32m     13\u001b[0m \u001b[0;31m#Varian Pump\u001b[0m\u001b[0;34m\u001b[0m\u001b[0;34m\u001b[0m\u001b[0;34m\u001b[0m\u001b[0m\n\u001b[0;32m---> 14\u001b[0;31m \u001b[0mpump1\u001b[0m \u001b[0;34m=\u001b[0m \u001b[0mmw\u001b[0m\u001b[0;34m.\u001b[0m\u001b[0mVarianPump\u001b[0m\u001b[0;34m(\u001b[0m\u001b[0mname\u001b[0m\u001b[0;34m=\u001b[0m\u001b[0;34m\"number on label of pump\"\u001b[0m\u001b[0;34m,\u001b[0m \u001b[0mmax_rate\u001b[0m \u001b[0;34m=\u001b[0m \u001b[0;34m'max rate on pump head mL/min'\u001b[0m\u001b[0;34m,\u001b[0m \u001b[0mserial_port\u001b[0m \u001b[0;34m=\u001b[0m \u001b[0;34m'/dev/tty.usbserial-FT1WM3WU'\u001b[0m\u001b[0;34m)\u001b[0m\u001b[0;34m\u001b[0m\u001b[0;34m\u001b[0m\u001b[0m\n\u001b[0m\u001b[1;32m     15\u001b[0m \u001b[0;34m\u001b[0m\u001b[0m\n\u001b[1;32m     16\u001b[0m \u001b[0;31m#note that the serial_port id's here are examples and may not correspond to the pump you are using\u001b[0m\u001b[0;34m\u001b[0m\u001b[0;34m\u001b[0m\u001b[0;34m\u001b[0m\u001b[0m\n",
      "\u001b[0;32m/Library/Frameworks/Python.framework/Versions/3.9/lib/python3.9/site-packages/mechwolf/components/contrib/varian.py\u001b[0m in \u001b[0;36m__init__\u001b[0;34m(self, serial_port, max_rate, unit_id, name)\u001b[0m\n\u001b[1;32m     33\u001b[0m         \u001b[0msuper\u001b[0m\u001b[0;34m(\u001b[0m\u001b[0;34m)\u001b[0m\u001b[0;34m.\u001b[0m\u001b[0m__init__\u001b[0m\u001b[0;34m(\u001b[0m\u001b[0mname\u001b[0m\u001b[0;34m=\u001b[0m\u001b[0mname\u001b[0m\u001b[0;34m)\u001b[0m\u001b[0;34m\u001b[0m\u001b[0;34m\u001b[0m\u001b[0m\n\u001b[1;32m     34\u001b[0m         \u001b[0mself\u001b[0m\u001b[0;34m.\u001b[0m\u001b[0mrate\u001b[0m \u001b[0;34m=\u001b[0m \u001b[0m_ureg\u001b[0m\u001b[0;34m.\u001b[0m\u001b[0mparse_expression\u001b[0m\u001b[0;34m(\u001b[0m\u001b[0;34m\"0 ml/min\"\u001b[0m\u001b[0;34m)\u001b[0m\u001b[0;34m\u001b[0m\u001b[0;34m\u001b[0m\u001b[0m\n\u001b[0;32m---> 35\u001b[0;31m         \u001b[0mself\u001b[0m\u001b[0;34m.\u001b[0m\u001b[0mmax_rate\u001b[0m \u001b[0;34m=\u001b[0m \u001b[0m_ureg\u001b[0m\u001b[0;34m.\u001b[0m\u001b[0mparse_expression\u001b[0m\u001b[0;34m(\u001b[0m\u001b[0mmax_rate\u001b[0m\u001b[0;34m)\u001b[0m\u001b[0;34m\u001b[0m\u001b[0;34m\u001b[0m\u001b[0m\n\u001b[0m\u001b[1;32m     36\u001b[0m         \u001b[0mself\u001b[0m\u001b[0;34m.\u001b[0m\u001b[0mserial_port\u001b[0m \u001b[0;34m=\u001b[0m \u001b[0mserial_port\u001b[0m\u001b[0;34m\u001b[0m\u001b[0;34m\u001b[0m\u001b[0m\n\u001b[1;32m     37\u001b[0m         \u001b[0mself\u001b[0m\u001b[0;34m.\u001b[0m\u001b[0munit_id\u001b[0m \u001b[0;34m=\u001b[0m \u001b[0munit_id\u001b[0m\u001b[0;34m\u001b[0m\u001b[0;34m\u001b[0m\u001b[0m\n",
      "\u001b[0;32m/Library/Frameworks/Python.framework/Versions/3.9/lib/python3.9/site-packages/pint/registry.py\u001b[0m in \u001b[0;36mparse_expression\u001b[0;34m(self, input_string, case_sensitive, use_decimal, **values)\u001b[0m\n\u001b[1;32m   1269\u001b[0m         \u001b[0mgen\u001b[0m \u001b[0;34m=\u001b[0m \u001b[0mtokenizer\u001b[0m\u001b[0;34m(\u001b[0m\u001b[0minput_string\u001b[0m\u001b[0;34m)\u001b[0m\u001b[0;34m\u001b[0m\u001b[0;34m\u001b[0m\u001b[0m\n\u001b[1;32m   1270\u001b[0m \u001b[0;34m\u001b[0m\u001b[0m\n\u001b[0;32m-> 1271\u001b[0;31m         return build_eval_tree(gen).evaluate(\n\u001b[0m\u001b[1;32m   1272\u001b[0m             \u001b[0;32mlambda\u001b[0m \u001b[0mx\u001b[0m\u001b[0;34m:\u001b[0m \u001b[0mself\u001b[0m\u001b[0;34m.\u001b[0m\u001b[0m_eval_token\u001b[0m\u001b[0;34m(\u001b[0m\u001b[0mx\u001b[0m\u001b[0;34m,\u001b[0m \u001b[0mcase_sensitive\u001b[0m\u001b[0;34m=\u001b[0m\u001b[0mcase_sensitive\u001b[0m\u001b[0;34m,\u001b[0m \u001b[0;34m**\u001b[0m\u001b[0mvalues\u001b[0m\u001b[0;34m)\u001b[0m\u001b[0;34m\u001b[0m\u001b[0;34m\u001b[0m\u001b[0m\n\u001b[1;32m   1273\u001b[0m         )\n",
      "\u001b[0;32m/Library/Frameworks/Python.framework/Versions/3.9/lib/python3.9/site-packages/pint/pint_eval.py\u001b[0m in \u001b[0;36mevaluate\u001b[0;34m(self, define_op, bin_op, un_op)\u001b[0m\n\u001b[1;32m     90\u001b[0m             \u001b[0;32mif\u001b[0m \u001b[0mop_text\u001b[0m \u001b[0;32mnot\u001b[0m \u001b[0;32min\u001b[0m \u001b[0mbin_op\u001b[0m\u001b[0;34m:\u001b[0m\u001b[0;34m\u001b[0m\u001b[0;34m\u001b[0m\u001b[0m\n\u001b[1;32m     91\u001b[0m                 \u001b[0;32mraise\u001b[0m \u001b[0mDefinitionSyntaxError\u001b[0m\u001b[0;34m(\u001b[0m\u001b[0;34m'missing binary operator \"%s\"'\u001b[0m \u001b[0;34m%\u001b[0m \u001b[0mop_text\u001b[0m\u001b[0;34m)\u001b[0m\u001b[0;34m\u001b[0m\u001b[0;34m\u001b[0m\u001b[0m\n\u001b[0;32m---> 92\u001b[0;31m             \u001b[0mleft\u001b[0m \u001b[0;34m=\u001b[0m \u001b[0mself\u001b[0m\u001b[0;34m.\u001b[0m\u001b[0mleft\u001b[0m\u001b[0;34m.\u001b[0m\u001b[0mevaluate\u001b[0m\u001b[0;34m(\u001b[0m\u001b[0mdefine_op\u001b[0m\u001b[0;34m,\u001b[0m \u001b[0mbin_op\u001b[0m\u001b[0;34m,\u001b[0m \u001b[0mun_op\u001b[0m\u001b[0;34m)\u001b[0m\u001b[0;34m\u001b[0m\u001b[0;34m\u001b[0m\u001b[0m\n\u001b[0m\u001b[1;32m     93\u001b[0m             \u001b[0;32mreturn\u001b[0m \u001b[0mbin_op\u001b[0m\u001b[0;34m[\u001b[0m\u001b[0mop_text\u001b[0m\u001b[0;34m]\u001b[0m\u001b[0;34m(\u001b[0m\u001b[0mleft\u001b[0m\u001b[0;34m,\u001b[0m \u001b[0mself\u001b[0m\u001b[0;34m.\u001b[0m\u001b[0mright\u001b[0m\u001b[0;34m.\u001b[0m\u001b[0mevaluate\u001b[0m\u001b[0;34m(\u001b[0m\u001b[0mdefine_op\u001b[0m\u001b[0;34m,\u001b[0m \u001b[0mbin_op\u001b[0m\u001b[0;34m,\u001b[0m \u001b[0mun_op\u001b[0m\u001b[0;34m)\u001b[0m\u001b[0;34m)\u001b[0m\u001b[0;34m\u001b[0m\u001b[0;34m\u001b[0m\u001b[0m\n\u001b[1;32m     94\u001b[0m         \u001b[0;32melif\u001b[0m \u001b[0mself\u001b[0m\u001b[0;34m.\u001b[0m\u001b[0moperator\u001b[0m\u001b[0;34m:\u001b[0m\u001b[0;34m\u001b[0m\u001b[0;34m\u001b[0m\u001b[0m\n",
      "\u001b[0;32m/Library/Frameworks/Python.framework/Versions/3.9/lib/python3.9/site-packages/pint/pint_eval.py\u001b[0m in \u001b[0;36mevaluate\u001b[0;34m(self, define_op, bin_op, un_op)\u001b[0m\n\u001b[1;32m     90\u001b[0m             \u001b[0;32mif\u001b[0m \u001b[0mop_text\u001b[0m \u001b[0;32mnot\u001b[0m \u001b[0;32min\u001b[0m \u001b[0mbin_op\u001b[0m\u001b[0;34m:\u001b[0m\u001b[0;34m\u001b[0m\u001b[0;34m\u001b[0m\u001b[0m\n\u001b[1;32m     91\u001b[0m                 \u001b[0;32mraise\u001b[0m \u001b[0mDefinitionSyntaxError\u001b[0m\u001b[0;34m(\u001b[0m\u001b[0;34m'missing binary operator \"%s\"'\u001b[0m \u001b[0;34m%\u001b[0m \u001b[0mop_text\u001b[0m\u001b[0;34m)\u001b[0m\u001b[0;34m\u001b[0m\u001b[0;34m\u001b[0m\u001b[0m\n\u001b[0;32m---> 92\u001b[0;31m             \u001b[0mleft\u001b[0m \u001b[0;34m=\u001b[0m \u001b[0mself\u001b[0m\u001b[0;34m.\u001b[0m\u001b[0mleft\u001b[0m\u001b[0;34m.\u001b[0m\u001b[0mevaluate\u001b[0m\u001b[0;34m(\u001b[0m\u001b[0mdefine_op\u001b[0m\u001b[0;34m,\u001b[0m \u001b[0mbin_op\u001b[0m\u001b[0;34m,\u001b[0m \u001b[0mun_op\u001b[0m\u001b[0;34m)\u001b[0m\u001b[0;34m\u001b[0m\u001b[0;34m\u001b[0m\u001b[0m\n\u001b[0m\u001b[1;32m     93\u001b[0m             \u001b[0;32mreturn\u001b[0m \u001b[0mbin_op\u001b[0m\u001b[0;34m[\u001b[0m\u001b[0mop_text\u001b[0m\u001b[0;34m]\u001b[0m\u001b[0;34m(\u001b[0m\u001b[0mleft\u001b[0m\u001b[0;34m,\u001b[0m \u001b[0mself\u001b[0m\u001b[0;34m.\u001b[0m\u001b[0mright\u001b[0m\u001b[0;34m.\u001b[0m\u001b[0mevaluate\u001b[0m\u001b[0;34m(\u001b[0m\u001b[0mdefine_op\u001b[0m\u001b[0;34m,\u001b[0m \u001b[0mbin_op\u001b[0m\u001b[0;34m,\u001b[0m \u001b[0mun_op\u001b[0m\u001b[0;34m)\u001b[0m\u001b[0;34m)\u001b[0m\u001b[0;34m\u001b[0m\u001b[0;34m\u001b[0m\u001b[0m\n\u001b[1;32m     94\u001b[0m         \u001b[0;32melif\u001b[0m \u001b[0mself\u001b[0m\u001b[0;34m.\u001b[0m\u001b[0moperator\u001b[0m\u001b[0;34m:\u001b[0m\u001b[0;34m\u001b[0m\u001b[0;34m\u001b[0m\u001b[0m\n",
      "\u001b[0;32m/Library/Frameworks/Python.framework/Versions/3.9/lib/python3.9/site-packages/pint/pint_eval.py\u001b[0m in \u001b[0;36mevaluate\u001b[0;34m(self, define_op, bin_op, un_op)\u001b[0m\n\u001b[1;32m     90\u001b[0m             \u001b[0;32mif\u001b[0m \u001b[0mop_text\u001b[0m \u001b[0;32mnot\u001b[0m \u001b[0;32min\u001b[0m \u001b[0mbin_op\u001b[0m\u001b[0;34m:\u001b[0m\u001b[0;34m\u001b[0m\u001b[0;34m\u001b[0m\u001b[0m\n\u001b[1;32m     91\u001b[0m                 \u001b[0;32mraise\u001b[0m \u001b[0mDefinitionSyntaxError\u001b[0m\u001b[0;34m(\u001b[0m\u001b[0;34m'missing binary operator \"%s\"'\u001b[0m \u001b[0;34m%\u001b[0m \u001b[0mop_text\u001b[0m\u001b[0;34m)\u001b[0m\u001b[0;34m\u001b[0m\u001b[0;34m\u001b[0m\u001b[0m\n\u001b[0;32m---> 92\u001b[0;31m             \u001b[0mleft\u001b[0m \u001b[0;34m=\u001b[0m \u001b[0mself\u001b[0m\u001b[0;34m.\u001b[0m\u001b[0mleft\u001b[0m\u001b[0;34m.\u001b[0m\u001b[0mevaluate\u001b[0m\u001b[0;34m(\u001b[0m\u001b[0mdefine_op\u001b[0m\u001b[0;34m,\u001b[0m \u001b[0mbin_op\u001b[0m\u001b[0;34m,\u001b[0m \u001b[0mun_op\u001b[0m\u001b[0;34m)\u001b[0m\u001b[0;34m\u001b[0m\u001b[0;34m\u001b[0m\u001b[0m\n\u001b[0m\u001b[1;32m     93\u001b[0m             \u001b[0;32mreturn\u001b[0m \u001b[0mbin_op\u001b[0m\u001b[0;34m[\u001b[0m\u001b[0mop_text\u001b[0m\u001b[0;34m]\u001b[0m\u001b[0;34m(\u001b[0m\u001b[0mleft\u001b[0m\u001b[0;34m,\u001b[0m \u001b[0mself\u001b[0m\u001b[0;34m.\u001b[0m\u001b[0mright\u001b[0m\u001b[0;34m.\u001b[0m\u001b[0mevaluate\u001b[0m\u001b[0;34m(\u001b[0m\u001b[0mdefine_op\u001b[0m\u001b[0;34m,\u001b[0m \u001b[0mbin_op\u001b[0m\u001b[0;34m,\u001b[0m \u001b[0mun_op\u001b[0m\u001b[0;34m)\u001b[0m\u001b[0;34m)\u001b[0m\u001b[0;34m\u001b[0m\u001b[0;34m\u001b[0m\u001b[0m\n\u001b[1;32m     94\u001b[0m         \u001b[0;32melif\u001b[0m \u001b[0mself\u001b[0m\u001b[0;34m.\u001b[0m\u001b[0moperator\u001b[0m\u001b[0;34m:\u001b[0m\u001b[0;34m\u001b[0m\u001b[0;34m\u001b[0m\u001b[0m\n",
      "\u001b[0;32m/Library/Frameworks/Python.framework/Versions/3.9/lib/python3.9/site-packages/pint/pint_eval.py\u001b[0m in \u001b[0;36mevaluate\u001b[0;34m(self, define_op, bin_op, un_op)\u001b[0m\n\u001b[1;32m     90\u001b[0m             \u001b[0;32mif\u001b[0m \u001b[0mop_text\u001b[0m \u001b[0;32mnot\u001b[0m \u001b[0;32min\u001b[0m \u001b[0mbin_op\u001b[0m\u001b[0;34m:\u001b[0m\u001b[0;34m\u001b[0m\u001b[0;34m\u001b[0m\u001b[0m\n\u001b[1;32m     91\u001b[0m                 \u001b[0;32mraise\u001b[0m \u001b[0mDefinitionSyntaxError\u001b[0m\u001b[0;34m(\u001b[0m\u001b[0;34m'missing binary operator \"%s\"'\u001b[0m \u001b[0;34m%\u001b[0m \u001b[0mop_text\u001b[0m\u001b[0;34m)\u001b[0m\u001b[0;34m\u001b[0m\u001b[0;34m\u001b[0m\u001b[0m\n\u001b[0;32m---> 92\u001b[0;31m             \u001b[0mleft\u001b[0m \u001b[0;34m=\u001b[0m \u001b[0mself\u001b[0m\u001b[0;34m.\u001b[0m\u001b[0mleft\u001b[0m\u001b[0;34m.\u001b[0m\u001b[0mevaluate\u001b[0m\u001b[0;34m(\u001b[0m\u001b[0mdefine_op\u001b[0m\u001b[0;34m,\u001b[0m \u001b[0mbin_op\u001b[0m\u001b[0;34m,\u001b[0m \u001b[0mun_op\u001b[0m\u001b[0;34m)\u001b[0m\u001b[0;34m\u001b[0m\u001b[0;34m\u001b[0m\u001b[0m\n\u001b[0m\u001b[1;32m     93\u001b[0m             \u001b[0;32mreturn\u001b[0m \u001b[0mbin_op\u001b[0m\u001b[0;34m[\u001b[0m\u001b[0mop_text\u001b[0m\u001b[0;34m]\u001b[0m\u001b[0;34m(\u001b[0m\u001b[0mleft\u001b[0m\u001b[0;34m,\u001b[0m \u001b[0mself\u001b[0m\u001b[0;34m.\u001b[0m\u001b[0mright\u001b[0m\u001b[0;34m.\u001b[0m\u001b[0mevaluate\u001b[0m\u001b[0;34m(\u001b[0m\u001b[0mdefine_op\u001b[0m\u001b[0;34m,\u001b[0m \u001b[0mbin_op\u001b[0m\u001b[0;34m,\u001b[0m \u001b[0mun_op\u001b[0m\u001b[0;34m)\u001b[0m\u001b[0;34m)\u001b[0m\u001b[0;34m\u001b[0m\u001b[0;34m\u001b[0m\u001b[0m\n\u001b[1;32m     94\u001b[0m         \u001b[0;32melif\u001b[0m \u001b[0mself\u001b[0m\u001b[0;34m.\u001b[0m\u001b[0moperator\u001b[0m\u001b[0;34m:\u001b[0m\u001b[0;34m\u001b[0m\u001b[0;34m\u001b[0m\u001b[0m\n",
      "\u001b[0;32m/Library/Frameworks/Python.framework/Versions/3.9/lib/python3.9/site-packages/pint/pint_eval.py\u001b[0m in \u001b[0;36mevaluate\u001b[0;34m(self, define_op, bin_op, un_op)\u001b[0m\n\u001b[1;32m     90\u001b[0m             \u001b[0;32mif\u001b[0m \u001b[0mop_text\u001b[0m \u001b[0;32mnot\u001b[0m \u001b[0;32min\u001b[0m \u001b[0mbin_op\u001b[0m\u001b[0;34m:\u001b[0m\u001b[0;34m\u001b[0m\u001b[0;34m\u001b[0m\u001b[0m\n\u001b[1;32m     91\u001b[0m                 \u001b[0;32mraise\u001b[0m \u001b[0mDefinitionSyntaxError\u001b[0m\u001b[0;34m(\u001b[0m\u001b[0;34m'missing binary operator \"%s\"'\u001b[0m \u001b[0;34m%\u001b[0m \u001b[0mop_text\u001b[0m\u001b[0;34m)\u001b[0m\u001b[0;34m\u001b[0m\u001b[0;34m\u001b[0m\u001b[0m\n\u001b[0;32m---> 92\u001b[0;31m             \u001b[0mleft\u001b[0m \u001b[0;34m=\u001b[0m \u001b[0mself\u001b[0m\u001b[0;34m.\u001b[0m\u001b[0mleft\u001b[0m\u001b[0;34m.\u001b[0m\u001b[0mevaluate\u001b[0m\u001b[0;34m(\u001b[0m\u001b[0mdefine_op\u001b[0m\u001b[0;34m,\u001b[0m \u001b[0mbin_op\u001b[0m\u001b[0;34m,\u001b[0m \u001b[0mun_op\u001b[0m\u001b[0;34m)\u001b[0m\u001b[0;34m\u001b[0m\u001b[0;34m\u001b[0m\u001b[0m\n\u001b[0m\u001b[1;32m     93\u001b[0m             \u001b[0;32mreturn\u001b[0m \u001b[0mbin_op\u001b[0m\u001b[0;34m[\u001b[0m\u001b[0mop_text\u001b[0m\u001b[0;34m]\u001b[0m\u001b[0;34m(\u001b[0m\u001b[0mleft\u001b[0m\u001b[0;34m,\u001b[0m \u001b[0mself\u001b[0m\u001b[0;34m.\u001b[0m\u001b[0mright\u001b[0m\u001b[0;34m.\u001b[0m\u001b[0mevaluate\u001b[0m\u001b[0;34m(\u001b[0m\u001b[0mdefine_op\u001b[0m\u001b[0;34m,\u001b[0m \u001b[0mbin_op\u001b[0m\u001b[0;34m,\u001b[0m \u001b[0mun_op\u001b[0m\u001b[0;34m)\u001b[0m\u001b[0;34m)\u001b[0m\u001b[0;34m\u001b[0m\u001b[0;34m\u001b[0m\u001b[0m\n\u001b[1;32m     94\u001b[0m         \u001b[0;32melif\u001b[0m \u001b[0mself\u001b[0m\u001b[0;34m.\u001b[0m\u001b[0moperator\u001b[0m\u001b[0;34m:\u001b[0m\u001b[0;34m\u001b[0m\u001b[0;34m\u001b[0m\u001b[0m\n",
      "\u001b[0;32m/Library/Frameworks/Python.framework/Versions/3.9/lib/python3.9/site-packages/pint/pint_eval.py\u001b[0m in \u001b[0;36mevaluate\u001b[0;34m(self, define_op, bin_op, un_op)\u001b[0m\n\u001b[1;32m     90\u001b[0m             \u001b[0;32mif\u001b[0m \u001b[0mop_text\u001b[0m \u001b[0;32mnot\u001b[0m \u001b[0;32min\u001b[0m \u001b[0mbin_op\u001b[0m\u001b[0;34m:\u001b[0m\u001b[0;34m\u001b[0m\u001b[0;34m\u001b[0m\u001b[0m\n\u001b[1;32m     91\u001b[0m                 \u001b[0;32mraise\u001b[0m \u001b[0mDefinitionSyntaxError\u001b[0m\u001b[0;34m(\u001b[0m\u001b[0;34m'missing binary operator \"%s\"'\u001b[0m \u001b[0;34m%\u001b[0m \u001b[0mop_text\u001b[0m\u001b[0;34m)\u001b[0m\u001b[0;34m\u001b[0m\u001b[0;34m\u001b[0m\u001b[0m\n\u001b[0;32m---> 92\u001b[0;31m             \u001b[0mleft\u001b[0m \u001b[0;34m=\u001b[0m \u001b[0mself\u001b[0m\u001b[0;34m.\u001b[0m\u001b[0mleft\u001b[0m\u001b[0;34m.\u001b[0m\u001b[0mevaluate\u001b[0m\u001b[0;34m(\u001b[0m\u001b[0mdefine_op\u001b[0m\u001b[0;34m,\u001b[0m \u001b[0mbin_op\u001b[0m\u001b[0;34m,\u001b[0m \u001b[0mun_op\u001b[0m\u001b[0;34m)\u001b[0m\u001b[0;34m\u001b[0m\u001b[0;34m\u001b[0m\u001b[0m\n\u001b[0m\u001b[1;32m     93\u001b[0m             \u001b[0;32mreturn\u001b[0m \u001b[0mbin_op\u001b[0m\u001b[0;34m[\u001b[0m\u001b[0mop_text\u001b[0m\u001b[0;34m]\u001b[0m\u001b[0;34m(\u001b[0m\u001b[0mleft\u001b[0m\u001b[0;34m,\u001b[0m \u001b[0mself\u001b[0m\u001b[0;34m.\u001b[0m\u001b[0mright\u001b[0m\u001b[0;34m.\u001b[0m\u001b[0mevaluate\u001b[0m\u001b[0;34m(\u001b[0m\u001b[0mdefine_op\u001b[0m\u001b[0;34m,\u001b[0m \u001b[0mbin_op\u001b[0m\u001b[0;34m,\u001b[0m \u001b[0mun_op\u001b[0m\u001b[0;34m)\u001b[0m\u001b[0;34m)\u001b[0m\u001b[0;34m\u001b[0m\u001b[0;34m\u001b[0m\u001b[0m\n\u001b[1;32m     94\u001b[0m         \u001b[0;32melif\u001b[0m \u001b[0mself\u001b[0m\u001b[0;34m.\u001b[0m\u001b[0moperator\u001b[0m\u001b[0;34m:\u001b[0m\u001b[0;34m\u001b[0m\u001b[0;34m\u001b[0m\u001b[0m\n",
      "\u001b[0;32m/Library/Frameworks/Python.framework/Versions/3.9/lib/python3.9/site-packages/pint/pint_eval.py\u001b[0m in \u001b[0;36mevaluate\u001b[0;34m(self, define_op, bin_op, un_op)\u001b[0m\n\u001b[1;32m    100\u001b[0m         \u001b[0;32melse\u001b[0m\u001b[0;34m:\u001b[0m\u001b[0;34m\u001b[0m\u001b[0;34m\u001b[0m\u001b[0m\n\u001b[1;32m    101\u001b[0m             \u001b[0;31m# single value\u001b[0m\u001b[0;34m\u001b[0m\u001b[0;34m\u001b[0m\u001b[0;34m\u001b[0m\u001b[0m\n\u001b[0;32m--> 102\u001b[0;31m             \u001b[0;32mreturn\u001b[0m \u001b[0mdefine_op\u001b[0m\u001b[0;34m(\u001b[0m\u001b[0mself\u001b[0m\u001b[0;34m.\u001b[0m\u001b[0mleft\u001b[0m\u001b[0;34m)\u001b[0m\u001b[0;34m\u001b[0m\u001b[0;34m\u001b[0m\u001b[0m\n\u001b[0m\u001b[1;32m    103\u001b[0m \u001b[0;34m\u001b[0m\u001b[0m\n\u001b[1;32m    104\u001b[0m \u001b[0;34m\u001b[0m\u001b[0m\n",
      "\u001b[0;32m/Library/Frameworks/Python.framework/Versions/3.9/lib/python3.9/site-packages/pint/registry.py\u001b[0m in \u001b[0;36m<lambda>\u001b[0;34m(x)\u001b[0m\n\u001b[1;32m   1270\u001b[0m \u001b[0;34m\u001b[0m\u001b[0m\n\u001b[1;32m   1271\u001b[0m         return build_eval_tree(gen).evaluate(\n\u001b[0;32m-> 1272\u001b[0;31m             \u001b[0;32mlambda\u001b[0m \u001b[0mx\u001b[0m\u001b[0;34m:\u001b[0m \u001b[0mself\u001b[0m\u001b[0;34m.\u001b[0m\u001b[0m_eval_token\u001b[0m\u001b[0;34m(\u001b[0m\u001b[0mx\u001b[0m\u001b[0;34m,\u001b[0m \u001b[0mcase_sensitive\u001b[0m\u001b[0;34m=\u001b[0m\u001b[0mcase_sensitive\u001b[0m\u001b[0;34m,\u001b[0m \u001b[0;34m**\u001b[0m\u001b[0mvalues\u001b[0m\u001b[0;34m)\u001b[0m\u001b[0;34m\u001b[0m\u001b[0;34m\u001b[0m\u001b[0m\n\u001b[0m\u001b[1;32m   1273\u001b[0m         )\n\u001b[1;32m   1274\u001b[0m \u001b[0;34m\u001b[0m\u001b[0m\n",
      "\u001b[0;32m/Library/Frameworks/Python.framework/Versions/3.9/lib/python3.9/site-packages/pint/registry.py\u001b[0m in \u001b[0;36m_eval_token\u001b[0;34m(self, token, case_sensitive, use_decimal, **values)\u001b[0m\n\u001b[1;32m   1165\u001b[0m                     \u001b[0;36m1\u001b[0m\u001b[0;34m,\u001b[0m\u001b[0;34m\u001b[0m\u001b[0;34m\u001b[0m\u001b[0m\n\u001b[1;32m   1166\u001b[0m                     self.UnitsContainer(\n\u001b[0;32m-> 1167\u001b[0;31m                         \u001b[0;34m{\u001b[0m\u001b[0mself\u001b[0m\u001b[0;34m.\u001b[0m\u001b[0mget_name\u001b[0m\u001b[0;34m(\u001b[0m\u001b[0mtoken_text\u001b[0m\u001b[0;34m,\u001b[0m \u001b[0mcase_sensitive\u001b[0m\u001b[0;34m=\u001b[0m\u001b[0mcase_sensitive\u001b[0m\u001b[0;34m)\u001b[0m\u001b[0;34m:\u001b[0m \u001b[0;36m1\u001b[0m\u001b[0;34m}\u001b[0m\u001b[0;34m\u001b[0m\u001b[0;34m\u001b[0m\u001b[0m\n\u001b[0m\u001b[1;32m   1168\u001b[0m                     ),\n\u001b[1;32m   1169\u001b[0m                 )\n",
      "\u001b[0;32m/Library/Frameworks/Python.framework/Versions/3.9/lib/python3.9/site-packages/pint/registry.py\u001b[0m in \u001b[0;36mget_name\u001b[0;34m(self, name_or_alias, case_sensitive)\u001b[0m\n\u001b[1;32m    644\u001b[0m         \u001b[0mcandidates\u001b[0m \u001b[0;34m=\u001b[0m \u001b[0mself\u001b[0m\u001b[0;34m.\u001b[0m\u001b[0mparse_unit_name\u001b[0m\u001b[0;34m(\u001b[0m\u001b[0mname_or_alias\u001b[0m\u001b[0;34m,\u001b[0m \u001b[0mcase_sensitive\u001b[0m\u001b[0;34m)\u001b[0m\u001b[0;34m\u001b[0m\u001b[0;34m\u001b[0m\u001b[0m\n\u001b[1;32m    645\u001b[0m         \u001b[0;32mif\u001b[0m \u001b[0;32mnot\u001b[0m \u001b[0mcandidates\u001b[0m\u001b[0;34m:\u001b[0m\u001b[0;34m\u001b[0m\u001b[0;34m\u001b[0m\u001b[0m\n\u001b[0;32m--> 646\u001b[0;31m             \u001b[0;32mraise\u001b[0m \u001b[0mUndefinedUnitError\u001b[0m\u001b[0;34m(\u001b[0m\u001b[0mname_or_alias\u001b[0m\u001b[0;34m)\u001b[0m\u001b[0;34m\u001b[0m\u001b[0;34m\u001b[0m\u001b[0m\n\u001b[0m\u001b[1;32m    647\u001b[0m         \u001b[0;32melif\u001b[0m \u001b[0mlen\u001b[0m\u001b[0;34m(\u001b[0m\u001b[0mcandidates\u001b[0m\u001b[0;34m)\u001b[0m \u001b[0;34m==\u001b[0m \u001b[0;36m1\u001b[0m\u001b[0;34m:\u001b[0m\u001b[0;34m\u001b[0m\u001b[0;34m\u001b[0m\u001b[0m\n\u001b[1;32m    648\u001b[0m             \u001b[0mprefix\u001b[0m\u001b[0;34m,\u001b[0m \u001b[0munit_name\u001b[0m\u001b[0;34m,\u001b[0m \u001b[0m_\u001b[0m \u001b[0;34m=\u001b[0m \u001b[0mcandidates\u001b[0m\u001b[0;34m[\u001b[0m\u001b[0;36m0\u001b[0m\u001b[0;34m]\u001b[0m\u001b[0;34m\u001b[0m\u001b[0;34m\u001b[0m\u001b[0m\n",
      "\u001b[0;31mUndefinedUnitError\u001b[0m: 'max' is not defined in the unit registry"
     ]
    }
   ],
   "source": [
    "# formatting for identifying pumps is given below\n",
    "# to find serial_port, use the command 'ls dev/serial/by-id' while ONLY the pump of interest is connected via USB\n",
    "# this will not work for the Harvard Apparatus Syringe Pump but the ID is provided in this template\n",
    "# delete any pumps not being used and copy and paste pump information to identify more than one pump\n",
    "\n",
    "#ViciPump\n",
    "pump1 = mw.ViciPump(name=\"number on label of pump\",\n",
    "                      serial_port = \"/dev/serial/by-id/usb-FTDI_FT232R_USB_UART_A506BKX6-if00-port0\",\n",
    "                      volume_per_rev= \"0.62832ml\")\n",
    "#volume_per_rev depends on the individual pump, these are found in the quick spec sheets for the Vici pumps\n",
    "#volume_per_rev for each pump is also saved on the Pumpkin Pi from previous runs, that is a good place to copy and paste Pump ID information from\n",
    "\n",
    "#Varian Pump\n",
    "pump1 = mw.VarianPump(name=\"number on label of pump\", max_rate = 'max rate on pump head mL/min', serial_port = '/dev/tty.usbserial-FT1WM3WU')\n",
    "\n",
    "#note that the serial_port id's here are examples and may not correspond to the pump you are using\n",
    "\n",
    "\n",
    "#Harvard Syringe Pump\n",
    "\n",
    "#see 'Syringe Pump.ipynb' in google drive for information on how to find the serial port of the Harvard Apparatus Syring Pump\n",
    "\n",
    "syringe_pump = mw.HarvardSyringePump(\"'syringe_volume'ml\", \"'syringe_diameter' mm\", serial_port=\"paste port here\")\n",
    "\n",
    "\n",
    "#valve switchers: optional\n",
    "\n",
    "#there is only one kind of valve switcher in lab\n",
    "#serial port id is found in the same manner as the pumps\n",
    "#mapping can be defined with letters or numbers if using more than one valve switcher\n",
    "\n",
    "digit_mapping = {vessel_1: 1, vessel_2: 2, vessel_solvent: 10}\n",
    "\n",
    "#ports can be added by following the format above, \"variable name for vessel: port number on valve\"\n",
    "#when using letters, A corresponds to port , b corresponds to port 2, etc.\n",
    "\n",
    "#letter_mapping = {vessel_1: a, vessel_2: b, etc.}\n",
    "\n",
    "\n",
    "\n",
    "valve1 = mw.ViciValve(name=\"name of valve for graphic\", \n",
    "                      serial_port='/dev/tty.usbserial-FT230X', \n",
    "                      mapping=digit_mapping)\n",
    "\n",
    "#if using letter mapping, change \"mapping=digit_mapping\" to \"mapping=letter_mapping\"\n",
    "#ID for all valves exist on the pumpkin-pi and correspond to the number labels on the valve switchers"
   ]
  },
  {
   "cell_type": "code",
   "execution_count": null,
   "metadata": {},
   "outputs": [],
   "source": [
    "syringe_pump = mw.HarvardSyringePump(\"'syringe_volume'ml\", \"'syringe_diameter' mm\", serial_port=\"paste port here\")"
   ]
  },
  {
   "cell_type": "markdown",
   "metadata": {},
   "source": [
    "### Define Tubing and Mixer"
   ]
  },
  {
   "cell_type": "code",
   "execution_count": null,
   "metadata": {},
   "outputs": [],
   "source": [
    "#tube names are arbitrary, material and numbers in strings may be adjusted as needed with units \n",
    "\n",
    "fat_short_tube = mw.Tube(length=\"1 foot\", ID=\"1/16 in\", OD=\"1/8 in\", material=\"PFA\")\n",
    "thin_short_tube = mw.Tube(length=\"1 foot\", ID=\"0.04 in\", OD=\"1/16 in\", material=\"PFA\")\n",
    "thin_rxn_tube = mw.Tube(length=\"50 foot\", ID=\"0.04 in\", OD=\"1/16 in\", material=\"PFA\")\n",
    "\n",
    "\n",
    "mixer = mw.TMixer(name=\"T joint\")\n",
    "\n",
    "#MechwWolf as recognizes a 'Y mixer'\n",
    "\n",
    "#mixer = mw.YMixer(name=\"Y joint\")"
   ]
  },
  {
   "cell_type": "markdown",
   "metadata": {},
   "source": [
    "### Define Apparatus "
   ]
  },
  {
   "cell_type": "code",
   "execution_count": null,
   "metadata": {},
   "outputs": [],
   "source": [
    "# apparatus \n",
    "A = mw.Apparatus(\"name of apparatus: arbitrary\")\n",
    "\n",
    "#A.add(component 1, component 2, which tube attaches them)\n",
    "\n",
    "#this format is used to build the apparatus within mechwolf, an example is provided below\n",
    "\n",
    "A.add(reagent_vessel_1, pump1, fat_short_tube)\n",
    "A.add(reagent_vessel_2, pump2, fat_short_tube)\n",
    "A.add(pump1, mixer, thin_short_tube)\n",
    "A.add(pump2, mixer, thin_short_tube)\n",
    "A.add(mixer, product_vessel, thin_rxn_tube)\n",
    "\n",
    "# creates a graphic of your apparatus \n",
    "A.visualize()\n",
    "#creates a paragraph description of Apparatus\n",
    "#this is optional, there are is a small error in MechWolf's conversion of the apparatus into paragraph form where words repeat\n",
    "A.describe()"
   ]
  },
  {
   "cell_type": "markdown",
   "metadata": {},
   "source": [
    "### Define Protocol"
   ]
  },
  {
   "cell_type": "code",
   "execution_count": null,
   "metadata": {},
   "outputs": [],
   "source": [
    "#this protocol is for a two pump synthesizer\n",
    "\n",
    "#the first three lines of code don't change\n",
    "P = mw.Protocol(A)\n",
    "\n",
    "start = timedelta(seconds=0)\n",
    "\n",
    "switching_duration = timedelta(seconds=2)\n",
    "\n",
    "\n",
    "#change the number in the coupling_duration varible to adjust pump time\n",
    "\n",
    "coupling_duration = timedelta(seconds=30)\n",
    "\n",
    "#method\n",
    "#adjust rate at the end of each line of code for pump rate, be sure to keep units \n",
    "\n",
    "P.add (pump1, start=start+switching_duration, duration=coupling_duration, rate=\"5ml/min\")\n",
    "P.add (pump2, start=start+switching_duration, duration=coupling_duration, rate=\"5ml/min\")\n",
    "\n",
    "#provides a graphic for pump activity \n",
    "P.visualize()\n",
    "\n",
    "#some methods are more complicated than two pumps and one round of pumping material\n",
    "#there is flexibility in how the protocol is set up, this is just an easy example"
   ]
  },
  {
   "cell_type": "markdown",
   "metadata": {},
   "source": [
    "## Data"
   ]
  },
  {
   "cell_type": "markdown",
   "metadata": {},
   "source": [
    "### TLC Plates"
   ]
  },
  {
   "cell_type": "code",
   "execution_count": null,
   "metadata": {},
   "outputs": [],
   "source": [
    "# this cell doesn't need to be adjusted, simply run the cell and the program will prompt you for informatio\n",
    "\n",
    "#method\n",
    "solvent_tlc = input(\"Mobile phase solvent:\")\n",
    "stain = input(\"Enter stain:\")\n",
    "UV_activity_information = input(\"Enter UV activity information:\")\n",
    "\n",
    "#data\n",
    "sample_1_distance = input(\"Enter distance moved by sample 1:\")\n",
    "sample_2_distance = input(\"Enter Distance moved by sample 2:\")\n",
    "solvent_distance = input(\"Enter distance moved by solvent:\")\n",
    "\n",
    "sample_1_distance = float(sample_1_distance)\n",
    "sample_2_distance = float(sample_2_distance)\n",
    "solvent_distance = float(solvent_distance)\n",
    "\n",
    "RF_value_1 = sample_1_distance/solvent_distance\n",
    "RF_value_2 = sample_2_distance/solvent_distance\n",
    "\n",
    "RF_value_1 = round(RF_value_1, decimals = 4)\n",
    "RF_value_2 = round(RF_value_2, decimals = 4)\n",
    "print(RF_value_1) \n",
    "print(RF_value_2)"
   ]
  },
  {
   "cell_type": "markdown",
   "metadata": {},
   "source": [
    "#### TLC Plate Image"
   ]
  },
  {
   "cell_type": "markdown",
   "metadata": {},
   "source": [
    "#copy and paste .png file here"
   ]
  },
  {
   "cell_type": "markdown",
   "metadata": {},
   "source": [
    "### NMR Data"
   ]
  },
  {
   "cell_type": "markdown",
   "metadata": {},
   "source": [
    "#copy and paste .png file here"
   ]
  },
  {
   "cell_type": "markdown",
   "metadata": {},
   "source": [
    "### HPLC Data"
   ]
  },
  {
   "cell_type": "markdown",
   "metadata": {},
   "source": [
    "#copy and paste .png file here"
   ]
  },
  {
   "cell_type": "markdown",
   "metadata": {},
   "source": [
    "### Additional Data and Notes"
   ]
  },
  {
   "cell_type": "markdown",
   "metadata": {},
   "source": [
    "use this cell to paste images or write notes about reaction"
   ]
  },
  {
   "cell_type": "markdown",
   "metadata": {},
   "source": [
    "created by Gavin Stamper; February 19, 2021\n",
    "\n",
    "Contact infomation for questions:\n",
    "\n",
    "gavstamp@iu.edu"
   ]
  }
 ],
 "metadata": {
  "kernelspec": {
   "display_name": "Python 3",
   "language": "python",
   "name": "python3"
  },
  "language_info": {
   "codemirror_mode": {
    "name": "ipython",
    "version": 3
   },
   "file_extension": ".py",
   "mimetype": "text/x-python",
   "name": "python",
   "nbconvert_exporter": "python",
   "pygments_lexer": "ipython3",
   "version": "3.9.0"
  }
 },
 "nbformat": 4,
 "nbformat_minor": 4
}
