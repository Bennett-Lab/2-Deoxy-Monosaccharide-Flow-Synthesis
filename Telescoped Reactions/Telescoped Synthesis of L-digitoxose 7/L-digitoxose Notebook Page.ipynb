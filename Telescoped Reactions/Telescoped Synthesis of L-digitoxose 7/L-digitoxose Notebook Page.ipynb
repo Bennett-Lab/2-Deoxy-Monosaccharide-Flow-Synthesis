{
 "cells": [
  {
   "cell_type": "markdown",
   "metadata": {},
   "source": [
    "## Notebook Page"
   ]
  },
  {
   "cell_type": "code",
   "execution_count": 1,
   "metadata": {},
   "outputs": [],
   "source": [
    "import mechwolf as mw\n",
    "import graphviz\n",
    "import math\n",
    "from datetime import timedelta\n",
    "from astropy.table import QTable, Table, Column\n",
    "from sigfig import round\n",
    "import json"
   ]
  },
  {
   "cell_type": "code",
   "execution_count": 16,
   "metadata": {},
   "outputs": [],
   "source": [
    "with open('digi_reagents.json') as f:\n",
    "    data = json.load(f)"
   ]
  },
  {
   "cell_type": "markdown",
   "metadata": {},
   "source": [
    "### Reagents"
   ]
  },
  {
   "cell_type": "code",
   "execution_count": 11,
   "metadata": {},
   "outputs": [
    {
     "name": "stdout",
     "output_type": "stream",
     "text": [
      "The limiting reagent is Benzylated Rhamnal\n",
      "\n",
      "Moles: 0.004539882871021928\n"
     ]
    }
   ],
   "source": [
    "print(f\"The limiting reagent is {data['limiting reagent']}\")\n",
    "mw_limiting = 220.27\n",
    "\n",
    "try:\n",
    "    mass_scale = float(data['mass scale'])\n",
    "except:\n",
    "    print('Invalid input: numerical values only')\n",
    "\n",
    "moles = mass_scale / mw_limiting\n",
    "\n",
    "print(f'\\nMoles: {moles}')"
   ]
  },
  {
   "cell_type": "code",
   "execution_count": 12,
   "metadata": {},
   "outputs": [
    {
     "name": "stdout",
     "output_type": "stream",
     "text": [
      "\n",
      "Volume: 14.187133971943524 mL\n"
     ]
    }
   ],
   "source": [
    "try:\n",
    "    concentration = float(data['concentration'])\n",
    "except:\n",
    "    print('Invalid input: numerical values only')\n",
    "    \n",
    "volume = (moles * 1000) / concentration\n",
    "\n",
    "print(f'\\nVolume: {volume} mL')"
   ]
  },
  {
   "cell_type": "code",
   "execution_count": 13,
   "metadata": {},
   "outputs": [],
   "source": [
    "class Reagent:\n",
    "    \n",
    "    def __init__(self, reagent):\n",
    "        assert 'name' in reagent, 'ERROR: one of the reagents does not have a name field'\n",
    "        assert 'inChi' in reagent, f'Error: {reagent[\"name\"]} does not have an inChi field'\n",
    "        assert 'inChi Key' in reagent, f'Error: {reagent[\"name\"]} does not have an inChi key field'\n",
    "        assert 'molecular weight' in reagent, f'Error: {reagent[\"name\"]} does not have a molecular weight field'\n",
    "        assert 'eq' in reagent, f'Error: {reagent[\"name\"]} does not have an eq field'\n",
    "        assert 'syringe' in reagent, f'Error: {reagent[\"name\"]} does not have an syringe # field'\n",
    "        \n",
    "        self.name = reagent['name']\n",
    "        self.inChi = reagent['inChi']\n",
    "        self.mol_weight = reagent['molecular weight']\n",
    "        self.eq = reagent['eq']\n",
    "        self.syringe = reagent['syringe']\n",
    "        self.moles = round(moles * self.eq, decimals = 4)\n",
    "        self.mass = round(self.moles * self.mol_weight, decimals = 4)\n",
    "        \n",
    "    def __str__(self):\n",
    "        return f\"{self.name}\"\n",
    "    \n",
    "class Solid(Reagent):\n",
    "    \n",
    "    def __init__(self, reagent):\n",
    "        super().__init__(reagent)\n",
    "\n",
    "class Liquid(Reagent):\n",
    "    \n",
    "    def __init__(self, reagent):\n",
    "        super().__init__(reagent)\n",
    "        \n",
    "        assert 'density' in reagent, f'Error: {reagent[\"name\"]} does not have a density field'\n",
    "        self.density = reagent['density']\n",
    "        self.volume = round(self.eq * moles * (self.mol_weight / self.density), decimals = 4)\n",
    "        \n",
    "reagent_list = []\n",
    "for solid in data['solid reagents']:\n",
    "    reagent_list.append(Solid(solid))\n",
    "    \n",
    "for liquid in data['liquid reagents']:\n",
    "    reagent_list.append(Liquid(liquid))"
   ]
  },
  {
   "cell_type": "markdown",
   "metadata": {},
   "source": [
    "## Stoichiometry Table\n",
    "\n",
    "### Reagent Table"
   ]
  },
  {
   "cell_type": "code",
   "execution_count": 14,
   "metadata": {
    "scrolled": true
   },
   "outputs": [
    {
     "name": "stdout",
     "output_type": "stream",
     "text": [
      "     Reagent       Molecular Weight (g/mol)  mol   Mass (g) Volume (mL) Density (g/mL)  eq\n",
      "------------------ ------------------------ ------ -------- ----------- -------------- ---\n",
      "Benzylated Rhamnal                   220.27 0.0045   0.9912         N/A            N/A 1.0\n",
      "  Cesium Carbonate                   325.82  0.005   1.6291         N/A            N/A 1.1\n",
      "        Thiocresol                    124.2 0.0182   2.2604         N/A            N/A 4.0\n",
      "Sodium Borohydride                    37.83 0.0091   0.3443         N/A            N/A 2.0\n",
      "               DMP                   424.14  0.005   2.1207      1.5551          1.362 1.1\n",
      "     Triethylamine                   101.19  0.005    0.506       0.696          0.726 1.1\n",
      "\n",
      "Solvent: DMF\n"
     ]
    }
   ],
   "source": [
    "reagent_table = QTable()\n",
    "reagent_table['Reagent'] = [reagent.name for reagent in reagent_list]\n",
    "reagent_table['Molecular Weight (g/mol)'] = [reagent.mol_weight for reagent in reagent_list]\n",
    "\n",
    "if moles < 0.0005:\n",
    "    reagent_table['mmol'] = [reagent.moles * 1000 for reagent in reagent_list]\n",
    "    reagent_table['Mass (mg)'] = [round(reagent.mass * 1000, decimals = 4) for reagent in reagent_list]\n",
    "else:\n",
    "    reagent_table['mol'] = [reagent.moles for reagent in reagent_list]\n",
    "    reagent_table['Mass (g)'] = [round(reagent.mass, decimals = 4) for reagent in reagent_list]\n",
    "\n",
    "reagent_table['Volume (mL)'] = [reagent.volume if hasattr(reagent, 'volume') else \"N/A\" for reagent in reagent_list]\n",
    "reagent_table['Density (g/mL)'] = [reagent.density if hasattr(reagent, 'density') else \"N/A\" for reagent in reagent_list]\n",
    "reagent_table['eq'] = [reagent.eq for reagent in reagent_list]\n",
    "\n",
    "reagent_table.pprint(max_lines=-1, max_width=-1)\n",
    "\n",
    "print(f'\\nSolvent: {data[\"solvent\"]}')"
   ]
  },
  {
   "cell_type": "markdown",
   "metadata": {},
   "source": [
    "### Syringe Table"
   ]
  },
  {
   "cell_type": "code",
   "execution_count": 17,
   "metadata": {},
   "outputs": [
    {
     "name": "stdout",
     "output_type": "stream",
     "text": [
      "Syringe             Reagent             Solvent Volume\n",
      "------- ------------------------------- --------------\n",
      "      1              Benzylated Rhamnal           14.1\n",
      "      2                             DMP   14.1 mL neat\n",
      "      3 Cesium Carbonate, Triethylamine           27.5\n",
      "      4                      Thiocresol           56.4\n",
      "      5              Sodium Borohydride          112.8\n"
     ]
    }
   ],
   "source": [
    "def get_syringe_reagents(reagents, syr_max):\n",
    "    \n",
    "    def get_reagents_for_syringe_number(syr_num):\n",
    "        reagent_for_syringe_num = \"\"\n",
    "        for reagent in reagents:\n",
    "            if reagent.syringe == syr_num:\n",
    "                reagent_for_syringe_num += f'{reagent.name}, '\n",
    "                \n",
    "        return reagent_for_syringe_num[:-2]\n",
    "                \n",
    "    return list(map(get_reagents_for_syringe_number, range(1, syr_max)))\n",
    "\n",
    "syringe_table = QTable()\n",
    "syringe_max = max([reagent.syringe for reagent in reagent_list]) + 1\n",
    "syringe_table['Syringe'] = list(range(1, syringe_max))\n",
    "syringe_table['Reagent'] = get_syringe_reagents(reagent_list, syringe_max)\n",
    "syringe_table['Solvent Volume'] = data['solvent volume']\n",
    "\n",
    "syringe_table.pprint(max_lines=-1, max_width=-1)"
   ]
  },
  {
   "cell_type": "markdown",
   "metadata": {},
   "source": [
    "### Pumps"
   ]
  },
  {
   "cell_type": "code",
   "execution_count": 21,
   "metadata": {},
   "outputs": [],
   "source": [
    "import time\n",
    "import asyncio\n",
    "from loguru import logger\n",
    "from mechwolf import _ureg, Pump\n",
    "\n",
    "class HarvardSyringePump(Pump):\n",
    "    def __init__(self, syringe_volume, syringe_diameter, serial_port, name=None):\n",
    "        super().__init__(name = name)\n",
    "        self.serial_port = serial_port\n",
    "        self.syringe_volume = _ureg.parse_expression(syringe_volume)\n",
    "        self.syringe_diameter = _ureg.parse_expression(syringe_diameter)\n",
    "        \n",
    "    def __enter__(self):\n",
    "        import aioserial\n",
    "\n",
    "        self._ser = aioserial.AioSerial(\n",
    "            self.serial_port,\n",
    "            115200,\n",
    "            parity = aioserial.PARITY_NONE,\n",
    "            stopbits = 1,\n",
    "            timeout = 1,\n",
    "            write_timeout = 1,)\n",
    "        syringe_volume_ml = self.syringe_volume.to(_ureg.ml).magnitude \n",
    "        syringe_diameter_mm = self.syringe_diameter.to(_ureg.mm).magnitude\n",
    "        self._ser.write(f'svolume {syringe_volume_ml} ml\\r'.encode())\n",
    "        self._ser.write(f'diameter {syringe_diameter_mm}\\r'.encode())\n",
    "\n",
    "        return self\n",
    "    \n",
    "    def __exit__(self, exc_type, exc_value, traceback):\n",
    "        self.rate = _ureg.parse_expression(\"0 mL/min\")\n",
    "        self._ser.write(b'stop\\r') \n",
    "        \n",
    "        del self._ser\n",
    "\n",
    "    async def _update(self):\n",
    "        rate_mlmin = self.rate.to(_ureg.ml / _ureg.min).magnitude\n",
    "        if rate_mlmin == 0:\n",
    "            self._ser.write(b'stop\\r') \n",
    "        else:\n",
    "            self._ser.write(f'irate {rate_mlmin} m/m\\r'.encode())\n",
    "            self._ser.write(b'irun\\r')"
   ]
  },
  {
   "cell_type": "code",
   "execution_count": 22,
   "metadata": {},
   "outputs": [],
   "source": [
    "pump_1 = HarvardSyringePump(\"24mL\", \"20.05mm\", serial_port = '/dev/tty.usbmodemD4038611', name = \"Pump 1\")"
   ]
  },
  {
   "cell_type": "markdown",
   "metadata": {},
   "source": [
    "### Syringe, Tubing, and Mixer Information"
   ]
  },
  {
   "cell_type": "code",
   "execution_count": 23,
   "metadata": {},
   "outputs": [],
   "source": [
    "#reagent vessels\n",
    "reagent_vessel_1 = mw.Vessel(\"Benzylated Rhamnal\", name = \"Starting Material\")\n",
    "reagent_vessel_2 = mw.Vessel(\"DMP\", name = \"DMP\")\n",
    "reagent_vessel_3 = mw.Vessel(\"CsCO3 + Et3N\", name = \"CsCO3 + Et3N in THF\")\n",
    "reagent_vessel_4 = mw.Vessel(\"TolSH\", name = \"Thiocresol\")\n",
    "reagent_vessel_5 = mw.Vessel(\"NaBH4\", name = \"NaBH4 in MeOH\")\n",
    "product_vessel = mw.Vessel(\"L-digitoxose\", name = \"L-digitoxose\")\n",
    "\n",
    "#tubing\n",
    "def big_tube(length):\n",
    "    return mw.Tube(length = length, ID = \"0.062 in\", OD = \"1/8 in\", material = \"PFA\")\n",
    "\n",
    "sugar = big_tube(length = \"1 foot\")\n",
    "DMP = big_tube(length = \"1 foot\")\n",
    "oxidation = big_tube(length = \"16 foot\")\n",
    "CsCO3 = big_tube(length = \"1 foot\")\n",
    "activation = big_tube(length = \"33 foot\")\n",
    "thiocresol = big_tube(length = \"17 foot\")\n",
    "addition = big_tube(length = \"18 foot\")\n",
    "NaBH4 = big_tube(length = \"1 foot\")\n",
    "reduction = big_tube(length = \"64 foot\")\n",
    "\n",
    "#mixers\n",
    "def Tmixer(name):\n",
    "    return mw.TMixer(name = name)\n",
    "\n",
    "T_1 = Tmixer(oxidation)\n",
    "T_2 = Tmixer(activation)\n",
    "T_3 = Tmixer(addition)\n",
    "T_4 = Tmixer(reduction) "
   ]
  },
  {
   "cell_type": "markdown",
   "metadata": {},
   "source": [
    "### Apparatus "
   ]
  },
  {
   "cell_type": "code",
   "execution_count": 24,
   "metadata": {},
   "outputs": [
    {
     "data": {
      "image/svg+xml": [
       "<?xml version=\"1.0\" encoding=\"UTF-8\" standalone=\"no\"?>\n",
       "<!DOCTYPE svg PUBLIC \"-//W3C//DTD SVG 1.1//EN\"\n",
       " \"http://www.w3.org/Graphics/SVG/1.1/DTD/svg11.dtd\">\n",
       "<!-- Generated by graphviz version 2.47.1 (20210417.1919)\n",
       " -->\n",
       "<!-- Title: DMP Oxidation Pages: 1 -->\n",
       "<svg width=\"654pt\" height=\"121pt\"\n",
       " viewBox=\"0.00 0.00 654.00 121.00\" xmlns=\"http://www.w3.org/2000/svg\" xmlns:xlink=\"http://www.w3.org/1999/xlink\">\n",
       "<g id=\"graph0\" class=\"graph\" transform=\"scale(1 1) rotate(0) translate(4 117)\">\n",
       "<title>DMP Oxidation</title>\n",
       "<polygon fill=\"white\" stroke=\"transparent\" points=\"-4,4 -4,-117 650,-117 650,4 -4,4\"/>\n",
       "<text text-anchor=\"middle\" x=\"323\" y=\"-7.8\" font-family=\"Times,serif\" font-size=\"14.00\">DMP Oxidation</text>\n",
       "<!-- DMP in DCM -->\n",
       "<g id=\"node1\" class=\"node\">\n",
       "<title>DMP in DCM</title>\n",
       "<path fill=\"none\" stroke=\"black\" d=\"M197.5,-109.73C197.5,-111.53 176.21,-113 150,-113 123.79,-113 102.5,-111.53 102.5,-109.73 102.5,-109.73 102.5,-80.27 102.5,-80.27 102.5,-78.47 123.79,-77 150,-77 176.21,-77 197.5,-78.47 197.5,-80.27 197.5,-80.27 197.5,-109.73 197.5,-109.73\"/>\n",
       "<path fill=\"none\" stroke=\"black\" d=\"M197.5,-109.73C197.5,-107.92 176.21,-106.45 150,-106.45 123.79,-106.45 102.5,-107.92 102.5,-109.73\"/>\n",
       "<text text-anchor=\"middle\" x=\"150\" y=\"-91.3\" font-family=\"Times,serif\" font-size=\"14.00\">DMP in DCM</text>\n",
       "</g>\n",
       "<!-- Tube of length 25 foot, ID 0.062 inch, OD 0.125 inch -->\n",
       "<g id=\"node4\" class=\"node\">\n",
       "<title>Tube of length 25 foot, ID 0.062 inch, OD 0.125 inch</title>\n",
       "<polygon fill=\"none\" stroke=\"black\" points=\"540,-80 241,-80 241,-56 540,-56 552,-68 540,-80\"/>\n",
       "<text text-anchor=\"middle\" x=\"396.5\" y=\"-64.3\" font-family=\"Times,serif\" font-size=\"14.00\">Tube of length 25 foot, ID 0.062 inch, OD 0.125 inch</text>\n",
       "</g>\n",
       "<!-- DMP in DCM&#45;&gt;Tube of length 25 foot, ID 0.062 inch, OD 0.125 inch -->\n",
       "<g id=\"edge4\" class=\"edge\">\n",
       "<title>DMP in DCM&#45;&gt;Tube of length 25 foot, ID 0.062 inch, OD 0.125 inch</title>\n",
       "<path fill=\"none\" stroke=\"black\" d=\"M197.56,-89.86C207.63,-88.75 218.83,-87.51 230.63,-86.21\"/>\n",
       "<polygon fill=\"black\" stroke=\"black\" points=\"231.12,-89.67 240.67,-85.1 230.35,-82.72 231.12,-89.67\"/>\n",
       "</g>\n",
       "<!-- Pump 1 -->\n",
       "<g id=\"node2\" class=\"node\">\n",
       "<title>Pump 1</title>\n",
       "<polygon fill=\"none\" stroke=\"black\" points=\"59,-86 4,-86 0,-82 0,-50 55,-50 59,-54 59,-86\"/>\n",
       "<polyline fill=\"none\" stroke=\"black\" points=\"55,-82 0,-82 \"/>\n",
       "<polyline fill=\"none\" stroke=\"black\" points=\"55,-82 55,-50 \"/>\n",
       "<polyline fill=\"none\" stroke=\"black\" points=\"55,-82 59,-86 \"/>\n",
       "<text text-anchor=\"middle\" x=\"29.5\" y=\"-64.3\" font-family=\"Times,serif\" font-size=\"14.00\">Pump 1</text>\n",
       "</g>\n",
       "<!-- Pump 1&#45;&gt;DMP in DCM -->\n",
       "<g id=\"edge2\" class=\"edge\">\n",
       "<title>Pump 1&#45;&gt;DMP in DCM</title>\n",
       "<path fill=\"none\" stroke=\"black\" d=\"M59.19,-74.54C69.15,-76.81 80.69,-79.44 92.12,-82.04\"/>\n",
       "<polygon fill=\"black\" stroke=\"black\" points=\"91.56,-85.5 102.09,-84.31 93.12,-78.68 91.56,-85.5\"/>\n",
       "</g>\n",
       "<!-- Starting Material -->\n",
       "<g id=\"node3\" class=\"node\">\n",
       "<title>Starting Material</title>\n",
       "<path fill=\"none\" stroke=\"black\" d=\"M205,-55.73C205,-57.53 180.35,-59 150,-59 119.65,-59 95,-57.53 95,-55.73 95,-55.73 95,-26.27 95,-26.27 95,-24.47 119.65,-23 150,-23 180.35,-23 205,-24.47 205,-26.27 205,-26.27 205,-55.73 205,-55.73\"/>\n",
       "<path fill=\"none\" stroke=\"black\" d=\"M205,-55.73C205,-53.92 180.35,-52.45 150,-52.45 119.65,-52.45 95,-53.92 95,-55.73\"/>\n",
       "<text text-anchor=\"middle\" x=\"150\" y=\"-37.3\" font-family=\"Times,serif\" font-size=\"14.00\">Starting Material</text>\n",
       "</g>\n",
       "<!-- Pump 1&#45;&gt;Starting Material -->\n",
       "<g id=\"edge1\" class=\"edge\">\n",
       "<title>Pump 1&#45;&gt;Starting Material</title>\n",
       "<path fill=\"none\" stroke=\"black\" d=\"M59.19,-61.46C67.03,-59.68 75.86,-57.66 84.85,-55.62\"/>\n",
       "<polygon fill=\"black\" stroke=\"black\" points=\"85.64,-59.03 94.62,-53.39 84.09,-52.2 85.64,-59.03\"/>\n",
       "</g>\n",
       "<!-- Starting Material&#45;&gt;Tube of length 25 foot, ID 0.062 inch, OD 0.125 inch -->\n",
       "<g id=\"edge3\" class=\"edge\">\n",
       "<title>Starting Material&#45;&gt;Tube of length 25 foot, ID 0.062 inch, OD 0.125 inch</title>\n",
       "<path fill=\"none\" stroke=\"black\" d=\"M205.26,-46.99C213.24,-47.87 221.77,-48.82 230.66,-49.8\"/>\n",
       "<polygon fill=\"black\" stroke=\"black\" points=\"230.49,-53.3 240.82,-50.92 231.26,-46.34 230.49,-53.3\"/>\n",
       "</g>\n",
       "<!-- product -->\n",
       "<g id=\"node5\" class=\"node\">\n",
       "<title>product</title>\n",
       "<path fill=\"none\" stroke=\"black\" d=\"M646,-82.73C646,-84.53 633,-86 617,-86 601,-86 588,-84.53 588,-82.73 588,-82.73 588,-53.27 588,-53.27 588,-51.47 601,-50 617,-50 633,-50 646,-51.47 646,-53.27 646,-53.27 646,-82.73 646,-82.73\"/>\n",
       "<path fill=\"none\" stroke=\"black\" d=\"M646,-82.73C646,-80.92 633,-79.45 617,-79.45 601,-79.45 588,-80.92 588,-82.73\"/>\n",
       "<text text-anchor=\"middle\" x=\"617\" y=\"-64.3\" font-family=\"Times,serif\" font-size=\"14.00\">product</text>\n",
       "</g>\n",
       "<!-- Tube of length 25 foot, ID 0.062 inch, OD 0.125 inch&#45;&gt;product -->\n",
       "<g id=\"edge5\" class=\"edge\">\n",
       "<title>Tube of length 25 foot, ID 0.062 inch, OD 0.125 inch&#45;&gt;product</title>\n",
       "<path fill=\"none\" stroke=\"black\" d=\"M552.21,-68C561.37,-68 570,-68 577.78,-68\"/>\n",
       "<polygon fill=\"black\" stroke=\"black\" points=\"577.84,-71.5 587.84,-68 577.84,-64.5 577.84,-71.5\"/>\n",
       "</g>\n",
       "</g>\n",
       "</svg>\n"
      ],
      "text/plain": [
       "<graphviz.dot.Digraph at 0x7f9010492970>"
      ]
     },
     "execution_count": 24,
     "metadata": {},
     "output_type": "execute_result"
    }
   ],
   "source": [
    "# apparatus \n",
    "A = mw.Apparatus(\"DMP Oxidation\")\n",
    "\n",
    "A.add(pump_1, reagent_vessel_1, sugar)\n",
    "A.add(pump_1, reagent_vessel_2, DMP)\n",
    "\n",
    "A.add(reagent_vessel_1, T_1, sugar)\n",
    "A.add(reagent_vessel_2, T_1, DMP)\n",
    "A.add(T_1, product_vessel, oxidation)\n",
    "\n",
    "A.describe()\n",
    "A.visualize()"
   ]
  },
  {
   "cell_type": "markdown",
   "metadata": {},
   "source": [
    "### Protocol"
   ]
  },
  {
   "cell_type": "code",
   "execution_count": 25,
   "metadata": {},
   "outputs": [
    {
     "name": "stdout",
     "output_type": "stream",
     "text": [
      "TOTAL TIME: 0:24:39\n"
     ]
    }
   ],
   "source": [
    "P = mw.Protocol(A)\n",
    "\n",
    "switch = timedelta(seconds = 45)\n",
    "\n",
    "current = timedelta(minutes = 0)\n",
    "\n",
    "oxidation = timedelta(minutes = 8.9)\n",
    "P.add(pump_1, start = current,\n",
    "              duration = oxidation, rate = \"1 mL/min\")\n",
    "\n",
    "current += oxidation + switch\n",
    "\n",
    "flush = timedelta(minutes = 15) \n",
    "P.add(pump_1, start = current, \n",
    "              duration = flush, rate = \"1 mL/min\")\n",
    "\n",
    "current += flush\n",
    "\n",
    "print(f'TOTAL TIME: {current}')\n",
    "# P.execute(confirm = True)"
   ]
  },
  {
   "cell_type": "markdown",
   "metadata": {},
   "source": [
    "### Product and Yield Information"
   ]
  },
  {
   "cell_type": "code",
   "execution_count": null,
   "metadata": {},
   "outputs": [
    {
     "name": "stdout",
     "output_type": "stream",
     "text": [
      "C4 Benzylated Enone; molecular weight:  218.25\n",
      "Theoretical Yield: 0.6242 g\n"
     ]
    }
   ],
   "source": [
    "product = \"C4 Benzylated Enone\"\n",
    "product_molecular_weight = 218.25\n",
    "\n",
    "theoretical_yield = round(moles * product_molecular_weight, decimals = 4)\n",
    "\n",
    "if moles < 0.0005:\n",
    "    theoretical_yield *= 1000\n",
    "    units = 'mg'\n",
    "else:\n",
    "    units = 'g'\n",
    "\n",
    "print(product + \"; molecular weight: \", product_molecular_weight)\n",
    "\n",
    "print(\"Theoretical Yield:\", theoretical_yield, units)\n",
    "\n",
    "actual_yield = float(input(f\"Enter mass of product in {units}: \"))\n",
    "print(\"Actual Yield:\", actual_yield, units)\n",
    "\n",
    "percent_yield = round((actual_yield / theoretical_yield) * 100, decimals = 1)\n",
    "print(\"Percent Yield:\", percent_yield, \"%\")"
   ]
  }
 ],
 "metadata": {
  "kernelspec": {
   "display_name": "Python 3",
   "language": "python",
   "name": "python3"
  },
  "language_info": {
   "codemirror_mode": {
    "name": "ipython",
    "version": 3
   },
   "file_extension": ".py",
   "mimetype": "text/x-python",
   "name": "python",
   "nbconvert_exporter": "python",
   "pygments_lexer": "ipython3",
   "version": "3.9.0"
  }
 },
 "nbformat": 4,
 "nbformat_minor": 4
}
