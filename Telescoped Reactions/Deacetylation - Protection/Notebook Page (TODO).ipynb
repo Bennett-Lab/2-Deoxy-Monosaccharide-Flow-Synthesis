{
 "cells": [
  {
   "cell_type": "markdown",
   "metadata": {},
   "source": [
    "## Notebook Page"
   ]
  },
  {
   "cell_type": "code",
   "execution_count": 2,
   "metadata": {},
   "outputs": [],
   "source": [
    "import mechwolf as mw\n",
    "import graphviz\n",
    "import math\n",
    "from datetime import timedelta\n",
    "from astropy.table import QTable, Table, Column\n",
    "from sigfig import round\n",
    "import json"
   ]
  },
  {
   "cell_type": "code",
   "execution_count": 3,
   "metadata": {},
   "outputs": [],
   "source": [
    "with open('protection_reagents.json') as f:\n",
    "    data = json.load(f)"
   ]
  },
  {
   "cell_type": "markdown",
   "metadata": {},
   "source": [
    "### Reagents"
   ]
  },
  {
   "cell_type": "code",
   "execution_count": 4,
   "metadata": {},
   "outputs": [
    {
     "name": "stdout",
     "output_type": "stream",
     "text": [
      "The limiting reagent is Diacetyl Rhamnal\n",
      "\n",
      "Moles: 0.004668098216786481\n"
     ]
    }
   ],
   "source": [
    "print(f\"The limiting reagent is {data['limiting reagent']}\")\n",
    "mw_limiting = 214.22\n",
    "\n",
    "try:\n",
    "    mass_scale = float(data['mass scale'])\n",
    "except:\n",
    "    print('Invalid input: numerical values only')\n",
    "\n",
    "moles = mass_scale / mw_limiting\n",
    "\n",
    "print(f'\\nMoles: {moles}')"
   ]
  },
  {
   "cell_type": "code",
   "execution_count": 5,
   "metadata": {},
   "outputs": [
    {
     "name": "stdout",
     "output_type": "stream",
     "text": [
      "\n",
      "Volume: 7.780163694644135 mL\n"
     ]
    }
   ],
   "source": [
    "try:\n",
    "    concentration = float(data['concentration'])\n",
    "except:\n",
    "    print('Invalid input: numerical values only')\n",
    "    \n",
    "volume = (moles * 1000) / concentration\n",
    "\n",
    "print(f'\\nVolume: {volume} mL')"
   ]
  },
  {
   "cell_type": "code",
   "execution_count": 6,
   "metadata": {},
   "outputs": [],
   "source": [
    "# TODO for Tu-Anh: do we need solvent volume for the solids\n",
    "\n",
    "class Reagent:\n",
    "    \n",
    "    def __init__(self, reagent):\n",
    "        assert 'name' in reagent, 'ERROR: one of the reagents does not have a name field'\n",
    "        assert 'inChi' in reagent, f'Error: {reagent[\"name\"]} does not have an inChi field'\n",
    "        assert 'inChi Key' in reagent, f'Error: {reagent[\"name\"]} does not have an inChi key field'\n",
    "        assert 'molecular weight' in reagent, f'Error: {reagent[\"name\"]} does not have a molecular weight field'\n",
    "        assert 'eq' in reagent, f'Error: {reagent[\"name\"]} does not have an eq field'\n",
    "        assert 'syringe' in reagent, f'Error: {reagent[\"name\"]} does not have an syringe # field'\n",
    "        \n",
    "        self.name = reagent['name']\n",
    "        self.inChi = reagent['inChi']\n",
    "        self.mol_weight = reagent['molecular weight']\n",
    "        self.eq = reagent['eq']\n",
    "        self.syringe = reagent['syringe']\n",
    "        self.moles = round(moles * self.eq, decimals = 4)\n",
    "        self.mass = round(self.moles * self.mol_weight, decimals = 4)\n",
    "        \n",
    "    def __str__(self):\n",
    "        return f\"{self.name}\"\n",
    "    \n",
    "class Solid(Reagent):\n",
    "    \n",
    "    def __init__(self, reagent):\n",
    "        super().__init__(reagent)\n",
    "        \n",
    "        assert 'solvent eq' in reagent, f'Error: {reagent[\"name\"]} does not have a solvent eq field'\n",
    "        self.solv_eq = reagent['solvent eq']\n",
    "        self.molarity = round(self.moles / self.solv_eq, decimals = 4)\n",
    "\n",
    "class Liquid(Reagent):\n",
    "    \n",
    "    def __init__(self, reagent):\n",
    "        super().__init__(reagent)\n",
    "        \n",
    "        assert 'density' in reagent, f'Error: {reagent[\"name\"]} does not have a density field'\n",
    "        self.density = reagent['density']\n",
    "        self.volume = round(self.eq * moles * (self.mol_weight / self.density), decimals = 4)\n",
    "        \n",
    "reagent_list = []\n",
    "for solid in data['solid reagents']:\n",
    "    reagent_list.append(Solid(solid))\n",
    "    \n",
    "for liquid in data['liquid reagents']:\n",
    "    reagent_list.append(Liquid(liquid))"
   ]
  },
  {
   "cell_type": "markdown",
   "metadata": {},
   "source": [
    "## Stoichiometry Table\n",
    "\n",
    "### Reagent Table"
   ]
  },
  {
   "cell_type": "code",
   "execution_count": 7,
   "metadata": {
    "scrolled": true
   },
   "outputs": [
    {
     "name": "stdout",
     "output_type": "stream",
     "text": [
      "    Reagent      Molecular Weight (g/mol)  mol   Mass (g) Volume (mL) Density (g/mL)  eq\n",
      "---------------- ------------------------ ------ -------- ----------- -------------- ---\n",
      "Diacetyl Rhamnal                   214.22 0.0047   1.0068         N/A            N/A 1.0\n",
      "           NaOMe                    54.05 0.0233   1.2594         N/A            N/A 5.0\n",
      "           TBSCl                   150.72 0.0159   2.3964         N/A            N/A 3.4\n",
      "            DMAP                   122.17 0.0019   0.2321         N/A            N/A 0.4\n",
      "            MeOH                    32.04 0.0093    0.298      0.3782          0.791 2.0\n",
      "            Et3N                   101.19 0.0159   1.6089      2.2122          0.726 3.4\n",
      "\n",
      "Solvent: DMF\n"
     ]
    }
   ],
   "source": [
    "reagent_table = QTable()\n",
    "reagent_table['Reagent'] = [reagent.name for reagent in reagent_list]\n",
    "reagent_table['Molecular Weight (g/mol)'] = [reagent.mol_weight for reagent in reagent_list]\n",
    "\n",
    "if moles < 0.0005:\n",
    "    reagent_table['mmol'] = [reagent.moles * 1000 for reagent in reagent_list]\n",
    "    reagent_table['Mass (mg)'] = [round(reagent.mass * 1000, decimals = 4) for reagent in reagent_list]\n",
    "else:\n",
    "    reagent_table['mol'] = [reagent.moles for reagent in reagent_list]\n",
    "    reagent_table['Mass (g)'] = [round(reagent.mass, decimals = 4) for reagent in reagent_list]\n",
    "\n",
    "reagent_table['Volume (mL)'] = [reagent.volume if hasattr(reagent, 'volume') else \"N/A\" for reagent in reagent_list]\n",
    "reagent_table['Density (g/mL)'] = [reagent.density if hasattr(reagent, 'density') else \"N/A\" for reagent in reagent_list]\n",
    "reagent_table['eq'] = [reagent.eq for reagent in reagent_list]\n",
    "\n",
    "reagent_table.pprint(max_lines=-1, max_width=-1)\n",
    "\n",
    "print(f'\\nSolvent: {data[\"solvent\"]}')"
   ]
  },
  {
   "cell_type": "markdown",
   "metadata": {},
   "source": [
    "### Syringe Table"
   ]
  },
  {
   "cell_type": "code",
   "execution_count": 8,
   "metadata": {},
   "outputs": [
    {
     "name": "stdout",
     "output_type": "stream",
     "text": [
      "Syringe      Reagent      Solvent Volume\n",
      "------- ----------------- --------------\n",
      "      1  Diacetyl Rhamnal            7.8\n",
      "      2       NaOMe, MeOH            7.5\n",
      "      3 TBSCl, DMAP, Et3N           15.6\n"
     ]
    }
   ],
   "source": [
    "def get_syringe_reagents(reagents, syr_max):\n",
    "    \n",
    "    def get_reagents_for_syringe_number(syr_num):\n",
    "        reagent_for_syringe_num = \"\"\n",
    "        for reagent in reagents:\n",
    "            if reagent.syringe == syr_num:\n",
    "                reagent_for_syringe_num += f'{reagent.name}, '\n",
    "                \n",
    "        return reagent_for_syringe_num[:-2]\n",
    "                \n",
    "    return list(map(get_reagents_for_syringe_number, range(1, syr_max)))\n",
    "\n",
    "syringe_table = QTable()\n",
    "syringe_max = max([reagent.syringe for reagent in reagent_list]) + 1\n",
    "syringe_table['Syringe'] = list(range(1, syringe_max))\n",
    "syringe_table['Reagent'] = get_syringe_reagents(reagent_list, syringe_max)\n",
    "syringe_table['Solvent Volume'] = data['solvent volume']\n",
    "\n",
    "syringe_table.pprint(max_lines=-1, max_width=-1)"
   ]
  },
  {
   "cell_type": "markdown",
   "metadata": {},
   "source": [
    "### Pumps"
   ]
  },
  {
   "cell_type": "code",
   "execution_count": 9,
   "metadata": {},
   "outputs": [],
   "source": [
    "# Harvard pump code\n",
    "import time\n",
    "import asyncio\n",
    "from loguru import logger\n",
    "from mechwolf import _ureg, Pump\n",
    "\n",
    "class HarvardSyringePump(Pump):\n",
    "    def __init__(self, syringe_volume, syringe_diameter, serial_port, name=None):\n",
    "        super().__init__(name = name)\n",
    "        self.serial_port = serial_port\n",
    "        self.syringe_volume = _ureg.parse_expression(syringe_volume)\n",
    "        self.syringe_diameter = _ureg.parse_expression(syringe_diameter)\n",
    "        \n",
    "    def __enter__(self):\n",
    "        import aioserial\n",
    "\n",
    "        self._ser = aioserial.AioSerial(\n",
    "            self.serial_port,\n",
    "            115200,\n",
    "            parity = aioserial.PARITY_NONE,\n",
    "            stopbits = 1,\n",
    "            timeout = 1,\n",
    "            write_timeout = 1,)\n",
    "        syringe_volume_ml = self.syringe_volume.to(_ureg.ml).magnitude \n",
    "        syringe_diameter_mm = self.syringe_diameter.to(_ureg.mm).magnitude\n",
    "        self._ser.write(f'svolume {syringe_volume_ml} ml\\r'.encode())\n",
    "        self._ser.write(f'diameter {syringe_diameter_mm}\\r'.encode())\n",
    "\n",
    "        return self\n",
    "    \n",
    "    def __exit__(self, exc_type, exc_value, traceback):\n",
    "        self.rate = _ureg.parse_expression(\"0 mL/min\")\n",
    "        self._ser.write(b'stop\\r') \n",
    "        \n",
    "        del self._ser\n",
    "\n",
    "    async def _update(self):\n",
    "        rate_mlmin = self.rate.to(_ureg.ml / _ureg.min).magnitude\n",
    "        if rate_mlmin == 0:\n",
    "            self._ser.write(b'stop\\r') \n",
    "        else:\n",
    "            self._ser.write(f'irate {rate_mlmin} m/m\\r'.encode())\n",
    "            self._ser.write(b'irun\\r')"
   ]
  },
  {
   "cell_type": "code",
   "execution_count": 10,
   "metadata": {},
   "outputs": [],
   "source": [
    "pump_1 = HarvardSyringePump(\"24mL\", \"20.05mm\", serial_port = '/dev/tty.usbmodemD4038611', name = \"Pump 1\")\n",
    "pump_2 = HarvardSyringePump(\"24mL\", \"20.05mm\", serial_port = '/dev/tty.usbmodemD4038591', name = \"Pump 2\")\n",
    "pump_3 = HarvardSyringePump(\"24mL\", \"20.05mm\", serial_port = '/dev/tty.usbmodemD4038601', name = \"Pump 3\")"
   ]
  },
  {
   "cell_type": "markdown",
   "metadata": {},
   "source": [
    "### Syringe, Tubing, and Mixer Information"
   ]
  },
  {
   "cell_type": "code",
   "execution_count": 17,
   "metadata": {},
   "outputs": [],
   "source": [
    "#reagent vessels\n",
    "reagent_vessel_1 = mw.Vessel(\"Diacetyl Rhamnal\", name = \"Starting Material\")\n",
    "reagent_vessel_2 = mw.Vessel(\"NaOMe\", name = \"NaOMe + MeOH in DMF\")\n",
    "reagent_vessel_3 = mw.Vessel(\"TBSCl\", name = \"TBSCl + DMAP\")\n",
    "product_vessel = mw.Vessel(\"C3 benzylated rhamnal\", name = \"product\")\n",
    "\n",
    "#tubing\n",
    "def big_tube(length):\n",
    "    return mw.Tube(length = length, ID = \"0.062 in\", OD = \"1/8 in\", material = \"PFA\")\n",
    "\n",
    "sugar = big_tube(length = \"1 foot\")\n",
    "NaOMe = big_tube(length = \"1 foot\")\n",
    "deacetylation = big_tube(length = \"16 foot\")\n",
    "TBSCl = big_tube(length = \"1 foot\")\n",
    "protection = big_tube(length = \"64 foot\")\n",
    "\n",
    "#mixers\n",
    "def Tmixer(name):\n",
    "    return mw.TMixer(name = name)\n",
    "\n",
    "T_1 = Tmixer(deacetylation)\n",
    "T_2 = Tmixer(protection) "
   ]
  },
  {
   "cell_type": "markdown",
   "metadata": {},
   "source": [
    "### Apparatus "
   ]
  },
  {
   "cell_type": "code",
   "execution_count": 18,
   "metadata": {},
   "outputs": [
    {
     "data": {
      "image/svg+xml": [
       "<?xml version=\"1.0\" encoding=\"UTF-8\" standalone=\"no\"?>\n",
       "<!DOCTYPE svg PUBLIC \"-//W3C//DTD SVG 1.1//EN\"\n",
       " \"http://www.w3.org/Graphics/SVG/1.1/DTD/svg11.dtd\">\n",
       "<!-- Generated by graphviz version 2.47.1 (20210417.1919)\n",
       " -->\n",
       "<!-- Title: Deacetylation and Protection Pages: 1 -->\n",
       "<svg width=\"1054pt\" height=\"175pt\"\n",
       " viewBox=\"0.00 0.00 1054.00 175.00\" xmlns=\"http://www.w3.org/2000/svg\" xmlns:xlink=\"http://www.w3.org/1999/xlink\">\n",
       "<g id=\"graph0\" class=\"graph\" transform=\"scale(1 1) rotate(0) translate(4 171)\">\n",
       "<title>Deacetylation and Protection</title>\n",
       "<polygon fill=\"white\" stroke=\"transparent\" points=\"-4,4 -4,-171 1050,-171 1050,4 -4,4\"/>\n",
       "<text text-anchor=\"middle\" x=\"523\" y=\"-7.8\" font-family=\"Times,serif\" font-size=\"14.00\">Deacetylation and Protection</text>\n",
       "<!-- NaOMe + MeOH in DMF -->\n",
       "<g id=\"node1\" class=\"node\">\n",
       "<title>NaOMe + MeOH in DMF</title>\n",
       "<path fill=\"none\" stroke=\"black\" d=\"M258,-109.73C258,-111.53 221.47,-113 176.5,-113 131.53,-113 95,-111.53 95,-109.73 95,-109.73 95,-80.27 95,-80.27 95,-78.47 131.53,-77 176.5,-77 221.47,-77 258,-78.47 258,-80.27 258,-80.27 258,-109.73 258,-109.73\"/>\n",
       "<path fill=\"none\" stroke=\"black\" d=\"M258,-109.73C258,-107.92 221.47,-106.45 176.5,-106.45 131.53,-106.45 95,-107.92 95,-109.73\"/>\n",
       "<text text-anchor=\"middle\" x=\"176.5\" y=\"-91.3\" font-family=\"Times,serif\" font-size=\"14.00\">NaOMe + MeOH in DMF</text>\n",
       "</g>\n",
       "<!-- Tube of length 16 foot, ID 0.062 inch, OD 0.125 inch -->\n",
       "<g id=\"node6\" class=\"node\">\n",
       "<title>Tube of length 16 foot, ID 0.062 inch, OD 0.125 inch</title>\n",
       "<polygon fill=\"none\" stroke=\"black\" points=\"593,-107 294,-107 294,-83 593,-83 605,-95 593,-107\"/>\n",
       "<text text-anchor=\"middle\" x=\"449.5\" y=\"-91.3\" font-family=\"Times,serif\" font-size=\"14.00\">Tube of length 16 foot, ID 0.062 inch, OD 0.125 inch</text>\n",
       "</g>\n",
       "<!-- NaOMe + MeOH in DMF&#45;&gt;Tube of length 16 foot, ID 0.062 inch, OD 0.125 inch -->\n",
       "<g id=\"edge4\" class=\"edge\">\n",
       "<title>NaOMe + MeOH in DMF&#45;&gt;Tube of length 16 foot, ID 0.062 inch, OD 0.125 inch</title>\n",
       "<path fill=\"none\" stroke=\"black\" d=\"M258.08,-95C266.41,-95 275.07,-95 283.91,-95\"/>\n",
       "<polygon fill=\"black\" stroke=\"black\" points=\"283.96,-98.5 293.96,-95 283.96,-91.5 283.96,-98.5\"/>\n",
       "</g>\n",
       "<!-- Pump 1 -->\n",
       "<g id=\"node2\" class=\"node\">\n",
       "<title>Pump 1</title>\n",
       "<polygon fill=\"none\" stroke=\"black\" points=\"59,-86 4,-86 0,-82 0,-50 55,-50 59,-54 59,-86\"/>\n",
       "<polyline fill=\"none\" stroke=\"black\" points=\"55,-82 0,-82 \"/>\n",
       "<polyline fill=\"none\" stroke=\"black\" points=\"55,-82 55,-50 \"/>\n",
       "<polyline fill=\"none\" stroke=\"black\" points=\"55,-82 59,-86 \"/>\n",
       "<text text-anchor=\"middle\" x=\"29.5\" y=\"-64.3\" font-family=\"Times,serif\" font-size=\"14.00\">Pump 1</text>\n",
       "</g>\n",
       "<!-- Pump 1&#45;&gt;NaOMe + MeOH in DMF -->\n",
       "<g id=\"edge2\" class=\"edge\">\n",
       "<title>Pump 1&#45;&gt;NaOMe + MeOH in DMF</title>\n",
       "<path fill=\"none\" stroke=\"black\" d=\"M59.15,-73.33C66.84,-74.77 75.6,-76.4 84.77,-78.11\"/>\n",
       "<polygon fill=\"black\" stroke=\"black\" points=\"84.38,-81.59 94.85,-79.98 85.66,-74.71 84.38,-81.59\"/>\n",
       "</g>\n",
       "<!-- Starting Material -->\n",
       "<g id=\"node4\" class=\"node\">\n",
       "<title>Starting Material</title>\n",
       "<path fill=\"none\" stroke=\"black\" d=\"M231.5,-55.73C231.5,-57.53 206.85,-59 176.5,-59 146.15,-59 121.5,-57.53 121.5,-55.73 121.5,-55.73 121.5,-26.27 121.5,-26.27 121.5,-24.47 146.15,-23 176.5,-23 206.85,-23 231.5,-24.47 231.5,-26.27 231.5,-26.27 231.5,-55.73 231.5,-55.73\"/>\n",
       "<path fill=\"none\" stroke=\"black\" d=\"M231.5,-55.73C231.5,-53.92 206.85,-52.45 176.5,-52.45 146.15,-52.45 121.5,-53.92 121.5,-55.73\"/>\n",
       "<text text-anchor=\"middle\" x=\"176.5\" y=\"-37.3\" font-family=\"Times,serif\" font-size=\"14.00\">Starting Material</text>\n",
       "</g>\n",
       "<!-- Pump 1&#45;&gt;Starting Material -->\n",
       "<g id=\"edge1\" class=\"edge\">\n",
       "<title>Pump 1&#45;&gt;Starting Material</title>\n",
       "<path fill=\"none\" stroke=\"black\" d=\"M59.15,-62.67C74.12,-59.88 93.09,-56.35 111.34,-52.95\"/>\n",
       "<polygon fill=\"black\" stroke=\"black\" points=\"112.19,-56.35 121.38,-51.08 110.91,-49.47 112.19,-56.35\"/>\n",
       "</g>\n",
       "<!-- Pump 2 -->\n",
       "<g id=\"node3\" class=\"node\">\n",
       "<title>Pump 2</title>\n",
       "<polygon fill=\"none\" stroke=\"black\" points=\"206,-167 151,-167 147,-163 147,-131 202,-131 206,-135 206,-167\"/>\n",
       "<polyline fill=\"none\" stroke=\"black\" points=\"202,-163 147,-163 \"/>\n",
       "<polyline fill=\"none\" stroke=\"black\" points=\"202,-163 202,-131 \"/>\n",
       "<polyline fill=\"none\" stroke=\"black\" points=\"202,-163 206,-167 \"/>\n",
       "<text text-anchor=\"middle\" x=\"176.5\" y=\"-145.3\" font-family=\"Times,serif\" font-size=\"14.00\">Pump 2</text>\n",
       "</g>\n",
       "<!-- TBSCl + DMAP -->\n",
       "<g id=\"node5\" class=\"node\">\n",
       "<title>TBSCl + DMAP</title>\n",
       "<path fill=\"none\" stroke=\"black\" d=\"M504.5,-163.73C504.5,-165.53 479.85,-167 449.5,-167 419.15,-167 394.5,-165.53 394.5,-163.73 394.5,-163.73 394.5,-134.27 394.5,-134.27 394.5,-132.47 419.15,-131 449.5,-131 479.85,-131 504.5,-132.47 504.5,-134.27 504.5,-134.27 504.5,-163.73 504.5,-163.73\"/>\n",
       "<path fill=\"none\" stroke=\"black\" d=\"M504.5,-163.73C504.5,-161.92 479.85,-160.45 449.5,-160.45 419.15,-160.45 394.5,-161.92 394.5,-163.73\"/>\n",
       "<text text-anchor=\"middle\" x=\"449.5\" y=\"-145.3\" font-family=\"Times,serif\" font-size=\"14.00\">TBSCl + DMAP</text>\n",
       "</g>\n",
       "<!-- Pump 2&#45;&gt;TBSCl + DMAP -->\n",
       "<g id=\"edge6\" class=\"edge\">\n",
       "<title>Pump 2&#45;&gt;TBSCl + DMAP</title>\n",
       "<path fill=\"none\" stroke=\"black\" d=\"M206.25,-149C248.31,-149 327.75,-149 384.18,-149\"/>\n",
       "<polygon fill=\"black\" stroke=\"black\" points=\"384.44,-152.5 394.44,-149 384.44,-145.5 384.44,-152.5\"/>\n",
       "</g>\n",
       "<!-- Starting Material&#45;&gt;Tube of length 16 foot, ID 0.062 inch, OD 0.125 inch -->\n",
       "<g id=\"edge3\" class=\"edge\">\n",
       "<title>Starting Material&#45;&gt;Tube of length 16 foot, ID 0.062 inch, OD 0.125 inch</title>\n",
       "<path fill=\"none\" stroke=\"black\" d=\"M231.69,-51.8C265.01,-58.44 308.74,-67.15 348.19,-75.01\"/>\n",
       "<polygon fill=\"black\" stroke=\"black\" points=\"347.63,-78.47 358.12,-76.99 349,-71.6 347.63,-78.47\"/>\n",
       "</g>\n",
       "<!-- Tube of length 64 foot, ID 0.062 inch, OD 0.125 inch -->\n",
       "<g id=\"node7\" class=\"node\">\n",
       "<title>Tube of length 64 foot, ID 0.062 inch, OD 0.125 inch</title>\n",
       "<polygon fill=\"none\" stroke=\"black\" points=\"940,-134 641,-134 641,-110 940,-110 952,-122 940,-134\"/>\n",
       "<text text-anchor=\"middle\" x=\"796.5\" y=\"-118.3\" font-family=\"Times,serif\" font-size=\"14.00\">Tube of length 64 foot, ID 0.062 inch, OD 0.125 inch</text>\n",
       "</g>\n",
       "<!-- TBSCl + DMAP&#45;&gt;Tube of length 64 foot, ID 0.062 inch, OD 0.125 inch -->\n",
       "<g id=\"edge7\" class=\"edge\">\n",
       "<title>TBSCl + DMAP&#45;&gt;Tube of length 64 foot, ID 0.062 inch, OD 0.125 inch</title>\n",
       "<path fill=\"none\" stroke=\"black\" d=\"M504.79,-144.75C539.08,-142.07 585.39,-138.44 630.96,-134.88\"/>\n",
       "<polygon fill=\"black\" stroke=\"black\" points=\"631.28,-138.36 640.97,-134.09 630.73,-131.38 631.28,-138.36\"/>\n",
       "</g>\n",
       "<!-- Tube of length 16 foot, ID 0.062 inch, OD 0.125 inch&#45;&gt;Tube of length 64 foot, ID 0.062 inch, OD 0.125 inch -->\n",
       "<g id=\"edge5\" class=\"edge\">\n",
       "<title>Tube of length 16 foot, ID 0.062 inch, OD 0.125 inch&#45;&gt;Tube of length 64 foot, ID 0.062 inch, OD 0.125 inch</title>\n",
       "<path fill=\"none\" stroke=\"black\" d=\"M605.09,-107.1C613.66,-107.77 622.28,-108.44 630.89,-109.12\"/>\n",
       "<polygon fill=\"black\" stroke=\"black\" points=\"630.73,-112.62 640.97,-109.91 631.27,-105.64 630.73,-112.62\"/>\n",
       "</g>\n",
       "<!-- product -->\n",
       "<g id=\"node8\" class=\"node\">\n",
       "<title>product</title>\n",
       "<path fill=\"none\" stroke=\"black\" d=\"M1046,-136.73C1046,-138.53 1033,-140 1017,-140 1001,-140 988,-138.53 988,-136.73 988,-136.73 988,-107.27 988,-107.27 988,-105.47 1001,-104 1017,-104 1033,-104 1046,-105.47 1046,-107.27 1046,-107.27 1046,-136.73 1046,-136.73\"/>\n",
       "<path fill=\"none\" stroke=\"black\" d=\"M1046,-136.73C1046,-134.92 1033,-133.45 1017,-133.45 1001,-133.45 988,-134.92 988,-136.73\"/>\n",
       "<text text-anchor=\"middle\" x=\"1017\" y=\"-118.3\" font-family=\"Times,serif\" font-size=\"14.00\">product</text>\n",
       "</g>\n",
       "<!-- Tube of length 64 foot, ID 0.062 inch, OD 0.125 inch&#45;&gt;product -->\n",
       "<g id=\"edge8\" class=\"edge\">\n",
       "<title>Tube of length 64 foot, ID 0.062 inch, OD 0.125 inch&#45;&gt;product</title>\n",
       "<path fill=\"none\" stroke=\"black\" d=\"M952.21,-122C961.37,-122 970,-122 977.78,-122\"/>\n",
       "<polygon fill=\"black\" stroke=\"black\" points=\"977.84,-125.5 987.84,-122 977.84,-118.5 977.84,-125.5\"/>\n",
       "</g>\n",
       "</g>\n",
       "</svg>\n"
      ],
      "text/plain": [
       "<graphviz.dot.Digraph at 0x7fe8796fc940>"
      ]
     },
     "execution_count": 18,
     "metadata": {},
     "output_type": "execute_result"
    }
   ],
   "source": [
    "# apparatus \n",
    "A = mw.Apparatus(\"Deacetylation and Protection\")\n",
    "\n",
    "A.add(pump_1, reagent_vessel_1, sugar)\n",
    "A.add(pump_1, reagent_vessel_2, NaOMe)\n",
    "A.add(reagent_vessel_1, T_1, sugar)\n",
    "A.add(reagent_vessel_2, T_1, NaOMe)\n",
    "A.add(T_1, T_2, deacetylation)\n",
    "\n",
    "\n",
    "A.add(pump_2, reagent_vessel_3, TBSCl)\n",
    "A.add(reagent_vessel_3, T_2, TBSCl)\n",
    "A.add(T_2, product_vessel, protection)\n",
    "\n",
    "A.describe()\n",
    "A.visualize()"
   ]
  },
  {
   "cell_type": "markdown",
   "metadata": {},
   "source": [
    "### Protocol"
   ]
  },
  {
   "cell_type": "code",
   "execution_count": null,
   "metadata": {},
   "outputs": [],
   "source": [
    "P = mw.Protocol(A)\n",
    "\n",
    "switch = timedelta(minutes = 1)\n",
    "\n",
    "current = timedelta(seconds = 0)\n",
    "\n",
    "pump_1_initial = timedelta(minutes = 3.8)\n",
    "P.add(pump_1, start = current,\n",
    "              duration = pump_1_initial, rate = \"0.5mL/min\")\n",
    "\n",
    "current += pump_1_initial + switch\n",
    "\n",
    "deacetylation = timedelta(minutes = 7.7) \n",
    "P.add(pump_1, start = current, \n",
    "              duration = deacetylation + NaHMDS_1, rate = \"0.5mL/min\")\n",
    "\n",
    "current += deacetylation\n",
    "\n",
    "NaHMDS_1 = timedelta(minutes = 4)\n",
    "P.add(pump_2, start = current,\n",
    "              duration = NaHMDS_1, rate = \"1mL/min\")\n",
    "\n",
    "current += NaHMDS_1 + switch\n",
    "\n",
    "NaHMDS_2 = timedelta(minutes = 4) \n",
    "P.add(pump_1, start = current, \n",
    "              duration = NaHMDS_2, rate = \"0.5mL/min\")\n",
    "P.add(pump_2, start = current, \n",
    "              duration = NaHMDS_2, rate = \"1mL/min\")\n",
    "      \n",
    "current += NaHMDS_2 + switch \n",
    "\n",
    "protection_deprotonation = timedelta(minutes = 6.4)    \n",
    "P.add(pump_1, start = current, \n",
    "              duration = protection_deprotonation + BnBr_1, rate = \"0.5mL/min\")\n",
    "P.add(pump_2, start = current, \n",
    "              duration = protection_deprotonation + BnBr_1, rate = \"1mL/min\")\n",
    "\n",
    "current += \n",
    "\n",
    "print(f'TOTAL TIME: {current}')\n",
    "P.execute(confirm = True)"
   ]
  },
  {
   "cell_type": "markdown",
   "metadata": {},
   "source": [
    "### Product and Yield Information"
   ]
  },
  {
   "cell_type": "code",
   "execution_count": 8,
   "metadata": {},
   "outputs": [
    {
     "ename": "NameError",
     "evalue": "name 'molesscale' is not defined",
     "output_type": "error",
     "traceback": [
      "\u001b[0;31m---------------------------------------------------------------------------\u001b[0m",
      "\u001b[0;31mNameError\u001b[0m                                 Traceback (most recent call last)",
      "\u001b[0;32m<ipython-input-8-8711c7d303b6>\u001b[0m in \u001b[0;36m<module>\u001b[0;34m\u001b[0m\n\u001b[1;32m      4\u001b[0m \u001b[0mtheoretical_yield\u001b[0m \u001b[0;34m=\u001b[0m \u001b[0mround\u001b[0m\u001b[0;34m(\u001b[0m\u001b[0mmoles\u001b[0m \u001b[0;34m*\u001b[0m \u001b[0mproduct_molecular_weight\u001b[0m\u001b[0;34m,\u001b[0m \u001b[0mdecimals\u001b[0m \u001b[0;34m=\u001b[0m \u001b[0;36m4\u001b[0m\u001b[0;34m)\u001b[0m\u001b[0;34m\u001b[0m\u001b[0;34m\u001b[0m\u001b[0m\n\u001b[1;32m      5\u001b[0m \u001b[0;34m\u001b[0m\u001b[0m\n\u001b[0;32m----> 6\u001b[0;31m \u001b[0;32mif\u001b[0m \u001b[0mmolesscale\u001b[0m \u001b[0;34m<\u001b[0m \u001b[0;36m0.0005\u001b[0m\u001b[0;34m:\u001b[0m\u001b[0;34m\u001b[0m\u001b[0;34m\u001b[0m\u001b[0m\n\u001b[0m\u001b[1;32m      7\u001b[0m     \u001b[0mtheoretical_yield\u001b[0m \u001b[0;34m*=\u001b[0m \u001b[0;36m1000\u001b[0m\u001b[0;34m\u001b[0m\u001b[0;34m\u001b[0m\u001b[0m\n\u001b[1;32m      8\u001b[0m     \u001b[0munits\u001b[0m \u001b[0;34m=\u001b[0m \u001b[0;34m'mg'\u001b[0m\u001b[0;34m\u001b[0m\u001b[0;34m\u001b[0m\u001b[0m\n",
      "\u001b[0;31mNameError\u001b[0m: name 'molesscale' is not defined"
     ]
    }
   ],
   "source": [
    "product = \"TBS protected rhamnal\"\n",
    "product_molecular_weight = 244.41\n",
    "\n",
    "theoretical_yield = round(moles * product_molecular_weight, decimals = 4)\n",
    "\n",
    "if molesscale < 0.0005:\n",
    "    theoretical_yield *= 1000\n",
    "    units = 'mg'\n",
    "else:\n",
    "    units = 'g'\n",
    "\n",
    "print(product + \"; molecular weight: \", product_molecular_weight)\n",
    "\n",
    "print(\"Theoretical Yield:\", theoretical_yield, units)\n",
    "\n",
    "actual_yield = float(input(f\"Enter mass of product in {units}: \"))\n",
    "print(\"Actual Yield:\", actual_yield, units)\n",
    "\n",
    "percent_yield = round((actual_yield / theoretical_yield) * 100, decimals = 1)\n",
    "print(\"Percent Yield:\", percent_yield, \"%\")"
   ]
  }
 ],
 "metadata": {
  "kernelspec": {
   "display_name": "Python 3",
   "language": "python",
   "name": "python3"
  },
  "language_info": {
   "codemirror_mode": {
    "name": "ipython",
    "version": 3
   },
   "file_extension": ".py",
   "mimetype": "text/x-python",
   "name": "python",
   "nbconvert_exporter": "python",
   "pygments_lexer": "ipython3",
   "version": "3.9.0"
  }
 },
 "nbformat": 4,
 "nbformat_minor": 4
}
