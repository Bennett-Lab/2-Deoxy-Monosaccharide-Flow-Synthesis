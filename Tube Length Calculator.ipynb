{
 "cells": [
  {
   "cell_type": "code",
   "execution_count": 6,
   "metadata": {},
   "outputs": [
    {
     "name": "stdout",
     "output_type": "stream",
     "text": [
      "Enter the inner diameter in inches: 0.062\n",
      "Enter the flow rate in mL/min: 8\n",
      "Enter the residence time in seconds: 600\n",
      "\n",
      "The length of the reaction tube in feet should be: 134.75ft\n"
     ]
    }
   ],
   "source": [
    "import math\n",
    "\n",
    "mL_to_inches = 16.3871\n",
    "\n",
    "def tube_length():\n",
    "    global mL_to_inches\n",
    "    \n",
    "    inner_diameter = float(input(\"Enter the inner diameter in inches: \"))\n",
    "    flow_rate = float(input(\"Enter the flow rate in mL/min: \"))\n",
    "    residence_time = float(input(\"Enter the residence time in seconds: \"))\n",
    "\n",
    "    area = math.pi * (inner_diameter / 2) ** 2\n",
    "    rt_in_minutes = residence_time / 60\n",
    "    answer = round((rt_in_minutes * flow_rate) / (area * mL_to_inches * 12), 2)\n",
    "    print(f'\\nThe length of the reaction tube in feet should be: {answer}ft')\n",
    "    \n",
    "tube_length()"
   ]
  }
 ],
 "metadata": {
  "kernelspec": {
   "display_name": "Python 3",
   "language": "python",
   "name": "python3"
  },
  "language_info": {
   "codemirror_mode": {
    "name": "ipython",
    "version": 3
   },
   "file_extension": ".py",
   "mimetype": "text/x-python",
   "name": "python",
   "nbconvert_exporter": "python",
   "pygments_lexer": "ipython3",
   "version": "3.9.0"
  }
 },
 "nbformat": 4,
 "nbformat_minor": 5
}
