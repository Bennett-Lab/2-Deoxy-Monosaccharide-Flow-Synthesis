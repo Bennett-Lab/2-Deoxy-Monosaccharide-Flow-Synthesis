{
 "cells": [
  {
   "cell_type": "markdown",
   "metadata": {},
   "source": [
    "## Notebook Page"
   ]
  },
  {
   "cell_type": "code",
   "execution_count": 1,
   "metadata": {},
   "outputs": [],
   "source": [
    "import mechwolf as mw\n",
    "import graphviz\n",
    "import math\n",
    "from datetime import timedelta\n",
    "from astropy.table import QTable, Table, Column\n",
    "from sigfig import round\n",
    "import json"
   ]
  },
  {
   "cell_type": "code",
   "execution_count": 14,
   "metadata": {},
   "outputs": [],
   "source": [
    "with open('olivose_reagents.json') as f:\n",
    "    data = json.load(f)"
   ]
  },
  {
   "cell_type": "markdown",
   "metadata": {},
   "source": [
    "### Reagents"
   ]
  },
  {
   "cell_type": "code",
   "execution_count": 15,
   "metadata": {},
   "outputs": [
    {
     "name": "stdout",
     "output_type": "stream",
     "text": [
      "The limiting reagent is C-4 Benzylated Rhamnal\n",
      "\n",
      "Moles: 0.003587122231190028\n"
     ]
    }
   ],
   "source": [
    "print(f\"The limiting reagent is {data['limiting reagent']}\")\n",
    "mw_limiting = 334.53\n",
    "\n",
    "try:\n",
    "    mass_scale = float(data['mass scale'])\n",
    "except:\n",
    "    print('Invalid input: numerical values only')\n",
    "\n",
    "moles = mass_scale / mw_limiting\n",
    "\n",
    "print(f'\\nMoles: {moles}')"
   ]
  },
  {
   "cell_type": "code",
   "execution_count": 16,
   "metadata": {},
   "outputs": [
    {
     "name": "stdout",
     "output_type": "stream",
     "text": [
      "\n",
      "Volume: 5.9785370519833805 mL\n"
     ]
    }
   ],
   "source": [
    "try:\n",
    "    concentration = float(data['concentration'])\n",
    "except:\n",
    "    print('Invalid input: numerical values only')\n",
    "    \n",
    "volume = (moles * 1000) / concentration\n",
    "\n",
    "print(f'\\nVolume: {volume} mL')"
   ]
  },
  {
   "cell_type": "code",
   "execution_count": 17,
   "metadata": {},
   "outputs": [],
   "source": [
    "class Reagent:\n",
    "    \n",
    "    def __init__(self, reagent):\n",
    "        assert 'name' in reagent, 'ERROR: one of the reagents does not have a name field'\n",
    "        assert 'inChi' in reagent, f'Error: {reagent[\"name\"]} does not have an inChi field'\n",
    "        assert 'inChi Key' in reagent, f'Error: {reagent[\"name\"]} does not have an inChi key field'\n",
    "        assert 'molecular weight' in reagent, f'Error: {reagent[\"name\"]} does not have a molecular weight field'\n",
    "        assert 'eq' in reagent, f'Error: {reagent[\"name\"]} does not have an eq field'\n",
    "        assert 'syringe' in reagent, f'Error: {reagent[\"name\"]} does not have an syringe # field'\n",
    "        \n",
    "        self.name = reagent['name']\n",
    "        self.inChi = reagent['inChi']\n",
    "        self.mol_weight = reagent['molecular weight']\n",
    "        self.eq = reagent['eq']\n",
    "        self.syringe = reagent['syringe']\n",
    "        self.moles = round(moles * self.eq, decimals = 4)\n",
    "        self.mass = round(self.moles * self.mol_weight, decimals = 4)\n",
    "        \n",
    "    def __str__(self):\n",
    "        return f\"{self.name}\"\n",
    "    \n",
    "class Solid(Reagent):\n",
    "    \n",
    "    def __init__(self, reagent):\n",
    "        super().__init__(reagent)\n",
    "\n",
    "class Liquid(Reagent):\n",
    "    \n",
    "    def __init__(self, reagent):\n",
    "        super().__init__(reagent)\n",
    "        \n",
    "        assert 'density' in reagent, f'Error: {reagent[\"name\"]} does not have a density field'\n",
    "        self.density = reagent['density']\n",
    "        self.volume = round(self.eq * moles * (self.mol_weight / self.density), decimals = 4)\n",
    "        \n",
    "reagent_list = []\n",
    "for solid in data['solid reagents']:\n",
    "    reagent_list.append(Solid(solid))\n",
    "    \n",
    "for liquid in data['liquid reagents']:\n",
    "    reagent_list.append(Liquid(liquid))"
   ]
  },
  {
   "cell_type": "markdown",
   "metadata": {},
   "source": [
    "## Stoichiometry Table\n",
    "\n",
    "### Reagent Table"
   ]
  },
  {
   "cell_type": "code",
   "execution_count": 18,
   "metadata": {
    "scrolled": true
   },
   "outputs": [
    {
     "name": "stdout",
     "output_type": "stream",
     "text": [
      "       Reagent         Molecular Weight (g/mol)  mol   Mass (g) Volume (mL) Density (g/mL)  eq \n",
      "---------------------- ------------------------ ------ -------- ----------- -------------- ----\n",
      "    Benzylated Rhamnal                   334.53 0.0036   1.2043         N/A            N/A  1.0\n",
      "Triphenylphosphine HBr                    340.2 0.0029   0.9866         N/A            N/A  0.8\n",
      "                   H2O                    18.02 0.1794   3.2328       3.232            1.0 50.0\n",
      "\n",
      "Solvent: THF\n"
     ]
    }
   ],
   "source": [
    "reagent_table = QTable()\n",
    "reagent_table['Reagent'] = [reagent.name for reagent in reagent_list]\n",
    "reagent_table['Molecular Weight (g/mol)'] = [reagent.mol_weight for reagent in reagent_list]\n",
    "\n",
    "if moles < 0.0005:\n",
    "    reagent_table['mmol'] = [reagent.moles * 1000 for reagent in reagent_list]\n",
    "    reagent_table['Mass (mg)'] = [round(reagent.mass * 1000, decimals = 4) for reagent in reagent_list]\n",
    "else:\n",
    "    reagent_table['mol'] = [reagent.moles for reagent in reagent_list]\n",
    "    reagent_table['Mass (g)'] = [round(reagent.mass, decimals = 4) for reagent in reagent_list]\n",
    "\n",
    "reagent_table['Volume (mL)'] = [reagent.volume if hasattr(reagent, 'volume') else \"N/A\" for reagent in reagent_list]\n",
    "reagent_table['Density (g/mL)'] = [reagent.density if hasattr(reagent, 'density') else \"N/A\" for reagent in reagent_list]\n",
    "reagent_table['eq'] = [reagent.eq for reagent in reagent_list]\n",
    "\n",
    "reagent_table.pprint(max_lines=-1, max_width=-1)\n",
    "\n",
    "print(f'\\nSolvent: {data[\"solvent\"]}')"
   ]
  },
  {
   "cell_type": "markdown",
   "metadata": {},
   "source": [
    "### Syringe Table"
   ]
  },
  {
   "cell_type": "code",
   "execution_count": 19,
   "metadata": {},
   "outputs": [
    {
     "name": "stdout",
     "output_type": "stream",
     "text": [
      "Syringe        Reagent         Solvent Volume\n",
      "------- ---------------------- --------------\n",
      "      1     Benzylated Rhamnal            6.0\n",
      "      2 Triphenylphosphine HBr            6.0\n",
      "      3                    H2O            8.8\n"
     ]
    }
   ],
   "source": [
    "def get_syringe_reagents(reagents, syr_max):\n",
    "    \n",
    "    def get_reagents_for_syringe_number(syr_num):\n",
    "        reagent_for_syringe_num = \"\"\n",
    "        for reagent in reagents:\n",
    "            if reagent.syringe == syr_num:\n",
    "                reagent_for_syringe_num += f'{reagent.name}, '\n",
    "                \n",
    "        return reagent_for_syringe_num[:-2]\n",
    "                \n",
    "    return list(map(get_reagents_for_syringe_number, range(1, syr_max)))\n",
    "\n",
    "syringe_table = QTable()\n",
    "syringe_max = max([reagent.syringe for reagent in reagent_list]) + 1\n",
    "syringe_table['Syringe'] = list(range(1, syringe_max))\n",
    "syringe_table['Reagent'] = get_syringe_reagents(reagent_list, syringe_max)\n",
    "syringe_table['Solvent Volume'] = data['solvent volume']\n",
    "\n",
    "syringe_table.pprint(max_lines=-1, max_width=-1)"
   ]
  },
  {
   "cell_type": "markdown",
   "metadata": {},
   "source": [
    "### Pumps"
   ]
  },
  {
   "cell_type": "code",
   "execution_count": 23,
   "metadata": {},
   "outputs": [],
   "source": [
    "import time\n",
    "import asyncio\n",
    "from loguru import logger\n",
    "from mechwolf import _ureg, Pump\n",
    "\n",
    "class HarvardSyringePump(Pump):\n",
    "    def __init__(self, syringe_volume, syringe_diameter, serial_port, name = None):\n",
    "        super().__init__(name = name)\n",
    "        self.serial_port = serial_port\n",
    "        self.syringe_volume = _ureg.parse_expression(syringe_volume)\n",
    "        self.syringe_diameter = _ureg.parse_expression(syringe_diameter)\n",
    "        \n",
    "    def __enter__(self):\n",
    "        import aioserial\n",
    "\n",
    "        self._ser = aioserial.AioSerial(\n",
    "            self.serial_port,\n",
    "            115200,\n",
    "            parity = aioserial.PARITY_NONE,\n",
    "            stopbits = 1,\n",
    "            timeout = 1,\n",
    "            write_timeout = 1,)\n",
    "        syringe_volume_ml = self.syringe_volume.to(_ureg.ml).magnitude \n",
    "        syringe_diameter_mm = self.syringe_diameter.to(_ureg.mm).magnitude\n",
    "        self._ser.write(f'svolume {syringe_volume_ml} ml\\r'.encode())\n",
    "        self._ser.write(f'diameter {syringe_diameter_mm}\\r'.encode())\n",
    "\n",
    "        return self\n",
    "    \n",
    "    def __exit__(self, exc_type, exc_value, traceback):\n",
    "        self.rate = _ureg.parse_expression(\"0 mL/min\")\n",
    "        self._ser.write(b'stop\\r') \n",
    "        \n",
    "        del self._ser\n",
    "\n",
    "    async def _update(self):\n",
    "        rate_mlmin = self.rate.to(_ureg.ml / _ureg.min).magnitude\n",
    "        if rate_mlmin == 0:\n",
    "            self._ser.write(b'stop\\r') \n",
    "        else:\n",
    "            self._ser.write(f'irate {rate_mlmin} m/m\\r'.encode())\n",
    "            self._ser.write(b'irun\\r')"
   ]
  },
  {
   "cell_type": "code",
   "execution_count": 25,
   "metadata": {},
   "outputs": [],
   "source": [
    "pump_1 = HarvardSyringePump(\"24mL\", \"20.05mm\", serial_port = '/dev/tty.usbmodemD4038611', name = \"Pump 1\")\n",
    "pump_2 = HarvardSyringePump(\"24mL\", \"20.05mm\", serial_port = '/dev/tty.usbmodemD4038611', name = \"Pump 2\")"
   ]
  },
  {
   "cell_type": "markdown",
   "metadata": {},
   "source": [
    "### Syringe, Tubing, and Mixer Information"
   ]
  },
  {
   "cell_type": "code",
   "execution_count": 28,
   "metadata": {},
   "outputs": [],
   "source": [
    "#reagent vessels\n",
    "reagent_vessel_1 = mw.Vessel(\"Benzylated Rhamnal\", name = \"Starting Material\")\n",
    "reagent_vessel_2 = mw.Vessel(\"Triphenylphosphine\", name = \"PPh3\")\n",
    "reagent_vessel_3 = mw.Vessel(\"Water\", name = \"Water\")\n",
    "product_vessel = mw.Vessel(\"L-olivose\", name = \"Product\")\n",
    "\n",
    "#tubing\n",
    "def big_tube(length):\n",
    "    return mw.Tube(length = length, ID = \"0.062 in\", OD = \"1/8 in\", material = \"PFA\")\n",
    "\n",
    "sugar = big_tube(length = \"1 foot\")\n",
    "triphenylphosphine = big_tube(length = \"1 foot\")\n",
    "activation = big_tube(length = \"1.68 foot\")\n",
    "water = big_tube(length = \"1 foot\")\n",
    "hydration = big_tube(length = \"50 foot\")\n",
    "\n",
    "#mixers\n",
    "def Tmixer(name):\n",
    "    return mw.TMixer(name = f'{name} Mixer')\n",
    "\n",
    "T_1 = Tmixer(\"Activation\")\n",
    "T_2 = Tmixer(\"Hydration\")"
   ]
  },
  {
   "cell_type": "markdown",
   "metadata": {},
   "source": [
    "### Apparatus "
   ]
  },
  {
   "cell_type": "code",
   "execution_count": 29,
   "metadata": {},
   "outputs": [
    {
     "data": {
      "image/svg+xml": [
       "<?xml version=\"1.0\" encoding=\"UTF-8\" standalone=\"no\"?>\n",
       "<!DOCTYPE svg PUBLIC \"-//W3C//DTD SVG 1.1//EN\"\n",
       " \"http://www.w3.org/Graphics/SVG/1.1/DTD/svg11.dtd\">\n",
       "<!-- Generated by graphviz version 2.47.1 (20210417.1919)\n",
       " -->\n",
       "<!-- Title: Hydration Pages: 1 -->\n",
       "<svg width=\"600pt\" height=\"175pt\"\n",
       " viewBox=\"0.00 0.00 600.00 175.00\" xmlns=\"http://www.w3.org/2000/svg\" xmlns:xlink=\"http://www.w3.org/1999/xlink\">\n",
       "<g id=\"graph0\" class=\"graph\" transform=\"scale(1 1) rotate(0) translate(4 171)\">\n",
       "<title>Hydration</title>\n",
       "<polygon fill=\"white\" stroke=\"transparent\" points=\"-4,4 -4,-171 596,-171 596,4 -4,4\"/>\n",
       "<text text-anchor=\"middle\" x=\"296\" y=\"-7.8\" font-family=\"Times,serif\" font-size=\"14.00\">Hydration</text>\n",
       "<!-- Activation Mixer -->\n",
       "<g id=\"node1\" class=\"node\">\n",
       "<title>Activation Mixer</title>\n",
       "<polygon fill=\"none\" stroke=\"black\" points=\"340,-107 241,-107 241,-83 340,-83 352,-95 340,-107\"/>\n",
       "<text text-anchor=\"middle\" x=\"296.5\" y=\"-91.3\" font-family=\"Times,serif\" font-size=\"14.00\">Activation Mixer</text>\n",
       "</g>\n",
       "<!-- Hydration Mixer -->\n",
       "<g id=\"node2\" class=\"node\">\n",
       "<title>Hydration Mixer</title>\n",
       "<polygon fill=\"none\" stroke=\"black\" points=\"485,-134 388,-134 388,-110 485,-110 497,-122 485,-134\"/>\n",
       "<text text-anchor=\"middle\" x=\"442.5\" y=\"-118.3\" font-family=\"Times,serif\" font-size=\"14.00\">Hydration Mixer</text>\n",
       "</g>\n",
       "<!-- Activation Mixer&#45;&gt;Hydration Mixer -->\n",
       "<g id=\"edge5\" class=\"edge\">\n",
       "<title>Activation Mixer&#45;&gt;Hydration Mixer</title>\n",
       "<path fill=\"none\" stroke=\"black\" d=\"M352.35,-105.28C360.69,-106.85 369.36,-108.47 377.87,-110.07\"/>\n",
       "<polygon fill=\"black\" stroke=\"black\" points=\"377.28,-113.52 387.75,-111.92 378.57,-106.64 377.28,-113.52\"/>\n",
       "</g>\n",
       "<!-- Product -->\n",
       "<g id=\"node4\" class=\"node\">\n",
       "<title>Product</title>\n",
       "<path fill=\"none\" stroke=\"black\" d=\"M592,-136.73C592,-138.53 578.78,-140 562.5,-140 546.22,-140 533,-138.53 533,-136.73 533,-136.73 533,-107.27 533,-107.27 533,-105.47 546.22,-104 562.5,-104 578.78,-104 592,-105.47 592,-107.27 592,-107.27 592,-136.73 592,-136.73\"/>\n",
       "<path fill=\"none\" stroke=\"black\" d=\"M592,-136.73C592,-134.92 578.78,-133.45 562.5,-133.45 546.22,-133.45 533,-134.92 533,-136.73\"/>\n",
       "<text text-anchor=\"middle\" x=\"562.5\" y=\"-118.3\" font-family=\"Times,serif\" font-size=\"14.00\">Product</text>\n",
       "</g>\n",
       "<!-- Hydration Mixer&#45;&gt;Product -->\n",
       "<g id=\"edge8\" class=\"edge\">\n",
       "<title>Hydration Mixer&#45;&gt;Product</title>\n",
       "<path fill=\"none\" stroke=\"black\" d=\"M497.32,-122C505.86,-122 514.54,-122 522.65,-122\"/>\n",
       "<polygon fill=\"black\" stroke=\"black\" points=\"522.91,-125.5 532.91,-122 522.91,-118.5 522.91,-125.5\"/>\n",
       "</g>\n",
       "<!-- PPh3 -->\n",
       "<g id=\"node3\" class=\"node\">\n",
       "<title>PPh3</title>\n",
       "<path fill=\"none\" stroke=\"black\" d=\"M177,-109.73C177,-111.53 164.9,-113 150,-113 135.1,-113 123,-111.53 123,-109.73 123,-109.73 123,-80.27 123,-80.27 123,-78.47 135.1,-77 150,-77 164.9,-77 177,-78.47 177,-80.27 177,-80.27 177,-109.73 177,-109.73\"/>\n",
       "<path fill=\"none\" stroke=\"black\" d=\"M177,-109.73C177,-107.92 164.9,-106.45 150,-106.45 135.1,-106.45 123,-107.92 123,-109.73\"/>\n",
       "<text text-anchor=\"middle\" x=\"150\" y=\"-91.3\" font-family=\"Times,serif\" font-size=\"14.00\">PPh3</text>\n",
       "</g>\n",
       "<!-- PPh3&#45;&gt;Activation Mixer -->\n",
       "<g id=\"edge4\" class=\"edge\">\n",
       "<title>PPh3&#45;&gt;Activation Mixer</title>\n",
       "<path fill=\"none\" stroke=\"black\" d=\"M177.17,-95C192.2,-95 211.79,-95 230.7,-95\"/>\n",
       "<polygon fill=\"black\" stroke=\"black\" points=\"230.8,-98.5 240.8,-95 230.8,-91.5 230.8,-98.5\"/>\n",
       "</g>\n",
       "<!-- Pump 1 -->\n",
       "<g id=\"node5\" class=\"node\">\n",
       "<title>Pump 1</title>\n",
       "<polygon fill=\"none\" stroke=\"black\" points=\"59,-86 4,-86 0,-82 0,-50 55,-50 59,-54 59,-86\"/>\n",
       "<polyline fill=\"none\" stroke=\"black\" points=\"55,-82 0,-82 \"/>\n",
       "<polyline fill=\"none\" stroke=\"black\" points=\"55,-82 55,-50 \"/>\n",
       "<polyline fill=\"none\" stroke=\"black\" points=\"55,-82 59,-86 \"/>\n",
       "<text text-anchor=\"middle\" x=\"29.5\" y=\"-64.3\" font-family=\"Times,serif\" font-size=\"14.00\">Pump 1</text>\n",
       "</g>\n",
       "<!-- Pump 1&#45;&gt;PPh3 -->\n",
       "<g id=\"edge2\" class=\"edge\">\n",
       "<title>Pump 1&#45;&gt;PPh3</title>\n",
       "<path fill=\"none\" stroke=\"black\" d=\"M59.19,-74.54C75.18,-78.18 95.27,-82.76 112.39,-86.66\"/>\n",
       "<polygon fill=\"black\" stroke=\"black\" points=\"112.08,-90.18 122.6,-88.99 113.63,-83.35 112.08,-90.18\"/>\n",
       "</g>\n",
       "<!-- Starting Material -->\n",
       "<g id=\"node7\" class=\"node\">\n",
       "<title>Starting Material</title>\n",
       "<path fill=\"none\" stroke=\"black\" d=\"M205,-55.73C205,-57.53 180.35,-59 150,-59 119.65,-59 95,-57.53 95,-55.73 95,-55.73 95,-26.27 95,-26.27 95,-24.47 119.65,-23 150,-23 180.35,-23 205,-24.47 205,-26.27 205,-26.27 205,-55.73 205,-55.73\"/>\n",
       "<path fill=\"none\" stroke=\"black\" d=\"M205,-55.73C205,-53.92 180.35,-52.45 150,-52.45 119.65,-52.45 95,-53.92 95,-55.73\"/>\n",
       "<text text-anchor=\"middle\" x=\"150\" y=\"-37.3\" font-family=\"Times,serif\" font-size=\"14.00\">Starting Material</text>\n",
       "</g>\n",
       "<!-- Pump 1&#45;&gt;Starting Material -->\n",
       "<g id=\"edge1\" class=\"edge\">\n",
       "<title>Pump 1&#45;&gt;Starting Material</title>\n",
       "<path fill=\"none\" stroke=\"black\" d=\"M59.19,-61.46C67.03,-59.68 75.86,-57.66 84.85,-55.62\"/>\n",
       "<polygon fill=\"black\" stroke=\"black\" points=\"85.64,-59.03 94.62,-53.39 84.09,-52.2 85.64,-59.03\"/>\n",
       "</g>\n",
       "<!-- Pump 2 -->\n",
       "<g id=\"node6\" class=\"node\">\n",
       "<title>Pump 2</title>\n",
       "<polygon fill=\"none\" stroke=\"black\" points=\"179.5,-167 124.5,-167 120.5,-163 120.5,-131 175.5,-131 179.5,-135 179.5,-167\"/>\n",
       "<polyline fill=\"none\" stroke=\"black\" points=\"175.5,-163 120.5,-163 \"/>\n",
       "<polyline fill=\"none\" stroke=\"black\" points=\"175.5,-163 175.5,-131 \"/>\n",
       "<polyline fill=\"none\" stroke=\"black\" points=\"175.5,-163 179.5,-167 \"/>\n",
       "<text text-anchor=\"middle\" x=\"150\" y=\"-145.3\" font-family=\"Times,serif\" font-size=\"14.00\">Pump 2</text>\n",
       "</g>\n",
       "<!-- Water -->\n",
       "<g id=\"node8\" class=\"node\">\n",
       "<title>Water</title>\n",
       "<path fill=\"none\" stroke=\"black\" d=\"M323.5,-163.73C323.5,-165.53 311.4,-167 296.5,-167 281.6,-167 269.5,-165.53 269.5,-163.73 269.5,-163.73 269.5,-134.27 269.5,-134.27 269.5,-132.47 281.6,-131 296.5,-131 311.4,-131 323.5,-132.47 323.5,-134.27 323.5,-134.27 323.5,-163.73 323.5,-163.73\"/>\n",
       "<path fill=\"none\" stroke=\"black\" d=\"M323.5,-163.73C323.5,-161.92 311.4,-160.45 296.5,-160.45 281.6,-160.45 269.5,-161.92 269.5,-163.73\"/>\n",
       "<text text-anchor=\"middle\" x=\"296.5\" y=\"-145.3\" font-family=\"Times,serif\" font-size=\"14.00\">Water</text>\n",
       "</g>\n",
       "<!-- Pump 2&#45;&gt;Water -->\n",
       "<g id=\"edge6\" class=\"edge\">\n",
       "<title>Pump 2&#45;&gt;Water</title>\n",
       "<path fill=\"none\" stroke=\"black\" d=\"M179.55,-149C202.43,-149 234.69,-149 259.37,-149\"/>\n",
       "<polygon fill=\"black\" stroke=\"black\" points=\"259.44,-152.5 269.44,-149 259.44,-145.5 259.44,-152.5\"/>\n",
       "</g>\n",
       "<!-- Starting Material&#45;&gt;Activation Mixer -->\n",
       "<g id=\"edge3\" class=\"edge\">\n",
       "<title>Starting Material&#45;&gt;Activation Mixer</title>\n",
       "<path fill=\"none\" stroke=\"black\" d=\"M196.72,-58.09C209.63,-62.91 223.85,-68.22 237.38,-73.28\"/>\n",
       "<polygon fill=\"black\" stroke=\"black\" points=\"236.49,-76.68 247.08,-76.91 238.94,-70.13 236.49,-76.68\"/>\n",
       "</g>\n",
       "<!-- Water&#45;&gt;Hydration Mixer -->\n",
       "<g id=\"edge7\" class=\"edge\">\n",
       "<title>Water&#45;&gt;Hydration Mixer</title>\n",
       "<path fill=\"none\" stroke=\"black\" d=\"M323.58,-144.11C338.83,-141.25 358.8,-137.51 377.96,-133.91\"/>\n",
       "<polygon fill=\"black\" stroke=\"black\" points=\"378.7,-137.34 387.88,-132.05 377.41,-130.46 378.7,-137.34\"/>\n",
       "</g>\n",
       "</g>\n",
       "</svg>\n"
      ],
      "text/plain": [
       "<graphviz.dot.Digraph at 0x7fa7128f3dc0>"
      ]
     },
     "execution_count": 29,
     "metadata": {},
     "output_type": "execute_result"
    }
   ],
   "source": [
    "# apparatus \n",
    "A = mw.Apparatus(\"Hydration\")\n",
    "\n",
    "A.add(pump_1, reagent_vessel_1, sugar)\n",
    "A.add(pump_1, reagent_vessel_2, triphenylphosphine)\n",
    "\n",
    "A.add(reagent_vessel_1, T_1, sugar)\n",
    "A.add(reagent_vessel_2, T_1, triphenylphosphine)\n",
    "A.add(T_1, T_2, activation)\n",
    "\n",
    "A.add(pump_2, reagent_vessel_3, water)\n",
    "\n",
    "A.add(reagent_vessel_3, T_2, water)\n",
    "A.add(T_2, product_vessel, hydration)\n",
    "\n",
    "A.describe()\n",
    "A.visualize()"
   ]
  },
  {
   "cell_type": "markdown",
   "metadata": {},
   "source": [
    "### Protocol"
   ]
  },
  {
   "cell_type": "code",
   "execution_count": 46,
   "metadata": {},
   "outputs": [
    {
     "name": "stdout",
     "output_type": "stream",
     "text": [
      "TOTAL TIME: 0:13:45\n"
     ]
    }
   ],
   "source": [
    "P = mw.Protocol(A)\n",
    "\n",
    "switch = timedelta(seconds = 45)\n",
    "\n",
    "current = timedelta(minutes = 0)\n",
    "PPh3 = timedelta(minutes = 2)\n",
    "H2O = timedelta(minutes = 1) \n",
    "\n",
    "P.add(pump_1, start = current,\n",
    "              duration = PPh3 + H2O, rate = \"0.5 mL/min\")\n",
    "\n",
    "current += PPh3\n",
    "\n",
    "P.add(pump_2, start = current, \n",
    "              duration = H2O, rate = \"1 mL/min\")\n",
    "\n",
    "current += H2O + switch\n",
    "\n",
    "flush = timedelta(minutes = 10)\n",
    "P.add(pump_1, start = current, \n",
    "              duration = flush, rate = \"0.5 mL/min\")\n",
    "P.add(pump_2, start = current, \n",
    "              duration = flush, rate = \"1 mL/min\")\n",
    "\n",
    "current += flush\n",
    "\n",
    "print(f'TOTAL TIME: {current}')\n",
    "# P.execute(confirm = True)"
   ]
  },
  {
   "cell_type": "markdown",
   "metadata": {},
   "source": [
    "### Product and Yield Information"
   ]
  },
  {
   "cell_type": "code",
   "execution_count": 11,
   "metadata": {},
   "outputs": [
    {
     "ename": "NameError",
     "evalue": "name 'molesscale' is not defined",
     "output_type": "error",
     "traceback": [
      "\u001b[0;31m---------------------------------------------------------------------------\u001b[0m",
      "\u001b[0;31mNameError\u001b[0m                                 Traceback (most recent call last)",
      "\u001b[0;32m<ipython-input-11-70f21423c62e>\u001b[0m in \u001b[0;36m<module>\u001b[0;34m\u001b[0m\n\u001b[1;32m      4\u001b[0m \u001b[0mtheoretical_yield\u001b[0m \u001b[0;34m=\u001b[0m \u001b[0mround\u001b[0m\u001b[0;34m(\u001b[0m\u001b[0mmoles\u001b[0m \u001b[0;34m*\u001b[0m \u001b[0mproduct_molecular_weight\u001b[0m\u001b[0;34m,\u001b[0m \u001b[0mdecimals\u001b[0m \u001b[0;34m=\u001b[0m \u001b[0;36m4\u001b[0m\u001b[0;34m)\u001b[0m\u001b[0;34m\u001b[0m\u001b[0;34m\u001b[0m\u001b[0m\n\u001b[1;32m      5\u001b[0m \u001b[0;34m\u001b[0m\u001b[0m\n\u001b[0;32m----> 6\u001b[0;31m \u001b[0;32mif\u001b[0m \u001b[0mmolesscale\u001b[0m \u001b[0;34m<\u001b[0m \u001b[0;36m0.0005\u001b[0m\u001b[0;34m:\u001b[0m\u001b[0;34m\u001b[0m\u001b[0;34m\u001b[0m\u001b[0m\n\u001b[0m\u001b[1;32m      7\u001b[0m     \u001b[0mtheoretical_yield\u001b[0m \u001b[0;34m*=\u001b[0m \u001b[0;36m1000\u001b[0m\u001b[0;34m\u001b[0m\u001b[0;34m\u001b[0m\u001b[0m\n\u001b[1;32m      8\u001b[0m     \u001b[0munits\u001b[0m \u001b[0;34m=\u001b[0m \u001b[0;34m'mg'\u001b[0m\u001b[0;34m\u001b[0m\u001b[0;34m\u001b[0m\u001b[0m\n",
      "\u001b[0;31mNameError\u001b[0m: name 'molesscale' is not defined"
     ]
    }
   ],
   "source": [
    "product = \"L-olivose\"\n",
    "product_molecular_weight = 352.55\n",
    "\n",
    "theoretical_yield = round(moles * product_molecular_weight, decimals = 4)\n",
    "\n",
    "if moles < 0.0005:\n",
    "    theoretical_yield *= 1000\n",
    "    units = 'mg'\n",
    "else:\n",
    "    units = 'g'\n",
    "\n",
    "print(product + \"; molecular weight: \", product_molecular_weight)\n",
    "\n",
    "print(\"Theoretical Yield:\", theoretical_yield, units)\n",
    "\n",
    "actual_yield = float(input(f\"Enter mass of product in {units}: \"))\n",
    "print(\"Actual Yield:\", actual_yield, units)\n",
    "\n",
    "percent_yield = round((actual_yield / theoretical_yield) * 100, decimals = 1)\n",
    "print(\"Percent Yield:\", percent_yield, \"%\")"
   ]
  }
 ],
 "metadata": {
  "kernelspec": {
   "display_name": "Python 3",
   "language": "python",
   "name": "python3"
  },
  "language_info": {
   "codemirror_mode": {
    "name": "ipython",
    "version": 3
   },
   "file_extension": ".py",
   "mimetype": "text/x-python",
   "name": "python",
   "nbconvert_exporter": "python",
   "pygments_lexer": "ipython3",
   "version": "3.9.0"
  }
 },
 "nbformat": 4,
 "nbformat_minor": 4
}
