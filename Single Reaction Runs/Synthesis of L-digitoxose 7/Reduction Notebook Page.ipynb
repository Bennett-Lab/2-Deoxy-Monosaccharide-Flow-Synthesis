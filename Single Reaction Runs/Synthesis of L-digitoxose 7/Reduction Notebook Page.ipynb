{
 "cells": [
  {
   "cell_type": "markdown",
   "metadata": {},
   "source": [
    "## Notebook Page"
   ]
  },
  {
   "cell_type": "code",
   "execution_count": 20,
   "metadata": {},
   "outputs": [],
   "source": [
    "import mechwolf as mw\n",
    "import graphviz\n",
    "import math\n",
    "from datetime import timedelta\n",
    "from astropy.table import QTable, Table, Column\n",
    "from sigfig import round\n",
    "import json"
   ]
  },
  {
   "cell_type": "code",
   "execution_count": 21,
   "metadata": {},
   "outputs": [],
   "source": [
    "with open('reduction_reagents.json') as f:\n",
    "    data = json.load(f)"
   ]
  },
  {
   "cell_type": "markdown",
   "metadata": {},
   "source": [
    "### Reagents"
   ]
  },
  {
   "cell_type": "code",
   "execution_count": 22,
   "metadata": {},
   "outputs": [
    {
     "name": "stdout",
     "output_type": "stream",
     "text": [
      "The limiting reagent is STol substituted sugar\n",
      "\n",
      "Moles: 0.0014600671630895022\n"
     ]
    }
   ],
   "source": [
    "print(f\"The limiting reagent is {data['limiting reagent']}\")\n",
    "mw_limiting = 342.45\n",
    "\n",
    "try:\n",
    "    mass_scale = float(data['mass scale'])\n",
    "except:\n",
    "    print('Invalid input: numerical values only')\n",
    "\n",
    "moles = mass_scale / mw_limiting\n",
    "\n",
    "print(f'\\nMoles: {moles}')"
   ]
  },
  {
   "cell_type": "code",
   "execution_count": 23,
   "metadata": {},
   "outputs": [
    {
     "name": "stdout",
     "output_type": "stream",
     "text": [
      "\n",
      "Volume: 2.433445271815837 mL\n"
     ]
    }
   ],
   "source": [
    "try:\n",
    "    concentration = float(data['concentration'])\n",
    "except:\n",
    "    print('Invalid input: numerical values only')\n",
    "    \n",
    "volume = (moles * 1000) / concentration\n",
    "\n",
    "print(f'\\nVolume: {volume} mL')"
   ]
  },
  {
   "cell_type": "code",
   "execution_count": 24,
   "metadata": {},
   "outputs": [],
   "source": [
    "class Reagent:\n",
    "    \n",
    "    def __init__(self, reagent):\n",
    "        assert 'name' in reagent, 'ERROR: one of the reagents does not have a name field'\n",
    "        assert 'inChi' in reagent, f'Error: {reagent[\"name\"]} does not have an inChi field'\n",
    "        assert 'inChi Key' in reagent, f'Error: {reagent[\"name\"]} does not have an inChi key field'\n",
    "        assert 'molecular weight' in reagent, f'Error: {reagent[\"name\"]} does not have a molecular weight field'\n",
    "        assert 'eq' in reagent, f'Error: {reagent[\"name\"]} does not have an eq field'\n",
    "        assert 'syringe' in reagent, f'Error: {reagent[\"name\"]} does not have an syringe # field'\n",
    "        \n",
    "        self.name = reagent['name']\n",
    "        self.inChi = reagent['inChi']\n",
    "        self.mol_weight = reagent['molecular weight']\n",
    "        self.eq = reagent['eq']\n",
    "        self.syringe = reagent['syringe']\n",
    "        self.moles = round(moles * self.eq, decimals = 4)\n",
    "        self.mass = round(self.moles * self.mol_weight, decimals = 4)\n",
    "        \n",
    "    def __str__(self):\n",
    "        return f\"{self.name}\"\n",
    "    \n",
    "class Solid(Reagent):\n",
    "    \n",
    "    def __init__(self, reagent):\n",
    "        super().__init__(reagent)\n",
    "\n",
    "class Liquid(Reagent):\n",
    "    \n",
    "    def __init__(self, reagent):\n",
    "        super().__init__(reagent)\n",
    "        \n",
    "        assert 'density' in reagent, f'Error: {reagent[\"name\"]} does not have a density field'\n",
    "        self.density = reagent['density']\n",
    "        self.volume = round(self.eq * moles * (self.mol_weight / self.density), decimals = 4)\n",
    "        \n",
    "reagent_list = []\n",
    "for solid in data['solid reagents']:\n",
    "    reagent_list.append(Solid(solid))\n",
    "    \n",
    "for liquid in data['liquid reagents']:\n",
    "    reagent_list.append(Liquid(liquid))"
   ]
  },
  {
   "cell_type": "markdown",
   "metadata": {},
   "source": [
    "## Stoichiometry Table\n",
    "\n",
    "### Reagent Table"
   ]
  },
  {
   "cell_type": "code",
   "execution_count": 25,
   "metadata": {
    "scrolled": true
   },
   "outputs": [
    {
     "name": "stdout",
     "output_type": "stream",
     "text": [
      "     Reagent       Molecular Weight (g/mol)  mol   Mass (g) Volume (mL) Density (g/mL)  eq\n",
      "------------------ ------------------------ ------ -------- ----------- -------------- ---\n",
      "        STol sugar                   342.45 0.0015   0.5137         N/A            N/A 1.0\n",
      "Sodium Borohydride                    37.83 0.0029   0.1097         N/A            N/A 2.0\n",
      "\n",
      "Solvent: MeOH\n"
     ]
    }
   ],
   "source": [
    "reagent_table = QTable()\n",
    "reagent_table['Reagent'] = [reagent.name for reagent in reagent_list]\n",
    "reagent_table['Molecular Weight (g/mol)'] = [reagent.mol_weight for reagent in reagent_list]\n",
    "\n",
    "if moles < 0.0005:\n",
    "    reagent_table['mmol'] = [reagent.moles * 1000 for reagent in reagent_list]\n",
    "    reagent_table['Mass (mg)'] = [round(reagent.mass * 1000, decimals = 4) for reagent in reagent_list]\n",
    "else:\n",
    "    reagent_table['mol'] = [reagent.moles for reagent in reagent_list]\n",
    "    reagent_table['Mass (g)'] = [round(reagent.mass, decimals = 4) for reagent in reagent_list]\n",
    "\n",
    "reagent_table['Volume (mL)'] = [reagent.volume if hasattr(reagent, 'volume') else \"N/A\" for reagent in reagent_list]\n",
    "reagent_table['Density (g/mL)'] = [reagent.density if hasattr(reagent, 'density') else \"N/A\" for reagent in reagent_list]\n",
    "reagent_table['eq'] = [reagent.eq for reagent in reagent_list]\n",
    "\n",
    "reagent_table.pprint(max_lines=-1, max_width=-1)\n",
    "\n",
    "print(f'\\nSolvent: {data[\"solvent\"]}')"
   ]
  },
  {
   "cell_type": "markdown",
   "metadata": {},
   "source": [
    "### Syringe Table"
   ]
  },
  {
   "cell_type": "code",
   "execution_count": 26,
   "metadata": {},
   "outputs": [
    {
     "name": "stdout",
     "output_type": "stream",
     "text": [
      "Syringe      Reagent       Solvent Volume\n",
      "------- ------------------ --------------\n",
      "      1         STol sugar            2.4\n",
      "      2 Sodium Borohydride            2.4\n"
     ]
    }
   ],
   "source": [
    "def get_syringe_reagents(reagents, syr_max):\n",
    "    \n",
    "    def get_reagents_for_syringe_number(syr_num):\n",
    "        reagent_for_syringe_num = \"\"\n",
    "        for reagent in reagents:\n",
    "            if reagent.syringe == syr_num:\n",
    "                reagent_for_syringe_num += f'{reagent.name}, '\n",
    "                \n",
    "        return reagent_for_syringe_num[:-2]\n",
    "                \n",
    "    return list(map(get_reagents_for_syringe_number, range(1, syr_max)))\n",
    "\n",
    "syringe_table = QTable()\n",
    "syringe_max = max([reagent.syringe for reagent in reagent_list]) + 1\n",
    "syringe_table['Syringe'] = list(range(1, syringe_max))\n",
    "syringe_table['Reagent'] = get_syringe_reagents(reagent_list, syringe_max)\n",
    "syringe_table['Solvent Volume'] = data['solvent volume']\n",
    "\n",
    "syringe_table.pprint(max_lines=-1, max_width=-1)"
   ]
  },
  {
   "cell_type": "markdown",
   "metadata": {},
   "source": [
    "### Pumps"
   ]
  },
  {
   "cell_type": "code",
   "execution_count": 27,
   "metadata": {},
   "outputs": [],
   "source": [
    "# Harvard pump code\n",
    "import time\n",
    "import asyncio\n",
    "from loguru import logger\n",
    "from mechwolf import _ureg, Pump\n",
    "\n",
    "class HarvardSyringePump(Pump):\n",
    "    def __init__(self, syringe_volume, syringe_diameter, serial_port, name=None):\n",
    "        super().__init__(name = name)\n",
    "        self.serial_port = serial_port\n",
    "        self.syringe_volume = _ureg.parse_expression(syringe_volume)\n",
    "        self.syringe_diameter = _ureg.parse_expression(syringe_diameter)\n",
    "        \n",
    "    def __enter__(self):\n",
    "        import aioserial\n",
    "\n",
    "        self._ser = aioserial.AioSerial(\n",
    "            self.serial_port,\n",
    "            115200,\n",
    "            parity = aioserial.PARITY_NONE,\n",
    "            stopbits = 1,\n",
    "            timeout = 1,\n",
    "            write_timeout = 1,)\n",
    "        syringe_volume_ml = self.syringe_volume.to(_ureg.ml).magnitude \n",
    "        syringe_diameter_mm = self.syringe_diameter.to(_ureg.mm).magnitude\n",
    "        self._ser.write(f'svolume {syringe_volume_ml} ml\\r'.encode())\n",
    "        self._ser.write(f'diameter {syringe_diameter_mm}\\r'.encode())\n",
    "\n",
    "        return self\n",
    "    \n",
    "    def __exit__(self, exc_type, exc_value, traceback):\n",
    "        self.rate = _ureg.parse_expression(\"0 mL/min\")\n",
    "        self._ser.write(b'stop\\r') \n",
    "        \n",
    "        del self._ser\n",
    "\n",
    "    async def _update(self):\n",
    "        rate_mlmin = self.rate.to(_ureg.ml / _ureg.min).magnitude\n",
    "        if rate_mlmin == 0:\n",
    "            self._ser.write(b'stop\\r') \n",
    "        else:\n",
    "            self._ser.write(f'irate {rate_mlmin} m/m\\r'.encode())\n",
    "            self._ser.write(b'irun\\r')"
   ]
  },
  {
   "cell_type": "code",
   "execution_count": 28,
   "metadata": {},
   "outputs": [],
   "source": [
    "pump_1 = HarvardSyringePump(\"24mL\", \"20.05mm\", serial_port = '/dev/tty.usbmodemD4038611', name = \"Pump 1\")"
   ]
  },
  {
   "cell_type": "markdown",
   "metadata": {},
   "source": [
    "### Syringe, Tubing, and Mixer Information"
   ]
  },
  {
   "cell_type": "code",
   "execution_count": 29,
   "metadata": {},
   "outputs": [],
   "source": [
    "#reagent vessels\n",
    "reagent_vessel_1 = mw.Vessel(\"STol sugar\", name = \"Starting Material\")\n",
    "reagent_vessel_2 = mw.Vessel(\"Sodium Borohydride\", name = \"NaBH4 in MeOH\")\n",
    "product_vessel = mw.Vessel(\"L-digitoxose\", name = \"Product\")\n",
    "\n",
    "#tubing\n",
    "def big_tube(length):\n",
    "    return mw.Tube(length = length, ID = \"0.062 in\", OD = \"1/8 in\", material = \"PFA\")\n",
    "\n",
    "sugar = big_tube(length = \"1 foot\")\n",
    "NaBH4 = big_tube(length = \"1 foot\")\n",
    "reduction = big_tube(length = \"34 foot\")\n",
    "\n",
    "#mixers\n",
    "def Tmixer(name):\n",
    "    return mw.TMixer(name = f'{name} Mixer')\n",
    "\n",
    "T_1 = Tmixer('Reduction')"
   ]
  },
  {
   "cell_type": "markdown",
   "metadata": {},
   "source": [
    "### Apparatus "
   ]
  },
  {
   "cell_type": "code",
   "execution_count": 31,
   "metadata": {},
   "outputs": [
    {
     "data": {
      "image/svg+xml": [
       "<?xml version=\"1.0\" encoding=\"UTF-8\" standalone=\"no\"?>\n",
       "<!DOCTYPE svg PUBLIC \"-//W3C//DTD SVG 1.1//EN\"\n",
       " \"http://www.w3.org/Graphics/SVG/1.1/DTD/svg11.dtd\">\n",
       "<!-- Generated by graphviz version 2.47.3 (20210619.1520)\n",
       " -->\n",
       "<!-- Title: Reduction Pages: 1 -->\n",
       "<svg width=\"464pt\" height=\"121pt\"\n",
       " viewBox=\"0.00 0.00 464.00 121.00\" xmlns=\"http://www.w3.org/2000/svg\" xmlns:xlink=\"http://www.w3.org/1999/xlink\">\n",
       "<g id=\"graph0\" class=\"graph\" transform=\"scale(1 1) rotate(0) translate(4 117)\">\n",
       "<title>Reduction</title>\n",
       "<polygon fill=\"white\" stroke=\"transparent\" points=\"-4,4 -4,-117 460,-117 460,4 -4,4\"/>\n",
       "<text text-anchor=\"middle\" x=\"228\" y=\"-7.8\" font-family=\"Times,serif\" font-size=\"14.00\">Reduction</text>\n",
       "<!-- NaBH4 in MeOH -->\n",
       "<g id=\"node1\" class=\"node\">\n",
       "<title>NaBH4 in MeOH</title>\n",
       "<path fill=\"none\" stroke=\"black\" d=\"M212,-109.73C212,-111.53 186,-113 154,-113 122,-113 96,-111.53 96,-109.73 96,-109.73 96,-80.27 96,-80.27 96,-78.47 122,-77 154,-77 186,-77 212,-78.47 212,-80.27 212,-80.27 212,-109.73 212,-109.73\"/>\n",
       "<path fill=\"none\" stroke=\"black\" d=\"M212,-109.73C212,-107.92 186,-106.45 154,-106.45 122,-106.45 96,-107.92 96,-109.73\"/>\n",
       "<text text-anchor=\"middle\" x=\"154\" y=\"-91.3\" font-family=\"Times,serif\" font-size=\"14.00\">NaBH4 in MeOH</text>\n",
       "</g>\n",
       "<!-- Reduction Mixer -->\n",
       "<g id=\"node4\" class=\"node\">\n",
       "<title>Reduction Mixer</title>\n",
       "<polygon fill=\"none\" stroke=\"black\" points=\"348,-80 248,-80 248,-56 348,-56 360,-68 348,-80\"/>\n",
       "<text text-anchor=\"middle\" x=\"304\" y=\"-64.3\" font-family=\"Times,serif\" font-size=\"14.00\">Reduction Mixer</text>\n",
       "</g>\n",
       "<!-- NaBH4 in MeOH&#45;&gt;Reduction Mixer -->\n",
       "<g id=\"edge4\" class=\"edge\">\n",
       "<title>NaBH4 in MeOH&#45;&gt;Reduction Mixer</title>\n",
       "<path fill=\"none\" stroke=\"black\" d=\"M212.22,-84.56C220.64,-83.03 229.36,-81.43 237.93,-79.87\"/>\n",
       "<polygon fill=\"black\" stroke=\"black\" points=\"238.67,-83.29 247.88,-78.06 237.41,-76.41 238.67,-83.29\"/>\n",
       "</g>\n",
       "<!-- Product -->\n",
       "<g id=\"node2\" class=\"node\">\n",
       "<title>Product</title>\n",
       "<path fill=\"none\" stroke=\"black\" d=\"M456,-82.73C456,-84.53 442.55,-86 426,-86 409.45,-86 396,-84.53 396,-82.73 396,-82.73 396,-53.27 396,-53.27 396,-51.47 409.45,-50 426,-50 442.55,-50 456,-51.47 456,-53.27 456,-53.27 456,-82.73 456,-82.73\"/>\n",
       "<path fill=\"none\" stroke=\"black\" d=\"M456,-82.73C456,-80.92 442.55,-79.45 426,-79.45 409.45,-79.45 396,-80.92 396,-82.73\"/>\n",
       "<text text-anchor=\"middle\" x=\"426\" y=\"-64.3\" font-family=\"Times,serif\" font-size=\"14.00\">Product</text>\n",
       "</g>\n",
       "<!-- Pump 1 -->\n",
       "<g id=\"node3\" class=\"node\">\n",
       "<title>Pump 1</title>\n",
       "<polygon fill=\"none\" stroke=\"black\" points=\"60,-86 4,-86 0,-82 0,-50 56,-50 60,-54 60,-86\"/>\n",
       "<polyline fill=\"none\" stroke=\"black\" points=\"56,-82 0,-82 \"/>\n",
       "<polyline fill=\"none\" stroke=\"black\" points=\"56,-82 56,-50 \"/>\n",
       "<polyline fill=\"none\" stroke=\"black\" points=\"56,-82 60,-86 \"/>\n",
       "<text text-anchor=\"middle\" x=\"30\" y=\"-64.3\" font-family=\"Times,serif\" font-size=\"14.00\">Pump 1</text>\n",
       "</g>\n",
       "<!-- Pump 1&#45;&gt;NaBH4 in MeOH -->\n",
       "<g id=\"edge2\" class=\"edge\">\n",
       "<title>Pump 1&#45;&gt;NaBH4 in MeOH</title>\n",
       "<path fill=\"none\" stroke=\"black\" d=\"M60.22,-74.47C68.09,-76.21 76.94,-78.17 85.96,-80.16\"/>\n",
       "<polygon fill=\"black\" stroke=\"black\" points=\"85.27,-83.6 95.79,-82.34 86.78,-76.76 85.27,-83.6\"/>\n",
       "</g>\n",
       "<!-- Starting Material -->\n",
       "<g id=\"node5\" class=\"node\">\n",
       "<title>Starting Material</title>\n",
       "<path fill=\"none\" stroke=\"black\" d=\"M210,-55.73C210,-57.53 184.9,-59 154,-59 123.1,-59 98,-57.53 98,-55.73 98,-55.73 98,-26.27 98,-26.27 98,-24.47 123.1,-23 154,-23 184.9,-23 210,-24.47 210,-26.27 210,-26.27 210,-55.73 210,-55.73\"/>\n",
       "<path fill=\"none\" stroke=\"black\" d=\"M210,-55.73C210,-53.92 184.9,-52.45 154,-52.45 123.1,-52.45 98,-53.92 98,-55.73\"/>\n",
       "<text text-anchor=\"middle\" x=\"154\" y=\"-37.3\" font-family=\"Times,serif\" font-size=\"14.00\">Starting Material</text>\n",
       "</g>\n",
       "<!-- Pump 1&#45;&gt;Starting Material -->\n",
       "<g id=\"edge1\" class=\"edge\">\n",
       "<title>Pump 1&#45;&gt;Starting Material</title>\n",
       "<path fill=\"none\" stroke=\"black\" d=\"M60.22,-61.53C68.59,-59.68 78.07,-57.58 87.69,-55.45\"/>\n",
       "<polygon fill=\"black\" stroke=\"black\" points=\"88.73,-58.81 97.73,-53.23 87.21,-51.97 88.73,-58.81\"/>\n",
       "</g>\n",
       "<!-- Reduction Mixer&#45;&gt;Product -->\n",
       "<g id=\"edge5\" class=\"edge\">\n",
       "<title>Reduction Mixer&#45;&gt;Product</title>\n",
       "<path fill=\"none\" stroke=\"black\" d=\"M360.08,-68C368.75,-68 377.55,-68 385.76,-68\"/>\n",
       "<polygon fill=\"black\" stroke=\"black\" points=\"385.79,-71.5 395.79,-68 385.79,-64.5 385.79,-71.5\"/>\n",
       "</g>\n",
       "<!-- Starting Material&#45;&gt;Reduction Mixer -->\n",
       "<g id=\"edge3\" class=\"edge\">\n",
       "<title>Starting Material&#45;&gt;Reduction Mixer</title>\n",
       "<path fill=\"none\" stroke=\"black\" d=\"M210.11,-51.05C219.16,-52.71 228.62,-54.43 237.89,-56.12\"/>\n",
       "<polygon fill=\"black\" stroke=\"black\" points=\"237.38,-59.59 247.84,-57.94 238.63,-52.7 237.38,-59.59\"/>\n",
       "</g>\n",
       "</g>\n",
       "</svg>\n"
      ],
      "text/plain": [
       "<graphviz.dot.Digraph at 0x129918fd0>"
      ]
     },
     "execution_count": 31,
     "metadata": {},
     "output_type": "execute_result"
    }
   ],
   "source": [
    "# apparatus \n",
    "A = mw.Apparatus(\"Reduction\")\n",
    "\n",
    "A.add(pump_1, reagent_vessel_1, sugar)\n",
    "A.add(pump_1, reagent_vessel_2, NaBH4)\n",
    "\n",
    "A.add(reagent_vessel_1, T_1, sugar)\n",
    "A.add(reagent_vessel_2, T_1, NaBH4)\n",
    "A.add(T_1, product_vessel, reduction)\n",
    "\n",
    "A.visualize()"
   ]
  },
  {
   "cell_type": "markdown",
   "metadata": {},
   "source": [
    "### Protocol"
   ]
  },
  {
   "cell_type": "code",
   "execution_count": 25,
   "metadata": {},
   "outputs": [
    {
     "name": "stdout",
     "output_type": "stream",
     "text": [
      "TOTAL TIME: 0:18:15\n"
     ]
    }
   ],
   "source": [
    "P = mw.Protocol(A)\n",
    "\n",
    "switch = timedelta(seconds = 45)\n",
    "\n",
    "current = timedelta(minutes = 0)\n",
    "\n",
    "reduction = timedelta(minutes = 2.5)\n",
    "P.add(pump_1, start = current,\n",
    "              duration = reduction, rate = \"1 mL/min\")\n",
    "\n",
    "current += reduction + switch\n",
    "\n",
    "flush = timedelta(minutes = 15) \n",
    "P.add(pump_1, start = current, \n",
    "              duration = flush, rate = \"1 mL/min\")\n",
    "\n",
    "current += flush\n",
    "\n",
    "print(f'TOTAL TIME: {current}')\n",
    "P.execute(confirm = True)"
   ]
  },
  {
   "cell_type": "markdown",
   "metadata": {},
   "source": [
    "### Product and Yield Information"
   ]
  },
  {
   "cell_type": "code",
   "execution_count": 26,
   "metadata": {},
   "outputs": [
    {
     "name": "stdout",
     "output_type": "stream",
     "text": [
      "L-digitoxose; molecular weight:  221.28\n",
      "Theoretical Yield: 0.3231 g\n",
      "Enter mass of product in g: 0.25\n",
      "Actual Yield: 0.25 g\n",
      "Percent Yield: 77.4 %\n"
     ]
    }
   ],
   "source": [
    "product = \"L-digitoxose\"\n",
    "product_molecular_weight = 221.28\n",
    "\n",
    "theoretical_yield = round(moles * product_molecular_weight, decimals = 4)\n",
    "\n",
    "if moles < 0.0005:\n",
    "    theoretical_yield *= 1000\n",
    "    units = 'mg'\n",
    "else:\n",
    "    units = 'g'\n",
    "\n",
    "print(product + \"; molecular weight: \", product_molecular_weight)\n",
    "\n",
    "print(\"Theoretical Yield:\", theoretical_yield, units)\n",
    "\n",
    "actual_yield = float(input(f\"Enter mass of product in {units}: \"))\n",
    "print(\"Actual Yield:\", actual_yield, units)\n",
    "\n",
    "percent_yield = round((actual_yield / theoretical_yield) * 100, decimals = 1)\n",
    "print(\"Percent Yield:\", percent_yield, \"%\")"
   ]
  }
 ],
 "metadata": {
  "kernelspec": {
   "display_name": "Python 3",
   "language": "python",
   "name": "python3"
  },
  "language_info": {
   "codemirror_mode": {
    "name": "ipython",
    "version": 3
   },
   "file_extension": ".py",
   "mimetype": "text/x-python",
   "name": "python",
   "nbconvert_exporter": "python",
   "pygments_lexer": "ipython3",
   "version": "3.9.6"
  }
 },
 "nbformat": 4,
 "nbformat_minor": 4
}
