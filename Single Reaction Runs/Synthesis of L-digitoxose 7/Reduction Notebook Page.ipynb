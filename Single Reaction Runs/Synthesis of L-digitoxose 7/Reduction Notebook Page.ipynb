{
 "cells": [
  {
   "cell_type": "markdown",
   "metadata": {},
   "source": [
    "## Notebook Page"
   ]
  },
  {
   "cell_type": "code",
   "execution_count": 2,
   "metadata": {},
   "outputs": [],
   "source": [
    "import mechwolf as mw\n",
    "import graphviz\n",
    "import math\n",
    "from datetime import timedelta\n",
    "from astropy.table import QTable, Table, Column\n",
    "from sigfig import round\n",
    "import json"
   ]
  },
  {
   "cell_type": "code",
   "execution_count": 3,
   "metadata": {},
   "outputs": [],
   "source": [
    "with open('reduction_reagents.json') as f:\n",
    "    data = json.load(f)"
   ]
  },
  {
   "cell_type": "markdown",
   "metadata": {},
   "source": [
    "### Reagents"
   ]
  },
  {
   "cell_type": "code",
   "execution_count": 4,
   "metadata": {},
   "outputs": [
    {
     "name": "stdout",
     "output_type": "stream",
     "text": [
      "The limiting reagent is STol substituted sugar\n",
      "\n",
      "Moles: 0.0014600671630895022\n"
     ]
    }
   ],
   "source": [
    "print(f\"The limiting reagent is {data['limiting reagent']}\")\n",
    "mw_limiting = 342.45\n",
    "\n",
    "try:\n",
    "    mass_scale = float(data['mass scale'])\n",
    "except:\n",
    "    print('Invalid input: numerical values only')\n",
    "\n",
    "moles = mass_scale / mw_limiting\n",
    "\n",
    "print(f'\\nMoles: {moles}')"
   ]
  },
  {
   "cell_type": "code",
   "execution_count": 5,
   "metadata": {},
   "outputs": [
    {
     "name": "stdout",
     "output_type": "stream",
     "text": [
      "\n",
      "Volume: 2.433445271815837 mL\n"
     ]
    }
   ],
   "source": [
    "try:\n",
    "    concentration = float(data['concentration'])\n",
    "except:\n",
    "    print('Invalid input: numerical values only')\n",
    "    \n",
    "volume = (moles * 1000) / concentration\n",
    "\n",
    "print(f'\\nVolume: {volume} mL')"
   ]
  },
  {
   "cell_type": "code",
   "execution_count": 6,
   "metadata": {},
   "outputs": [],
   "source": [
    "# TODO for Tu-Anh: do we need solvent volume for the solids\n",
    "\n",
    "class Reagent:\n",
    "    \n",
    "    def __init__(self, reagent):\n",
    "        assert 'name' in reagent, 'ERROR: one of the reagents does not have a name field'\n",
    "        assert 'inChi' in reagent, f'Error: {reagent[\"name\"]} does not have an inChi field'\n",
    "        assert 'inChi Key' in reagent, f'Error: {reagent[\"name\"]} does not have an inChi key field'\n",
    "        assert 'molecular weight' in reagent, f'Error: {reagent[\"name\"]} does not have a molecular weight field'\n",
    "        assert 'eq' in reagent, f'Error: {reagent[\"name\"]} does not have an eq field'\n",
    "        assert 'syringe' in reagent, f'Error: {reagent[\"name\"]} does not have an syringe # field'\n",
    "        \n",
    "        self.name = reagent['name']\n",
    "        self.inChi = reagent['inChi']\n",
    "        self.mol_weight = reagent['molecular weight']\n",
    "        self.eq = reagent['eq']\n",
    "        self.syringe = reagent['syringe']\n",
    "        self.moles = round(moles * self.eq, decimals = 4)\n",
    "        self.mass = round(self.moles * self.mol_weight, decimals = 4)\n",
    "        \n",
    "    def __str__(self):\n",
    "        return f\"{self.name}\"\n",
    "    \n",
    "class Solid(Reagent):\n",
    "    \n",
    "    def __init__(self, reagent):\n",
    "        super().__init__(reagent)\n",
    "\n",
    "class Liquid(Reagent):\n",
    "    \n",
    "    def __init__(self, reagent):\n",
    "        super().__init__(reagent)\n",
    "        \n",
    "        assert 'density' in reagent, f'Error: {reagent[\"name\"]} does not have a density field'\n",
    "        self.density = reagent['density']\n",
    "        self.volume = round(self.eq * moles * (self.mol_weight / self.density), decimals = 4)\n",
    "        \n",
    "reagent_list = []\n",
    "for solid in data['solid reagents']:\n",
    "    reagent_list.append(Solid(solid))\n",
    "    \n",
    "for liquid in data['liquid reagents']:\n",
    "    reagent_list.append(Liquid(liquid))"
   ]
  },
  {
   "cell_type": "markdown",
   "metadata": {},
   "source": [
    "## Stoichiometry Table\n",
    "\n",
    "### Reagent Table"
   ]
  },
  {
   "cell_type": "code",
   "execution_count": 7,
   "metadata": {
    "scrolled": true
   },
   "outputs": [
    {
     "name": "stdout",
     "output_type": "stream",
     "text": [
      "     Reagent       Molecular Weight (g/mol)  mol   Mass (g) Volume (mL) Density (g/mL)  eq\n",
      "------------------ ------------------------ ------ -------- ----------- -------------- ---\n",
      "        STol sugar                   342.45 0.0015   0.5137         N/A            N/A 1.0\n",
      "Sodium Borohydride                    37.83 0.0029   0.1097         N/A            N/A 2.0\n",
      "\n",
      "Solvent: MeOH\n"
     ]
    }
   ],
   "source": [
    "reagent_table = QTable()\n",
    "reagent_table['Reagent'] = [reagent.name for reagent in reagent_list]\n",
    "reagent_table['Molecular Weight (g/mol)'] = [reagent.mol_weight for reagent in reagent_list]\n",
    "\n",
    "if moles < 0.0005:\n",
    "    reagent_table['mmol'] = [reagent.moles * 1000 for reagent in reagent_list]\n",
    "    reagent_table['Mass (mg)'] = [round(reagent.mass * 1000, decimals = 4) for reagent in reagent_list]\n",
    "else:\n",
    "    reagent_table['mol'] = [reagent.moles for reagent in reagent_list]\n",
    "    reagent_table['Mass (g)'] = [round(reagent.mass, decimals = 4) for reagent in reagent_list]\n",
    "\n",
    "reagent_table['Volume (mL)'] = [reagent.volume if hasattr(reagent, 'volume') else \"N/A\" for reagent in reagent_list]\n",
    "reagent_table['Density (g/mL)'] = [reagent.density if hasattr(reagent, 'density') else \"N/A\" for reagent in reagent_list]\n",
    "reagent_table['eq'] = [reagent.eq for reagent in reagent_list]\n",
    "\n",
    "reagent_table.pprint(max_lines=-1, max_width=-1)\n",
    "\n",
    "print(f'\\nSolvent: {data[\"solvent\"]}')"
   ]
  },
  {
   "cell_type": "markdown",
   "metadata": {},
   "source": [
    "### Syringe Table"
   ]
  },
  {
   "cell_type": "code",
   "execution_count": 8,
   "metadata": {},
   "outputs": [
    {
     "name": "stdout",
     "output_type": "stream",
     "text": [
      "Syringe      Reagent       Solvent Volume\n",
      "------- ------------------ --------------\n",
      "      1         STol sugar            2.4\n",
      "      2 Sodium Borohydride            2.4\n"
     ]
    }
   ],
   "source": [
    "def get_syringe_reagents(reagents, syr_max):\n",
    "    \n",
    "    def get_reagents_for_syringe_number(syr_num):\n",
    "        reagent_for_syringe_num = \"\"\n",
    "        for reagent in reagents:\n",
    "            if reagent.syringe == syr_num:\n",
    "                reagent_for_syringe_num += f'{reagent.name}, '\n",
    "                \n",
    "        return reagent_for_syringe_num[:-2]\n",
    "                \n",
    "    return list(map(get_reagents_for_syringe_number, range(1, syr_max)))\n",
    "\n",
    "syringe_table = QTable()\n",
    "syringe_max = max([reagent.syringe for reagent in reagent_list]) + 1\n",
    "syringe_table['Syringe'] = list(range(1, syringe_max))\n",
    "syringe_table['Reagent'] = get_syringe_reagents(reagent_list, syringe_max)\n",
    "syringe_table['Solvent Volume'] = data['solvent volume']\n",
    "\n",
    "syringe_table.pprint(max_lines=-1, max_width=-1)"
   ]
  },
  {
   "cell_type": "markdown",
   "metadata": {},
   "source": [
    "### Pumps"
   ]
  },
  {
   "cell_type": "code",
   "execution_count": 19,
   "metadata": {},
   "outputs": [],
   "source": [
    "# Harvard pump code\n",
    "import time\n",
    "import asyncio\n",
    "from loguru import logger\n",
    "from mechwolf import _ureg, Pump\n",
    "\n",
    "class HarvardSyringePump(Pump):\n",
    "    def __init__(self, syringe_volume, syringe_diameter, serial_port, name=None):\n",
    "        super().__init__(name = name)\n",
    "        self.serial_port = serial_port\n",
    "        self.syringe_volume = _ureg.parse_expression(syringe_volume)\n",
    "        self.syringe_diameter = _ureg.parse_expression(syringe_diameter)\n",
    "        \n",
    "    def __enter__(self):\n",
    "        import aioserial\n",
    "\n",
    "        self._ser = aioserial.AioSerial(\n",
    "            self.serial_port,\n",
    "            115200,\n",
    "            parity = aioserial.PARITY_NONE,\n",
    "            stopbits = 1,\n",
    "            timeout = 1,\n",
    "            write_timeout = 1,)\n",
    "        syringe_volume_ml = self.syringe_volume.to(_ureg.ml).magnitude \n",
    "        syringe_diameter_mm = self.syringe_diameter.to(_ureg.mm).magnitude\n",
    "        self._ser.write(f'svolume {syringe_volume_ml} ml\\r'.encode())\n",
    "        self._ser.write(f'diameter {syringe_diameter_mm}\\r'.encode())\n",
    "\n",
    "        return self\n",
    "    \n",
    "    def __exit__(self, exc_type, exc_value, traceback):\n",
    "        self.rate = _ureg.parse_expression(\"0 mL/min\")\n",
    "        self._ser.write(b'stop\\r') \n",
    "        \n",
    "        del self._ser\n",
    "\n",
    "    async def _update(self):\n",
    "        rate_mlmin = self.rate.to(_ureg.ml / _ureg.min).magnitude\n",
    "        if rate_mlmin == 0:\n",
    "            self._ser.write(b'stop\\r') \n",
    "        else:\n",
    "            self._ser.write(f'irate {rate_mlmin} m/m\\r'.encode())\n",
    "            self._ser.write(b'irun\\r')"
   ]
  },
  {
   "cell_type": "code",
   "execution_count": 20,
   "metadata": {},
   "outputs": [],
   "source": [
    "pump_1 = HarvardSyringePump(\"24mL\", \"20.05mm\", serial_port = '/dev/tty.usbmodemD4038611', name = \"Pump 1\")"
   ]
  },
  {
   "cell_type": "markdown",
   "metadata": {},
   "source": [
    "### Syringe, Tubing, and Mixer Information"
   ]
  },
  {
   "cell_type": "code",
   "execution_count": 23,
   "metadata": {},
   "outputs": [],
   "source": [
    "#reagent vessels\n",
    "reagent_vessel_1 = mw.Vessel(\"STol sugar\", name = \"Starting Material\")\n",
    "reagent_vessel_2 = mw.Vessel(\"Sodium Borohydride\", name = \"NaBH4 in MeOH\")\n",
    "product_vessel = mw.Vessel(\"L-digitoxose\", name = \"Product\")\n",
    "\n",
    "#tubing\n",
    "def big_tube(length):\n",
    "    return mw.Tube(length = length, ID = \"0.062 in\", OD = \"1/8 in\", material = \"PFA\")\n",
    "\n",
    "sugar = big_tube(length = \"1 foot\")\n",
    "NaBH4 = big_tube(length = \"1 foot\")\n",
    "reduction = big_tube(length = \"34 foot\")\n",
    "\n",
    "#mixers\n",
    "def Tmixer(name):\n",
    "    return mw.TMixer(name = name)\n",
    "\n",
    "T_1 = Tmixer(reduction)"
   ]
  },
  {
   "cell_type": "markdown",
   "metadata": {},
   "source": [
    "### Apparatus "
   ]
  },
  {
   "cell_type": "code",
   "execution_count": 24,
   "metadata": {},
   "outputs": [
    {
     "data": {
      "image/svg+xml": [
       "<?xml version=\"1.0\" encoding=\"UTF-8\" standalone=\"no\"?>\n",
       "<!DOCTYPE svg PUBLIC \"-//W3C//DTD SVG 1.1//EN\"\n",
       " \"http://www.w3.org/Graphics/SVG/1.1/DTD/svg11.dtd\">\n",
       "<!-- Generated by graphviz version 2.47.1 (20210417.1919)\n",
       " -->\n",
       "<!-- Title: Reduction Pages: 1 -->\n",
       "<svg width=\"659pt\" height=\"121pt\"\n",
       " viewBox=\"0.00 0.00 659.00 121.00\" xmlns=\"http://www.w3.org/2000/svg\" xmlns:xlink=\"http://www.w3.org/1999/xlink\">\n",
       "<g id=\"graph0\" class=\"graph\" transform=\"scale(1 1) rotate(0) translate(4 117)\">\n",
       "<title>Reduction</title>\n",
       "<polygon fill=\"white\" stroke=\"transparent\" points=\"-4,4 -4,-117 655,-117 655,4 -4,4\"/>\n",
       "<text text-anchor=\"middle\" x=\"325.5\" y=\"-7.8\" font-family=\"Times,serif\" font-size=\"14.00\">Reduction</text>\n",
       "<!-- NaBH4 in MeOH -->\n",
       "<g id=\"node1\" class=\"node\">\n",
       "<title>NaBH4 in MeOH</title>\n",
       "<path fill=\"none\" stroke=\"black\" d=\"M209,-109.73C209,-111.53 183.45,-113 152,-113 120.55,-113 95,-111.53 95,-109.73 95,-109.73 95,-80.27 95,-80.27 95,-78.47 120.55,-77 152,-77 183.45,-77 209,-78.47 209,-80.27 209,-80.27 209,-109.73 209,-109.73\"/>\n",
       "<path fill=\"none\" stroke=\"black\" d=\"M209,-109.73C209,-107.92 183.45,-106.45 152,-106.45 120.55,-106.45 95,-107.92 95,-109.73\"/>\n",
       "<text text-anchor=\"middle\" x=\"152\" y=\"-91.3\" font-family=\"Times,serif\" font-size=\"14.00\">NaBH4 in MeOH</text>\n",
       "</g>\n",
       "<!-- Tube of length 34 foot, ID 0.062 inch, OD 0.125 inch -->\n",
       "<g id=\"node5\" class=\"node\">\n",
       "<title>Tube of length 34 foot, ID 0.062 inch, OD 0.125 inch</title>\n",
       "<polygon fill=\"none\" stroke=\"black\" points=\"544,-80 245,-80 245,-56 544,-56 556,-68 544,-80\"/>\n",
       "<text text-anchor=\"middle\" x=\"400.5\" y=\"-64.3\" font-family=\"Times,serif\" font-size=\"14.00\">Tube of length 34 foot, ID 0.062 inch, OD 0.125 inch</text>\n",
       "</g>\n",
       "<!-- NaBH4 in MeOH&#45;&gt;Tube of length 34 foot, ID 0.062 inch, OD 0.125 inch -->\n",
       "<g id=\"edge4\" class=\"edge\">\n",
       "<title>NaBH4 in MeOH&#45;&gt;Tube of length 34 foot, ID 0.062 inch, OD 0.125 inch</title>\n",
       "<path fill=\"none\" stroke=\"black\" d=\"M209.24,-88.84C217.19,-87.97 225.68,-87.04 234.48,-86.07\"/>\n",
       "<polygon fill=\"black\" stroke=\"black\" points=\"234.99,-89.54 244.55,-84.97 234.23,-82.58 234.99,-89.54\"/>\n",
       "</g>\n",
       "<!-- Product -->\n",
       "<g id=\"node2\" class=\"node\">\n",
       "<title>Product</title>\n",
       "<path fill=\"none\" stroke=\"black\" d=\"M651,-82.73C651,-84.53 637.78,-86 621.5,-86 605.22,-86 592,-84.53 592,-82.73 592,-82.73 592,-53.27 592,-53.27 592,-51.47 605.22,-50 621.5,-50 637.78,-50 651,-51.47 651,-53.27 651,-53.27 651,-82.73 651,-82.73\"/>\n",
       "<path fill=\"none\" stroke=\"black\" d=\"M651,-82.73C651,-80.92 637.78,-79.45 621.5,-79.45 605.22,-79.45 592,-80.92 592,-82.73\"/>\n",
       "<text text-anchor=\"middle\" x=\"621.5\" y=\"-64.3\" font-family=\"Times,serif\" font-size=\"14.00\">Product</text>\n",
       "</g>\n",
       "<!-- Pump 1 -->\n",
       "<g id=\"node3\" class=\"node\">\n",
       "<title>Pump 1</title>\n",
       "<polygon fill=\"none\" stroke=\"black\" points=\"59,-86 4,-86 0,-82 0,-50 55,-50 59,-54 59,-86\"/>\n",
       "<polyline fill=\"none\" stroke=\"black\" points=\"55,-82 0,-82 \"/>\n",
       "<polyline fill=\"none\" stroke=\"black\" points=\"55,-82 55,-50 \"/>\n",
       "<polyline fill=\"none\" stroke=\"black\" points=\"55,-82 59,-86 \"/>\n",
       "<text text-anchor=\"middle\" x=\"29.5\" y=\"-64.3\" font-family=\"Times,serif\" font-size=\"14.00\">Pump 1</text>\n",
       "</g>\n",
       "<!-- Pump 1&#45;&gt;NaBH4 in MeOH -->\n",
       "<g id=\"edge2\" class=\"edge\">\n",
       "<title>Pump 1&#45;&gt;NaBH4 in MeOH</title>\n",
       "<path fill=\"none\" stroke=\"black\" d=\"M59.06,-74.4C66.93,-76.16 75.81,-78.15 84.87,-80.18\"/>\n",
       "<polygon fill=\"black\" stroke=\"black\" points=\"84.2,-83.62 94.73,-82.39 85.73,-76.79 84.2,-83.62\"/>\n",
       "</g>\n",
       "<!-- Starting Material -->\n",
       "<g id=\"node4\" class=\"node\">\n",
       "<title>Starting Material</title>\n",
       "<path fill=\"none\" stroke=\"black\" d=\"M207,-55.73C207,-57.53 182.35,-59 152,-59 121.65,-59 97,-57.53 97,-55.73 97,-55.73 97,-26.27 97,-26.27 97,-24.47 121.65,-23 152,-23 182.35,-23 207,-24.47 207,-26.27 207,-26.27 207,-55.73 207,-55.73\"/>\n",
       "<path fill=\"none\" stroke=\"black\" d=\"M207,-55.73C207,-53.92 182.35,-52.45 152,-52.45 121.65,-52.45 97,-53.92 97,-55.73\"/>\n",
       "<text text-anchor=\"middle\" x=\"152\" y=\"-37.3\" font-family=\"Times,serif\" font-size=\"14.00\">Starting Material</text>\n",
       "</g>\n",
       "<!-- Pump 1&#45;&gt;Starting Material -->\n",
       "<g id=\"edge1\" class=\"edge\">\n",
       "<title>Pump 1&#45;&gt;Starting Material</title>\n",
       "<path fill=\"none\" stroke=\"black\" d=\"M59.06,-61.6C67.51,-59.71 77.13,-57.55 86.89,-55.37\"/>\n",
       "<polygon fill=\"black\" stroke=\"black\" points=\"87.66,-58.78 96.65,-53.18 86.13,-51.95 87.66,-58.78\"/>\n",
       "</g>\n",
       "<!-- Starting Material&#45;&gt;Tube of length 34 foot, ID 0.062 inch, OD 0.125 inch -->\n",
       "<g id=\"edge3\" class=\"edge\">\n",
       "<title>Starting Material&#45;&gt;Tube of length 34 foot, ID 0.062 inch, OD 0.125 inch</title>\n",
       "<path fill=\"none\" stroke=\"black\" d=\"M207.1,-46.93C215.72,-47.87 225.01,-48.89 234.69,-49.95\"/>\n",
       "<polygon fill=\"black\" stroke=\"black\" points=\"234.59,-53.46 244.91,-51.07 235.35,-46.5 234.59,-53.46\"/>\n",
       "</g>\n",
       "<!-- Tube of length 34 foot, ID 0.062 inch, OD 0.125 inch&#45;&gt;Product -->\n",
       "<g id=\"edge5\" class=\"edge\">\n",
       "<title>Tube of length 34 foot, ID 0.062 inch, OD 0.125 inch&#45;&gt;Product</title>\n",
       "<path fill=\"none\" stroke=\"black\" d=\"M556.27,-68C565.38,-68 573.99,-68 581.76,-68\"/>\n",
       "<polygon fill=\"black\" stroke=\"black\" points=\"581.82,-71.5 591.82,-68 581.82,-64.5 581.82,-71.5\"/>\n",
       "</g>\n",
       "</g>\n",
       "</svg>\n"
      ],
      "text/plain": [
       "<graphviz.dot.Digraph at 0x7fc329ee4910>"
      ]
     },
     "execution_count": 24,
     "metadata": {},
     "output_type": "execute_result"
    }
   ],
   "source": [
    "# apparatus \n",
    "A = mw.Apparatus(\"Reduction\")\n",
    "\n",
    "A.add(pump_1, reagent_vessel_1, sugar)\n",
    "A.add(pump_1, reagent_vessel_2, NaBH4)\n",
    "\n",
    "A.add(reagent_vessel_1, T_1, sugar)\n",
    "A.add(reagent_vessel_2, T_1, NaBH4)\n",
    "A.add(T_1, product_vessel, reduction)\n",
    "\n",
    "A.describe()\n",
    "A.visualize()"
   ]
  },
  {
   "cell_type": "markdown",
   "metadata": {},
   "source": [
    "### Protocol"
   ]
  },
  {
   "cell_type": "code",
   "execution_count": 25,
   "metadata": {},
   "outputs": [
    {
     "name": "stdout",
     "output_type": "stream",
     "text": [
      "TOTAL TIME: 0:18:15\n"
     ]
    }
   ],
   "source": [
    "P = mw.Protocol(A)\n",
    "\n",
    "switch = timedelta(seconds = 45)\n",
    "\n",
    "current = timedelta(minutes = 0)\n",
    "\n",
    "reduction = timedelta(minutes = 2.5)\n",
    "P.add(pump_1, start = current,\n",
    "              duration = reduction, rate = \"1 mL/min\")\n",
    "\n",
    "current += reduction + switch\n",
    "\n",
    "flush = timedelta(minutes = 15) \n",
    "P.add(pump_1, start = current, \n",
    "              duration = flush, rate = \"1 mL/min\")\n",
    "\n",
    "current += flush\n",
    "\n",
    "print(f'TOTAL TIME: {current}')\n",
    "P.execute(confirm = True)"
   ]
  },
  {
   "cell_type": "markdown",
   "metadata": {},
   "source": [
    "### Product and Yield Information"
   ]
  },
  {
   "cell_type": "code",
   "execution_count": 26,
   "metadata": {},
   "outputs": [
    {
     "name": "stdout",
     "output_type": "stream",
     "text": [
      "L-digitoxose; molecular weight:  221.28\n",
      "Theoretical Yield: 0.3231 g\n",
      "Enter mass of product in g: 0.25\n",
      "Actual Yield: 0.25 g\n",
      "Percent Yield: 77.4 %\n"
     ]
    }
   ],
   "source": [
    "product = \"L-digitoxose\"\n",
    "product_molecular_weight = 221.28\n",
    "\n",
    "theoretical_yield = round(moles * product_molecular_weight, decimals = 4)\n",
    "\n",
    "if moles < 0.0005:\n",
    "    theoretical_yield *= 1000\n",
    "    units = 'mg'\n",
    "else:\n",
    "    units = 'g'\n",
    "\n",
    "print(product + \"; molecular weight: \", product_molecular_weight)\n",
    "\n",
    "print(\"Theoretical Yield:\", theoretical_yield, units)\n",
    "\n",
    "actual_yield = float(input(f\"Enter mass of product in {units}: \"))\n",
    "print(\"Actual Yield:\", actual_yield, units)\n",
    "\n",
    "percent_yield = round((actual_yield / theoretical_yield) * 100, decimals = 1)\n",
    "print(\"Percent Yield:\", percent_yield, \"%\")"
   ]
  }
 ],
 "metadata": {
  "kernelspec": {
   "display_name": "Python 3",
   "language": "python",
   "name": "python3"
  },
  "language_info": {
   "codemirror_mode": {
    "name": "ipython",
    "version": 3
   },
   "file_extension": ".py",
   "mimetype": "text/x-python",
   "name": "python",
   "nbconvert_exporter": "python",
   "pygments_lexer": "ipython3",
   "version": "3.9.0"
  }
 },
 "nbformat": 4,
 "nbformat_minor": 4
}
