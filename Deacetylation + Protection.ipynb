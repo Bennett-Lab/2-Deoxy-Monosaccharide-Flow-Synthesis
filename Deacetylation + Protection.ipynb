{
 "cells": [
  {
   "cell_type": "markdown",
   "metadata": {},
   "source": [
    "# Name\n",
    "\n",
    "## Date \n",
    "\n",
    "### Reaction"
   ]
  },
  {
   "cell_type": "code",
   "execution_count": 1,
   "metadata": {},
   "outputs": [],
   "source": [
    "import mechwolf as mw\n",
    "from datetime import timedelta\n",
    "from astropy.table import QTable, Table, Column \n",
    "from sigfig import round\n",
    "from mechwolf import Pump"
   ]
  },
  {
   "cell_type": "markdown",
   "metadata": {},
   "source": [
    "### Reaction Scheme"
   ]
  },
  {
   "cell_type": "code",
   "execution_count": 2,
   "metadata": {},
   "outputs": [],
   "source": [
    "#copy and paste .png file here"
   ]
  },
  {
   "cell_type": "markdown",
   "metadata": {},
   "source": [
    "### Reagents"
   ]
  },
  {
   "cell_type": "code",
   "execution_count": 3,
   "metadata": {},
   "outputs": [
    {
     "name": "stdout",
     "output_type": "stream",
     "text": [
      "Mass of limiting reagent in grams: 1\n",
      "0.004668098216786481\n",
      " Reagent      Formula     Molecular Weight-g/mol   moles    Equivalents  Mass-g  Volume-mL\n",
      "--------- --------------- ---------------------- ---------- ----------- -------- ---------\n",
      "L-rhamnal        C10H14O5                 214.22  0.0046681         1.0      1.0       N/A\n",
      "    NaOMe          NaCH3O                  54.05 0.02334049         5.0 1.261553       N/A\n",
      "    TBSCl       C6H15ClSi                 150.72 0.01633834         3.5 2.462515       N/A\n",
      "     DMAP         C7H10N2                 122.17 0.01727196         3.7 2.110115       N/A\n",
      "     MeOH            CH4O                  32.04  0.0093362         2.0      N/A    0.3782\n",
      "      DMF solvent formula                    N/A        N/A         N/A      N/A       N/A\n",
      "\n",
      "Reagent Vessels\n",
      "\n",
      "Vessel 1: 5ml 2.9924 M  name of reagent here with space after in  DMF\n",
      "\n",
      "Vessel 2: total volume of vessel here 5.9847 M  name of reagent here with space after in  DMF\n",
      "\n",
      "Safety Information\n",
      "\n",
      "L-rhamnal : safety notes\n",
      "Notes:  additional notes\n",
      "\n",
      "MeOH : safety notes\n",
      "Notes : additional notes\n",
      "\n",
      "DMF : safety information for solvent, sentece form works here\n",
      "Notes : notes about solvent, sentences for works here\n",
      "\n",
      "DMF : safety information for solvent, sentece form works here\n",
      "Notes : notes about solvent, sentences for works here\n",
      "\n"
     ]
    }
   ],
   "source": [
    "#scale\n",
    "\n",
    "limiting_reagent = \"L-rhamnal\"\n",
    "mw_limiting = 214.22\n",
    "mass_scale = input(\"Mass of limiting reagent in grams: \")\n",
    "\n",
    "try:\n",
    "    mass_scale = float(mass_scale)\n",
    "except:\n",
    "    print('Invalid input: numerical values only')\n",
    "\n",
    "molar_scale = mass_scale/mw_limiting\n",
    "\n",
    "scale = float(molar_scale)\n",
    "\n",
    "print(scale)\n",
    "    \n",
    "# solids    \n",
    "reagent_1 = limiting_reagent            \n",
    "formula_1 = \"C10H14O5\"\n",
    "mw_1 = mw_limiting\n",
    "reagent_1_eq = 1.0\n",
    "solvent_1 = 'DMF'\n",
    "solvent_volume_1_mL = 1.56\n",
    "InChI_1 = \"InChI=1S/C10H14O5/c1-6-10(15-8(3)12)9(4-5-13-6)14-7(2)11/h4-6,9-10H,1-3H3/t6-,9?,10?/m0/s1\"\n",
    "InChIKey_1 = \"NDEGMKQAZZBNBB-OUBRSPPYSA-N\"\n",
    "safety_1 = \"safety notes\"\n",
    "notes_1 = \"additional notes\"\n",
    "\n",
    "reagent_2 = \"NaOMe\"\n",
    "formula_2 = \"NaCH3O\"\n",
    "mw_2 = 54.05\n",
    "reagent_2_eq = 5.0\n",
    "solvent_volume_2_mL = 1.56\n",
    "InChI_2 = \"InChI=1S/CH3O.Na/c1-2;/h1H3;/q-1;+1\"\n",
    "InChIKey_2 = \"WQDUMFSSJAZKTM-UHFFFAOYSA-N\"\n",
    "safety_2 = \"safety notes\"\n",
    "notes_2 = \"additional notes\"\n",
    "\n",
    "reagent_3 = \"TBSCl\"\n",
    "formula_3 = \"C6H15ClSi\"\n",
    "mw_3 = 150.72\n",
    "reagent_3_eq = 3.5\n",
    "solvent_volume_3_mL = 1.56\n",
    "InChI_3 = \"InChI=1S/C6H15ClSi/c1-6(2,3)8(4,5)7/h1-5H3\"\n",
    "InChIKey_3 = \"BCNZYOJHNLTNEZ-UHFFFAOYSA-N\"\n",
    "safety_3 = \"safety notes\"\n",
    "notes_3 = \"additional notes\"\n",
    "\n",
    "reagent_4 = \"DMAP\"\n",
    "formula_4 = \"C7H10N2\"\n",
    "mw_4 = 122.17\n",
    "reagent_4_eq = 3.7\n",
    "solvent_volume_4_mL = 1.56\n",
    "InChI_4 = \"InChI=1S/C7H10N2/c1-9(2)7-3-5-8-6-4-7/h3-6H,1-2H3\"\n",
    "InChIKey_4 = \"VHYFNPMBLIVWCW-UHFFFAOYSA-N\"\n",
    "safety_4 = \"safety notes\"\n",
    "notes_4 = \"additional notes\"\n",
    "\n",
    "#solids - rounding\n",
    "moles_1 = round(scale * reagent_1_eq, decimals = 8)\n",
    "mass_1 = round(moles_1 * mw_1, decimals = 6)\n",
    "molarity_1 = round(moles_1 / (solvent_volume_1_mL / 1000), decimals = 4)\n",
    "\n",
    "moles_2 = round(scale * reagent_2_eq, decimals = 8)\n",
    "mass_2 = round(moles_2 * mw_2, decimals = 6)\n",
    "molarity_2 = round(moles_2 / (solvent_volume_2_mL / 1000), decimals = 4)\n",
    "\n",
    "moles_3 = round(scale * reagent_3_eq, decimals = 8)\n",
    "mass_3 = round(moles_3 * mw_3, decimals = 6)\n",
    "molarity_3 = round(moles_3 / (solvent_volume_3_mL / 1000), decimals = 4)\n",
    "\n",
    "moles_4 = round(scale * reagent_4_eq, decimals = 8)\n",
    "mass_4 = round(moles_4 * mw_4, decimals = 6)\n",
    "molarity_4 = round(moles_4 / (solvent_volume_4_mL / 1000), decimals = 4)\n",
    "\n",
    "#liquids\n",
    "reagent_a = \"MeOH\"\n",
    "formula_a = \"CH4O\"\n",
    "density_a_g_mL = 0.791\n",
    "mw_a =  32.04\n",
    "solvent_a = \"DMF\"\n",
    "solvent_a_volume_mL = 1.56\n",
    "reagent_a_eq = 2.0\n",
    "InChI_a = \"InChI=1S/CH4O/c1-2/h2H,1H3\"\n",
    "InChIKey_a = \"OKKJLVBELUTLKV-UHFFFAOYSA-N\"\n",
    "safety_a = \"safety notes\"\n",
    "notes_a = \"additional notes\"\n",
    "\n",
    "#liquids - rounding \n",
    "moles_a = scale * reagent_a_eq\n",
    "molarity_a = moles_a/(solvent_a_volume_mL/1000)\n",
    "molarity_a = round(molarity_a, decimals = 4)\n",
    "moles_a = round(moles_a, decimals=8)\n",
    "volume_a_mL = reagent_a_eq*scale*(mw_a/density_a_g_mL)\n",
    "volume_a_mL = round(volume_a_mL, decimals=4)\n",
    "\n",
    "#solvent\n",
    "solvent = \"DMF\"\n",
    "formula_solvent = \"solvent formula\"\n",
    "density_solvent_g_mL =  \"N/A\"\n",
    "mw_solvent = \"N/A\"\n",
    "InChI_Solvent = \"InChI\"\n",
    "InChIKey_solvent =\"InChIKey\"\n",
    "safety_solvent = \"safety information for solvent, sentece form works here\"\n",
    "notes_solvent = \"notes about solvent, sentences for works here\"\n",
    "\n",
    "\n",
    "if scale < 0.0005: \n",
    "    t = QTable()\n",
    "    t['Reagent'] = (reagent_1, reagent_a, solvent)\n",
    "    t['Formula'] = (formula_1, formula_a, formula_solvent)\n",
    "    t['Molecular Weight-g/mol'] = (mw_1, mw_2, mw_3, mw_4, mw_a, mw_solvent)\n",
    "    t['milimoles'] = (moles_1*1000, moles_2*1000, moles_3*1000, moles_4*1000, moles_a*1000,\"N/A\")\n",
    "    t['Equivalents'] = (reagent_1_eq, reagent_2_eq, reagent_3_eq, reagent_4_eq, reagent_a_eq, \"N/A\")\n",
    "    t['Mass-mg'] = (mass_1*1000, mass_2*1000, mass_3*1000, mass_4*1000, \"N/A\", \"N/A\")\n",
    "    t['Volume-mL'] = (\"N/A\", \"N/A\", \"N/A\", \"N/A\", volume_a_mL, \"N/A\")\n",
    "    \n",
    "    #define parameters of table printout\n",
    "    t.pprint(max_lines=-1, max_width=-1)\n",
    "    \n",
    "    #description of vessels\n",
    "    print( )\n",
    "    print(\"Reagent Vessels\")\n",
    "    print( )\n",
    "    print(\"Vessel 1: total volume of vessel here\", molarity_1*1000, \"mM\", \"name of reagent here with space after\", \"in\", solvent_1)\n",
    "    print( )\n",
    "    print(\"Vessel 2: total volume of vessel\", molarity_a*1000, \"mM\", \"name of reagent here with space after\", \"in\", solvent_1 )\n",
    "    print( )\n",
    "\n",
    "\n",
    "\n",
    "else:\n",
    "    t = QTable()\n",
    "    t['Reagent'] = (reagent_1, reagent_2, reagent_3, reagent_4, reagent_a, solvent)\n",
    "    t['Formula'] = (formula_1, formula_2, formula_3, formula_4, formula_a, formula_solvent)\n",
    "    t['Molecular Weight-g/mol'] = (mw_1, mw_2, mw_3, mw_4, mw_a, mw_solvent)\n",
    "    t['moles'] = (moles_1, moles_2, moles_3, moles_4, moles_a,\"N/A\")\n",
    "    t['Equivalents'] = (reagent_1_eq, reagent_2_eq, reagent_3_eq, reagent_4_eq, reagent_a_eq, \"N/A\")\n",
    "    t['Mass-g'] = (mass_1, mass_2, mass_3, mass_4 , \"N/A\", \"N/A\")\n",
    "    t['Volume-mL'] = (\"N/A\", \"N/A\", \"N/A\", \"N/A\", volume_a_mL, \"N/A\")\n",
    "    \n",
    "    #define parameters of table printout\n",
    "    t.pprint(max_lines=-1, max_width=-1)\n",
    "    \n",
    "    # description of vessels \n",
    "    print( )\n",
    "    print(\"Reagent Vessels\")\n",
    "    print( )\n",
    "    print(\"Vessel 1: 5ml\", molarity_1, \"M \", \"name of reagent here with space after\", \"in \", solvent_1)\n",
    "    print( )\n",
    "    print(\"Vessel 2: total volume of vessel here\", molarity_a, \"M \", \"name of reagent here with space after\", \"in \", solvent_1 )\n",
    "    print( )\n",
    "\n",
    "\n",
    "# safety information and notes on reagents\n",
    "# add information about reagents by adding lines in the format shown using the reagent names, safety, and notes that correspond\n",
    "# i.e. (reagent_2, \":\", safety_2)\n",
    "#the 'print' line after each line of code is for a space between reagents in the prinout, note that there is a deliberate space in the parentheses. \n",
    "\n",
    "\n",
    "print(\"Safety Information\")\n",
    "print( )\n",
    "print(reagent_1,\":\", safety_1)\n",
    "print(\"Notes: \", notes_1)\n",
    "print( )\n",
    "print(reagent_a, \":\", safety_a)\n",
    "print(\"Notes :\", notes_a)\n",
    "print( )\n",
    "print(solvent, \":\", safety_solvent)\n",
    "print(\"Notes :\", notes_solvent)\n",
    "print( )\n",
    "print(solvent, \":\", safety_solvent)\n",
    "print(\"Notes :\", notes_solvent)\n",
    "print( )"
   ]
  },
  {
   "cell_type": "markdown",
   "metadata": {},
   "source": [
    "# Links to SDS Sheets"
   ]
  },
  {
   "cell_type": "code",
   "execution_count": 4,
   "metadata": {},
   "outputs": [],
   "source": [
    "#format for pasting links to SDS sheets is given below\n",
    "from IPython.core.display import display, HTML\n",
    "\n",
    "#display(HTML(\"\"\"<a href=\"paste link here\"></a>\"\"\"))\n",
    "\n"
   ]
  },
  {
   "cell_type": "markdown",
   "metadata": {},
   "source": [
    "### Product and Yield Information"
   ]
  },
  {
   "cell_type": "code",
   "execution_count": 5,
   "metadata": {},
   "outputs": [
    {
     "name": "stdout",
     "output_type": "stream",
     "text": [
      "name of product here ; molecular weight:  3\n",
      "Theoretical Yield: 0.014 g\n",
      "Enter mass of product in g: 1\n",
      "Actual Yield: 1 g\n",
      "Percent Yield: 7142.9 %\n"
     ]
    }
   ],
   "source": [
    "#This cell requires the name of the product and its molecular weight \n",
    "#Because this is based on the limiting reagent, no other changes should be required for use\n",
    "#Note the use of the 'if' and 'else' functions again which follows the same structure as in the cell above\n",
    "#this scale can be changed to present information as cleanly as possible \n",
    "\n",
    "product_vessel = mw.Vessel(\"name of product\", name = \"name of vessel for graphic\")\n",
    "product = \"name of product here\"\n",
    "product_molecular_weight = 3\n",
    "\n",
    "# code from here should work for every notebook\n",
    "#changes can be made for specific cases in the rounding of numbers and the scale of the units \n",
    "\n",
    "theoretical_yield = scale*product_molecular_weight\n",
    "theoretical_yield = round(theoretical_yield, decimals = 5)\n",
    "\n",
    "print(product, \"; molecular weight: \", product_molecular_weight)\n",
    "\n",
    "if scale < 0.0005: \n",
    "    print(\"Theoretical Yield:\", theoretical_yield*1000, 'mg')\n",
    "    mass_product = input(\"Enter mass of product in mg: \")\n",
    "    actual_yield = mass_product\n",
    "    actual_yield = float(actual_yield)\n",
    "    print(\"Actual Yield:\", actual_yield, \"mg\")\n",
    "    percent_yield = actual_yield/(theoretical_yield*1000) * 100\n",
    "else:\n",
    "    print(\"Theoretical Yield:\", theoretical_yield, 'g')\n",
    "    mass_product = input(\"Enter mass of product in g: \")\n",
    "    actual_yield = mass_product\n",
    "    print(\"Actual Yield:\", actual_yield, \"g\")\n",
    "    actual_yield = float(actual_yield)\n",
    "    percent_yield = actual_yield/(theoretical_yield) * 100\n",
    "\n",
    "\n",
    "percent_yield = round(percent_yield, decimals = 1)\n",
    "print(\"Percent Yield:\", percent_yield,\"%\")\n",
    "\n"
   ]
  },
  {
   "cell_type": "markdown",
   "metadata": {},
   "source": [
    "## MechWolf Information"
   ]
  },
  {
   "cell_type": "code",
   "execution_count": 6,
   "metadata": {},
   "outputs": [],
   "source": [
    "import time\n",
    "import asyncio\n",
    "from loguru import logger\n",
    "from mechwolf import _ureg\n",
    "\n",
    "class HarvardSyringePump(Pump):\n",
    "    def __init__(self, syringe_volume, syringe_diameter, serial_port, name=None):\n",
    "        super().__init__(name=name)\n",
    "        self.serial_port = serial_port\n",
    "        self.syringe_volume = _ureg.parse_expression(syringe_volume)\n",
    "        self.syringe_diameter = _ureg.parse_expression(syringe_diameter)\n",
    "        \n",
    "    def __enter__(self):\n",
    "        \"\"\"Initialize the serial port and send syringe volume and diameter to pump\"\"\"\n",
    "        import aioserial\n",
    "\n",
    "        self._ser = aioserial.AioSerial(\n",
    "            self.serial_port,\n",
    "            115200,\n",
    "            parity=aioserial.PARITY_NONE,\n",
    "            stopbits=1,\n",
    "            timeout=1,\n",
    "            write_timeout=1,)\n",
    "        \"\"\"take input for syringe diameter and volume and give it to the apparatus\"\"\"\n",
    "        syringe_volume_ml = self.syringe_volume.to(_ureg.ml).magnitude \n",
    "        syringe_diameter_mm = self.syringe_diameter.to(_ureg.mm).magnitude\n",
    "        self._ser.write(f'svolume {syringe_volume_ml} ml\\r'.encode())\n",
    "        self._ser.write(f'diameter {syringe_diameter_mm}\\r'.encode())\n",
    "\n",
    "        return self\n",
    "    \n",
    "    def __exit__(self, exc_type, exc_value, traceback):\n",
    "        \"\"\"stop pump\"\"\"\n",
    "        self.rate = _ureg.parse_expression(\"0 mL/min\")\n",
    "        self._ser.write(b'stop\\r') \n",
    "        \n",
    "      \n",
    "        del self._ser\n",
    "\n",
    "    async def _update(self):\n",
    "        \"\"\"update the pump between commands\"\"\"\n",
    "        rate_mlmin = self.rate.to(_ureg.ml / _ureg.min).magnitude\n",
    "        if rate_mlmin == 0:\n",
    "            self._ser.write(b'stop\\r') \n",
    "        else:\n",
    "            self._ser.write(f'irate {rate_mlmin} m/m\\r'.encode())\n",
    "            self._ser.write(b'irun\\r')"
   ]
  },
  {
   "cell_type": "code",
   "execution_count": 7,
   "metadata": {},
   "outputs": [],
   "source": [
    "pump_1 = HarvardSyringePump(\"10ml\", \"12.45mm\", serial_port = '/dev/tty.usbmodemD4038611')\n",
    "pump_2 = HarvardSyringePump(\"10ml\", \"12.45mm\", serial_port = '/dev/tty.usbmodemD4038591')\n",
    "pump_3 = HarvardSyringePump(\"10ml\", \"12.45mm\", serial_port = '/dev/tty.usbmodemD4038611')\n",
    "pump_4 = HarvardSyringePump(\"10ml\", \"12.45mm\", serial_port = '/dev/tty.usbmodemD4038591')\n",
    "pump_5 = HarvardSyringePump(\"10ml\", \"12.45mm\", serial_port = '/dev/tty.usbmodemD4038611')\n",
    "pump_6 = HarvardSyringePump(\"10ml\", \"12.45mm\", serial_port = '/dev/tty.usbmodemD4038591')"
   ]
  },
  {
   "cell_type": "markdown",
   "metadata": {},
   "source": [
    "### Syringe, Tubing, and Mixer Information"
   ]
  },
  {
   "cell_type": "code",
   "execution_count": 8,
   "metadata": {},
   "outputs": [],
   "source": [
    "#reagent vessels\n",
    "reagent_vessel_1 = mw.Vessel(\"L-rhamnal\", name = \"L-rhamnal in DMF\")\n",
    "reagent_vessel_2 = mw.Vessel(\"NaOMe\", name = \"NaOMe + MeOH in DMF\")\n",
    "reagent_vessel_3 = mw.Vessel(\"TBSCl\", name = \"TBSCl + DMAP\")\n",
    "\n",
    "#tubing\n",
    "sugar = mw.Tube(length = \"1 foot\", ID = \"0.062 in\", OD = \"1/8 in\", material = \"PFA\")\n",
    "NaOMe = mw.Tube(length = \"1 foot\", ID = \"0.062 in\", OD = \"1/8 in\", material = \"PFA\")\n",
    "rxn_tube_1 = mw.Tube(length = \"16 foot\", ID = \"0.062 in\", OD = \"1/8 in\", material = \"PFA\")\n",
    "TBSCl = mw.Tube(length = \"1 foot\", ID = \"0.062 in\", OD = \"1/8 in\", material = \"PFA\")\n",
    "rxn_tube_2 = mw.Tube(length = \"64 foot\", ID = \"0.062 in\", OD = \"1/8 in\", material = \"PFA\")\n",
    "\n",
    "#mixers\n",
    "mixer_1 = mw.TMixer(name = \"Mixer 1\")\n",
    "mixer_2 = mw.TMixer(name = \"Mixer 2\")"
   ]
  },
  {
   "cell_type": "markdown",
   "metadata": {},
   "source": [
    "### Define Apparatus "
   ]
  },
  {
   "cell_type": "code",
   "execution_count": 9,
   "metadata": {},
   "outputs": [
    {
     "name": "stderr",
     "output_type": "stream",
     "text": [
      "/Library/Frameworks/Python.framework/Versions/3.9/lib/python3.9/site-packages/mechwolf/core/apparatus.py:113: UserWarning: Duplicate connection from Vessel L-rhamnal in DMF to TMixer Mixer 1 omitted.\n",
      "  warn(\n",
      "/Library/Frameworks/Python.framework/Versions/3.9/lib/python3.9/site-packages/mechwolf/core/apparatus.py:113: UserWarning: Duplicate connection from Vessel NaOMe + MeOH in DMF to TMixer Mixer 1 omitted.\n",
      "  warn(\n",
      "/Library/Frameworks/Python.framework/Versions/3.9/lib/python3.9/site-packages/mechwolf/core/apparatus.py:113: UserWarning: Duplicate connection from TMixer Mixer 1 to TMixer Mixer 2 omitted.\n",
      "  warn(\n",
      "/Library/Frameworks/Python.framework/Versions/3.9/lib/python3.9/site-packages/mechwolf/core/apparatus.py:113: UserWarning: Duplicate connection from Vessel TBSCl + DMAP to TMixer Mixer 2 omitted.\n",
      "  warn(\n",
      "/Library/Frameworks/Python.framework/Versions/3.9/lib/python3.9/site-packages/mechwolf/core/apparatus.py:113: UserWarning: Duplicate connection from TMixer Mixer 2 to Vessel name of vessel for graphic omitted.\n",
      "  warn(\n"
     ]
    },
    {
     "data": {
      "text/markdown": [
       "A vessel containing L-rhamnal was connected to TMixer Mixer 1 using PFA tubing (length 1 foot, ID 0.062 inch, OD 0.125 inch). HarvardSyringePump HarvardSyringePump_3 was connected to TMixer Mixer 1 using PFA tubing (length 16 foot, ID 0.062 inch, OD 0.125 inch). A vessel containing NaOMe was connected to TMixer Mixer 1 using PFA tubing (length 1 foot, ID 0.062 inch, OD 0.125 inch). TMixer Mixer 1 was connected to TMixer Mixer 2 using PFA tubing (length 16 foot, ID 0.062 inch, OD 0.125 inch). HarvardSyringePump HarvardSyringePump_4 was connected to a vessel containing TBSCl using PFA tubing (length 1 foot, ID 0.062 inch, OD 0.125 inch). A vessel containing TBSCl was connected to TMixer Mixer 2 using PFA tubing (length 1 foot, ID 0.062 inch, OD 0.125 inch). TMixer Mixer 2 was connected to a vessel containing name of product using PFA tubing (length 64 foot, ID 0.062 inch, OD 0.125 inch). HarvardSyringePump HarvardSyringePump_5 was connected to TMixer Mixer 1 using PFA tubing (length 16 foot, ID 0.062 inch, OD 0.125 inch). HarvardSyringePump HarvardSyringePump_6 was connected to a vessel containing TBSCl using PFA tubing (length 1 foot, ID 0.062 inch, OD 0.125 inch). HarvardSyringePump HarvardSyringePump_7 was connected to TMixer Mixer 1 using PFA tubing (length 16 foot, ID 0.062 inch, OD 0.125 inch). HarvardSyringePump HarvardSyringePump_8 was connected to a vessel containing TBSCl using PFA tubing (length 1 foot, ID 0.062 inch, OD 0.125 inch). "
      ],
      "text/plain": [
       "<IPython.core.display.Markdown object>"
      ]
     },
     "execution_count": 9,
     "metadata": {},
     "output_type": "execute_result"
    }
   ],
   "source": [
    "# apparatus \n",
    "A = mw.Apparatus(\"deacetylation\")\n",
    "\n",
    "A.add(reagent_vessel_1, mixer_1, sugar)\n",
    "A.add(pump_1, mixer_1, rxn_tube_1)\n",
    "A.add(reagent_vessel_2, mixer_1, NaOMe)\n",
    "A.add(mixer_1, mixer_2, rxn_tube_1)\n",
    "A.add(pump_2, reagent_vessel_3, TBSCl)\n",
    "A.add(reagent_vessel_3, mixer_2, TBSCl)\n",
    "A.add(mixer_2, product_vessel, rxn_tube_2)\n",
    "\n",
    "A.add(reagent_vessel_1, mixer_1, sugar)\n",
    "A.add(pump_3, mixer_1, rxn_tube_1)\n",
    "A.add(reagent_vessel_2, mixer_1, NaOMe)\n",
    "A.add(mixer_1, mixer_2, rxn_tube_1)\n",
    "A.add(pump_4, reagent_vessel_3, TBSCl)\n",
    "A.add(reagent_vessel_3, mixer_2, TBSCl)\n",
    "A.add(mixer_2, product_vessel, rxn_tube_2)\n",
    "\n",
    "A.add(reagent_vessel_1, mixer_1, sugar)\n",
    "A.add(pump_5, mixer_1, rxn_tube_1)\n",
    "A.add(reagent_vessel_2, mixer_1, NaOMe)\n",
    "A.add(mixer_1, mixer_2, rxn_tube_1)\n",
    "A.add(pump_6, reagent_vessel_3, TBSCl)\n",
    "A.add(reagent_vessel_3, mixer_2, TBSCl)\n",
    "A.add(mixer_2, product_vessel, rxn_tube_2)\n",
    "\n",
    "A.visualize()\n",
    "#creates a paragraph description of Apparatus\n",
    "#this is optional, there are is a small error in MechWolf's conversion of the apparatus into paragraph form where words repeat\n",
    "A.describe()"
   ]
  },
  {
   "cell_type": "markdown",
   "metadata": {},
   "source": [
    "### Define Protocol"
   ]
  },
  {
   "cell_type": "code",
   "execution_count": 10,
   "metadata": {},
   "outputs": [
    {
     "name": "stdout",
     "output_type": "stream",
     "text": [
      "Execute? [y/N]: y\n"
     ]
    },
    {
     "data": {
      "application/vnd.jupyter.widget-view+json": {
       "model_id": "a6393342d2f84c668ff88d36ca71c737",
       "version_major": 2,
       "version_minor": 0
      },
      "text/plain": [
       "VBox(children=(HTML(value='<h3>Experiment 2021_03_15_15_18_39_1e4b9a7a</h3>'), HBox(children=(Button(descripti…"
      ]
     },
     "metadata": {},
     "output_type": "display_data"
    },
    {
     "data": {
      "text/plain": [
       "<Experiment 2021_03_15_15_18_39_1e4b9a7a>"
      ]
     },
     "execution_count": 10,
     "metadata": {},
     "output_type": "execute_result"
    }
   ],
   "source": [
    "P = mw.Protocol(A)\n",
    "\n",
    "a = timedelta(seconds = 0)\n",
    "b = timedelta(seconds = 0)\n",
    "c = timedelta(seconds = 0)\n",
    "d = timedelta(seconds = 0)\n",
    "e = timedelta(seconds = 0)\n",
    "f = timedelta(seconds = 0)\n",
    "delay = timedelta(seconds = 30)\n",
    "\n",
    "rxn_1 = timedelta(minutes = 1)\n",
    "rxn_2_start = timedelta(seconds = 30)\n",
    "rxn_2_fin = timedelta(minutes = 1)\n",
    "\n",
    "flush_1 = timedelta(minutes = 1)\n",
    "flush_2 = timedelta(minutes = 1)\n",
    "flush_all = timedelta(minutes = 1)\n",
    "\n",
    "P.add (pump_1, start = a, duration = rxn_1 , rate = \"1ml/min\")\n",
    "P.add (pump_2, start = b + delay, duration = rxn_2_start, rate = \"2ml/min\")\n",
    "time.sleep(5)\n",
    "P.add (pump_3, start = c, duration = flush_1, rate = \"1ml/min\")\n",
    "P.add (pump_4, start = d, duration = rxn_2_fin, rate = \"2ml/min\")\n",
    "time.sleep(5)\n",
    "P.add (pump_5, start = e, duration = flush_2, rate = \"1ml/min\")\n",
    "P.add (pump_6, start = f, duration = flush_all, rate = \"2ml/min\")\n",
    "\n",
    "P.execute()"
   ]
  },
  {
   "cell_type": "markdown",
   "metadata": {},
   "source": [
    "### TLC Plates"
   ]
  },
  {
   "cell_type": "code",
   "execution_count": null,
   "metadata": {},
   "outputs": [],
   "source": [
    "# this cell doesn't need to be adjusted, simply run the cell and the program will prompt you for informatio\n",
    "\n",
    "#method\n",
    "solvent_tlc = input(\"Mobile phase solvent:\")\n",
    "stain = input(\"Enter stain:\")\n",
    "UV_activity_information = input(\"Enter UV activity information:\")\n",
    "\n",
    "#data\n",
    "sample_1_distance = input(\"Enter distance moved by sample 1:\")\n",
    "sample_2_distance = input(\"Enter Distance moved by sample 2:\")\n",
    "solvent_distance = input(\"Enter distance moved by solvent:\")\n",
    "\n",
    "sample_1_distance = float(sample_1_distance)\n",
    "sample_2_distance = float(sample_2_distance)\n",
    "solvent_distance = float(solvent_distance)\n",
    "\n",
    "RF_value_1 = sample_1_distance/solvent_distance\n",
    "RF_value_2 = sample_2_distance/solvent_distance\n",
    "\n",
    "RF_value_1 = round(RF_value_1, decimals = 4)\n",
    "RF_value_2 = round(RF_value_2, decimals = 4)\n",
    "print(RF_value_1) \n",
    "print(RF_value_2)"
   ]
  },
  {
   "cell_type": "markdown",
   "metadata": {},
   "source": [
    "#### TLC Plate Image"
   ]
  },
  {
   "cell_type": "markdown",
   "metadata": {},
   "source": [
    "#copy and paste .png file here"
   ]
  },
  {
   "cell_type": "markdown",
   "metadata": {},
   "source": [
    "### NMR Data"
   ]
  },
  {
   "cell_type": "markdown",
   "metadata": {},
   "source": [
    "#copy and paste .png file here"
   ]
  },
  {
   "cell_type": "markdown",
   "metadata": {},
   "source": [
    "### HPLC Data"
   ]
  },
  {
   "cell_type": "markdown",
   "metadata": {},
   "source": [
    "#copy and paste .png file here"
   ]
  },
  {
   "cell_type": "markdown",
   "metadata": {},
   "source": [
    "### Additional Data and Notes"
   ]
  },
  {
   "cell_type": "markdown",
   "metadata": {},
   "source": [
    "use this cell to paste images or write notes about reaction"
   ]
  }
 ],
 "metadata": {
  "kernelspec": {
   "display_name": "Python 3",
   "language": "python",
   "name": "python3"
  },
  "language_info": {
   "codemirror_mode": {
    "name": "ipython",
    "version": 3
   },
   "file_extension": ".py",
   "mimetype": "text/x-python",
   "name": "python",
   "nbconvert_exporter": "python",
   "pygments_lexer": "ipython3",
   "version": "3.9.0"
  }
 },
 "nbformat": 4,
 "nbformat_minor": 4
}
