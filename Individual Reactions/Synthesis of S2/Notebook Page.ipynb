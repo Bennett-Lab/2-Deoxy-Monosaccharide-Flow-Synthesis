{
 "cells": [
  {
   "cell_type": "markdown",
   "metadata": {},
   "source": [
    "## Notebook Page"
   ]
  },
  {
   "cell_type": "code",
   "execution_count": 3,
   "metadata": {},
   "outputs": [],
   "source": [
    "import mechwolf as mw\n",
    "import graphviz\n",
    "import math\n",
    "from datetime import timedelta\n",
    "from astropy.table import QTable, Table, Column\n",
    "from sigfig import round\n",
    "import json"
   ]
  },
  {
   "cell_type": "code",
   "execution_count": 5,
   "metadata": {},
   "outputs": [],
   "source": [
    "with open('deacetylation_reagents.json') as f:\n",
    "    data = json.load(f)"
   ]
  },
  {
   "cell_type": "markdown",
   "metadata": {},
   "source": [
    "### Reagents"
   ]
  },
  {
   "cell_type": "code",
   "execution_count": 6,
   "metadata": {},
   "outputs": [
    {
     "name": "stdout",
     "output_type": "stream",
     "text": [
      "The limiting reagent is Diacetyl Rhamnal\n",
      "\n",
      "Moles: 0.004668098216786481\n"
     ]
    }
   ],
   "source": [
    "print(f\"The limiting reagent is {data['limiting reagent']}\")\n",
    "mw_limiting = 214.22\n",
    "\n",
    "try:\n",
    "    mass_scale = float(data['mass scale'])\n",
    "except:\n",
    "    print('Invalid input: numerical values only')\n",
    "\n",
    "moles = mass_scale / mw_limiting\n",
    "\n",
    "print(f'\\nMoles: {moles}')"
   ]
  },
  {
   "cell_type": "code",
   "execution_count": 15,
   "metadata": {},
   "outputs": [
    {
     "name": "stdout",
     "output_type": "stream",
     "text": [
      "\n",
      "Volume: 7.780163694644135 mL\n"
     ]
    }
   ],
   "source": [
    "try:\n",
    "    concentration = float(data['concentration'])\n",
    "except:\n",
    "    print('Invalid input: numerical values only')\n",
    "    \n",
    "volume = (moles * 1000) / concentration\n",
    "\n",
    "print(f'\\nVolume: {volume} mL')"
   ]
  },
  {
   "cell_type": "code",
   "execution_count": 16,
   "metadata": {},
   "outputs": [],
   "source": [
    "# TODO for Tu-Anh: do we need solvent volume for the solids\n",
    "\n",
    "class Reagent:\n",
    "    \n",
    "    def __init__(self, reagent):\n",
    "        assert 'name' in reagent, 'ERROR: one of the reagents does not have a name field'\n",
    "        assert 'inChi' in reagent, f'Error: {reagent[\"name\"]} does not have an inChi field'\n",
    "        assert 'inChi Key' in reagent, f'Error: {reagent[\"name\"]} does not have an inChi key field'\n",
    "        assert 'molecular weight' in reagent, f'Error: {reagent[\"name\"]} does not have a molecular weight field'\n",
    "        assert 'eq' in reagent, f'Error: {reagent[\"name\"]} does not have an eq field'\n",
    "        assert 'syringe' in reagent, f'Error: {reagent[\"name\"]} does not have an syringe # field'\n",
    "        \n",
    "        self.name = reagent['name']\n",
    "        self.inChi = reagent['inChi']\n",
    "        self.mol_weight = reagent['molecular weight']\n",
    "        self.eq = reagent['eq']\n",
    "        self.syringe = reagent['syringe']\n",
    "        self.moles = round(moles * self.eq, decimals = 4)\n",
    "        self.mass = round(self.moles * self.mol_weight, decimals = 4)\n",
    "        \n",
    "    def __str__(self):\n",
    "        return f\"{self.name}\"\n",
    "    \n",
    "class Solid(Reagent):\n",
    "    \n",
    "    def __init__(self, reagent):\n",
    "        super().__init__(reagent)\n",
    "        \n",
    "        assert 'solvent eq' in reagent, f'Error: {reagent[\"name\"]} does not have a solvent eq field'\n",
    "        self.solv_eq = reagent['solvent eq']\n",
    "        self.molarity = round(self.moles / self.solv_eq, decimals = 4)\n",
    "\n",
    "class Liquid(Reagent):\n",
    "    \n",
    "    def __init__(self, reagent):\n",
    "        super().__init__(reagent)\n",
    "        \n",
    "        assert 'density' in reagent, f'Error: {reagent[\"name\"]} does not have a density field'\n",
    "        self.density = reagent['density']\n",
    "        self.volume = round(self.eq * moles * (self.mol_weight / self.density), decimals = 4)\n",
    "        \n",
    "reagent_list = []\n",
    "for solid in data['solid reagents']:\n",
    "    reagent_list.append(Solid(solid))\n",
    "    \n",
    "for liquid in data['liquid reagents']:\n",
    "    reagent_list.append(Liquid(liquid))"
   ]
  },
  {
   "cell_type": "markdown",
   "metadata": {},
   "source": [
    "## Stoichiometry Table\n",
    "\n",
    "### Reagent Table"
   ]
  },
  {
   "cell_type": "code",
   "execution_count": 17,
   "metadata": {
    "scrolled": true
   },
   "outputs": [
    {
     "name": "stdout",
     "output_type": "stream",
     "text": [
      "    Reagent      Molecular Weight (g/mol)  mol   Mass (g) Volume (mL) Density (g/mL)  eq\n",
      "---------------- ------------------------ ------ -------- ----------- -------------- ---\n",
      "Diacetyl Rhamnal                   214.22 0.0047   1.0068         N/A            N/A 1.0\n",
      "           NaOMe                    54.05 0.0233   1.2594         N/A            N/A 5.0\n",
      "            MeOH                    32.04 0.0093    0.298      0.3782          0.791 2.0\n",
      "\n",
      "Solvent: DMF\n"
     ]
    }
   ],
   "source": [
    "reagent_table = QTable()\n",
    "reagent_table['Reagent'] = [reagent.name for reagent in reagent_list]\n",
    "reagent_table['Molecular Weight (g/mol)'] = [reagent.mol_weight for reagent in reagent_list]\n",
    "\n",
    "if moles < 0.0005:\n",
    "    reagent_table['mmol'] = [reagent.moles * 1000 for reagent in reagent_list]\n",
    "    reagent_table['Mass (mg)'] = [round(reagent.mass * 1000, decimals = 4) for reagent in reagent_list]\n",
    "else:\n",
    "    reagent_table['mol'] = [reagent.moles for reagent in reagent_list]\n",
    "    reagent_table['Mass (g)'] = [round(reagent.mass, decimals = 4) for reagent in reagent_list]\n",
    "\n",
    "reagent_table['Volume (mL)'] = [reagent.volume if hasattr(reagent, 'volume') else \"N/A\" for reagent in reagent_list]\n",
    "reagent_table['Density (g/mL)'] = [reagent.density if hasattr(reagent, 'density') else \"N/A\" for reagent in reagent_list]\n",
    "reagent_table['eq'] = [reagent.eq for reagent in reagent_list]\n",
    "\n",
    "reagent_table.pprint(max_lines=-1, max_width=-1)\n",
    "\n",
    "print(f'\\nSolvent: {data[\"solvent\"]}')"
   ]
  },
  {
   "cell_type": "markdown",
   "metadata": {},
   "source": [
    "### Syringe Table"
   ]
  },
  {
   "cell_type": "code",
   "execution_count": 18,
   "metadata": {},
   "outputs": [
    {
     "name": "stdout",
     "output_type": "stream",
     "text": [
      "Syringe     Reagent      Solvent Volume\n",
      "------- ---------------- --------------\n",
      "      1 Diacetyl Rhamnal           1.56\n",
      "      2      NaOMe, MeOH           1.56\n"
     ]
    }
   ],
   "source": [
    "def get_syringe_reagents(reagents, syr_max):\n",
    "    \n",
    "    def get_reagents_for_syringe_number(syr_num):\n",
    "        reagent_for_syringe_num = \"\"\n",
    "        for reagent in reagents:\n",
    "            if reagent.syringe == syr_num:\n",
    "                reagent_for_syringe_num += f'{reagent.name}, '\n",
    "                \n",
    "        return reagent_for_syringe_num[:-2]\n",
    "                \n",
    "    return list(map(get_reagents_for_syringe_number, range(1, syr_max)))\n",
    "\n",
    "syringe_table = QTable()\n",
    "syringe_max = max([reagent.syringe for reagent in reagent_list]) + 1\n",
    "syringe_table['Syringe'] = list(range(1, syringe_max))\n",
    "syringe_table['Reagent'] = get_syringe_reagents(reagent_list, syringe_max)\n",
    "syringe_table['Solvent Volume'] = data['solvent volume']\n",
    "\n",
    "syringe_table.pprint(max_lines=-1, max_width=-1)"
   ]
  },
  {
   "cell_type": "markdown",
   "metadata": {},
   "source": [
    "### Pumps"
   ]
  },
  {
   "cell_type": "code",
   "execution_count": 19,
   "metadata": {},
   "outputs": [],
   "source": [
    "# Harvard pump code\n",
    "import time\n",
    "import asyncio\n",
    "from loguru import logger\n",
    "from mechwolf import _ureg, Pump\n",
    "\n",
    "class HarvardSyringePump(Pump):\n",
    "    def __init__(self, syringe_volume, syringe_diameter, serial_port, name=None):\n",
    "        super().__init__(name = name)\n",
    "        self.serial_port = serial_port\n",
    "        self.syringe_volume = _ureg.parse_expression(syringe_volume)\n",
    "        self.syringe_diameter = _ureg.parse_expression(syringe_diameter)\n",
    "        \n",
    "    def __enter__(self):\n",
    "        import aioserial\n",
    "\n",
    "        self._ser = aioserial.AioSerial(\n",
    "            self.serial_port,\n",
    "            115200,\n",
    "            parity = aioserial.PARITY_NONE,\n",
    "            stopbits = 1,\n",
    "            timeout = 1,\n",
    "            write_timeout = 1,)\n",
    "        syringe_volume_ml = self.syringe_volume.to(_ureg.ml).magnitude \n",
    "        syringe_diameter_mm = self.syringe_diameter.to(_ureg.mm).magnitude\n",
    "        self._ser.write(f'svolume {syringe_volume_ml} ml\\r'.encode())\n",
    "        self._ser.write(f'diameter {syringe_diameter_mm}\\r'.encode())\n",
    "\n",
    "        return self\n",
    "    \n",
    "    def __exit__(self, exc_type, exc_value, traceback):\n",
    "        self.rate = _ureg.parse_expression(\"0 mL/min\")\n",
    "        self._ser.write(b'stop\\r') \n",
    "        \n",
    "        del self._ser\n",
    "\n",
    "    async def _update(self):\n",
    "        rate_mlmin = self.rate.to(_ureg.ml / _ureg.min).magnitude\n",
    "        if rate_mlmin == 0:\n",
    "            self._ser.write(b'stop\\r') \n",
    "        else:\n",
    "            self._ser.write(f'irate {rate_mlmin} m/m\\r'.encode())\n",
    "            self._ser.write(b'irun\\r')"
   ]
  },
  {
   "cell_type": "code",
   "execution_count": 20,
   "metadata": {},
   "outputs": [],
   "source": [
    "pump_1 = HarvardSyringePump(\"24mL\", \"20.05mm\", serial_port = '/dev/tty.usbmodemD4038611', name = \"Pump 1\")"
   ]
  },
  {
   "cell_type": "markdown",
   "metadata": {},
   "source": [
    "### Syringe, Tubing, and Mixer Information"
   ]
  },
  {
   "cell_type": "code",
   "execution_count": 21,
   "metadata": {},
   "outputs": [],
   "source": [
    "#reagent vessels\n",
    "reagent_vessel_1 = mw.Vessel(\"Diacetyl Rhamnal\", name = \"Starting Material\")\n",
    "reagent_vessel_2 = mw.Vessel(\"NaOMe\", name = \"NaOMe + MeOH in DMF\")\n",
    "product_vessel = mw.Vessel(\"Rhamnaldiol\", name = \"product\")\n",
    "\n",
    "#tubing\n",
    "def big_tube(length):\n",
    "    return mw.Tube(length = length, ID = \"0.062 in\", OD = \"1/8 in\", material = \"PFA\")\n",
    "\n",
    "sugar = big_tube(length = \"1 foot\")\n",
    "NaOMe = big_tube(length = \"1 foot\")\n",
    "deacetylation = big_tube(length = \"16 foot\")\n",
    "\n",
    "#mixers\n",
    "def Tmixer(name):\n",
    "    return mw.TMixer(name = name)\n",
    "\n",
    "T_1 = Tmixer(deacetylation)"
   ]
  },
  {
   "cell_type": "markdown",
   "metadata": {},
   "source": [
    "### Apparatus "
   ]
  },
  {
   "cell_type": "code",
   "execution_count": 10,
   "metadata": {},
   "outputs": [
    {
     "ename": "NameError",
     "evalue": "name 'pump_1' is not defined",
     "output_type": "error",
     "traceback": [
      "\u001b[0;31m---------------------------------------------------------------------------\u001b[0m",
      "\u001b[0;31mNameError\u001b[0m                                 Traceback (most recent call last)",
      "\u001b[0;32m<ipython-input-10-0e8abcd69377>\u001b[0m in \u001b[0;36m<module>\u001b[0;34m\u001b[0m\n\u001b[1;32m      2\u001b[0m \u001b[0mA\u001b[0m \u001b[0;34m=\u001b[0m \u001b[0mmw\u001b[0m\u001b[0;34m.\u001b[0m\u001b[0mApparatus\u001b[0m\u001b[0;34m(\u001b[0m\u001b[0;34m\"Deacetylation\"\u001b[0m\u001b[0;34m)\u001b[0m\u001b[0;34m\u001b[0m\u001b[0;34m\u001b[0m\u001b[0m\n\u001b[1;32m      3\u001b[0m \u001b[0;34m\u001b[0m\u001b[0m\n\u001b[0;32m----> 4\u001b[0;31m \u001b[0mA\u001b[0m\u001b[0;34m.\u001b[0m\u001b[0madd\u001b[0m\u001b[0;34m(\u001b[0m\u001b[0mpump_1\u001b[0m\u001b[0;34m,\u001b[0m \u001b[0mreagent_vessel_1\u001b[0m\u001b[0;34m,\u001b[0m \u001b[0msugar\u001b[0m\u001b[0;34m)\u001b[0m\u001b[0;34m\u001b[0m\u001b[0;34m\u001b[0m\u001b[0m\n\u001b[0m\u001b[1;32m      5\u001b[0m \u001b[0mA\u001b[0m\u001b[0;34m.\u001b[0m\u001b[0madd\u001b[0m\u001b[0;34m(\u001b[0m\u001b[0mpump_1\u001b[0m\u001b[0;34m,\u001b[0m \u001b[0mreagent_vessel_2\u001b[0m\u001b[0;34m,\u001b[0m \u001b[0mNaOMe\u001b[0m\u001b[0;34m)\u001b[0m\u001b[0;34m\u001b[0m\u001b[0;34m\u001b[0m\u001b[0m\n\u001b[1;32m      6\u001b[0m \u001b[0;34m\u001b[0m\u001b[0m\n",
      "\u001b[0;31mNameError\u001b[0m: name 'pump_1' is not defined"
     ]
    }
   ],
   "source": [
    "# apparatus \n",
    "A = mw.Apparatus(\"Deacetylation\")\n",
    "\n",
    "A.add(pump_1, reagent_vessel_1, sugar)\n",
    "A.add(pump_1, reagent_vessel_2, NaOMe)\n",
    "\n",
    "A.add(reagent_vessel_1, T_1, sugar)\n",
    "A.add(reagent_vessel_2, T_1, NaOMe)\n",
    "A.add(T_1, product_vessel, deacetylation)\n",
    "\n",
    "A.describe()\n",
    "A.visualize()"
   ]
  },
  {
   "cell_type": "markdown",
   "metadata": {},
   "source": [
    "### Protocol"
   ]
  },
  {
   "cell_type": "code",
   "execution_count": null,
   "metadata": {},
   "outputs": [],
   "source": [
    "P = mw.Protocol(A)\n",
    "\n",
    "switch = timedelta(seconds = 45)\n",
    "\n",
    "current = timedelta(minutes = 0)\n",
    "\n",
    "pump_1_reagents = timedelta(minutes = 2)\n",
    "P.add(pump_1, start = current,\n",
    "              duration = pump_1_reagents, rate = \"1 mL/min\")\n",
    "\n",
    "current += pump_1_reagents + switch\n",
    "\n",
    "deacetylation = timedelta(minutes = 10) \n",
    "P.add(pump_1, start = current, \n",
    "              duration = deacetylation, rate = \"1 mL/min\")\n",
    "\n",
    "current += deacetylation\n",
    "\n",
    "print(f'TOTAL TIME: {current}')\n",
    "P.execute(confirm = True)"
   ]
  },
  {
   "cell_type": "markdown",
   "metadata": {},
   "source": [
    "### Product and Yield Information"
   ]
  },
  {
   "cell_type": "code",
   "execution_count": 11,
   "metadata": {},
   "outputs": [
    {
     "ename": "NameError",
     "evalue": "name 'molesscale' is not defined",
     "output_type": "error",
     "traceback": [
      "\u001b[0;31m---------------------------------------------------------------------------\u001b[0m",
      "\u001b[0;31mNameError\u001b[0m                                 Traceback (most recent call last)",
      "\u001b[0;32m<ipython-input-11-70f21423c62e>\u001b[0m in \u001b[0;36m<module>\u001b[0;34m\u001b[0m\n\u001b[1;32m      4\u001b[0m \u001b[0mtheoretical_yield\u001b[0m \u001b[0;34m=\u001b[0m \u001b[0mround\u001b[0m\u001b[0;34m(\u001b[0m\u001b[0mmoles\u001b[0m \u001b[0;34m*\u001b[0m \u001b[0mproduct_molecular_weight\u001b[0m\u001b[0;34m,\u001b[0m \u001b[0mdecimals\u001b[0m \u001b[0;34m=\u001b[0m \u001b[0;36m4\u001b[0m\u001b[0;34m)\u001b[0m\u001b[0;34m\u001b[0m\u001b[0;34m\u001b[0m\u001b[0m\n\u001b[1;32m      5\u001b[0m \u001b[0;34m\u001b[0m\u001b[0m\n\u001b[0;32m----> 6\u001b[0;31m \u001b[0;32mif\u001b[0m \u001b[0mmolesscale\u001b[0m \u001b[0;34m<\u001b[0m \u001b[0;36m0.0005\u001b[0m\u001b[0;34m:\u001b[0m\u001b[0;34m\u001b[0m\u001b[0;34m\u001b[0m\u001b[0m\n\u001b[0m\u001b[1;32m      7\u001b[0m     \u001b[0mtheoretical_yield\u001b[0m \u001b[0;34m*=\u001b[0m \u001b[0;36m1000\u001b[0m\u001b[0;34m\u001b[0m\u001b[0;34m\u001b[0m\u001b[0m\n\u001b[1;32m      8\u001b[0m     \u001b[0munits\u001b[0m \u001b[0;34m=\u001b[0m \u001b[0;34m'mg'\u001b[0m\u001b[0;34m\u001b[0m\u001b[0;34m\u001b[0m\u001b[0m\n",
      "\u001b[0;31mNameError\u001b[0m: name 'molesscale' is not defined"
     ]
    }
   ],
   "source": [
    "product = \"Deacetylated rhamnal\"\n",
    "product_molecular_weight = 130.14\n",
    "\n",
    "theoretical_yield = round(moles * product_molecular_weight, decimals = 4)\n",
    "\n",
    "if molesscale < 0.0005:\n",
    "    theoretical_yield *= 1000\n",
    "    units = 'mg'\n",
    "else:\n",
    "    units = 'g'\n",
    "\n",
    "print(product + \"; molecular weight: \", product_molecular_weight)\n",
    "\n",
    "print(\"Theoretical Yield:\", theoretical_yield, units)\n",
    "\n",
    "actual_yield = float(input(f\"Enter mass of product in {units}: \"))\n",
    "print(\"Actual Yield:\", actual_yield, units)\n",
    "\n",
    "percent_yield = round((actual_yield / theoretical_yield) * 100, decimals = 1)\n",
    "print(\"Percent Yield:\", percent_yield, \"%\")"
   ]
  }
 ],
 "metadata": {
  "kernelspec": {
   "display_name": "Python 3",
   "language": "python",
   "name": "python3"
  },
  "language_info": {
   "codemirror_mode": {
    "name": "ipython",
    "version": 3
   },
   "file_extension": ".py",
   "mimetype": "text/x-python",
   "name": "python",
   "nbconvert_exporter": "python",
   "pygments_lexer": "ipython3",
   "version": "3.9.0"
  }
 },
 "nbformat": 4,
 "nbformat_minor": 4
}
