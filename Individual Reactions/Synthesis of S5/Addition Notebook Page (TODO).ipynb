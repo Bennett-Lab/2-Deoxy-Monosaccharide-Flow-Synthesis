{
 "cells": [
  {
   "cell_type": "markdown",
   "metadata": {},
   "source": [
    "## Notebook Page"
   ]
  },
  {
   "cell_type": "code",
   "execution_count": 23,
   "metadata": {},
   "outputs": [],
   "source": [
    "import mechwolf as mw\n",
    "import graphviz\n",
    "import math\n",
    "from datetime import timedelta\n",
    "from astropy.table import QTable, Table, Column\n",
    "from sigfig import round\n",
    "import json"
   ]
  },
  {
   "cell_type": "code",
   "execution_count": 24,
   "metadata": {},
   "outputs": [],
   "source": [
    "with open('addition_reagents.json') as f:\n",
    "    data = json.load(f)"
   ]
  },
  {
   "cell_type": "markdown",
   "metadata": {},
   "source": [
    "### Reagents"
   ]
  },
  {
   "cell_type": "code",
   "execution_count": 25,
   "metadata": {},
   "outputs": [
    {
     "name": "stdout",
     "output_type": "stream",
     "text": [
      "The limiting reagent is C-4 Benzylated Enone\n",
      "\n",
      "Moles: 0.0022920009168003667\n"
     ]
    }
   ],
   "source": [
    "print(f\"The limiting reagent is {data['limiting reagent']}\")\n",
    "mw_limiting = 218.15\n",
    "\n",
    "try:\n",
    "    mass_scale = float(data['mass scale'])\n",
    "except:\n",
    "    print('Invalid input: numerical values only')\n",
    "\n",
    "moles = mass_scale / mw_limiting\n",
    "\n",
    "print(f'\\nMoles: {moles}')"
   ]
  },
  {
   "cell_type": "code",
   "execution_count": 26,
   "metadata": {},
   "outputs": [
    {
     "name": "stdout",
     "output_type": "stream",
     "text": [
      "\n",
      "Volume: 11.460004584001831 mL\n"
     ]
    }
   ],
   "source": [
    "try:\n",
    "    concentration = float(data['concentration'])\n",
    "except:\n",
    "    print('Invalid input: numerical values only')\n",
    "    \n",
    "volume = (moles * 1000) / concentration\n",
    "\n",
    "print(f'\\nVolume: {volume} mL')"
   ]
  },
  {
   "cell_type": "code",
   "execution_count": 27,
   "metadata": {},
   "outputs": [],
   "source": [
    "# TODO for Tu-Anh: do we need solvent volume for the solids\n",
    "\n",
    "class Reagent:\n",
    "    \n",
    "    def __init__(self, reagent):\n",
    "        assert 'name' in reagent, 'ERROR: one of the reagents does not have a name field'\n",
    "        assert 'inChi' in reagent, f'Error: {reagent[\"name\"]} does not have an inChi field'\n",
    "        assert 'inChi Key' in reagent, f'Error: {reagent[\"name\"]} does not have an inChi key field'\n",
    "        assert 'molecular weight' in reagent, f'Error: {reagent[\"name\"]} does not have a molecular weight field'\n",
    "        assert 'eq' in reagent, f'Error: {reagent[\"name\"]} does not have an eq field'\n",
    "        assert 'syringe' in reagent, f'Error: {reagent[\"name\"]} does not have an syringe # field'\n",
    "        \n",
    "        self.name = reagent['name']\n",
    "        self.inChi = reagent['inChi']\n",
    "        self.mol_weight = reagent['molecular weight']\n",
    "        self.eq = reagent['eq']\n",
    "        self.syringe = reagent['syringe']\n",
    "        self.moles = round(moles * self.eq, decimals = 4)\n",
    "        self.mass = round(self.moles * self.mol_weight, decimals = 4)\n",
    "        \n",
    "    def __str__(self):\n",
    "        return f\"{self.name}\"\n",
    "    \n",
    "class Solid(Reagent):\n",
    "    \n",
    "    def __init__(self, reagent):\n",
    "        super().__init__(reagent)\n",
    "        \n",
    "        assert 'solvent eq' in reagent, f'Error: {reagent[\"name\"]} does not have a solvent eq field'\n",
    "        self.solv_eq = reagent['solvent eq']\n",
    "        self.molarity = round(self.moles / self.solv_eq, decimals = 4)\n",
    "\n",
    "class Liquid(Reagent):\n",
    "    \n",
    "    def __init__(self, reagent):\n",
    "        super().__init__(reagent)\n",
    "        \n",
    "        assert 'density' in reagent, f'Error: {reagent[\"name\"]} does not have a density field'\n",
    "        self.density = reagent['density']\n",
    "        self.volume = round(self.eq * moles * (self.mol_weight / self.density), decimals = 4)\n",
    "        \n",
    "reagent_list = []\n",
    "for solid in data['solid reagents']:\n",
    "    reagent_list.append(Solid(solid))\n",
    "    \n",
    "for liquid in data['liquid reagents']:\n",
    "    reagent_list.append(Liquid(liquid))"
   ]
  },
  {
   "cell_type": "markdown",
   "metadata": {},
   "source": [
    "## Stoichiometry Table\n",
    "\n",
    "### Reagent Table"
   ]
  },
  {
   "cell_type": "code",
   "execution_count": 28,
   "metadata": {
    "scrolled": true
   },
   "outputs": [
    {
     "name": "stdout",
     "output_type": "stream",
     "text": [
      "    Reagent      Molecular Weight (g/mol)  mol   Mass (g) Volume (mL) Density (g/mL)  eq\n",
      "---------------- ------------------------ ------ -------- ----------- -------------- ---\n",
      "Benzylated Enone                   218.25 0.0023    0.502         N/A            N/A 1.0\n",
      "Cesium Carbonate                   325.82 0.0025   0.8146         N/A            N/A 1.1\n",
      "      Thiocresol                    124.2 0.0092   1.1426         N/A            N/A 4.0\n",
      "   Triethylamine                   101.19 0.0025    0.253      0.3514          0.726 1.1\n",
      "\n",
      "Solvent: THF\n"
     ]
    }
   ],
   "source": [
    "reagent_table = QTable()\n",
    "reagent_table['Reagent'] = [reagent.name for reagent in reagent_list]\n",
    "reagent_table['Molecular Weight (g/mol)'] = [reagent.mol_weight for reagent in reagent_list]\n",
    "\n",
    "if moles < 0.0005:\n",
    "    reagent_table['mmol'] = [reagent.moles * 1000 for reagent in reagent_list]\n",
    "    reagent_table['Mass (mg)'] = [round(reagent.mass * 1000, decimals = 4) for reagent in reagent_list]\n",
    "else:\n",
    "    reagent_table['mol'] = [reagent.moles for reagent in reagent_list]\n",
    "    reagent_table['Mass (g)'] = [round(reagent.mass, decimals = 4) for reagent in reagent_list]\n",
    "\n",
    "reagent_table['Volume (mL)'] = [reagent.volume if hasattr(reagent, 'volume') else \"N/A\" for reagent in reagent_list]\n",
    "reagent_table['Density (g/mL)'] = [reagent.density if hasattr(reagent, 'density') else \"N/A\" for reagent in reagent_list]\n",
    "reagent_table['eq'] = [reagent.eq for reagent in reagent_list]\n",
    "\n",
    "reagent_table.pprint(max_lines=-1, max_width=-1)\n",
    "\n",
    "print(f'\\nSolvent: {data[\"solvent\"]}')"
   ]
  },
  {
   "cell_type": "markdown",
   "metadata": {},
   "source": [
    "### Syringe Table"
   ]
  },
  {
   "cell_type": "code",
   "execution_count": 29,
   "metadata": {},
   "outputs": [
    {
     "name": "stdout",
     "output_type": "stream",
     "text": [
      "Syringe             Reagent             Solvent Volume\n",
      "------- ------------------------------- --------------\n",
      "      1                Benzylated Enone           11.5\n",
      "      2 Cesium Carbonate, Triethylamine           11.2\n",
      "      3                      Thiocresol           23.0\n"
     ]
    }
   ],
   "source": [
    "def get_syringe_reagents(reagents, syr_max):\n",
    "    \n",
    "    def get_reagents_for_syringe_number(syr_num):\n",
    "        reagent_for_syringe_num = \"\"\n",
    "        for reagent in reagents:\n",
    "            if reagent.syringe == syr_num:\n",
    "                reagent_for_syringe_num += f'{reagent.name}, '\n",
    "                \n",
    "        return reagent_for_syringe_num[:-2]\n",
    "                \n",
    "    return list(map(get_reagents_for_syringe_number, range(1, syr_max)))\n",
    "\n",
    "syringe_table = QTable()\n",
    "syringe_max = max([reagent.syringe for reagent in reagent_list]) + 1\n",
    "syringe_table['Syringe'] = list(range(1, syringe_max))\n",
    "syringe_table['Reagent'] = get_syringe_reagents(reagent_list, syringe_max)\n",
    "syringe_table['Solvent Volume'] = data['solvent volume']\n",
    "\n",
    "syringe_table.pprint(max_lines=-1, max_width=-1)"
   ]
  },
  {
   "cell_type": "markdown",
   "metadata": {},
   "source": [
    "### Pumps"
   ]
  },
  {
   "cell_type": "code",
   "execution_count": 30,
   "metadata": {},
   "outputs": [],
   "source": [
    "# Harvard pump code\n",
    "import time\n",
    "import asyncio\n",
    "from loguru import logger\n",
    "from mechwolf import _ureg, Pump\n",
    "\n",
    "class HarvardSyringePump(Pump):\n",
    "    def __init__(self, syringe_volume, syringe_diameter, serial_port, name=None):\n",
    "        super().__init__(name = name)\n",
    "        self.serial_port = serial_port\n",
    "        self.syringe_volume = _ureg.parse_expression(syringe_volume)\n",
    "        self.syringe_diameter = _ureg.parse_expression(syringe_diameter)\n",
    "        \n",
    "    def __enter__(self):\n",
    "        import aioserial\n",
    "\n",
    "        self._ser = aioserial.AioSerial(\n",
    "            self.serial_port,\n",
    "            115200,\n",
    "            parity = aioserial.PARITY_NONE,\n",
    "            stopbits = 1,\n",
    "            timeout = 1,\n",
    "            write_timeout = 1,)\n",
    "        syringe_volume_ml = self.syringe_volume.to(_ureg.ml).magnitude \n",
    "        syringe_diameter_mm = self.syringe_diameter.to(_ureg.mm).magnitude\n",
    "        self._ser.write(f'svolume {syringe_volume_ml} ml\\r'.encode())\n",
    "        self._ser.write(f'diameter {syringe_diameter_mm}\\r'.encode())\n",
    "\n",
    "        return self\n",
    "    \n",
    "    def __exit__(self, exc_type, exc_value, traceback):\n",
    "        self.rate = _ureg.parse_expression(\"0 mL/min\")\n",
    "        self._ser.write(b'stop\\r') \n",
    "        \n",
    "        del self._ser\n",
    "\n",
    "    async def _update(self):\n",
    "        rate_mlmin = self.rate.to(_ureg.ml / _ureg.min).magnitude\n",
    "        if rate_mlmin == 0:\n",
    "            self._ser.write(b'stop\\r') \n",
    "        else:\n",
    "            self._ser.write(f'irate {rate_mlmin} m/m\\r'.encode())\n",
    "            self._ser.write(b'irun\\r')"
   ]
  },
  {
   "cell_type": "code",
   "execution_count": 31,
   "metadata": {},
   "outputs": [],
   "source": [
    "pump_1 = HarvardSyringePump(\"24mL\", \"20.05mm\", serial_port = '/dev/tty.usbmodemD4038611', name = \"Pump 1\")\n",
    "pump_2 = HarvardSyringePump(\"24mL\", \"20.05mm\", serial_port = '/dev/tty.usbmodemD4038591', name = \"Pump 2\")"
   ]
  },
  {
   "cell_type": "markdown",
   "metadata": {},
   "source": [
    "### Syringe, Tubing, and Mixer Information"
   ]
  },
  {
   "cell_type": "code",
   "execution_count": 47,
   "metadata": {},
   "outputs": [],
   "source": [
    "#reagent vessels\n",
    "reagent_vessel_1 = mw.Vessel(\"Benzylated Rhamnal\", name = \"Starting Material\")\n",
    "reagent_vessel_2 = mw.Vessel(\"CsCO3\", name = \"CsCO3, Et3N in THF\")\n",
    "reagent_vessel_3 = mw.Vessel(\"Thiocresol\", name = \"Thiocresol\")\n",
    "product_vessel = mw.Vessel(\"Thioglycoside 17\", name = \"Product\")\n",
    "\n",
    "#tubing\n",
    "def big_tube(length):\n",
    "    return mw.Tube(length = length, ID = \"0.062 in\", OD = \"1/8 in\", material = \"PFA\")\n",
    "\n",
    "sugar = big_tube(length = \"1 foot\")\n",
    "CsCO3 = big_tube(length = \"1 foot\")\n",
    "activation = big_tube(length = \"1 foot\")\n",
    "thiocresol = big_tube(length = \"1 foot\")\n",
    "addition = big_tube(length = \"84 foot\")\n",
    "\n",
    "#mixers\n",
    "#TODO: add tmixer sizes (0.042 in through hole)\n",
    "def Tmixer(name):\n",
    "    return mw.TMixer(name = name)\n",
    "\n",
    "T_1 = Tmixer(activation)\n",
    "T_2 = Tmixer(addition) "
   ]
  },
  {
   "cell_type": "markdown",
   "metadata": {},
   "source": [
    "### Apparatus "
   ]
  },
  {
   "cell_type": "code",
   "execution_count": 48,
   "metadata": {},
   "outputs": [
    {
     "data": {
      "image/svg+xml": [
       "<?xml version=\"1.0\" encoding=\"UTF-8\" standalone=\"no\"?>\n",
       "<!DOCTYPE svg PUBLIC \"-//W3C//DTD SVG 1.1//EN\"\n",
       " \"http://www.w3.org/Graphics/SVG/1.1/DTD/svg11.dtd\">\n",
       "<!-- Generated by graphviz version 2.47.1 (20210417.1919)\n",
       " -->\n",
       "<!-- Title: 1,4 &#45; Conjugate Addition Pages: 1 -->\n",
       "<svg width=\"1022pt\" height=\"175pt\"\n",
       " viewBox=\"0.00 0.00 1022.00 175.00\" xmlns=\"http://www.w3.org/2000/svg\" xmlns:xlink=\"http://www.w3.org/1999/xlink\">\n",
       "<g id=\"graph0\" class=\"graph\" transform=\"scale(1 1) rotate(0) translate(4 171)\">\n",
       "<title>1,4 &#45; Conjugate Addition</title>\n",
       "<polygon fill=\"white\" stroke=\"transparent\" points=\"-4,4 -4,-171 1018,-171 1018,4 -4,4\"/>\n",
       "<text text-anchor=\"middle\" x=\"507\" y=\"-7.8\" font-family=\"Times,serif\" font-size=\"14.00\">1,4 &#45; Conjugate Addition</text>\n",
       "<!-- CsCO3, Et3N in THF -->\n",
       "<g id=\"node1\" class=\"node\">\n",
       "<title>CsCO3, Et3N in THF</title>\n",
       "<path fill=\"none\" stroke=\"black\" d=\"M231,-109.73C231,-111.53 200.52,-113 163,-113 125.48,-113 95,-111.53 95,-109.73 95,-109.73 95,-80.27 95,-80.27 95,-78.47 125.48,-77 163,-77 200.52,-77 231,-78.47 231,-80.27 231,-80.27 231,-109.73 231,-109.73\"/>\n",
       "<path fill=\"none\" stroke=\"black\" d=\"M231,-109.73C231,-107.92 200.52,-106.45 163,-106.45 125.48,-106.45 95,-107.92 95,-109.73\"/>\n",
       "<text text-anchor=\"middle\" x=\"163\" y=\"-91.3\" font-family=\"Times,serif\" font-size=\"14.00\">CsCO3, Et3N in THF</text>\n",
       "</g>\n",
       "<!-- Tube of length 1 foot, ID 0.062 inch, OD 0.125 inch -->\n",
       "<g id=\"node7\" class=\"node\">\n",
       "<title>Tube of length 1 foot, ID 0.062 inch, OD 0.125 inch</title>\n",
       "<polygon fill=\"none\" stroke=\"black\" points=\"560,-107 267,-107 267,-83 560,-83 572,-95 560,-107\"/>\n",
       "<text text-anchor=\"middle\" x=\"419.5\" y=\"-91.3\" font-family=\"Times,serif\" font-size=\"14.00\">Tube of length 1 foot, ID 0.062 inch, OD 0.125 inch</text>\n",
       "</g>\n",
       "<!-- CsCO3, Et3N in THF&#45;&gt;Tube of length 1 foot, ID 0.062 inch, OD 0.125 inch -->\n",
       "<g id=\"edge4\" class=\"edge\">\n",
       "<title>CsCO3, Et3N in THF&#45;&gt;Tube of length 1 foot, ID 0.062 inch, OD 0.125 inch</title>\n",
       "<path fill=\"none\" stroke=\"black\" d=\"M231.2,-95C239.33,-95 247.89,-95 256.68,-95\"/>\n",
       "<polygon fill=\"black\" stroke=\"black\" points=\"256.7,-98.5 266.7,-95 256.7,-91.5 256.7,-98.5\"/>\n",
       "</g>\n",
       "<!-- Product -->\n",
       "<g id=\"node2\" class=\"node\">\n",
       "<title>Product</title>\n",
       "<path fill=\"none\" stroke=\"black\" d=\"M1014,-136.73C1014,-138.53 1000.78,-140 984.5,-140 968.22,-140 955,-138.53 955,-136.73 955,-136.73 955,-107.27 955,-107.27 955,-105.47 968.22,-104 984.5,-104 1000.78,-104 1014,-105.47 1014,-107.27 1014,-107.27 1014,-136.73 1014,-136.73\"/>\n",
       "<path fill=\"none\" stroke=\"black\" d=\"M1014,-136.73C1014,-134.92 1000.78,-133.45 984.5,-133.45 968.22,-133.45 955,-134.92 955,-136.73\"/>\n",
       "<text text-anchor=\"middle\" x=\"984.5\" y=\"-118.3\" font-family=\"Times,serif\" font-size=\"14.00\">Product</text>\n",
       "</g>\n",
       "<!-- Pump 1 -->\n",
       "<g id=\"node3\" class=\"node\">\n",
       "<title>Pump 1</title>\n",
       "<polygon fill=\"none\" stroke=\"black\" points=\"59,-86 4,-86 0,-82 0,-50 55,-50 59,-54 59,-86\"/>\n",
       "<polyline fill=\"none\" stroke=\"black\" points=\"55,-82 0,-82 \"/>\n",
       "<polyline fill=\"none\" stroke=\"black\" points=\"55,-82 55,-50 \"/>\n",
       "<polyline fill=\"none\" stroke=\"black\" points=\"55,-82 59,-86 \"/>\n",
       "<text text-anchor=\"middle\" x=\"29.5\" y=\"-64.3\" font-family=\"Times,serif\" font-size=\"14.00\">Pump 1</text>\n",
       "</g>\n",
       "<!-- Pump 1&#45;&gt;CsCO3, Et3N in THF -->\n",
       "<g id=\"edge2\" class=\"edge\">\n",
       "<title>Pump 1&#45;&gt;CsCO3, Et3N in THF</title>\n",
       "<path fill=\"none\" stroke=\"black\" d=\"M59.03,-73.86C66.86,-75.46 75.72,-77.29 84.9,-79.17\"/>\n",
       "<polygon fill=\"black\" stroke=\"black\" points=\"84.44,-82.65 94.94,-81.23 85.84,-75.79 84.44,-82.65\"/>\n",
       "</g>\n",
       "<!-- Starting Material -->\n",
       "<g id=\"node5\" class=\"node\">\n",
       "<title>Starting Material</title>\n",
       "<path fill=\"none\" stroke=\"black\" d=\"M218,-55.73C218,-57.53 193.35,-59 163,-59 132.65,-59 108,-57.53 108,-55.73 108,-55.73 108,-26.27 108,-26.27 108,-24.47 132.65,-23 163,-23 193.35,-23 218,-24.47 218,-26.27 218,-26.27 218,-55.73 218,-55.73\"/>\n",
       "<path fill=\"none\" stroke=\"black\" d=\"M218,-55.73C218,-53.92 193.35,-52.45 163,-52.45 132.65,-52.45 108,-53.92 108,-55.73\"/>\n",
       "<text text-anchor=\"middle\" x=\"163\" y=\"-37.3\" font-family=\"Times,serif\" font-size=\"14.00\">Starting Material</text>\n",
       "</g>\n",
       "<!-- Pump 1&#45;&gt;Starting Material -->\n",
       "<g id=\"edge1\" class=\"edge\">\n",
       "<title>Pump 1&#45;&gt;Starting Material</title>\n",
       "<path fill=\"none\" stroke=\"black\" d=\"M59.03,-62.14C70.52,-59.78 84.27,-56.96 97.92,-54.16\"/>\n",
       "<polygon fill=\"black\" stroke=\"black\" points=\"98.72,-57.57 107.81,-52.13 97.31,-50.71 98.72,-57.57\"/>\n",
       "</g>\n",
       "<!-- Pump 2 -->\n",
       "<g id=\"node4\" class=\"node\">\n",
       "<title>Pump 2</title>\n",
       "<polygon fill=\"none\" stroke=\"black\" points=\"192.5,-167 137.5,-167 133.5,-163 133.5,-131 188.5,-131 192.5,-135 192.5,-167\"/>\n",
       "<polyline fill=\"none\" stroke=\"black\" points=\"188.5,-163 133.5,-163 \"/>\n",
       "<polyline fill=\"none\" stroke=\"black\" points=\"188.5,-163 188.5,-131 \"/>\n",
       "<polyline fill=\"none\" stroke=\"black\" points=\"188.5,-163 192.5,-167 \"/>\n",
       "<text text-anchor=\"middle\" x=\"163\" y=\"-145.3\" font-family=\"Times,serif\" font-size=\"14.00\">Pump 2</text>\n",
       "</g>\n",
       "<!-- Thiocresol -->\n",
       "<g id=\"node6\" class=\"node\">\n",
       "<title>Thiocresol</title>\n",
       "<path fill=\"none\" stroke=\"black\" d=\"M456.5,-163.73C456.5,-165.53 439.92,-167 419.5,-167 399.08,-167 382.5,-165.53 382.5,-163.73 382.5,-163.73 382.5,-134.27 382.5,-134.27 382.5,-132.47 399.08,-131 419.5,-131 439.92,-131 456.5,-132.47 456.5,-134.27 456.5,-134.27 456.5,-163.73 456.5,-163.73\"/>\n",
       "<path fill=\"none\" stroke=\"black\" d=\"M456.5,-163.73C456.5,-161.92 439.92,-160.45 419.5,-160.45 399.08,-160.45 382.5,-161.92 382.5,-163.73\"/>\n",
       "<text text-anchor=\"middle\" x=\"419.5\" y=\"-145.3\" font-family=\"Times,serif\" font-size=\"14.00\">Thiocresol</text>\n",
       "</g>\n",
       "<!-- Pump 2&#45;&gt;Thiocresol -->\n",
       "<g id=\"edge6\" class=\"edge\">\n",
       "<title>Pump 2&#45;&gt;Thiocresol</title>\n",
       "<path fill=\"none\" stroke=\"black\" d=\"M192.7,-149C236.33,-149 319.79,-149 372.11,-149\"/>\n",
       "<polygon fill=\"black\" stroke=\"black\" points=\"372.14,-152.5 382.14,-149 372.14,-145.5 372.14,-152.5\"/>\n",
       "</g>\n",
       "<!-- Starting Material&#45;&gt;Tube of length 1 foot, ID 0.062 inch, OD 0.125 inch -->\n",
       "<g id=\"edge3\" class=\"edge\">\n",
       "<title>Starting Material&#45;&gt;Tube of length 1 foot, ID 0.062 inch, OD 0.125 inch</title>\n",
       "<path fill=\"none\" stroke=\"black\" d=\"M218.28,-52.52C248.84,-59 287.88,-67.28 323.35,-74.81\"/>\n",
       "<polygon fill=\"black\" stroke=\"black\" points=\"322.75,-78.26 333.25,-76.91 324.2,-71.41 322.75,-78.26\"/>\n",
       "</g>\n",
       "<!-- Tube of length 84 foot, ID 0.062 inch, OD 0.125 inch -->\n",
       "<g id=\"node8\" class=\"node\">\n",
       "<title>Tube of length 84 foot, ID 0.062 inch, OD 0.125 inch</title>\n",
       "<polygon fill=\"none\" stroke=\"black\" points=\"907,-134 608,-134 608,-110 907,-110 919,-122 907,-134\"/>\n",
       "<text text-anchor=\"middle\" x=\"763.5\" y=\"-118.3\" font-family=\"Times,serif\" font-size=\"14.00\">Tube of length 84 foot, ID 0.062 inch, OD 0.125 inch</text>\n",
       "</g>\n",
       "<!-- Thiocresol&#45;&gt;Tube of length 84 foot, ID 0.062 inch, OD 0.125 inch -->\n",
       "<g id=\"edge7\" class=\"edge\">\n",
       "<title>Thiocresol&#45;&gt;Tube of length 84 foot, ID 0.062 inch, OD 0.125 inch</title>\n",
       "<path fill=\"none\" stroke=\"black\" d=\"M456.78,-146.14C490.93,-143.44 544.62,-139.2 597.54,-135.02\"/>\n",
       "<polygon fill=\"black\" stroke=\"black\" points=\"598.06,-138.49 607.76,-134.22 597.51,-131.51 598.06,-138.49\"/>\n",
       "</g>\n",
       "<!-- Tube of length 1 foot, ID 0.062 inch, OD 0.125 inch&#45;&gt;Tube of length 84 foot, ID 0.062 inch, OD 0.125 inch -->\n",
       "<g id=\"edge5\" class=\"edge\">\n",
       "<title>Tube of length 1 foot, ID 0.062 inch, OD 0.125 inch&#45;&gt;Tube of length 84 foot, ID 0.062 inch, OD 0.125 inch</title>\n",
       "<path fill=\"none\" stroke=\"black\" d=\"M572.5,-107C580.87,-107.66 589.3,-108.33 597.71,-108.99\"/>\n",
       "<polygon fill=\"black\" stroke=\"black\" points=\"597.71,-112.5 607.96,-109.8 598.27,-105.52 597.71,-112.5\"/>\n",
       "</g>\n",
       "<!-- Tube of length 84 foot, ID 0.062 inch, OD 0.125 inch&#45;&gt;Product -->\n",
       "<g id=\"edge8\" class=\"edge\">\n",
       "<title>Tube of length 84 foot, ID 0.062 inch, OD 0.125 inch&#45;&gt;Product</title>\n",
       "<path fill=\"none\" stroke=\"black\" d=\"M919.27,-122C928.38,-122 936.99,-122 944.76,-122\"/>\n",
       "<polygon fill=\"black\" stroke=\"black\" points=\"944.82,-125.5 954.82,-122 944.82,-118.5 944.82,-125.5\"/>\n",
       "</g>\n",
       "</g>\n",
       "</svg>\n"
      ],
      "text/plain": [
       "<graphviz.dot.Digraph at 0x7f8637eff400>"
      ]
     },
     "execution_count": 48,
     "metadata": {},
     "output_type": "execute_result"
    }
   ],
   "source": [
    "# apparatus \n",
    "A = mw.Apparatus(\"1,4 - Conjugate Addition\")\n",
    "\n",
    "A.add(pump_1, reagent_vessel_1, sugar)\n",
    "A.add(pump_1, reagent_vessel_2, CsCO3)\n",
    "\n",
    "A.add(reagent_vessel_1, T_1, sugar)\n",
    "A.add(reagent_vessel_2, T_1, CsCO3)\n",
    "A.add(T_1, T_2, activation)\n",
    "\n",
    "A.add(pump_2, reagent_vessel_3, thiocresol)\n",
    "\n",
    "A.add(reagent_vessel_3, T_2, thiocresol)\n",
    "A.add(T_2, product_vessel, addition)\n",
    "\n",
    "A.describe()\n",
    "A.visualize()"
   ]
  },
  {
   "cell_type": "markdown",
   "metadata": {},
   "source": [
    "### Protocol"
   ]
  },
  {
   "cell_type": "code",
   "execution_count": 50,
   "metadata": {},
   "outputs": [
    {
     "name": "stdout",
     "output_type": "stream",
     "text": [
      "TOTAL TIME: 0:40:45\n"
     ]
    }
   ],
   "source": [
    "P = mw.Protocol(A)\n",
    "\n",
    "switch = timedelta(seconds = 45)\n",
    "\n",
    "current = timedelta(minutes = 0)\n",
    "\n",
    "activation = timedelta(minutes = 2)\n",
    "reaction = timedelta(minutes = 23) \n",
    "P.add(pump_1, start = current,\n",
    "              duration = activation + reaction, rate = \"0.5 mL/min\")\n",
    "\n",
    "current += activation\n",
    "\n",
    "P.add(pump_2, start = current, \n",
    "              duration = reaction, rate = \"1 mL/min\")\n",
    "\n",
    "current += reaction + switch\n",
    "\n",
    "flush = timedelta(minutes = 15)\n",
    "P.add(pump_1, start = current,\n",
    "              duration = flush, rate = \"0.5 mL/min\")\n",
    "P.add(pump_2, start = current, \n",
    "              duration = flush, rate = \"1 mL/min\")\n",
    "\n",
    "current += flush\n",
    "\n",
    "print(f'TOTAL TIME: {current}')\n",
    "P.execute(confirm = True)"
   ]
  },
  {
   "cell_type": "markdown",
   "metadata": {},
   "source": [
    "### Product and Yield Information"
   ]
  },
  {
   "cell_type": "code",
   "execution_count": 11,
   "metadata": {},
   "outputs": [
    {
     "ename": "NameError",
     "evalue": "name 'molesscale' is not defined",
     "output_type": "error",
     "traceback": [
      "\u001b[0;31m---------------------------------------------------------------------------\u001b[0m",
      "\u001b[0;31mNameError\u001b[0m                                 Traceback (most recent call last)",
      "\u001b[0;32m<ipython-input-11-70f21423c62e>\u001b[0m in \u001b[0;36m<module>\u001b[0;34m\u001b[0m\n\u001b[1;32m      4\u001b[0m \u001b[0mtheoretical_yield\u001b[0m \u001b[0;34m=\u001b[0m \u001b[0mround\u001b[0m\u001b[0;34m(\u001b[0m\u001b[0mmoles\u001b[0m \u001b[0;34m*\u001b[0m \u001b[0mproduct_molecular_weight\u001b[0m\u001b[0;34m,\u001b[0m \u001b[0mdecimals\u001b[0m \u001b[0;34m=\u001b[0m \u001b[0;36m4\u001b[0m\u001b[0;34m)\u001b[0m\u001b[0;34m\u001b[0m\u001b[0;34m\u001b[0m\u001b[0m\n\u001b[1;32m      5\u001b[0m \u001b[0;34m\u001b[0m\u001b[0m\n\u001b[0;32m----> 6\u001b[0;31m \u001b[0;32mif\u001b[0m \u001b[0mmolesscale\u001b[0m \u001b[0;34m<\u001b[0m \u001b[0;36m0.0005\u001b[0m\u001b[0;34m:\u001b[0m\u001b[0;34m\u001b[0m\u001b[0;34m\u001b[0m\u001b[0m\n\u001b[0m\u001b[1;32m      7\u001b[0m     \u001b[0mtheoretical_yield\u001b[0m \u001b[0;34m*=\u001b[0m \u001b[0;36m1000\u001b[0m\u001b[0;34m\u001b[0m\u001b[0;34m\u001b[0m\u001b[0m\n\u001b[1;32m      8\u001b[0m     \u001b[0munits\u001b[0m \u001b[0;34m=\u001b[0m \u001b[0;34m'mg'\u001b[0m\u001b[0;34m\u001b[0m\u001b[0;34m\u001b[0m\u001b[0m\n",
      "\u001b[0;31mNameError\u001b[0m: name 'molesscale' is not defined"
     ]
    }
   ],
   "source": [
    "product = \"Deacetylated rhamnal\"\n",
    "product_molecular_weight = 130.14\n",
    "\n",
    "theoretical_yield = round(moles * product_molecular_weight, decimals = 4)\n",
    "\n",
    "if molesscale < 0.0005:\n",
    "    theoretical_yield *= 1000\n",
    "    units = 'mg'\n",
    "else:\n",
    "    units = 'g'\n",
    "\n",
    "print(product + \"; molecular weight: \", product_molecular_weight)\n",
    "\n",
    "print(\"Theoretical Yield:\", theoretical_yield, units)\n",
    "\n",
    "actual_yield = float(input(f\"Enter mass of product in {units}: \"))\n",
    "print(\"Actual Yield:\", actual_yield, units)\n",
    "\n",
    "percent_yield = round((actual_yield / theoretical_yield) * 100, decimals = 1)\n",
    "print(\"Percent Yield:\", percent_yield, \"%\")"
   ]
  }
 ],
 "metadata": {
  "kernelspec": {
   "display_name": "Python 3",
   "language": "python",
   "name": "python3"
  },
  "language_info": {
   "codemirror_mode": {
    "name": "ipython",
    "version": 3
   },
   "file_extension": ".py",
   "mimetype": "text/x-python",
   "name": "python",
   "nbconvert_exporter": "python",
   "pygments_lexer": "ipython3",
   "version": "3.9.0"
  }
 },
 "nbformat": 4,
 "nbformat_minor": 4
}
