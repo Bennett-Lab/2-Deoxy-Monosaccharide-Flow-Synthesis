{
 "cells": [
  {
   "cell_type": "code",
   "execution_count": 4,
   "metadata": {},
   "outputs": [],
   "source": [
    "import mechwolf as mw\n",
    "import graphviz\n",
    "import math\n",
    "from datetime import timedelta\n",
    "from astropy.table import QTable, Table, Column \n",
    "from sigfig import round\n",
    "from mechwolf import Pump"
   ]
  },
  {
   "cell_type": "markdown",
   "metadata": {},
   "source": [
    "### Reagents"
   ]
  },
  {
   "cell_type": "code",
   "execution_count": 8,
   "metadata": {},
   "outputs": [],
   "source": [
    "limiting_reagent = \"2,4 Diacetyl Rhamnal\"\n",
    "mw_limiting = 214.22\n",
    "mass_scale = 1.0\n",
    "\n",
    "try:\n",
    "    mass_scale = float(mass_scale)\n",
    "except:\n",
    "    print('Invalid input: numerical values only')\n",
    "\n",
    "molar_scale = mass_scale/mw_limiting\n",
    "\n",
    "scale = float(molar_scale)"
   ]
  },
  {
   "cell_type": "code",
   "execution_count": 10,
   "metadata": {},
   "outputs": [
    {
     "name": "stdout",
     "output_type": "stream",
     "text": [
      "Diacetyl Rhamnal - C10H14O5\n",
      "NaOMe - NaCH3O\n",
      "MeOH - CH4O\n",
      "TBSCl - C6H15ClSi\n",
      "DMAP - C7H10N2\n",
      "Et3N - C6H15N\n",
      "NaHMDS - C6H18NNaSi2\n",
      "BnBr - C7H7Br\n"
     ]
    }
   ],
   "source": [
    "class Reagent:\n",
    "    \n",
    "    def __init__(self, name, formula, mol_weight, eq, solv_volume):\n",
    "        self.name = name\n",
    "        self.formula = formula\n",
    "        self.mol_weight = mol_weight\n",
    "        self.eq = eq\n",
    "        self.solv_volume = solv_volume / 1000 # in L\n",
    "        self.moles = round(scale * self.eq, decimals = 4)\n",
    "        self.mass = round(self.moles * self.mol_weight, decimals = 4)\n",
    "        \n",
    "    def __str__(self):\n",
    "        return f\"{self.name} - {self.formula}\"\n",
    "    \n",
    "class Solids(Reagent):\n",
    "    \n",
    "    def __init__(self, name, formula, mol_weight, eq, solv_volume):\n",
    "        super().__init__(name, formula, mol_weight, eq, solv_volume)\n",
    "        self.molarity = round(self.moles / self.solv_volume, decimals = 4)\n",
    "\n",
    "Diacetyl_Rhamnal = Solids(\"Diacetyl Rhamnal\", \"C10H14O5\", 214.22, 1.0, 1.56)\n",
    "NaOMe = Solids(\"NaOMe\", \"NaCH3O\", 54.05, 5.0, 1.56)\n",
    "TBSCl = Solids(\"TBSCl\", \"C6H15ClSi\", 150.72, 3.5, 1.56)\n",
    "DMAP = Solids(\"DMAP\", \"C7H10N2\", 122.17, 0.4, 1.56)\n",
    "\n",
    "class Liquids(Reagent):\n",
    "    \n",
    "    def __init__(self, name, formula, mol_weight, density, eq, solv_volume):\n",
    "        super().__init__(name, formula, mol_weight, eq, solv_volume)\n",
    "        self.density = density\n",
    "        self.volume = round(self.eq * scale * (self.mol_weight / self.density), decimals = 4)\n",
    "        \n",
    "MeOH = Liquids(\"MeOH\", \"CH4O\", 32.04, 0.791, 2.0, 1.56)\n",
    "Et3N = Liquids(\"Et3N\", \"C6H15N\", 101.19, 0.726, 3.7, 1.56)\n",
    "NaHMDS = Liquids(\"NaHMDS\", \"C6H18NNaSi2\", 183.37, 1.0, 1.5, 1.56)\n",
    "BnBr = Liquids(\"BnBr\", \"C7H7Br\", 171.04, 1.44, 1.88, 1.56)\n",
    "\n",
    "reagent_list = [Diacetyl_Rhamnal, NaOMe, MeOH, TBSCl, DMAP, Et3N, NaHMDS, BnBr]\n",
    "\n",
    "for reagent in reagent_list:\n",
    "    print(reagent)"
   ]
  },
  {
   "cell_type": "markdown",
   "metadata": {},
   "source": [
    "### Stoichiometry Table"
   ]
  },
  {
   "cell_type": "code",
   "execution_count": 11,
   "metadata": {},
   "outputs": [
    {
     "name": "stdout",
     "output_type": "stream",
     "text": [
      "***** REAGENT TABLE *****\n",
      "    Reagent        Formula   Molecular Weight (g/mol)  mol   Mass-g Volume (L)  eq \n",
      "---------------- ----------- ------------------------ ------ ------ ---------- ----\n",
      "Diacetyl Rhamnal    C10H14O5                   214.22 0.0047 1.0068        N/A  1.0\n",
      "           NaOMe      NaCH3O                    54.05 0.0233 1.2594        N/A  5.0\n",
      "            MeOH        CH4O                    32.04 0.0093  0.298     0.3782  2.0\n",
      "           TBSCl   C6H15ClSi                   150.72 0.0163 2.4567        N/A  3.5\n",
      "            DMAP     C7H10N2                   122.17 0.0173 2.1135        N/A  3.7\n",
      "            Et3N      C6H15N                   101.19 0.0173 1.7506     2.4074  3.7\n",
      "          NaHMDS C6H18NNaSi2                   183.37  0.007 1.2836      1.284  1.5\n",
      "            BnBr      C7H7Br                   171.04 0.0088 1.5052     1.0424 1.88\n",
      "\n",
      "\n",
      "***** SOLVENT TABLE *****\n",
      "Reagent Formula Molecular Weight (g/mol)\n",
      "------- ------- ------------------------\n",
      "    DMF  C3H7NO                    73.09\n"
     ]
    }
   ],
   "source": [
    "#solvent\n",
    "solvent = \"DMF\"\n",
    "formula_solvent = \"solvent formula\"\n",
    "density_solvent_g_mL =  \"N/A\"\n",
    "mw_solvent = \"N/A\"\n",
    "\n",
    "print(\"***** REAGENT TABLE *****\")\n",
    "reagent_table = QTable()\n",
    "reagent_table['Reagent'] = [reagent.name for reagent in reagent_list]\n",
    "reagent_table['Formula'] = [reagent.formula for reagent in reagent_list]\n",
    "reagent_table['Molecular Weight (g/mol)'] = [reagent.mol_weight for reagent in reagent_list]\n",
    "\n",
    "if scale < 0.0005:\n",
    "    reagent_table['mmol'] = [reagent.moles * 1000 for reagent in reagent_list]\n",
    "    reagent_table['Mass-mg'] = [reagent.mass * 1000 for reagent in reagent_list]\n",
    "    reagent_table['Volume (mL)'] = [reagent.volume * 1000 if hasattr(reagent, 'volume') else \"N/A\" for reagent in reagent_list]\n",
    "else:\n",
    "    reagent_table['mol'] = [reagent.moles for reagent in reagent_list]\n",
    "    reagent_table['Mass-g'] = [reagent.mass for reagent in reagent_list]\n",
    "    reagent_table['Volume (L)'] = [reagent.volume if hasattr(reagent, 'volume') else \"N/A\" for reagent in reagent_list]\n",
    "\n",
    "reagent_table['eq'] = [reagent.eq for reagent in reagent_list]\n",
    "\n",
    "#define parameters of table printout\n",
    "reagent_table.pprint(max_lines=-1, max_width=-1)\n",
    "\n",
    "print(\"\\n\")\n",
    "\n",
    "print(\"***** SOLVENT TABLE *****\")\n",
    "solvent_table = QTable()\n",
    "solvent_table['Reagent'] = [\"DMF\"]\n",
    "solvent_table['Formula'] = [\"C3H7NO\"]\n",
    "solvent_table['Molecular Weight (g/mol)'] = ['73.09']\n",
    "\n",
    "solvent_table.pprint(max_lines=-1, max_width=-1)"
   ]
  },
  {
   "cell_type": "markdown",
   "metadata": {},
   "source": [
    "### Product and Yield Information"
   ]
  },
  {
   "cell_type": "code",
   "execution_count": 12,
   "metadata": {},
   "outputs": [
    {
     "name": "stdout",
     "output_type": "stream",
     "text": [
      "C3-benzylated rhamnal ; molecular weight:  3\n",
      "Theoretical Yield: 0.014 g\n",
      "Actual Yield: 0.8 g\n",
      "Percent Yield: 5714.3 %\n"
     ]
    }
   ],
   "source": [
    "product = \"C3-benzylated rhamnal\"\n",
    "product_vessel = mw.Vessel(\"C3-benzylated rhamnal\", name = \"product\")\n",
    "product_molecular_weight = 3\n",
    "\n",
    "theoretical_yield = round(scale * product_molecular_weight, decimals = 4)\n",
    "\n",
    "print(product, \"; molecular weight: \", product_molecular_weight)\n",
    "\n",
    "if scale < 0.0005: \n",
    "    print(\"Theoretical Yield:\", theoretical_yield * 1000, 'mg')\n",
    "#     actual_yield = float(input(\"Enter mass of product in mg: \"))\n",
    "    actual_yield = 0.8\n",
    "    print(\"Actual Yield:\", actual_yield, \"mg\")\n",
    "    percent_yield = round(actual_yield / (theoretical_yield * 1000) * 100, decimals = 1)\n",
    "else:\n",
    "    print(\"Theoretical Yield:\", theoretical_yield, 'g')\n",
    "#     actual_yield = float(input(\"Enter mass of product in g: \"))\n",
    "    actual_yield = 0.8\n",
    "    print(\"Actual Yield:\", actual_yield, \"g\")\n",
    "    percent_yield = round(actual_yield / theoretical_yield * 100, decimals = 1)\n",
    "\n",
    "print(\"Percent Yield:\", percent_yield, \"%\")"
   ]
  },
  {
   "cell_type": "markdown",
   "metadata": {},
   "source": [
    "### Pumps"
   ]
  },
  {
   "cell_type": "code",
   "execution_count": null,
   "metadata": {},
   "outputs": [],
   "source": [
    "# Harvard pump code\n",
    "import time\n",
    "import asyncio\n",
    "from loguru import logger\n",
    "from mechwolf import _ureg\n",
    "\n",
    "class HarvardSyringePump(Pump):\n",
    "    def __init__(self, syringe_volume, syringe_diameter, serial_port, name=None):\n",
    "        super().__init__(name=name)\n",
    "        self.serial_port = serial_port\n",
    "        self.syringe_volume = _ureg.parse_expression(syringe_volume)\n",
    "        self.syringe_diameter = _ureg.parse_expression(syringe_diameter)\n",
    "        \n",
    "    def __enter__(self):\n",
    "        \"\"\"Initialize the serial port and send syringe volume and diameter to pump\"\"\"\n",
    "        import aioserial\n",
    "\n",
    "        self._ser = aioserial.AioSerial(\n",
    "            self.serial_port,\n",
    "            115200,\n",
    "            parity=aioserial.PARITY_NONE,\n",
    "            stopbits=1,\n",
    "            timeout=1,\n",
    "            write_timeout=1,)\n",
    "        \"\"\"take input for syringe diameter and volume and give it to the apparatus\"\"\"\n",
    "        syringe_volume_ml = self.syringe_volume.to(_ureg.ml).magnitude \n",
    "        syringe_diameter_mm = self.syringe_diameter.to(_ureg.mm).magnitude\n",
    "        self._ser.write(f'svolume {syringe_volume_ml} ml\\r'.encode())\n",
    "        self._ser.write(f'diameter {syringe_diameter_mm}\\r'.encode())\n",
    "\n",
    "        return self\n",
    "    \n",
    "    def __exit__(self, exc_type, exc_value, traceback):\n",
    "        \"\"\"stop pump\"\"\"\n",
    "        self.rate = _ureg.parse_expression(\"0 mL/min\")\n",
    "        self._ser.write(b'stop\\r') \n",
    "        \n",
    "      \n",
    "        del self._ser\n",
    "\n",
    "    async def _update(self):\n",
    "        \"\"\"update the pump between commands\"\"\"\n",
    "        rate_mlmin = self.rate.to(_ureg.ml / _ureg.min).magnitude\n",
    "        if rate_mlmin == 0:\n",
    "            self._ser.write(b'stop\\r') \n",
    "        else:\n",
    "            self._ser.write(f'irate {rate_mlmin} m/m\\r'.encode())\n",
    "            self._ser.write(b'irun\\r')"
   ]
  },
  {
   "cell_type": "code",
   "execution_count": null,
   "metadata": {},
   "outputs": [],
   "source": [
    "pump_1 = HarvardSyringePump(\"10ml\", \"12.45mm\", serial_port = '/dev/tty.usbmodemD4038601')\n",
    "pump_2 = HarvardSyringePump(\"20ml\", \"20.05mm\", serial_port = '/dev/tty.usbmodemD4038591')\n",
    "pump_3 = HarvardSyringePump(\"20ml\", \"20.05mm\", serial_port = '/dev/tty.usbmodemD4038611')"
   ]
  },
  {
   "cell_type": "markdown",
   "metadata": {},
   "source": [
    "### Syringe, Tubing, and Mixer Information"
   ]
  },
  {
   "cell_type": "code",
   "execution_count": null,
   "metadata": {},
   "outputs": [],
   "source": [
    "# to calculate tubing length\n",
    "import math\n",
    "\n",
    "mL_to_inches = 16.3871\n",
    "\n",
    "def tube_length():\n",
    "    global mL_to_inches\n",
    "    \n",
    "    inner_diameter = float(input(\"Enter the inner diameter in inches: \"))\n",
    "    flow_rate = float(input(\"Enter the flow rate in mL/min: \"))\n",
    "    residence_time = float(input(\"Enter the residence time in seconds: \"))\n",
    "\n",
    "    area = math.pi * (inner_diameter / 2) ** 2\n",
    "    rt_in_minutes = residence_time / 60\n",
    "    answer = round((rt_in_minutes * flow_rate) / (area * mL_to_inches * 12), 2)\n",
    "    print(f'The length of the reaction tube in feet should be: {answer}ft')\n",
    "    \n",
    "tube_length()"
   ]
  },
  {
   "cell_type": "code",
   "execution_count": null,
   "metadata": {},
   "outputs": [],
   "source": [
    "#reagent vessels\n",
    "reagent_vessel_1 = mw.Vessel(\"L-rhamnal\", name = \"L-rhamnal in DMF\")\n",
    "reagent_vessel_2 = mw.Vessel(\"NaOMe\", name = \"NaOMe + MeOH in DMF\")\n",
    "reagent_vessel_3 = mw.Vessel(\"TBSCl\", name = \"TBSCl + DMAP\")\n",
    "reagent_vessel_4 = mw.Vessel(\"KHMDS\", name = \"KHMDS in DMF\")\n",
    "reagent_vessel_5 = mw.Vessel(\"BnBr\", name = \"BnBr in DMF\")\n",
    "\n",
    "#tubing\n",
    "def big_tube(length):\n",
    "    return mw.Tube(length = length, ID = \"0.062 in\", OD = \"1/8 in\", material = \"PFA\")\n",
    "\n",
    "sugar = big_tube(\"1 foot\")\n",
    "NaOMe = big_tube(length = \"1 foot\")\n",
    "deacetylation = big_tube(length = \"16 foot\")\n",
    "TBSCl = big_tube(length = \"1 foot\")\n",
    "NaHMDS = big_tube(length = \"16.5 foot\")\n",
    "protection = big_tube(length = \"19.2 foot\")\n",
    "BnBr = big_tube(length = \"1 foot\")\n",
    "benzylation = big_tube(length = \"64 foot\")\n",
    "\n",
    "#mixers\n",
    "def Tmixer(name):\n",
    "    return mw.TMixer(name = name)\n",
    "\n",
    "T_1 = Tmixer(\"deacetylation\")\n",
    "T_2 = Tmixer(\"protection\")\n",
    "T_3 = Tmixer(\"deprotonation\")\n",
    "T_4 = Tmixer(\"benzylation\") "
   ]
  },
  {
   "cell_type": "markdown",
   "metadata": {},
   "source": [
    "### Apparatus "
   ]
  },
  {
   "cell_type": "code",
   "execution_count": null,
   "metadata": {},
   "outputs": [],
   "source": [
    "A = mw.Apparatus(\"Telescoped Sequence\")\n",
    "\n",
    "A.add(pump_1, reagent_vessel_1, sugar)\n",
    "A.add(pump_1, reagent_vessel_2, NaOMe)\n",
    "A.add(reagent_vessel_1, T_1, sugar)\n",
    "A.add(reagent_vessel_2, T_1, NaOMe)\n",
    "A.add(T_1, T_2, deacetylation)\n",
    "\n",
    "\n",
    "A.add(pump_2, reagent_vessel_3, TBSCl)\n",
    "A.add(pump_2, reagent_vessel_4, NaHMDS)\n",
    "A.add(reagent_vessel_3, T_2, TBSCl)\n",
    "A.add(reagent_vessel_4, T_3, NaHMDS)\n",
    "A.add(T_2, T_3, protection)\n",
    "A.add(T_3, T_4, deprotonation)\n",
    "\n",
    "\n",
    "A.add(pump_3, reagent_vessel_5, BnBr)\n",
    "A.add(reagent_vessel_5, T_4, BnBr)\n",
    "A.add(T_4, product_vessel, benzylation)\n",
    "\n",
    "A.describe()\n",
    "A.visualize()"
   ]
  },
  {
   "cell_type": "markdown",
   "metadata": {},
   "source": [
    "### Protocol"
   ]
  },
  {
   "cell_type": "code",
   "execution_count": null,
   "metadata": {},
   "outputs": [],
   "source": [
    "P = mw.Protocol(A)\n",
    "\n",
    "switch = timedelta(minutes = 1)\n",
    "\n",
    "current = timedelta(minutes = 0)\n",
    "\n",
    "pump_1_initial = timedelta(minutes = 3.8)\n",
    "P.add(pump_1, start = current,\n",
    "              duration = pump_1_initial, rate = \"0.5mL/min\")\n",
    "\n",
    "current += pump_1_initial + switch\n",
    "\n",
    "deacetylation = timedelta(minutes = 7.7) \n",
    "P.add(pump_1, start = current, \n",
    "              duration = deacetylation + NaHMDS_1, rate = \"0.5mL/min\")\n",
    "\n",
    "current += deacetylation\n",
    "\n",
    "NaHMDS_1 = timedelta(minutes = 4)\n",
    "P.add(pump_2, start = current,\n",
    "              duration = NaHMDS_1, rate = \"1mL/min\")\n",
    "\n",
    "current += NaHMDS_1 + switch\n",
    "\n",
    "NaHMDS_2 = timedelta(minutes = 4) \n",
    "P.add(pump_1, start = current, \n",
    "              duration = NaHMDS_2, rate = \"0.5mL/min\")\n",
    "P.add(pump_2, start = current, \n",
    "              duration = NaHMDS_2, rate = \"1mL/min\")\n",
    "      \n",
    "current += NaHMDS_2 + switch \n",
    "\n",
    "protection_deprotonation = timedelta(minutes = 6.4)    \n",
    "P.add(pump_1, start = current, \n",
    "              duration = protection_deprotonation + BnBr_1, rate = \"0.5mL/min\")\n",
    "P.add(pump_2, start = current, \n",
    "              duration = protection_deprotonation + BnBr_1, rate = \"1mL/min\")\n",
    "\n",
    "current += protection_deprotonation\n",
    "\n",
    "BnBr_1 = timedelta(minutes = 5.67) \n",
    "P.add(pump_3, start = current + protection_deprotonation, \n",
    "              duration = BnBr_1, rate = \"3mL/min\")\n",
    "\n",
    "current += BnBr_1 + switch\n",
    "\n",
    "benzylation = timedelta(minutes = 6.7)\n",
    "P.add(pump_1, start = current, \n",
    "              duration = benzylation, rate = \"0.5mL/min\")\n",
    "P.add(pump_2, start = current, \n",
    "              duration = benzylation, rate = \"1mL/min\")\n",
    "P.add(pump_3, start = current, \n",
    "              duration = benzylation, rate = \"3mL/min\")\n",
    "\n",
    "current += benzylation\n",
    "\n",
    "print(f'TOTAL TIME: {current}')\n",
    "P.execute(confirm = True)"
   ]
  }
 ],
 "metadata": {
  "kernelspec": {
   "display_name": "Python 3",
   "language": "python",
   "name": "python3"
  },
  "language_info": {
   "codemirror_mode": {
    "name": "ipython",
    "version": 3
   },
   "file_extension": ".py",
   "mimetype": "text/x-python",
   "name": "python",
   "nbconvert_exporter": "python",
   "pygments_lexer": "ipython3",
   "version": "3.9.0"
  }
 },
 "nbformat": 4,
 "nbformat_minor": 4
}
