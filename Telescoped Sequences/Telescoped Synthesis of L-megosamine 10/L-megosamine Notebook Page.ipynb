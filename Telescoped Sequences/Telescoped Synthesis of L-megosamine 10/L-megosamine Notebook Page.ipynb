{
 "cells": [
  {
   "cell_type": "markdown",
   "metadata": {},
   "source": [
    "## Notebook Page"
   ]
  },
  {
   "cell_type": "code",
   "execution_count": 1,
   "metadata": {},
   "outputs": [],
   "source": [
    "import mechwolf as mw\n",
    "import graphviz\n",
    "import math\n",
    "from datetime import timedelta\n",
    "from astropy.table import QTable, Table, Column\n",
    "from sigfig import round\n",
    "import json"
   ]
  },
  {
   "cell_type": "code",
   "execution_count": 3,
   "metadata": {},
   "outputs": [],
   "source": [
    "with open('megosamide_reagents.json') as f:\n",
    "    data = json.load(f)"
   ]
  },
  {
   "cell_type": "markdown",
   "metadata": {},
   "source": [
    "### Reagents"
   ]
  },
  {
   "cell_type": "code",
   "execution_count": 4,
   "metadata": {},
   "outputs": [
    {
     "name": "stdout",
     "output_type": "stream",
     "text": [
      "The limiting reagent is Naphthylated Rhamnal\n",
      "\n",
      "Moles: 0.0028008589300718887\n"
     ]
    }
   ],
   "source": [
    "print(f\"The limiting reagent is {data['limiting reagent']}\")\n",
    "mw_limiting = 214.22\n",
    "\n",
    "try:\n",
    "    mass_scale = float(data['mass scale'])\n",
    "except:\n",
    "    print('Invalid input: numerical values only')\n",
    "\n",
    "moles = mass_scale / mw_limiting\n",
    "\n",
    "print(f'\\nMoles: {moles}')"
   ]
  },
  {
   "cell_type": "code",
   "execution_count": 5,
   "metadata": {},
   "outputs": [
    {
     "name": "stdout",
     "output_type": "stream",
     "text": [
      "\n",
      "Volume: 8.752684156474652 mL\n"
     ]
    }
   ],
   "source": [
    "try:\n",
    "    concentration = float(data['concentration'])\n",
    "except:\n",
    "    print('Invalid input: numerical values only')\n",
    "    \n",
    "volume = (moles * 1000) / concentration\n",
    "\n",
    "print(f'\\nVolume: {volume} mL')"
   ]
  },
  {
   "cell_type": "code",
   "execution_count": 6,
   "metadata": {},
   "outputs": [],
   "source": [
    "class Reagent:\n",
    "    \n",
    "    def __init__(self, reagent):\n",
    "        assert 'name' in reagent, 'ERROR: one of the reagents does not have a name field'\n",
    "        assert 'inChi' in reagent, f'Error: {reagent[\"name\"]} does not have an inChi field'\n",
    "        assert 'inChi Key' in reagent, f'Error: {reagent[\"name\"]} does not have an inChi key field'\n",
    "        assert 'molecular weight' in reagent, f'Error: {reagent[\"name\"]} does not have a molecular weight field'\n",
    "        assert 'eq' in reagent, f'Error: {reagent[\"name\"]} does not have an eq field'\n",
    "        assert 'syringe' in reagent, f'Error: {reagent[\"name\"]} does not have an syringe # field'\n",
    "        \n",
    "        self.name = reagent['name']\n",
    "        self.inChi = reagent['inChi']\n",
    "        self.mol_weight = reagent['molecular weight']\n",
    "        self.eq = reagent['eq']\n",
    "        self.syringe = reagent['syringe']\n",
    "        self.moles = round(moles * self.eq, decimals = 4)\n",
    "        self.mass = round(self.moles * self.mol_weight, decimals = 4)\n",
    "        \n",
    "    def __str__(self):\n",
    "        return f\"{self.name}\"\n",
    "    \n",
    "class Solid(Reagent):\n",
    "    \n",
    "    def __init__(self, reagent):\n",
    "        super().__init__(reagent)\n",
    "\n",
    "class Liquid(Reagent):\n",
    "    \n",
    "    def __init__(self, reagent):\n",
    "        super().__init__(reagent)\n",
    "        \n",
    "        assert 'density' in reagent, f'Error: {reagent[\"name\"]} does not have a density field'\n",
    "        self.density = reagent['density']\n",
    "        self.volume = round(self.eq * moles * (self.mol_weight / self.density), decimals = 4)\n",
    "        \n",
    "reagent_list = []\n",
    "for solid in data['solid reagents']:\n",
    "    reagent_list.append(Solid(solid))\n",
    "    \n",
    "for liquid in data['liquid reagents']:\n",
    "    reagent_list.append(Liquid(liquid))"
   ]
  },
  {
   "cell_type": "markdown",
   "metadata": {},
   "source": [
    "## Stoichiometry Table\n",
    "\n",
    "### Reagent Table"
   ]
  },
  {
   "cell_type": "code",
   "execution_count": 7,
   "metadata": {
    "scrolled": true
   },
   "outputs": [
    {
     "name": "stdout",
     "output_type": "stream",
     "text": [
      "      Reagent        Molecular Weight (g/mol)  mol   Mass (g) Volume (mL) Density (g/mL)  eq \n",
      "-------------------- ------------------------ ------ -------- ----------- -------------- ----\n",
      "Naphthylated Rhamnal                   200.11 0.0028   0.5603         N/A            N/A  1.0\n",
      "               CsCO3                   325.82 0.0031     1.01         N/A            N/A  1.1\n",
      "               Me2NH                    45.09  0.028   1.2625         N/A            N/A 10.0\n",
      "             NaBH3CN                    62.84  0.028   1.7595         N/A            N/A 10.0\n",
      "                 DMP                   424.14 0.0031   1.3148      1.0981           1.19  1.1\n",
      "                Et3N                   101.19 0.0031   0.3137      0.4294          0.726  1.1\n",
      "          Thiophenol                   110.19 0.0112   1.2341      1.1431           1.08  4.0\n",
      "\n",
      "Solvent: DMF\n"
     ]
    }
   ],
   "source": [
    "reagent_table = QTable()\n",
    "reagent_table['Reagent'] = [reagent.name for reagent in reagent_list]\n",
    "reagent_table['Molecular Weight (g/mol)'] = [reagent.mol_weight for reagent in reagent_list]\n",
    "\n",
    "if moles < 0.0005:\n",
    "    reagent_table['mmol'] = [reagent.moles * 1000 for reagent in reagent_list]\n",
    "    reagent_table['Mass (mg)'] = [round(reagent.mass * 1000, decimals = 4) for reagent in reagent_list]\n",
    "else:\n",
    "    reagent_table['mol'] = [reagent.moles for reagent in reagent_list]\n",
    "    reagent_table['Mass (g)'] = [round(reagent.mass, decimals = 4) for reagent in reagent_list]\n",
    "\n",
    "reagent_table['Volume (mL)'] = [reagent.volume if hasattr(reagent, 'volume') else \"N/A\" for reagent in reagent_list]\n",
    "reagent_table['Density (g/mL)'] = [reagent.density if hasattr(reagent, 'density') else \"N/A\" for reagent in reagent_list]\n",
    "reagent_table['eq'] = [reagent.eq for reagent in reagent_list]\n",
    "\n",
    "reagent_table.pprint(max_lines=-1, max_width=-1)\n",
    "\n",
    "print(f'\\nSolvent: {data[\"solvent\"]}')"
   ]
  },
  {
   "cell_type": "markdown",
   "metadata": {},
   "source": [
    "### Syringe Table"
   ]
  },
  {
   "cell_type": "code",
   "execution_count": 8,
   "metadata": {},
   "outputs": [
    {
     "name": "stdout",
     "output_type": "stream",
     "text": [
      "Syringe       Reagent        Solvent Volume\n",
      "------- -------------------- --------------\n",
      "      1 Naphthylated Rhamnal            6.9\n",
      "      2                  DMP    6.9 mL neat\n",
      "      3          CsCO3, Et3N           10.4\n",
      "      4           Thiophenol           26.7\n",
      "      5       Me2NH, NaBH3CN           55.2\n"
     ]
    }
   ],
   "source": [
    "def get_syringe_reagents(reagents, syr_max):\n",
    "    \n",
    "    def get_reagents_for_syringe_number(syr_num):\n",
    "        reagent_for_syringe_num = \"\"\n",
    "        for reagent in reagents:\n",
    "            if reagent.syringe == syr_num:\n",
    "                reagent_for_syringe_num += f'{reagent.name}, '\n",
    "                \n",
    "        return reagent_for_syringe_num[:-2]\n",
    "                \n",
    "    return list(map(get_reagents_for_syringe_number, range(1, syr_max)))\n",
    "\n",
    "syringe_table = QTable()\n",
    "syringe_max = max([reagent.syringe for reagent in reagent_list]) + 1\n",
    "syringe_table['Syringe'] = list(range(1, syringe_max))\n",
    "syringe_table['Reagent'] = get_syringe_reagents(reagent_list, syringe_max)\n",
    "syringe_table['Solvent Volume'] = data['solvent volume']\n",
    "\n",
    "syringe_table.pprint(max_lines=-1, max_width=-1)"
   ]
  },
  {
   "cell_type": "markdown",
   "metadata": {},
   "source": [
    "### Pumps"
   ]
  },
  {
   "cell_type": "code",
   "execution_count": 9,
   "metadata": {},
   "outputs": [],
   "source": [
    "# Harvard pump code\n",
    "import time\n",
    "import asyncio\n",
    "from loguru import logger\n",
    "from mechwolf import _ureg, Pump\n",
    "\n",
    "class HarvardSyringePump(Pump):\n",
    "    def __init__(self, syringe_volume, syringe_diameter, serial_port, name=None):\n",
    "        super().__init__(name = name)\n",
    "        self.serial_port = serial_port\n",
    "        self.syringe_volume = _ureg.parse_expression(syringe_volume)\n",
    "        self.syringe_diameter = _ureg.parse_expression(syringe_diameter)\n",
    "        \n",
    "    def __enter__(self):\n",
    "        import aioserial\n",
    "\n",
    "        self._ser = aioserial.AioSerial(\n",
    "            self.serial_port,\n",
    "            115200,\n",
    "            parity = aioserial.PARITY_NONE,\n",
    "            stopbits = 1,\n",
    "            timeout = 1,\n",
    "            write_timeout = 1,)\n",
    "        syringe_volume_ml = self.syringe_volume.to(_ureg.ml).magnitude \n",
    "        syringe_diameter_mm = self.syringe_diameter.to(_ureg.mm).magnitude\n",
    "        self._ser.write(f'svolume {syringe_volume_ml} ml\\r'.encode())\n",
    "        self._ser.write(f'diameter {syringe_diameter_mm}\\r'.encode())\n",
    "\n",
    "        return self\n",
    "    \n",
    "    def __exit__(self, exc_type, exc_value, traceback):\n",
    "        self.rate = _ureg.parse_expression(\"0 mL/min\")\n",
    "        self._ser.write(b'stop\\r') \n",
    "        \n",
    "        del self._ser\n",
    "\n",
    "    async def _update(self):\n",
    "        rate_mlmin = self.rate.to(_ureg.ml / _ureg.min).magnitude\n",
    "        if rate_mlmin == 0:\n",
    "            self._ser.write(b'stop\\r') \n",
    "        else:\n",
    "            self._ser.write(f'irate {rate_mlmin} m/m\\r'.encode())\n",
    "            self._ser.write(b'irun\\r')"
   ]
  },
  {
   "cell_type": "code",
   "execution_count": 10,
   "metadata": {},
   "outputs": [],
   "source": [
    "pump_1 = HarvardSyringePump(\"24mL\", \"20.05mm\", serial_port = '/dev/tty.usbmodemD4038611', name = \"Pump 1\")\n",
    "pump_2 = HarvardSyringePump(\"24mL\", \"20.05mm\", serial_port = '/dev/tty.usbmodemD4038591', name = \"Pump 2\")\n",
    "pump_3 = HarvardSyringePump(\"24mL\", \"20.05mm\", serial_port = '/dev/tty.usbmodemD4038601', name = \"Pump 3\")\n",
    "pump_4 = mw.VarianPump(max_rate = '10mL/min', serial_port = '/dev/tty/usbserial', name = \"Pump 4\")"
   ]
  },
  {
   "cell_type": "markdown",
   "metadata": {},
   "source": [
    "### Syringe, Tubing, and Mixer Information"
   ]
  },
  {
   "cell_type": "code",
   "execution_count": 11,
   "metadata": {},
   "outputs": [],
   "source": [
    "#reagent vessels\n",
    "reagent_vessel_1 = mw.Vessel(\"Naphthylated Rhamnal\", name = \"Starting Material\")\n",
    "reagent_vessel_2 = mw.Vessel(\"DMP\", name = \"DMP\")\n",
    "reagent_vessel_3 = mw.Vessel(\"CsCO3\", name = \"CsCO3 + Et3N in THF\")\n",
    "reagent_vessel_4 = mw.Vessel(\"Thiophenol\", name = \"Thiophenol in THF\")\n",
    "reagent_vessel_5 = mw.Vessel(\"Me2NH\", name = \"Me2NH + NaBH3CN in MeOH\")\n",
    "product_vessel = mw.Vessel(\"L-megosamide\", name = \"Product\")\n",
    "\n",
    "#tubing\n",
    "def big_tube(length):\n",
    "    return mw.Tube(length = length, ID = \"0.062 in\", OD = \"1/8 in\", material = \"PFA\")\n",
    "\n",
    "sugar = big_tube(length = \"1 foot\")\n",
    "DMP = big_tube(length = \"1 foot\")\n",
    "oxidation = big_tube(length = \"13 foot\")\n",
    "\n",
    "CsCO3 = big_tube(length = \"1 foot\")\n",
    "activation = big_tube(length = \"3.4 foot\")\n",
    "\n",
    "thiophenol = big_tube(length = \"1 foot\")\n",
    "addition = big_tube(length = \"101 foot\")\n",
    "\n",
    "NH4OAc = big_tube(length = \"1 foot\")\n",
    "amination = big_tube(length = \"673 foot\")\n",
    "\n",
    "#mixers\n",
    "def Tmixer(name):\n",
    "    return mw.TMixer(name = f'{name} Mixer')\n",
    "\n",
    "T_1 = Tmixer('Oxidation')\n",
    "T_2 = Tmixer('Activation')\n",
    "T_3 = Tmixer('Addition')\n",
    "T_4 = Tmixer('Amination')"
   ]
  },
  {
   "cell_type": "markdown",
   "metadata": {},
   "source": [
    "### Apparatus "
   ]
  },
  {
   "cell_type": "code",
   "execution_count": 13,
   "metadata": {},
   "outputs": [
    {
     "data": {
      "image/svg+xml": [
       "<?xml version=\"1.0\" encoding=\"UTF-8\" standalone=\"no\"?>\n",
       "<!DOCTYPE svg PUBLIC \"-//W3C//DTD SVG 1.1//EN\"\n",
       " \"http://www.w3.org/Graphics/SVG/1.1/DTD/svg11.dtd\">\n",
       "<!-- Generated by graphviz version 2.47.3 (20210619.1520)\n",
       " -->\n",
       "<!-- Title: Telescoped L&#45;megosamide Pages: 1 -->\n",
       "<svg width=\"1037pt\" height=\"283pt\"\n",
       " viewBox=\"0.00 0.00 1037.00 283.00\" xmlns=\"http://www.w3.org/2000/svg\" xmlns:xlink=\"http://www.w3.org/1999/xlink\">\n",
       "<g id=\"graph0\" class=\"graph\" transform=\"scale(1 1) rotate(0) translate(4 279)\">\n",
       "<title>Telescoped L&#45;megosamide</title>\n",
       "<polygon fill=\"white\" stroke=\"transparent\" points=\"-4,4 -4,-279 1033,-279 1033,4 -4,4\"/>\n",
       "<text text-anchor=\"middle\" x=\"514.5\" y=\"-7.8\" font-family=\"Times,serif\" font-size=\"14.00\">Telescoped L&#45;megosamide</text>\n",
       "<!-- Activation Mixer -->\n",
       "<g id=\"node1\" class=\"node\">\n",
       "<title>Activation Mixer</title>\n",
       "<polygon fill=\"none\" stroke=\"black\" points=\"533,-161 432,-161 432,-137 533,-137 545,-149 533,-161\"/>\n",
       "<text text-anchor=\"middle\" x=\"488.5\" y=\"-145.3\" font-family=\"Times,serif\" font-size=\"14.00\">Activation Mixer</text>\n",
       "</g>\n",
       "<!-- Addition Mixer -->\n",
       "<g id=\"node2\" class=\"node\">\n",
       "<title>Addition Mixer</title>\n",
       "<polygon fill=\"none\" stroke=\"black\" points=\"725,-215 633,-215 633,-191 725,-191 737,-203 725,-215\"/>\n",
       "<text text-anchor=\"middle\" x=\"685\" y=\"-199.3\" font-family=\"Times,serif\" font-size=\"14.00\">Addition Mixer</text>\n",
       "</g>\n",
       "<!-- Activation Mixer&#45;&gt;Addition Mixer -->\n",
       "<g id=\"edge10\" class=\"edge\">\n",
       "<title>Activation Mixer&#45;&gt;Addition Mixer</title>\n",
       "<path fill=\"none\" stroke=\"black\" d=\"M545.24,-164.47C569.61,-171.24 598.28,-179.2 623.2,-186.12\"/>\n",
       "<polygon fill=\"black\" stroke=\"black\" points=\"622.34,-189.51 632.92,-188.82 624.22,-182.77 622.34,-189.51\"/>\n",
       "</g>\n",
       "<!-- Amination Mixer -->\n",
       "<g id=\"node3\" class=\"node\">\n",
       "<title>Amination Mixer</title>\n",
       "<polygon fill=\"none\" stroke=\"black\" points=\"921,-242 819,-242 819,-218 921,-218 933,-230 921,-242\"/>\n",
       "<text text-anchor=\"middle\" x=\"876\" y=\"-226.3\" font-family=\"Times,serif\" font-size=\"14.00\">Amination Mixer</text>\n",
       "</g>\n",
       "<!-- Addition Mixer&#45;&gt;Amination Mixer -->\n",
       "<g id=\"edge12\" class=\"edge\">\n",
       "<title>Addition Mixer&#45;&gt;Amination Mixer</title>\n",
       "<path fill=\"none\" stroke=\"black\" d=\"M737.15,-210.31C759.24,-213.46 785.38,-217.2 808.92,-220.56\"/>\n",
       "<polygon fill=\"black\" stroke=\"black\" points=\"808.43,-224.03 818.83,-221.98 809.42,-217.1 808.43,-224.03\"/>\n",
       "</g>\n",
       "<!-- Product -->\n",
       "<g id=\"node8\" class=\"node\">\n",
       "<title>Product</title>\n",
       "<path fill=\"none\" stroke=\"black\" d=\"M1029,-244.73C1029,-246.53 1015.55,-248 999,-248 982.45,-248 969,-246.53 969,-244.73 969,-244.73 969,-215.27 969,-215.27 969,-213.47 982.45,-212 999,-212 1015.55,-212 1029,-213.47 1029,-215.27 1029,-215.27 1029,-244.73 1029,-244.73\"/>\n",
       "<path fill=\"none\" stroke=\"black\" d=\"M1029,-244.73C1029,-242.92 1015.55,-241.45 999,-241.45 982.45,-241.45 969,-242.92 969,-244.73\"/>\n",
       "<text text-anchor=\"middle\" x=\"999\" y=\"-226.3\" font-family=\"Times,serif\" font-size=\"14.00\">Product</text>\n",
       "</g>\n",
       "<!-- Amination Mixer&#45;&gt;Product -->\n",
       "<g id=\"edge14\" class=\"edge\">\n",
       "<title>Amination Mixer&#45;&gt;Product</title>\n",
       "<path fill=\"none\" stroke=\"black\" d=\"M933.25,-230C941.93,-230 950.72,-230 958.92,-230\"/>\n",
       "<polygon fill=\"black\" stroke=\"black\" points=\"958.92,-233.5 968.92,-230 958.92,-226.5 958.92,-233.5\"/>\n",
       "</g>\n",
       "<!-- CsCO3 + Et3N in THF -->\n",
       "<g id=\"node4\" class=\"node\">\n",
       "<title>CsCO3 + Et3N in THF</title>\n",
       "<path fill=\"none\" stroke=\"black\" d=\"M390,-163.73C390,-165.53 357.28,-167 317,-167 276.72,-167 244,-165.53 244,-163.73 244,-163.73 244,-134.27 244,-134.27 244,-132.47 276.72,-131 317,-131 357.28,-131 390,-132.47 390,-134.27 390,-134.27 390,-163.73 390,-163.73\"/>\n",
       "<path fill=\"none\" stroke=\"black\" d=\"M390,-163.73C390,-161.92 357.28,-160.45 317,-160.45 276.72,-160.45 244,-161.92 244,-163.73\"/>\n",
       "<text text-anchor=\"middle\" x=\"317\" y=\"-145.3\" font-family=\"Times,serif\" font-size=\"14.00\">CsCO3 + Et3N in THF</text>\n",
       "</g>\n",
       "<!-- CsCO3 + Et3N in THF&#45;&gt;Activation Mixer -->\n",
       "<g id=\"edge9\" class=\"edge\">\n",
       "<title>CsCO3 + Et3N in THF&#45;&gt;Activation Mixer</title>\n",
       "<path fill=\"none\" stroke=\"black\" d=\"M390.37,-149C400.77,-149 411.41,-149 421.67,-149\"/>\n",
       "<polygon fill=\"black\" stroke=\"black\" points=\"421.77,-152.5 431.77,-149 421.77,-145.5 421.77,-152.5\"/>\n",
       "</g>\n",
       "<!-- DMP -->\n",
       "<g id=\"node5\" class=\"node\">\n",
       "<title>DMP</title>\n",
       "<path fill=\"none\" stroke=\"black\" d=\"M179,-109.73C179,-111.53 166.9,-113 152,-113 137.1,-113 125,-111.53 125,-109.73 125,-109.73 125,-80.27 125,-80.27 125,-78.47 137.1,-77 152,-77 166.9,-77 179,-78.47 179,-80.27 179,-80.27 179,-109.73 179,-109.73\"/>\n",
       "<path fill=\"none\" stroke=\"black\" d=\"M179,-109.73C179,-107.92 166.9,-106.45 152,-106.45 137.1,-106.45 125,-107.92 125,-109.73\"/>\n",
       "<text text-anchor=\"middle\" x=\"152\" y=\"-91.3\" font-family=\"Times,serif\" font-size=\"14.00\">DMP</text>\n",
       "</g>\n",
       "<!-- Oxidation Mixer -->\n",
       "<g id=\"node7\" class=\"node\">\n",
       "<title>Oxidation Mixer</title>\n",
       "<polygon fill=\"none\" stroke=\"black\" points=\"360,-107 262,-107 262,-83 360,-83 372,-95 360,-107\"/>\n",
       "<text text-anchor=\"middle\" x=\"317\" y=\"-91.3\" font-family=\"Times,serif\" font-size=\"14.00\">Oxidation Mixer</text>\n",
       "</g>\n",
       "<!-- DMP&#45;&gt;Oxidation Mixer -->\n",
       "<g id=\"edge7\" class=\"edge\">\n",
       "<title>DMP&#45;&gt;Oxidation Mixer</title>\n",
       "<path fill=\"none\" stroke=\"black\" d=\"M179.19,-95C198.73,-95 226.29,-95 251.56,-95\"/>\n",
       "<polygon fill=\"black\" stroke=\"black\" points=\"251.85,-98.5 261.85,-95 251.85,-91.5 251.85,-98.5\"/>\n",
       "</g>\n",
       "<!-- Me2NH + NaBH3CN in MeOH -->\n",
       "<g id=\"node6\" class=\"node\">\n",
       "<title>Me2NH + NaBH3CN in MeOH</title>\n",
       "<path fill=\"none\" stroke=\"black\" d=\"M783,-271.73C783,-273.53 739.07,-275 685,-275 630.93,-275 587,-273.53 587,-271.73 587,-271.73 587,-242.27 587,-242.27 587,-240.47 630.93,-239 685,-239 739.07,-239 783,-240.47 783,-242.27 783,-242.27 783,-271.73 783,-271.73\"/>\n",
       "<path fill=\"none\" stroke=\"black\" d=\"M783,-271.73C783,-269.92 739.07,-268.45 685,-268.45 630.93,-268.45 587,-269.92 587,-271.73\"/>\n",
       "<text text-anchor=\"middle\" x=\"685\" y=\"-253.3\" font-family=\"Times,serif\" font-size=\"14.00\">Me2NH + NaBH3CN in MeOH</text>\n",
       "</g>\n",
       "<!-- Me2NH + NaBH3CN in MeOH&#45;&gt;Amination Mixer -->\n",
       "<g id=\"edge13\" class=\"edge\">\n",
       "<title>Me2NH + NaBH3CN in MeOH&#45;&gt;Amination Mixer</title>\n",
       "<path fill=\"none\" stroke=\"black\" d=\"M783.27,-243.1C791.95,-241.86 800.6,-240.63 808.92,-239.44\"/>\n",
       "<polygon fill=\"black\" stroke=\"black\" points=\"809.49,-242.89 818.9,-238.01 808.5,-235.96 809.49,-242.89\"/>\n",
       "</g>\n",
       "<!-- Oxidation Mixer&#45;&gt;Activation Mixer -->\n",
       "<g id=\"edge8\" class=\"edge\">\n",
       "<title>Oxidation Mixer&#45;&gt;Activation Mixer</title>\n",
       "<path fill=\"none\" stroke=\"black\" d=\"M372.1,-112.23C388.05,-117.32 405.68,-122.93 422.26,-128.22\"/>\n",
       "<polygon fill=\"black\" stroke=\"black\" points=\"421.29,-131.58 431.88,-131.28 423.41,-124.91 421.29,-131.58\"/>\n",
       "</g>\n",
       "<!-- Pump 1 -->\n",
       "<g id=\"node9\" class=\"node\">\n",
       "<title>Pump 1</title>\n",
       "<polygon fill=\"none\" stroke=\"black\" points=\"60,-86 4,-86 0,-82 0,-50 56,-50 60,-54 60,-86\"/>\n",
       "<polyline fill=\"none\" stroke=\"black\" points=\"56,-82 0,-82 \"/>\n",
       "<polyline fill=\"none\" stroke=\"black\" points=\"56,-82 56,-50 \"/>\n",
       "<polyline fill=\"none\" stroke=\"black\" points=\"56,-82 60,-86 \"/>\n",
       "<text text-anchor=\"middle\" x=\"30\" y=\"-64.3\" font-family=\"Times,serif\" font-size=\"14.00\">Pump 1</text>\n",
       "</g>\n",
       "<!-- Pump 1&#45;&gt;DMP -->\n",
       "<g id=\"edge2\" class=\"edge\">\n",
       "<title>Pump 1&#45;&gt;DMP</title>\n",
       "<path fill=\"none\" stroke=\"black\" d=\"M60.05,-74.54C76.52,-78.24 97.27,-82.91 114.79,-86.85\"/>\n",
       "<polygon fill=\"black\" stroke=\"black\" points=\"114.15,-90.3 124.67,-89.08 115.69,-83.47 114.15,-90.3\"/>\n",
       "</g>\n",
       "<!-- Starting Material -->\n",
       "<g id=\"node13\" class=\"node\">\n",
       "<title>Starting Material</title>\n",
       "<path fill=\"none\" stroke=\"black\" d=\"M208,-55.73C208,-57.53 182.9,-59 152,-59 121.1,-59 96,-57.53 96,-55.73 96,-55.73 96,-26.27 96,-26.27 96,-24.47 121.1,-23 152,-23 182.9,-23 208,-24.47 208,-26.27 208,-26.27 208,-55.73 208,-55.73\"/>\n",
       "<path fill=\"none\" stroke=\"black\" d=\"M208,-55.73C208,-53.92 182.9,-52.45 152,-52.45 121.1,-52.45 96,-53.92 96,-55.73\"/>\n",
       "<text text-anchor=\"middle\" x=\"152\" y=\"-37.3\" font-family=\"Times,serif\" font-size=\"14.00\">Starting Material</text>\n",
       "</g>\n",
       "<!-- Pump 1&#45;&gt;Starting Material -->\n",
       "<g id=\"edge1\" class=\"edge\">\n",
       "<title>Pump 1&#45;&gt;Starting Material</title>\n",
       "<path fill=\"none\" stroke=\"black\" d=\"M60.05,-61.46C68,-59.68 76.94,-57.66 86.04,-55.62\"/>\n",
       "<polygon fill=\"black\" stroke=\"black\" points=\"86.94,-59 95.93,-53.39 85.4,-52.17 86.94,-59\"/>\n",
       "</g>\n",
       "<!-- Pump 2 -->\n",
       "<g id=\"node10\" class=\"node\">\n",
       "<title>Pump 2</title>\n",
       "<polygon fill=\"none\" stroke=\"black\" points=\"182,-167 126,-167 122,-163 122,-131 178,-131 182,-135 182,-167\"/>\n",
       "<polyline fill=\"none\" stroke=\"black\" points=\"178,-163 122,-163 \"/>\n",
       "<polyline fill=\"none\" stroke=\"black\" points=\"178,-163 178,-131 \"/>\n",
       "<polyline fill=\"none\" stroke=\"black\" points=\"178,-163 182,-167 \"/>\n",
       "<text text-anchor=\"middle\" x=\"152\" y=\"-145.3\" font-family=\"Times,serif\" font-size=\"14.00\">Pump 2</text>\n",
       "</g>\n",
       "<!-- Pump 2&#45;&gt;CsCO3 + Et3N in THF -->\n",
       "<g id=\"edge3\" class=\"edge\">\n",
       "<title>Pump 2&#45;&gt;CsCO3 + Et3N in THF</title>\n",
       "<path fill=\"none\" stroke=\"black\" d=\"M182.14,-149C196.67,-149 215.04,-149 233.48,-149\"/>\n",
       "<polygon fill=\"black\" stroke=\"black\" points=\"233.71,-152.5 243.71,-149 233.71,-145.5 233.71,-152.5\"/>\n",
       "</g>\n",
       "<!-- Pump 3 -->\n",
       "<g id=\"node11\" class=\"node\">\n",
       "<title>Pump 3</title>\n",
       "<polygon fill=\"none\" stroke=\"black\" points=\"347,-221 291,-221 287,-217 287,-185 343,-185 347,-189 347,-221\"/>\n",
       "<polyline fill=\"none\" stroke=\"black\" points=\"343,-217 287,-217 \"/>\n",
       "<polyline fill=\"none\" stroke=\"black\" points=\"343,-217 343,-185 \"/>\n",
       "<polyline fill=\"none\" stroke=\"black\" points=\"343,-217 347,-221 \"/>\n",
       "<text text-anchor=\"middle\" x=\"317\" y=\"-199.3\" font-family=\"Times,serif\" font-size=\"14.00\">Pump 3</text>\n",
       "</g>\n",
       "<!-- Thiophenol in THF -->\n",
       "<g id=\"node14\" class=\"node\">\n",
       "<title>Thiophenol in THF</title>\n",
       "<path fill=\"none\" stroke=\"black\" d=\"M551,-217.73C551,-219.53 522.99,-221 488.5,-221 454.01,-221 426,-219.53 426,-217.73 426,-217.73 426,-188.27 426,-188.27 426,-186.47 454.01,-185 488.5,-185 522.99,-185 551,-186.47 551,-188.27 551,-188.27 551,-217.73 551,-217.73\"/>\n",
       "<path fill=\"none\" stroke=\"black\" d=\"M551,-217.73C551,-215.92 522.99,-214.45 488.5,-214.45 454.01,-214.45 426,-215.92 426,-217.73\"/>\n",
       "<text text-anchor=\"middle\" x=\"488.5\" y=\"-199.3\" font-family=\"Times,serif\" font-size=\"14.00\">Thiophenol in THF</text>\n",
       "</g>\n",
       "<!-- Pump 3&#45;&gt;Thiophenol in THF -->\n",
       "<g id=\"edge4\" class=\"edge\">\n",
       "<title>Pump 3&#45;&gt;Thiophenol in THF</title>\n",
       "<path fill=\"none\" stroke=\"black\" d=\"M347.14,-203C366.02,-203 391.5,-203 415.57,-203\"/>\n",
       "<polygon fill=\"black\" stroke=\"black\" points=\"415.77,-206.5 425.77,-203 415.77,-199.5 415.77,-206.5\"/>\n",
       "</g>\n",
       "<!-- Pump 4 -->\n",
       "<g id=\"node12\" class=\"node\">\n",
       "<title>Pump 4</title>\n",
       "<polygon fill=\"none\" stroke=\"black\" points=\"518.5,-275 462.5,-275 458.5,-271 458.5,-239 514.5,-239 518.5,-243 518.5,-275\"/>\n",
       "<polyline fill=\"none\" stroke=\"black\" points=\"514.5,-271 458.5,-271 \"/>\n",
       "<polyline fill=\"none\" stroke=\"black\" points=\"514.5,-271 514.5,-239 \"/>\n",
       "<polyline fill=\"none\" stroke=\"black\" points=\"514.5,-271 518.5,-275 \"/>\n",
       "<text text-anchor=\"middle\" x=\"488.5\" y=\"-253.3\" font-family=\"Times,serif\" font-size=\"14.00\">Pump 4</text>\n",
       "</g>\n",
       "<!-- Pump 4&#45;&gt;Me2NH + NaBH3CN in MeOH -->\n",
       "<g id=\"edge5\" class=\"edge\">\n",
       "<title>Pump 4&#45;&gt;Me2NH + NaBH3CN in MeOH</title>\n",
       "<path fill=\"none\" stroke=\"black\" d=\"M518.62,-257C534.45,-257 555.11,-257 576.45,-257\"/>\n",
       "<polygon fill=\"black\" stroke=\"black\" points=\"576.62,-260.5 586.62,-257 576.62,-253.5 576.62,-260.5\"/>\n",
       "</g>\n",
       "<!-- Starting Material&#45;&gt;Oxidation Mixer -->\n",
       "<g id=\"edge6\" class=\"edge\">\n",
       "<title>Starting Material&#45;&gt;Oxidation Mixer</title>\n",
       "<path fill=\"none\" stroke=\"black\" d=\"M203.68,-57.79C219,-62.87 236.03,-68.51 252.1,-73.83\"/>\n",
       "<polygon fill=\"black\" stroke=\"black\" points=\"251.37,-77.27 261.96,-77.1 253.57,-70.63 251.37,-77.27\"/>\n",
       "</g>\n",
       "<!-- Thiophenol in THF&#45;&gt;Addition Mixer -->\n",
       "<g id=\"edge11\" class=\"edge\">\n",
       "<title>Thiophenol in THF&#45;&gt;Addition Mixer</title>\n",
       "<path fill=\"none\" stroke=\"black\" d=\"M551.04,-203C573.91,-203 599.85,-203 622.7,-203\"/>\n",
       "<polygon fill=\"black\" stroke=\"black\" points=\"622.96,-206.5 632.96,-203 622.96,-199.5 622.96,-206.5\"/>\n",
       "</g>\n",
       "</g>\n",
       "</svg>\n"
      ],
      "text/plain": [
       "<graphviz.dot.Digraph at 0x12c6d2eb0>"
      ]
     },
     "execution_count": 13,
     "metadata": {},
     "output_type": "execute_result"
    }
   ],
   "source": [
    "# apparatus \n",
    "A = mw.Apparatus(\"Telescoped L-megosamide\")\n",
    "\n",
    "A.add(pump_1, reagent_vessel_1, sugar)\n",
    "A.add(pump_1, reagent_vessel_2, DMP)\n",
    "A.add(pump_2, reagent_vessel_3, CsCO3)\n",
    "A.add(pump_3, reagent_vessel_4, thiophenol)\n",
    "A.add(pump_4, reagent_vessel_5, NH4OAc)\n",
    "\n",
    "A.add(reagent_vessel_1, T_1, sugar)\n",
    "A.add(reagent_vessel_2, T_1, DMP)\n",
    "A.add(T_1, T_2, oxidation)\n",
    "\n",
    "A.add(reagent_vessel_3, T_2, CsCO3)\n",
    "A.add(T_2, T_3, activation)\n",
    "\n",
    "A.add(reagent_vessel_4, T_3, thiophenol)\n",
    "A.add(T_3, T_4, addition)\n",
    "\n",
    "A.add(reagent_vessel_5, T_4, NH4OAc)\n",
    "A.add(T_4, product_vessel, amination)\n",
    "\n",
    "A.visualize()"
   ]
  },
  {
   "cell_type": "markdown",
   "metadata": {},
   "source": [
    "### Protocol"
   ]
  },
  {
   "cell_type": "code",
   "execution_count": 15,
   "metadata": {},
   "outputs": [
    {
     "name": "stdout",
     "output_type": "stream",
     "text": [
      "TOTAL TIME: 0:30:30\n"
     ]
    }
   ],
   "source": [
    "P = mw.Protocol(A)\n",
    "\n",
    "switch = timedelta(minutes = 1)\n",
    "\n",
    "current = timedelta(seconds = 0)\n",
    "\n",
    "pump_1_initial = timedelta(minutes = 2)\n",
    "P.add(pump_1, start = current,\n",
    "              duration = pump_1_initial, rate = \"0.5mL/min\")\n",
    "\n",
    "current += pump_1_initial + switch\n",
    "\n",
    "deacetylation = timedelta(minutes = 8) \n",
    "protection = timedelta(minutes = 3.5)\n",
    "\n",
    "P.add(pump_1, start = current, \n",
    "              duration = deacetylation + protection, rate = \"0.5mL/min\")\n",
    "\n",
    "current += deacetylation\n",
    "\n",
    "P.add(pump_2, start = current,\n",
    "              duration = protection, rate = \"1mL/min\")\n",
    "\n",
    "current += protection + switch\n",
    "\n",
    "flush = timedelta(minutes = 15) \n",
    "P.add(pump_1, start = current, \n",
    "              duration = flush, rate = \"0.5mL/min\")\n",
    "P.add(pump_2, start = current, \n",
    "              duration = flush, rate = \"1mL/min\")\n",
    "\n",
    "current += flush\n",
    "\n",
    "print(f'TOTAL TIME: {current}')\n",
    "P.execute(confirm = True)"
   ]
  },
  {
   "cell_type": "markdown",
   "metadata": {},
   "source": [
    "### Product and Yield Information"
   ]
  },
  {
   "cell_type": "code",
   "execution_count": 16,
   "metadata": {},
   "outputs": [
    {
     "name": "stdout",
     "output_type": "stream",
     "text": [
      "TBS protected rhamnal; molecular weight:  244.41\n",
      "Theoretical Yield: 0.2282 g\n",
      "Enter mass of product in g: 0.1\n",
      "Actual Yield: 0.1 g\n",
      "Percent Yield: 43.8 %\n"
     ]
    }
   ],
   "source": [
    "product = \"TBS protected rhamnal\"\n",
    "product_molecular_weight = 244.41\n",
    "\n",
    "theoretical_yield = round(moles * product_molecular_weight, decimals = 4)\n",
    "\n",
    "if moles < 0.0005:\n",
    "    theoretical_yield *= 1000\n",
    "    units = 'mg'\n",
    "else:\n",
    "    units = 'g'\n",
    "\n",
    "print(product + \"; molecular weight: \", product_molecular_weight)\n",
    "\n",
    "print(\"Theoretical Yield:\", theoretical_yield, units)\n",
    "\n",
    "actual_yield = float(input(f\"Enter mass of product in {units}: \"))\n",
    "print(\"Actual Yield:\", actual_yield, units)\n",
    "\n",
    "percent_yield = round((actual_yield / theoretical_yield) * 100, decimals = 1)\n",
    "print(\"Percent Yield:\", percent_yield, \"%\")"
   ]
  }
 ],
 "metadata": {
  "kernelspec": {
   "display_name": "Python 3",
   "language": "python",
   "name": "python3"
  },
  "language_info": {
   "codemirror_mode": {
    "name": "ipython",
    "version": 3
   },
   "file_extension": ".py",
   "mimetype": "text/x-python",
   "name": "python",
   "nbconvert_exporter": "python",
   "pygments_lexer": "ipython3",
   "version": "3.9.6"
  }
 },
 "nbformat": 4,
 "nbformat_minor": 4
}
