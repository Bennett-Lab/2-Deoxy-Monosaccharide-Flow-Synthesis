{
 "cells": [
  {
   "cell_type": "markdown",
   "metadata": {},
   "source": [
    "## Notebook Page"
   ]
  },
  {
   "cell_type": "code",
   "execution_count": 1,
   "metadata": {},
   "outputs": [],
   "source": [
    "import mechwolf as mw\n",
    "import graphviz\n",
    "import math\n",
    "from datetime import timedelta\n",
    "from astropy.table import QTable, Table, Column\n",
    "from sigfig import round\n",
    "import json"
   ]
  },
  {
   "cell_type": "code",
   "execution_count": 2,
   "metadata": {},
   "outputs": [],
   "source": [
    "with open('protection_reagents.json') as f:\n",
    "    data = json.load(f)"
   ]
  },
  {
   "cell_type": "markdown",
   "metadata": {},
   "source": [
    "### Reagents"
   ]
  },
  {
   "cell_type": "code",
   "execution_count": 3,
   "metadata": {},
   "outputs": [
    {
     "name": "stdout",
     "output_type": "stream",
     "text": [
      "The limiting reagent is Diacetyl Rhamnal\n",
      "\n",
      "Moles: 0.0009336196433572963\n"
     ]
    }
   ],
   "source": [
    "print(f\"The limiting reagent is {data['limiting reagent']}\")\n",
    "mw_limiting = 214.22\n",
    "\n",
    "try:\n",
    "    mass_scale = float(data['mass scale'])\n",
    "except:\n",
    "    print('Invalid input: numerical values only')\n",
    "\n",
    "moles = mass_scale / mw_limiting\n",
    "\n",
    "print(f'\\nMoles: {moles}')"
   ]
  },
  {
   "cell_type": "code",
   "execution_count": 4,
   "metadata": {},
   "outputs": [
    {
     "name": "stdout",
     "output_type": "stream",
     "text": [
      "\n",
      "Volume: 1.5560327389288273 mL\n"
     ]
    }
   ],
   "source": [
    "try:\n",
    "    concentration = float(data['concentration'])\n",
    "except:\n",
    "    print('Invalid input: numerical values only')\n",
    "    \n",
    "volume = (moles * 1000) / concentration\n",
    "\n",
    "print(f'\\nVolume: {volume} mL')"
   ]
  },
  {
   "cell_type": "code",
   "execution_count": 5,
   "metadata": {},
   "outputs": [],
   "source": [
    "class Reagent:\n",
    "    \n",
    "    def __init__(self, reagent):\n",
    "        assert 'name' in reagent, 'ERROR: one of the reagents does not have a name field'\n",
    "        assert 'inChi' in reagent, f'Error: {reagent[\"name\"]} does not have an inChi field'\n",
    "        assert 'inChi Key' in reagent, f'Error: {reagent[\"name\"]} does not have an inChi key field'\n",
    "        assert 'molecular weight' in reagent, f'Error: {reagent[\"name\"]} does not have a molecular weight field'\n",
    "        assert 'eq' in reagent, f'Error: {reagent[\"name\"]} does not have an eq field'\n",
    "        assert 'syringe' in reagent, f'Error: {reagent[\"name\"]} does not have an syringe # field'\n",
    "        \n",
    "        self.name = reagent['name']\n",
    "        self.inChi = reagent['inChi']\n",
    "        self.mol_weight = reagent['molecular weight']\n",
    "        self.eq = reagent['eq']\n",
    "        self.syringe = reagent['syringe']\n",
    "        self.moles = round(moles * self.eq, decimals = 4)\n",
    "        self.mass = round(self.moles * self.mol_weight, decimals = 4)\n",
    "        \n",
    "    def __str__(self):\n",
    "        return f\"{self.name}\"\n",
    "    \n",
    "class Solid(Reagent):\n",
    "    \n",
    "    def __init__(self, reagent):\n",
    "        super().__init__(reagent)\n",
    "\n",
    "class Liquid(Reagent):\n",
    "    \n",
    "    def __init__(self, reagent):\n",
    "        super().__init__(reagent)\n",
    "        \n",
    "        assert 'density' in reagent, f'Error: {reagent[\"name\"]} does not have a density field'\n",
    "        self.density = reagent['density']\n",
    "        self.volume = round(self.eq * moles * (self.mol_weight / self.density), decimals = 4)\n",
    "        \n",
    "reagent_list = []\n",
    "for solid in data['solid reagents']:\n",
    "    reagent_list.append(Solid(solid))\n",
    "    \n",
    "for liquid in data['liquid reagents']:\n",
    "    reagent_list.append(Liquid(liquid))"
   ]
  },
  {
   "cell_type": "markdown",
   "metadata": {},
   "source": [
    "## Stoichiometry Table\n",
    "\n",
    "### Reagent Table"
   ]
  },
  {
   "cell_type": "code",
   "execution_count": 6,
   "metadata": {
    "scrolled": true
   },
   "outputs": [
    {
     "name": "stdout",
     "output_type": "stream",
     "text": [
      "    Reagent      Molecular Weight (g/mol)  mol   Mass (g) Volume (mL) Density (g/mL)  eq\n",
      "---------------- ------------------------ ------ -------- ----------- -------------- ---\n",
      "Diacetyl Rhamnal                   214.22 0.0009   0.1928         N/A            N/A 1.0\n",
      "           NaOMe                    54.05 0.0047    0.254         N/A            N/A 5.0\n",
      "           TBSCl                   150.72 0.0032   0.4823         N/A            N/A 3.4\n",
      "            DMAP                   122.17 0.0004   0.0489         N/A            N/A 0.4\n",
      "            MeOH                    32.04 0.0019   0.0609      0.0756          0.791 2.0\n",
      "            Et3N                   101.19 0.0032   0.3238      0.4424          0.726 3.4\n",
      "\n",
      "Solvent: DMF\n"
     ]
    }
   ],
   "source": [
    "reagent_table = QTable()\n",
    "reagent_table['Reagent'] = [reagent.name for reagent in reagent_list]\n",
    "reagent_table['Molecular Weight (g/mol)'] = [reagent.mol_weight for reagent in reagent_list]\n",
    "\n",
    "if moles < 0.0005:\n",
    "    reagent_table['mmol'] = [reagent.moles * 1000 for reagent in reagent_list]\n",
    "    reagent_table['Mass (mg)'] = [round(reagent.mass * 1000, decimals = 4) for reagent in reagent_list]\n",
    "else:\n",
    "    reagent_table['mol'] = [reagent.moles for reagent in reagent_list]\n",
    "    reagent_table['Mass (g)'] = [round(reagent.mass, decimals = 4) for reagent in reagent_list]\n",
    "\n",
    "reagent_table['Volume (mL)'] = [reagent.volume if hasattr(reagent, 'volume') else \"N/A\" for reagent in reagent_list]\n",
    "reagent_table['Density (g/mL)'] = [reagent.density if hasattr(reagent, 'density') else \"N/A\" for reagent in reagent_list]\n",
    "reagent_table['eq'] = [reagent.eq for reagent in reagent_list]\n",
    "\n",
    "reagent_table.pprint(max_lines=-1, max_width=-1)\n",
    "\n",
    "print(f'\\nSolvent: {data[\"solvent\"]}')"
   ]
  },
  {
   "cell_type": "markdown",
   "metadata": {},
   "source": [
    "### Syringe Table"
   ]
  },
  {
   "cell_type": "code",
   "execution_count": 7,
   "metadata": {},
   "outputs": [
    {
     "name": "stdout",
     "output_type": "stream",
     "text": [
      "Syringe      Reagent      Solvent Volume\n",
      "------- ----------------- --------------\n",
      "      1  Diacetyl Rhamnal            1.6\n",
      "      2       NaOMe, MeOH            1.5\n",
      "      3 TBSCl, DMAP, Et3N            2.7\n"
     ]
    }
   ],
   "source": [
    "def get_syringe_reagents(reagents, syr_max):\n",
    "    \n",
    "    def get_reagents_for_syringe_number(syr_num):\n",
    "        reagent_for_syringe_num = \"\"\n",
    "        for reagent in reagents:\n",
    "            if reagent.syringe == syr_num:\n",
    "                reagent_for_syringe_num += f'{reagent.name}, '\n",
    "                \n",
    "        return reagent_for_syringe_num[:-2]\n",
    "                \n",
    "    return list(map(get_reagents_for_syringe_number, range(1, syr_max)))\n",
    "\n",
    "syringe_table = QTable()\n",
    "syringe_max = max([reagent.syringe for reagent in reagent_list]) + 1\n",
    "syringe_table['Syringe'] = list(range(1, syringe_max))\n",
    "syringe_table['Reagent'] = get_syringe_reagents(reagent_list, syringe_max)\n",
    "syringe_table['Solvent Volume'] = data['solvent volume']\n",
    "\n",
    "syringe_table.pprint(max_lines=-1, max_width=-1)"
   ]
  },
  {
   "cell_type": "markdown",
   "metadata": {},
   "source": [
    "### Pumps"
   ]
  },
  {
   "cell_type": "code",
   "execution_count": 8,
   "metadata": {},
   "outputs": [],
   "source": [
    "import time\n",
    "import asyncio\n",
    "from loguru import logger\n",
    "from mechwolf import _ureg, Pump\n",
    "\n",
    "class HarvardSyringePump(Pump):\n",
    "    def __init__(self, syringe_volume, syringe_diameter, serial_port, name=None):\n",
    "        super().__init__(name = name)\n",
    "        self.serial_port = serial_port\n",
    "        self.syringe_volume = _ureg.parse_expression(syringe_volume)\n",
    "        self.syringe_diameter = _ureg.parse_expression(syringe_diameter)\n",
    "        \n",
    "    def __enter__(self):\n",
    "        import aioserial\n",
    "\n",
    "        self._ser = aioserial.AioSerial(\n",
    "            self.serial_port,\n",
    "            115200,\n",
    "            parity = aioserial.PARITY_NONE,\n",
    "            stopbits = 1,\n",
    "            timeout = 1,\n",
    "            write_timeout = 1,)\n",
    "        syringe_volume_ml = self.syringe_volume.to(_ureg.ml).magnitude \n",
    "        syringe_diameter_mm = self.syringe_diameter.to(_ureg.mm).magnitude\n",
    "        self._ser.write(f'svolume {syringe_volume_ml} ml\\r'.encode())\n",
    "        self._ser.write(f'diameter {syringe_diameter_mm}\\r'.encode())\n",
    "\n",
    "        return self\n",
    "    \n",
    "    def __exit__(self, exc_type, exc_value, traceback):\n",
    "        self.rate = _ureg.parse_expression(\"0 mL/min\")\n",
    "        self._ser.write(b'stop\\r') \n",
    "        \n",
    "        del self._ser\n",
    "\n",
    "    async def _update(self):\n",
    "        rate_mlmin = self.rate.to(_ureg.ml / _ureg.min).magnitude\n",
    "        if rate_mlmin == 0:\n",
    "            self._ser.write(b'stop\\r') \n",
    "        else:\n",
    "            self._ser.write(f'irate {rate_mlmin} m/m\\r'.encode())\n",
    "            self._ser.write(b'irun\\r')"
   ]
  },
  {
   "cell_type": "code",
   "execution_count": 9,
   "metadata": {},
   "outputs": [],
   "source": [
    "pump_1 = HarvardSyringePump(\"24mL\", \"20.05mm\", serial_port = '/dev/tty.usbmodemD4038611', name = \"Pump 1\")\n",
    "pump_2 = HarvardSyringePump(\"24mL\", \"20.05mm\", serial_port = '/dev/tty.usbmodemD4038591', name = \"Pump 2\")"
   ]
  },
  {
   "cell_type": "markdown",
   "metadata": {},
   "source": [
    "### Syringe, Tubing, and Mixer Information"
   ]
  },
  {
   "cell_type": "code",
   "execution_count": 13,
   "metadata": {},
   "outputs": [],
   "source": [
    "#reagent vessels\n",
    "reagent_vessel_1 = mw.Vessel(\"Diacetyl Rhamnal\", name = \"Starting Material\")\n",
    "reagent_vessel_2 = mw.Vessel(\"NaOMe\", name = \"NaOMe + MeOH in DMF\")\n",
    "reagent_vessel_3 = mw.Vessel(\"TBSCl\", name = \"TBSCl + DMAP\")\n",
    "product_vessel = mw.Vessel(\"C3 benzylated rhamnal\", name = \"Product\")\n",
    "\n",
    "#tubing\n",
    "def big_tube(length):\n",
    "    return mw.Tube(length = length, ID = \"0.062 in\", OD = \"1/8 in\", material = \"PFA\")\n",
    "\n",
    "sugar = big_tube(length = \"1 foot\")\n",
    "NaOMe = big_tube(length = \"1 foot\")\n",
    "deacetylation = big_tube(length = \"16 foot\")\n",
    "TBSCl = big_tube(length = \"1 foot\")\n",
    "protection = big_tube(length = \"64 foot\")\n",
    "\n",
    "#mixers\n",
    "def Tmixer(name):\n",
    "    return mw.TMixer(name = f'{name} Mixer')\n",
    "\n",
    "T_1 = Tmixer('Deacetylation')\n",
    "T_2 = Tmixer('Protection')"
   ]
  },
  {
   "cell_type": "markdown",
   "metadata": {},
   "source": [
    "### Apparatus "
   ]
  },
  {
   "cell_type": "code",
   "execution_count": 14,
   "metadata": {},
   "outputs": [
    {
     "data": {
      "image/svg+xml": [
       "<?xml version=\"1.0\" encoding=\"UTF-8\" standalone=\"no\"?>\n",
       "<!DOCTYPE svg PUBLIC \"-//W3C//DTD SVG 1.1//EN\"\n",
       " \"http://www.w3.org/Graphics/SVG/1.1/DTD/svg11.dtd\">\n",
       "<!-- Generated by graphviz version 2.47.3 (20210619.1520)\n",
       " -->\n",
       "<!-- Title: Deacetylation and Protection Pages: 1 -->\n",
       "<svg width=\"680pt\" height=\"175pt\"\n",
       " viewBox=\"0.00 0.00 680.00 175.00\" xmlns=\"http://www.w3.org/2000/svg\" xmlns:xlink=\"http://www.w3.org/1999/xlink\">\n",
       "<g id=\"graph0\" class=\"graph\" transform=\"scale(1 1) rotate(0) translate(4 171)\">\n",
       "<title>Deacetylation and Protection</title>\n",
       "<polygon fill=\"white\" stroke=\"transparent\" points=\"-4,4 -4,-171 676,-171 676,4 -4,4\"/>\n",
       "<text text-anchor=\"middle\" x=\"336\" y=\"-7.8\" font-family=\"Times,serif\" font-size=\"14.00\">Deacetylation and Protection</text>\n",
       "<!-- Deacetylation Mixer -->\n",
       "<g id=\"node1\" class=\"node\">\n",
       "<title>Deacetylation Mixer</title>\n",
       "<polygon fill=\"none\" stroke=\"black\" points=\"416,-107 296,-107 296,-83 416,-83 428,-95 416,-107\"/>\n",
       "<text text-anchor=\"middle\" x=\"362\" y=\"-91.3\" font-family=\"Times,serif\" font-size=\"14.00\">Deacetylation Mixer</text>\n",
       "</g>\n",
       "<!-- Protection Mixer -->\n",
       "<g id=\"node4\" class=\"node\">\n",
       "<title>Protection Mixer</title>\n",
       "<polygon fill=\"none\" stroke=\"black\" points=\"564,-134 464,-134 464,-110 564,-110 576,-122 564,-134\"/>\n",
       "<text text-anchor=\"middle\" x=\"520\" y=\"-118.3\" font-family=\"Times,serif\" font-size=\"14.00\">Protection Mixer</text>\n",
       "</g>\n",
       "<!-- Deacetylation Mixer&#45;&gt;Protection Mixer -->\n",
       "<g id=\"edge5\" class=\"edge\">\n",
       "<title>Deacetylation Mixer&#45;&gt;Protection Mixer</title>\n",
       "<path fill=\"none\" stroke=\"black\" d=\"M428.25,-106.29C436.78,-107.77 445.51,-109.28 454.02,-110.75\"/>\n",
       "<polygon fill=\"black\" stroke=\"black\" points=\"453.45,-114.21 463.9,-112.46 454.64,-107.31 453.45,-114.21\"/>\n",
       "</g>\n",
       "<!-- NaOMe + MeOH in DMF -->\n",
       "<g id=\"node2\" class=\"node\">\n",
       "<title>NaOMe + MeOH in DMF</title>\n",
       "<path fill=\"none\" stroke=\"black\" d=\"M260,-109.73C260,-111.53 223.25,-113 178,-113 132.75,-113 96,-111.53 96,-109.73 96,-109.73 96,-80.27 96,-80.27 96,-78.47 132.75,-77 178,-77 223.25,-77 260,-78.47 260,-80.27 260,-80.27 260,-109.73 260,-109.73\"/>\n",
       "<path fill=\"none\" stroke=\"black\" d=\"M260,-109.73C260,-107.92 223.25,-106.45 178,-106.45 132.75,-106.45 96,-107.92 96,-109.73\"/>\n",
       "<text text-anchor=\"middle\" x=\"178\" y=\"-91.3\" font-family=\"Times,serif\" font-size=\"14.00\">NaOMe + MeOH in DMF</text>\n",
       "</g>\n",
       "<!-- NaOMe + MeOH in DMF&#45;&gt;Deacetylation Mixer -->\n",
       "<g id=\"edge4\" class=\"edge\">\n",
       "<title>NaOMe + MeOH in DMF&#45;&gt;Deacetylation Mixer</title>\n",
       "<path fill=\"none\" stroke=\"black\" d=\"M260.15,-95C268.64,-95 277.25,-95 285.67,-95\"/>\n",
       "<polygon fill=\"black\" stroke=\"black\" points=\"285.84,-98.5 295.83,-95 285.83,-91.5 285.84,-98.5\"/>\n",
       "</g>\n",
       "<!-- Product -->\n",
       "<g id=\"node3\" class=\"node\">\n",
       "<title>Product</title>\n",
       "<path fill=\"none\" stroke=\"black\" d=\"M672,-136.73C672,-138.53 658.55,-140 642,-140 625.45,-140 612,-138.53 612,-136.73 612,-136.73 612,-107.27 612,-107.27 612,-105.47 625.45,-104 642,-104 658.55,-104 672,-105.47 672,-107.27 672,-107.27 672,-136.73 672,-136.73\"/>\n",
       "<path fill=\"none\" stroke=\"black\" d=\"M672,-136.73C672,-134.92 658.55,-133.45 642,-133.45 625.45,-133.45 612,-134.92 612,-136.73\"/>\n",
       "<text text-anchor=\"middle\" x=\"642\" y=\"-118.3\" font-family=\"Times,serif\" font-size=\"14.00\">Product</text>\n",
       "</g>\n",
       "<!-- Protection Mixer&#45;&gt;Product -->\n",
       "<g id=\"edge8\" class=\"edge\">\n",
       "<title>Protection Mixer&#45;&gt;Product</title>\n",
       "<path fill=\"none\" stroke=\"black\" d=\"M576.08,-122C584.75,-122 593.55,-122 601.76,-122\"/>\n",
       "<polygon fill=\"black\" stroke=\"black\" points=\"601.79,-125.5 611.79,-122 601.79,-118.5 601.79,-125.5\"/>\n",
       "</g>\n",
       "<!-- Pump 1 -->\n",
       "<g id=\"node5\" class=\"node\">\n",
       "<title>Pump 1</title>\n",
       "<polygon fill=\"none\" stroke=\"black\" points=\"60,-86 4,-86 0,-82 0,-50 56,-50 60,-54 60,-86\"/>\n",
       "<polyline fill=\"none\" stroke=\"black\" points=\"56,-82 0,-82 \"/>\n",
       "<polyline fill=\"none\" stroke=\"black\" points=\"56,-82 56,-50 \"/>\n",
       "<polyline fill=\"none\" stroke=\"black\" points=\"56,-82 60,-86 \"/>\n",
       "<text text-anchor=\"middle\" x=\"30\" y=\"-64.3\" font-family=\"Times,serif\" font-size=\"14.00\">Pump 1</text>\n",
       "</g>\n",
       "<!-- Pump 1&#45;&gt;NaOMe + MeOH in DMF -->\n",
       "<g id=\"edge2\" class=\"edge\">\n",
       "<title>Pump 1&#45;&gt;NaOMe + MeOH in DMF</title>\n",
       "<path fill=\"none\" stroke=\"black\" d=\"M60.19,-73.4C67.89,-74.82 76.63,-76.44 85.77,-78.13\"/>\n",
       "<polygon fill=\"black\" stroke=\"black\" points=\"85.34,-81.61 95.81,-79.99 86.62,-74.73 85.34,-81.61\"/>\n",
       "</g>\n",
       "<!-- Starting Material -->\n",
       "<g id=\"node7\" class=\"node\">\n",
       "<title>Starting Material</title>\n",
       "<path fill=\"none\" stroke=\"black\" d=\"M234,-55.73C234,-57.53 208.9,-59 178,-59 147.1,-59 122,-57.53 122,-55.73 122,-55.73 122,-26.27 122,-26.27 122,-24.47 147.1,-23 178,-23 208.9,-23 234,-24.47 234,-26.27 234,-26.27 234,-55.73 234,-55.73\"/>\n",
       "<path fill=\"none\" stroke=\"black\" d=\"M234,-55.73C234,-53.92 208.9,-52.45 178,-52.45 147.1,-52.45 122,-53.92 122,-55.73\"/>\n",
       "<text text-anchor=\"middle\" x=\"178\" y=\"-37.3\" font-family=\"Times,serif\" font-size=\"14.00\">Starting Material</text>\n",
       "</g>\n",
       "<!-- Pump 1&#45;&gt;Starting Material -->\n",
       "<g id=\"edge1\" class=\"edge\">\n",
       "<title>Pump 1&#45;&gt;Starting Material</title>\n",
       "<path fill=\"none\" stroke=\"black\" d=\"M60.19,-62.6C75.08,-59.85 93.82,-56.38 111.91,-53.04\"/>\n",
       "<polygon fill=\"black\" stroke=\"black\" points=\"112.66,-56.46 121.86,-51.2 111.39,-49.57 112.66,-56.46\"/>\n",
       "</g>\n",
       "<!-- Pump 2 -->\n",
       "<g id=\"node6\" class=\"node\">\n",
       "<title>Pump 2</title>\n",
       "<polygon fill=\"none\" stroke=\"black\" points=\"208,-167 152,-167 148,-163 148,-131 204,-131 208,-135 208,-167\"/>\n",
       "<polyline fill=\"none\" stroke=\"black\" points=\"204,-163 148,-163 \"/>\n",
       "<polyline fill=\"none\" stroke=\"black\" points=\"204,-163 204,-131 \"/>\n",
       "<polyline fill=\"none\" stroke=\"black\" points=\"204,-163 208,-167 \"/>\n",
       "<text text-anchor=\"middle\" x=\"178\" y=\"-145.3\" font-family=\"Times,serif\" font-size=\"14.00\">Pump 2</text>\n",
       "</g>\n",
       "<!-- TBSCl + DMAP -->\n",
       "<g id=\"node8\" class=\"node\">\n",
       "<title>TBSCl + DMAP</title>\n",
       "<path fill=\"none\" stroke=\"black\" d=\"M417.5,-163.73C417.5,-165.53 392.62,-167 362,-167 331.38,-167 306.5,-165.53 306.5,-163.73 306.5,-163.73 306.5,-134.27 306.5,-134.27 306.5,-132.47 331.38,-131 362,-131 392.62,-131 417.5,-132.47 417.5,-134.27 417.5,-134.27 417.5,-163.73 417.5,-163.73\"/>\n",
       "<path fill=\"none\" stroke=\"black\" d=\"M417.5,-163.73C417.5,-161.92 392.62,-160.45 362,-160.45 331.38,-160.45 306.5,-161.92 306.5,-163.73\"/>\n",
       "<text text-anchor=\"middle\" x=\"362\" y=\"-145.3\" font-family=\"Times,serif\" font-size=\"14.00\">TBSCl + DMAP</text>\n",
       "</g>\n",
       "<!-- Pump 2&#45;&gt;TBSCl + DMAP -->\n",
       "<g id=\"edge6\" class=\"edge\">\n",
       "<title>Pump 2&#45;&gt;TBSCl + DMAP</title>\n",
       "<path fill=\"none\" stroke=\"black\" d=\"M208.24,-149C231.89,-149 266.09,-149 296.13,-149\"/>\n",
       "<polygon fill=\"black\" stroke=\"black\" points=\"296.14,-152.5 306.14,-149 296.14,-145.5 296.14,-152.5\"/>\n",
       "</g>\n",
       "<!-- Starting Material&#45;&gt;Deacetylation Mixer -->\n",
       "<g id=\"edge3\" class=\"edge\">\n",
       "<title>Starting Material&#45;&gt;Deacetylation Mixer</title>\n",
       "<path fill=\"none\" stroke=\"black\" d=\"M234.1,-57.35C251.83,-62.61 271.72,-68.51 290.41,-74.06\"/>\n",
       "<polygon fill=\"black\" stroke=\"black\" points=\"289.47,-77.43 300.05,-76.92 291.46,-70.72 289.47,-77.43\"/>\n",
       "</g>\n",
       "<!-- TBSCl + DMAP&#45;&gt;Protection Mixer -->\n",
       "<g id=\"edge7\" class=\"edge\">\n",
       "<title>TBSCl + DMAP&#45;&gt;Protection Mixer</title>\n",
       "<path fill=\"none\" stroke=\"black\" d=\"M417.56,-139.56C429.3,-137.53 441.82,-135.36 453.91,-133.27\"/>\n",
       "<polygon fill=\"black\" stroke=\"black\" points=\"454.69,-136.68 463.94,-131.53 453.49,-129.79 454.69,-136.68\"/>\n",
       "</g>\n",
       "</g>\n",
       "</svg>\n"
      ],
      "text/plain": [
       "<graphviz.dot.Digraph at 0x129d88d90>"
      ]
     },
     "execution_count": 14,
     "metadata": {},
     "output_type": "execute_result"
    }
   ],
   "source": [
    "# apparatus \n",
    "A = mw.Apparatus(\"Deacetylation and Protection\")\n",
    "\n",
    "A.add(pump_1, reagent_vessel_1, sugar)\n",
    "A.add(pump_1, reagent_vessel_2, NaOMe)\n",
    "A.add(reagent_vessel_1, T_1, sugar)\n",
    "A.add(reagent_vessel_2, T_1, NaOMe)\n",
    "A.add(T_1, T_2, deacetylation)\n",
    "\n",
    "\n",
    "A.add(pump_2, reagent_vessel_3, TBSCl)\n",
    "A.add(reagent_vessel_3, T_2, TBSCl)\n",
    "A.add(T_2, product_vessel, protection)\n",
    "\n",
    "A.visualize()"
   ]
  },
  {
   "cell_type": "markdown",
   "metadata": {},
   "source": [
    "### Protocol"
   ]
  },
  {
   "cell_type": "code",
   "execution_count": 15,
   "metadata": {},
   "outputs": [
    {
     "name": "stdout",
     "output_type": "stream",
     "text": [
      "TOTAL TIME: 0:30:30\n"
     ]
    }
   ],
   "source": [
    "P = mw.Protocol(A)\n",
    "\n",
    "switch = timedelta(minutes = 1)\n",
    "\n",
    "current = timedelta(seconds = 0)\n",
    "\n",
    "pump_1_initial = timedelta(minutes = 2)\n",
    "P.add(pump_1, start = current,\n",
    "              duration = pump_1_initial, rate = \"0.5mL/min\")\n",
    "\n",
    "current += pump_1_initial + switch\n",
    "\n",
    "deacetylation = timedelta(minutes = 8) \n",
    "protection = timedelta(minutes = 3.5)\n",
    "\n",
    "P.add(pump_1, start = current, \n",
    "              duration = deacetylation + protection, rate = \"0.5mL/min\")\n",
    "\n",
    "current += deacetylation\n",
    "\n",
    "P.add(pump_2, start = current,\n",
    "              duration = protection, rate = \"1mL/min\")\n",
    "\n",
    "current += protection + switch\n",
    "\n",
    "flush = timedelta(minutes = 15) \n",
    "P.add(pump_1, start = current, \n",
    "              duration = flush, rate = \"0.5mL/min\")\n",
    "P.add(pump_2, start = current, \n",
    "              duration = flush, rate = \"1mL/min\")\n",
    "\n",
    "current += flush\n",
    "\n",
    "print(f'TOTAL TIME: {current}')\n",
    "P.execute(confirm = True)"
   ]
  },
  {
   "cell_type": "markdown",
   "metadata": {},
   "source": [
    "### Product and Yield Information"
   ]
  },
  {
   "cell_type": "code",
   "execution_count": 16,
   "metadata": {},
   "outputs": [
    {
     "name": "stdout",
     "output_type": "stream",
     "text": [
      "TBS protected rhamnal; molecular weight:  244.41\n",
      "Theoretical Yield: 0.2282 g\n",
      "Enter mass of product in g: 0.1\n",
      "Actual Yield: 0.1 g\n",
      "Percent Yield: 43.8 %\n"
     ]
    }
   ],
   "source": [
    "product = \"C3 TBS protected rhamnal\"\n",
    "product_molecular_weight = 244.41\n",
    "\n",
    "theoretical_yield = round(moles * product_molecular_weight, decimals = 4)\n",
    "\n",
    "if moles < 0.0005:\n",
    "    theoretical_yield *= 1000\n",
    "    units = 'mg'\n",
    "else:\n",
    "    units = 'g'\n",
    "\n",
    "print(product + \"; molecular weight: \", product_molecular_weight)\n",
    "\n",
    "print(\"Theoretical Yield:\", theoretical_yield, units)\n",
    "\n",
    "actual_yield = float(input(f\"Enter mass of product in {units}: \"))\n",
    "print(\"Actual Yield:\", actual_yield, units)\n",
    "\n",
    "percent_yield = round((actual_yield / theoretical_yield) * 100, decimals = 1)\n",
    "print(\"Percent Yield:\", percent_yield, \"%\")"
   ]
  }
 ],
 "metadata": {
  "kernelspec": {
   "display_name": "Python 3",
   "language": "python",
   "name": "python3"
  },
  "language_info": {
   "codemirror_mode": {
    "name": "ipython",
    "version": 3
   },
   "file_extension": ".py",
   "mimetype": "text/x-python",
   "name": "python",
   "nbconvert_exporter": "python",
   "pygments_lexer": "ipython3",
   "version": "3.9.0"
  }
 },
 "nbformat": 4,
 "nbformat_minor": 4
}
