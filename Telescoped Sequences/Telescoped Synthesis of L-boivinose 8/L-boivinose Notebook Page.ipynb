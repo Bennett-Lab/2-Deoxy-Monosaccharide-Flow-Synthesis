{
 "cells": [
  {
   "cell_type": "markdown",
   "metadata": {},
   "source": [
    "## Notebook Page"
   ]
  },
  {
   "cell_type": "code",
   "execution_count": 1,
   "metadata": {},
   "outputs": [],
   "source": [
    "import mechwolf as mw\n",
    "import graphviz\n",
    "import math\n",
    "from datetime import timedelta\n",
    "from astropy.table import QTable, Table, Column\n",
    "from sigfig import round\n",
    "import json"
   ]
  },
  {
   "cell_type": "code",
   "execution_count": 2,
   "metadata": {},
   "outputs": [],
   "source": [
    "with open('boivinose_reagents.json') as f:\n",
    "    data = json.load(f)"
   ]
  },
  {
   "cell_type": "markdown",
   "metadata": {},
   "source": [
    "### Reagents"
   ]
  },
  {
   "cell_type": "code",
   "execution_count": 3,
   "metadata": {},
   "outputs": [
    {
     "name": "stdout",
     "output_type": "stream",
     "text": [
      "The limiting reagent is Benzylated Fucal\n",
      "\n",
      "Moles: 0.004539882871021928\n"
     ]
    }
   ],
   "source": [
    "print(f\"The limiting reagent is {data['limiting reagent']}\")\n",
    "mw_limiting = 220.27\n",
    "\n",
    "try:\n",
    "    mass_scale = float(data['mass scale'])\n",
    "except:\n",
    "    print('Invalid input: numerical values only')\n",
    "\n",
    "moles = mass_scale / mw_limiting\n",
    "\n",
    "print(f'\\nMoles: {moles}')"
   ]
  },
  {
   "cell_type": "code",
   "execution_count": 4,
   "metadata": {},
   "outputs": [
    {
     "name": "stdout",
     "output_type": "stream",
     "text": [
      "\n",
      "Volume: 14.187133971943524 mL\n"
     ]
    }
   ],
   "source": [
    "try:\n",
    "    concentration = float(data['concentration'])\n",
    "except:\n",
    "    print('Invalid input: numerical values only')\n",
    "    \n",
    "volume = (moles * 1000) / concentration\n",
    "\n",
    "print(f'\\nVolume: {volume} mL')"
   ]
  },
  {
   "cell_type": "code",
   "execution_count": 5,
   "metadata": {},
   "outputs": [],
   "source": [
    "class Reagent:\n",
    "    \n",
    "    def __init__(self, reagent):\n",
    "        assert 'name' in reagent, 'ERROR: one of the reagents does not have a name field'\n",
    "        assert 'inChi' in reagent, f'Error: {reagent[\"name\"]} does not have an inChi field'\n",
    "        assert 'inChi Key' in reagent, f'Error: {reagent[\"name\"]} does not have an inChi key field'\n",
    "        assert 'molecular weight' in reagent, f'Error: {reagent[\"name\"]} does not have a molecular weight field'\n",
    "        assert 'eq' in reagent, f'Error: {reagent[\"name\"]} does not have an eq field'\n",
    "        assert 'syringe' in reagent, f'Error: {reagent[\"name\"]} does not have an syringe # field'\n",
    "        \n",
    "        self.name = reagent['name']\n",
    "        self.inChi = reagent['inChi']\n",
    "        self.mol_weight = reagent['molecular weight']\n",
    "        self.eq = reagent['eq']\n",
    "        self.syringe = reagent['syringe']\n",
    "        self.moles = round(moles * self.eq, decimals = 4)\n",
    "        self.mass = round(self.moles * self.mol_weight, decimals = 4)\n",
    "        \n",
    "    def __str__(self):\n",
    "        return f\"{self.name}\"\n",
    "    \n",
    "class Solid(Reagent):\n",
    "    \n",
    "    def __init__(self, reagent):\n",
    "        super().__init__(reagent)\n",
    "\n",
    "class Liquid(Reagent):\n",
    "    \n",
    "    def __init__(self, reagent):\n",
    "        super().__init__(reagent)\n",
    "        \n",
    "        assert 'density' in reagent, f'Error: {reagent[\"name\"]} does not have a density field'\n",
    "        self.density = reagent['density']\n",
    "        self.volume = round(self.eq * moles * (self.mol_weight / self.density), decimals = 4)\n",
    "        \n",
    "reagent_list = []\n",
    "for solid in data['solid reagents']:\n",
    "    reagent_list.append(Solid(solid))\n",
    "    \n",
    "for liquid in data['liquid reagents']:\n",
    "    reagent_list.append(Liquid(liquid))"
   ]
  },
  {
   "cell_type": "markdown",
   "metadata": {},
   "source": [
    "## Stoichiometry Table\n",
    "\n",
    "### Reagent Table"
   ]
  },
  {
   "cell_type": "code",
   "execution_count": 6,
   "metadata": {
    "scrolled": true
   },
   "outputs": [
    {
     "name": "stdout",
     "output_type": "stream",
     "text": [
      "     Reagent      Molecular Weight (g/mol)  mol   Mass (g) Volume (mL) Density (g/mL)  eq\n",
      "----------------- ------------------------ ------ -------- ----------- -------------- ---\n",
      " Benzylated Fucal                   220.27 0.0045   0.9912         N/A            N/A 1.0\n",
      "           Cs2CO3                   325.82  0.005   1.6291         N/A            N/A 1.1\n",
      "1-Adamantanethiol                    168.3 0.0182   3.0631         N/A            N/A 4.0\n",
      "            NaBH4                    37.83 0.0182   0.6885         N/A            N/A 4.0\n",
      "              DMP                   424.14  0.005   2.1207      1.5551          1.362 1.1\n",
      "             Et3N                   101.19  0.005    0.506       0.696          0.726 1.1\n",
      "\n",
      "Solvent: DMF\n"
     ]
    }
   ],
   "source": [
    "reagent_table = QTable()\n",
    "reagent_table['Reagent'] = [reagent.name for reagent in reagent_list]\n",
    "reagent_table['Molecular Weight (g/mol)'] = [reagent.mol_weight for reagent in reagent_list]\n",
    "\n",
    "if moles < 0.0005:\n",
    "    reagent_table['mmol'] = [reagent.moles * 1000 for reagent in reagent_list]\n",
    "    reagent_table['Mass (mg)'] = [round(reagent.mass * 1000, decimals = 4) for reagent in reagent_list]\n",
    "else:\n",
    "    reagent_table['mol'] = [reagent.moles for reagent in reagent_list]\n",
    "    reagent_table['Mass (g)'] = [round(reagent.mass, decimals = 4) for reagent in reagent_list]\n",
    "\n",
    "reagent_table['Volume (mL)'] = [reagent.volume if hasattr(reagent, 'volume') else \"N/A\" for reagent in reagent_list]\n",
    "reagent_table['Density (g/mL)'] = [reagent.density if hasattr(reagent, 'density') else \"N/A\" for reagent in reagent_list]\n",
    "reagent_table['eq'] = [reagent.eq for reagent in reagent_list]\n",
    "\n",
    "reagent_table.pprint(max_lines=-1, max_width=-1)\n",
    "\n",
    "print(f'\\nSolvent: {data[\"solvent\"]}')"
   ]
  },
  {
   "cell_type": "markdown",
   "metadata": {},
   "source": [
    "### Syringe Table"
   ]
  },
  {
   "cell_type": "code",
   "execution_count": 7,
   "metadata": {},
   "outputs": [
    {
     "name": "stdout",
     "output_type": "stream",
     "text": [
      "Syringe      Reagent      Solvent Volume\n",
      "------- ----------------- --------------\n",
      "      1  Benzylated Fucal           14.1\n",
      "      2               DMP   14.1 mL neat\n",
      "      3      Cs2CO3, Et3N           27.5\n",
      "      4 1-Adamantanethiol           56.4\n",
      "      5             NaBH4          112.8\n"
     ]
    }
   ],
   "source": [
    "def get_syringe_reagents(reagents, syr_max):\n",
    "    \n",
    "    def get_reagents_for_syringe_number(syr_num):\n",
    "        reagent_for_syringe_num = \"\"\n",
    "        for reagent in reagents:\n",
    "            if reagent.syringe == syr_num:\n",
    "                reagent_for_syringe_num += f'{reagent.name}, '\n",
    "                \n",
    "        return reagent_for_syringe_num[:-2]\n",
    "                \n",
    "    return list(map(get_reagents_for_syringe_number, range(1, syr_max)))\n",
    "\n",
    "syringe_table = QTable()\n",
    "syringe_max = max([reagent.syringe for reagent in reagent_list]) + 1\n",
    "syringe_table['Syringe'] = list(range(1, syringe_max))\n",
    "syringe_table['Reagent'] = get_syringe_reagents(reagent_list, syringe_max)\n",
    "syringe_table['Solvent Volume'] = data['solvent volume']\n",
    "\n",
    "syringe_table.pprint(max_lines=-1, max_width=-1)"
   ]
  },
  {
   "cell_type": "markdown",
   "metadata": {},
   "source": [
    "### Pumps"
   ]
  },
  {
   "cell_type": "code",
   "execution_count": 8,
   "metadata": {},
   "outputs": [],
   "source": [
    "import time\n",
    "import asyncio\n",
    "from loguru import logger\n",
    "from mechwolf import _ureg, Pump\n",
    "\n",
    "class HarvardSyringePump(Pump):\n",
    "    def __init__(self, syringe_volume, syringe_diameter, serial_port, name=None):\n",
    "        super().__init__(name = name)\n",
    "        self.serial_port = serial_port\n",
    "        self.syringe_volume = _ureg.parse_expression(syringe_volume)\n",
    "        self.syringe_diameter = _ureg.parse_expression(syringe_diameter)\n",
    "        \n",
    "    def __enter__(self):\n",
    "        import aioserial\n",
    "\n",
    "        self._ser = aioserial.AioSerial(\n",
    "            self.serial_port,\n",
    "            115200,\n",
    "            parity = aioserial.PARITY_NONE,\n",
    "            stopbits = 1,\n",
    "            timeout = 1,\n",
    "            write_timeout = 1,)\n",
    "        syringe_volume_ml = self.syringe_volume.to(_ureg.ml).magnitude \n",
    "        syringe_diameter_mm = self.syringe_diameter.to(_ureg.mm).magnitude\n",
    "        self._ser.write(f'svolume {syringe_volume_ml} ml\\r'.encode())\n",
    "        self._ser.write(f'diameter {syringe_diameter_mm}\\r'.encode())\n",
    "\n",
    "        return self\n",
    "    \n",
    "    def __exit__(self, exc_type, exc_value, traceback):\n",
    "        self.rate = _ureg.parse_expression(\"0 mL/min\")\n",
    "        self._ser.write(b'stop\\r') \n",
    "        \n",
    "        del self._ser\n",
    "\n",
    "    async def _update(self):\n",
    "        rate_mlmin = self.rate.to(_ureg.ml / _ureg.min).magnitude\n",
    "        if rate_mlmin == 0:\n",
    "            self._ser.write(b'stop\\r') \n",
    "        else:\n",
    "            self._ser.write(f'irate {rate_mlmin} m/m\\r'.encode())\n",
    "            self._ser.write(b'irun\\r')"
   ]
  },
  {
   "cell_type": "code",
   "execution_count": 9,
   "metadata": {},
   "outputs": [],
   "source": [
    "pump_1 = HarvardSyringePump(\"24mL\", \"20.05mm\", serial_port = '/dev/tty.usbmodemD4038611', name = \"Pump 1\")\n",
    "pump_2 = HarvardSyringePump(\"24mL\", \"20.05mm\", serial_port = '/dev/tty.usbmodemD4038591', name = \"Pump 2\")\n",
    "pump_3 = HarvardSyringePump(\"24mL\", \"20.05mm\", serial_port = '/dev/tty.usbmodemD4038601', name = \"Pump 3\")"
   ]
  },
  {
   "cell_type": "markdown",
   "metadata": {},
   "source": [
    "### Syringe, Tubing, and Mixer Information"
   ]
  },
  {
   "cell_type": "code",
   "execution_count": 10,
   "metadata": {},
   "outputs": [],
   "source": [
    "#reagent vessels\n",
    "reagent_vessel_1 = mw.Vessel(\"Benzylated Rhamnal\", name = \"Starting Material\")\n",
    "reagent_vessel_2 = mw.Vessel(\"DMP\", name = \"DMP\")\n",
    "reagent_vessel_3 = mw.Vessel(\"CsCO3 + Et3N\", name = \"CsCO3 + Et3N in THF\")\n",
    "reagent_vessel_4 = mw.Vessel(\"SAd\", name = \"Adamantanethiol\")\n",
    "reagent_vessel_5 = mw.Vessel(\"NaBH4\", name = \"NaBH4 in MeOH\")\n",
    "product_vessel = mw.Vessel(\"L-digitoxose\", name = \"L-digitoxose\")\n",
    "\n",
    "#tubing\n",
    "def big_tube(length):\n",
    "    return mw.Tube(length = length, ID = \"0.062 in\", OD = \"1/8 in\", material = \"PFA\")\n",
    "\n",
    "sugar = big_tube(length = \"1 foot\")\n",
    "DMP = big_tube(length = \"1 foot\")\n",
    "oxidation = big_tube(length = \"13 foot\")\n",
    "CsCO3 = big_tube(length = \"1 foot\")\n",
    "activation = big_tube(length = \"4.3 foot\")\n",
    "adamantanethiol = big_tube(length = \"1 foot\")\n",
    "addition = big_tube(length = \"99 foot\")\n",
    "NaBH4 = big_tube(length = \"1 foot\")\n",
    "reduction = big_tube(length = \"132 foot\")\n",
    "\n",
    "#mixers\n",
    "def Tmixer(name):\n",
    "    return mw.TMixer(name = f'{name} Mixer')\n",
    "\n",
    "T_1 = Tmixer(\"Oxidation\")\n",
    "T_2 = Tmixer(\"Activation\")\n",
    "T_3 = Tmixer(\"Addition\")\n",
    "T_4 = Tmixer(\"Reduction\")"
   ]
  },
  {
   "cell_type": "markdown",
   "metadata": {},
   "source": [
    "### Apparatus "
   ]
  },
  {
   "cell_type": "code",
   "execution_count": 11,
   "metadata": {},
   "outputs": [
    {
     "data": {
      "image/svg+xml": [
       "<?xml version=\"1.0\" encoding=\"UTF-8\" standalone=\"no\"?>\n",
       "<!DOCTYPE svg PUBLIC \"-//W3C//DTD SVG 1.1//EN\"\n",
       " \"http://www.w3.org/Graphics/SVG/1.1/DTD/svg11.dtd\">\n",
       "<!-- Generated by graphviz version 2.47.3 (20210619.1520)\n",
       " -->\n",
       "<!-- Title: Synthesis of L&#45;boivinose Pages: 1 -->\n",
       "<svg width=\"971pt\" height=\"263pt\"\n",
       " viewBox=\"0.00 0.00 971.00 263.00\" xmlns=\"http://www.w3.org/2000/svg\" xmlns:xlink=\"http://www.w3.org/1999/xlink\">\n",
       "<g id=\"graph0\" class=\"graph\" transform=\"scale(1 1) rotate(0) translate(4 259)\">\n",
       "<title>Synthesis of L&#45;boivinose</title>\n",
       "<polygon fill=\"white\" stroke=\"transparent\" points=\"-4,4 -4,-259 967,-259 967,4 -4,4\"/>\n",
       "<text text-anchor=\"middle\" x=\"481.5\" y=\"-7.8\" font-family=\"Times,serif\" font-size=\"14.00\">Synthesis of L&#45;boivinose</text>\n",
       "<!-- Activation Mixer -->\n",
       "<g id=\"node1\" class=\"node\">\n",
       "<title>Activation Mixer</title>\n",
       "<polygon fill=\"none\" stroke=\"black\" points=\"527,-141 426,-141 426,-117 527,-117 539,-129 527,-141\"/>\n",
       "<text text-anchor=\"middle\" x=\"482.5\" y=\"-125.3\" font-family=\"Times,serif\" font-size=\"14.00\">Activation Mixer</text>\n",
       "</g>\n",
       "<!-- Addition Mixer -->\n",
       "<g id=\"node3\" class=\"node\">\n",
       "<title>Addition Mixer</title>\n",
       "<polygon fill=\"none\" stroke=\"black\" points=\"673,-195 581,-195 581,-171 673,-171 685,-183 673,-195\"/>\n",
       "<text text-anchor=\"middle\" x=\"633\" y=\"-179.3\" font-family=\"Times,serif\" font-size=\"14.00\">Addition Mixer</text>\n",
       "</g>\n",
       "<!-- Activation Mixer&#45;&gt;Addition Mixer -->\n",
       "<g id=\"edge10\" class=\"edge\">\n",
       "<title>Activation Mixer&#45;&gt;Addition Mixer</title>\n",
       "<path fill=\"none\" stroke=\"black\" d=\"M533.36,-147.13C545.92,-151.7 559.52,-156.64 572.5,-161.36\"/>\n",
       "<polygon fill=\"black\" stroke=\"black\" points=\"571.68,-164.79 582.27,-164.92 574.07,-158.21 571.68,-164.79\"/>\n",
       "</g>\n",
       "<!-- Adamantanethiol -->\n",
       "<g id=\"node2\" class=\"node\">\n",
       "<title>Adamantanethiol</title>\n",
       "<path fill=\"none\" stroke=\"black\" d=\"M539,-197.73C539,-199.53 513.68,-201 482.5,-201 451.32,-201 426,-199.53 426,-197.73 426,-197.73 426,-168.27 426,-168.27 426,-166.47 451.32,-165 482.5,-165 513.68,-165 539,-166.47 539,-168.27 539,-168.27 539,-197.73 539,-197.73\"/>\n",
       "<path fill=\"none\" stroke=\"black\" d=\"M539,-197.73C539,-195.92 513.68,-194.45 482.5,-194.45 451.32,-194.45 426,-195.92 426,-197.73\"/>\n",
       "<text text-anchor=\"middle\" x=\"482.5\" y=\"-179.3\" font-family=\"Times,serif\" font-size=\"14.00\">Adamantanethiol</text>\n",
       "</g>\n",
       "<!-- Adamantanethiol&#45;&gt;Addition Mixer -->\n",
       "<g id=\"edge9\" class=\"edge\">\n",
       "<title>Adamantanethiol&#45;&gt;Addition Mixer</title>\n",
       "<path fill=\"none\" stroke=\"black\" d=\"M539.22,-183C549.46,-183 560.21,-183 570.62,-183\"/>\n",
       "<polygon fill=\"black\" stroke=\"black\" points=\"570.87,-186.5 580.87,-183 570.87,-179.5 570.87,-186.5\"/>\n",
       "</g>\n",
       "<!-- Reduction Mixer -->\n",
       "<g id=\"node12\" class=\"node\">\n",
       "<title>Reduction Mixer</title>\n",
       "<polygon fill=\"none\" stroke=\"black\" points=\"827,-222 727,-222 727,-198 827,-198 839,-210 827,-222\"/>\n",
       "<text text-anchor=\"middle\" x=\"783\" y=\"-206.3\" font-family=\"Times,serif\" font-size=\"14.00\">Reduction Mixer</text>\n",
       "</g>\n",
       "<!-- Addition Mixer&#45;&gt;Reduction Mixer -->\n",
       "<g id=\"edge11\" class=\"edge\">\n",
       "<title>Addition Mixer&#45;&gt;Reduction Mixer</title>\n",
       "<path fill=\"none\" stroke=\"black\" d=\"M685.35,-192.37C695.53,-194.23 706.35,-196.2 716.93,-198.13\"/>\n",
       "<polygon fill=\"black\" stroke=\"black\" points=\"716.49,-201.61 726.96,-199.96 717.75,-194.72 716.49,-201.61\"/>\n",
       "</g>\n",
       "<!-- CsCO3 + Et3N in THF -->\n",
       "<g id=\"node4\" class=\"node\">\n",
       "<title>CsCO3 + Et3N in THF</title>\n",
       "<path fill=\"none\" stroke=\"black\" d=\"M390,-151.73C390,-153.53 357.28,-155 317,-155 276.72,-155 244,-153.53 244,-151.73 244,-151.73 244,-122.27 244,-122.27 244,-120.47 276.72,-119 317,-119 357.28,-119 390,-120.47 390,-122.27 390,-122.27 390,-151.73 390,-151.73\"/>\n",
       "<path fill=\"none\" stroke=\"black\" d=\"M390,-151.73C390,-149.92 357.28,-148.45 317,-148.45 276.72,-148.45 244,-149.92 244,-151.73\"/>\n",
       "<text text-anchor=\"middle\" x=\"317\" y=\"-133.3\" font-family=\"Times,serif\" font-size=\"14.00\">CsCO3 + Et3N in THF</text>\n",
       "</g>\n",
       "<!-- CsCO3 + Et3N in THF&#45;&gt;Activation Mixer -->\n",
       "<g id=\"edge8\" class=\"edge\">\n",
       "<title>CsCO3 + Et3N in THF&#45;&gt;Activation Mixer</title>\n",
       "<path fill=\"none\" stroke=\"black\" d=\"M390.19,-133.47C398.7,-133.05 407.36,-132.63 415.78,-132.22\"/>\n",
       "<polygon fill=\"black\" stroke=\"black\" points=\"416.09,-135.7 425.9,-131.72 415.74,-128.71 416.09,-135.7\"/>\n",
       "</g>\n",
       "<!-- DMP -->\n",
       "<g id=\"node5\" class=\"node\">\n",
       "<title>DMP</title>\n",
       "<path fill=\"none\" stroke=\"black\" d=\"M179,-109.73C179,-111.53 166.9,-113 152,-113 137.1,-113 125,-111.53 125,-109.73 125,-109.73 125,-80.27 125,-80.27 125,-78.47 137.1,-77 152,-77 166.9,-77 179,-78.47 179,-80.27 179,-80.27 179,-109.73 179,-109.73\"/>\n",
       "<path fill=\"none\" stroke=\"black\" d=\"M179,-109.73C179,-107.92 166.9,-106.45 152,-106.45 137.1,-106.45 125,-107.92 125,-109.73\"/>\n",
       "<text text-anchor=\"middle\" x=\"152\" y=\"-91.3\" font-family=\"Times,serif\" font-size=\"14.00\">DMP</text>\n",
       "</g>\n",
       "<!-- Oxidation Mixer -->\n",
       "<g id=\"node8\" class=\"node\">\n",
       "<title>Oxidation Mixer</title>\n",
       "<polygon fill=\"none\" stroke=\"black\" points=\"360,-95 262,-95 262,-71 360,-71 372,-83 360,-95\"/>\n",
       "<text text-anchor=\"middle\" x=\"317\" y=\"-79.3\" font-family=\"Times,serif\" font-size=\"14.00\">Oxidation Mixer</text>\n",
       "</g>\n",
       "<!-- DMP&#45;&gt;Oxidation Mixer -->\n",
       "<g id=\"edge4\" class=\"edge\">\n",
       "<title>DMP&#45;&gt;Oxidation Mixer</title>\n",
       "<path fill=\"none\" stroke=\"black\" d=\"M179.19,-93.07C198.73,-91.63 226.29,-89.6 251.56,-87.74\"/>\n",
       "<polygon fill=\"black\" stroke=\"black\" points=\"252.14,-91.21 261.85,-86.99 251.62,-84.23 252.14,-91.21\"/>\n",
       "</g>\n",
       "<!-- L&#45;digitoxose -->\n",
       "<g id=\"node6\" class=\"node\">\n",
       "<title>L&#45;digitoxose</title>\n",
       "<path fill=\"none\" stroke=\"black\" d=\"M963,-224.73C963,-226.53 943.28,-228 919,-228 894.72,-228 875,-226.53 875,-224.73 875,-224.73 875,-195.27 875,-195.27 875,-193.47 894.72,-192 919,-192 943.28,-192 963,-193.47 963,-195.27 963,-195.27 963,-224.73 963,-224.73\"/>\n",
       "<path fill=\"none\" stroke=\"black\" d=\"M963,-224.73C963,-222.92 943.28,-221.45 919,-221.45 894.72,-221.45 875,-222.92 875,-224.73\"/>\n",
       "<text text-anchor=\"middle\" x=\"919\" y=\"-206.3\" font-family=\"Times,serif\" font-size=\"14.00\">L&#45;digitoxose</text>\n",
       "</g>\n",
       "<!-- NaBH4 in MeOH -->\n",
       "<g id=\"node7\" class=\"node\">\n",
       "<title>NaBH4 in MeOH</title>\n",
       "<path fill=\"none\" stroke=\"black\" d=\"M691,-251.73C691,-253.53 665,-255 633,-255 601,-255 575,-253.53 575,-251.73 575,-251.73 575,-222.27 575,-222.27 575,-220.47 601,-219 633,-219 665,-219 691,-220.47 691,-222.27 691,-222.27 691,-251.73 691,-251.73\"/>\n",
       "<path fill=\"none\" stroke=\"black\" d=\"M691,-251.73C691,-249.92 665,-248.45 633,-248.45 601,-248.45 575,-249.92 575,-251.73\"/>\n",
       "<text text-anchor=\"middle\" x=\"633\" y=\"-233.3\" font-family=\"Times,serif\" font-size=\"14.00\">NaBH4 in MeOH</text>\n",
       "</g>\n",
       "<!-- NaBH4 in MeOH&#45;&gt;Reduction Mixer -->\n",
       "<g id=\"edge13\" class=\"edge\">\n",
       "<title>NaBH4 in MeOH&#45;&gt;Reduction Mixer</title>\n",
       "<path fill=\"none\" stroke=\"black\" d=\"M691.22,-226.56C699.64,-225.03 708.36,-223.43 716.93,-221.87\"/>\n",
       "<polygon fill=\"black\" stroke=\"black\" points=\"717.67,-225.29 726.88,-220.06 716.41,-218.41 717.67,-225.29\"/>\n",
       "</g>\n",
       "<!-- Oxidation Mixer&#45;&gt;Activation Mixer -->\n",
       "<g id=\"edge5\" class=\"edge\">\n",
       "<title>Oxidation Mixer&#45;&gt;Activation Mixer</title>\n",
       "<path fill=\"none\" stroke=\"black\" d=\"M372.44,-98.32C386.41,-102.25 401.57,-106.51 416.03,-110.58\"/>\n",
       "<polygon fill=\"black\" stroke=\"black\" points=\"415.32,-114.02 425.9,-113.36 417.22,-107.28 415.32,-114.02\"/>\n",
       "</g>\n",
       "<!-- Pump 1 -->\n",
       "<g id=\"node9\" class=\"node\">\n",
       "<title>Pump 1</title>\n",
       "<polygon fill=\"none\" stroke=\"black\" points=\"60,-86 4,-86 0,-82 0,-50 56,-50 60,-54 60,-86\"/>\n",
       "<polyline fill=\"none\" stroke=\"black\" points=\"56,-82 0,-82 \"/>\n",
       "<polyline fill=\"none\" stroke=\"black\" points=\"56,-82 56,-50 \"/>\n",
       "<polyline fill=\"none\" stroke=\"black\" points=\"56,-82 60,-86 \"/>\n",
       "<text text-anchor=\"middle\" x=\"30\" y=\"-64.3\" font-family=\"Times,serif\" font-size=\"14.00\">Pump 1</text>\n",
       "</g>\n",
       "<!-- Pump 1&#45;&gt;DMP -->\n",
       "<g id=\"edge2\" class=\"edge\">\n",
       "<title>Pump 1&#45;&gt;DMP</title>\n",
       "<path fill=\"none\" stroke=\"black\" d=\"M60.05,-74.54C76.52,-78.24 97.27,-82.91 114.79,-86.85\"/>\n",
       "<polygon fill=\"black\" stroke=\"black\" points=\"114.15,-90.3 124.67,-89.08 115.69,-83.47 114.15,-90.3\"/>\n",
       "</g>\n",
       "<!-- Starting Material -->\n",
       "<g id=\"node13\" class=\"node\">\n",
       "<title>Starting Material</title>\n",
       "<path fill=\"none\" stroke=\"black\" d=\"M208,-55.73C208,-57.53 182.9,-59 152,-59 121.1,-59 96,-57.53 96,-55.73 96,-55.73 96,-26.27 96,-26.27 96,-24.47 121.1,-23 152,-23 182.9,-23 208,-24.47 208,-26.27 208,-26.27 208,-55.73 208,-55.73\"/>\n",
       "<path fill=\"none\" stroke=\"black\" d=\"M208,-55.73C208,-53.92 182.9,-52.45 152,-52.45 121.1,-52.45 96,-53.92 96,-55.73\"/>\n",
       "<text text-anchor=\"middle\" x=\"152\" y=\"-37.3\" font-family=\"Times,serif\" font-size=\"14.00\">Starting Material</text>\n",
       "</g>\n",
       "<!-- Pump 1&#45;&gt;Starting Material -->\n",
       "<g id=\"edge1\" class=\"edge\">\n",
       "<title>Pump 1&#45;&gt;Starting Material</title>\n",
       "<path fill=\"none\" stroke=\"black\" d=\"M60.05,-61.46C68,-59.68 76.94,-57.66 86.04,-55.62\"/>\n",
       "<polygon fill=\"black\" stroke=\"black\" points=\"86.94,-59 95.93,-53.39 85.4,-52.17 86.94,-59\"/>\n",
       "</g>\n",
       "<!-- Pump 2 -->\n",
       "<g id=\"node10\" class=\"node\">\n",
       "<title>Pump 2</title>\n",
       "<polygon fill=\"none\" stroke=\"black\" points=\"182,-190 126,-190 122,-186 122,-154 178,-154 182,-158 182,-190\"/>\n",
       "<polyline fill=\"none\" stroke=\"black\" points=\"178,-186 122,-186 \"/>\n",
       "<polyline fill=\"none\" stroke=\"black\" points=\"178,-186 178,-154 \"/>\n",
       "<polyline fill=\"none\" stroke=\"black\" points=\"178,-186 182,-190 \"/>\n",
       "<text text-anchor=\"middle\" x=\"152\" y=\"-168.3\" font-family=\"Times,serif\" font-size=\"14.00\">Pump 2</text>\n",
       "</g>\n",
       "<!-- Pump 2&#45;&gt;Adamantanethiol -->\n",
       "<g id=\"edge7\" class=\"edge\">\n",
       "<title>Pump 2&#45;&gt;Adamantanethiol</title>\n",
       "<path fill=\"none\" stroke=\"black\" d=\"M182.15,-172.98C234.24,-174.72 344.47,-178.41 415.65,-180.79\"/>\n",
       "<polygon fill=\"black\" stroke=\"black\" points=\"415.74,-184.3 425.86,-181.14 415.98,-177.3 415.74,-184.3\"/>\n",
       "</g>\n",
       "<!-- Pump 2&#45;&gt;CsCO3 + Et3N in THF -->\n",
       "<g id=\"edge6\" class=\"edge\">\n",
       "<title>Pump 2&#45;&gt;CsCO3 + Et3N in THF</title>\n",
       "<path fill=\"none\" stroke=\"black\" d=\"M182.14,-165.74C196.73,-162.61 215.21,-158.64 233.74,-154.66\"/>\n",
       "<polygon fill=\"black\" stroke=\"black\" points=\"234.67,-158.04 243.71,-152.52 233.2,-151.2 234.67,-158.04\"/>\n",
       "</g>\n",
       "<!-- Pump 3 -->\n",
       "<g id=\"node11\" class=\"node\">\n",
       "<title>Pump 3</title>\n",
       "<polygon fill=\"none\" stroke=\"black\" points=\"512.5,-255 456.5,-255 452.5,-251 452.5,-219 508.5,-219 512.5,-223 512.5,-255\"/>\n",
       "<polyline fill=\"none\" stroke=\"black\" points=\"508.5,-251 452.5,-251 \"/>\n",
       "<polyline fill=\"none\" stroke=\"black\" points=\"508.5,-251 508.5,-219 \"/>\n",
       "<polyline fill=\"none\" stroke=\"black\" points=\"508.5,-251 512.5,-255 \"/>\n",
       "<text text-anchor=\"middle\" x=\"482.5\" y=\"-233.3\" font-family=\"Times,serif\" font-size=\"14.00\">Pump 3</text>\n",
       "</g>\n",
       "<!-- Pump 3&#45;&gt;NaBH4 in MeOH -->\n",
       "<g id=\"edge12\" class=\"edge\">\n",
       "<title>Pump 3&#45;&gt;NaBH4 in MeOH</title>\n",
       "<path fill=\"none\" stroke=\"black\" d=\"M512.84,-237C527.74,-237 546.52,-237 564.73,-237\"/>\n",
       "<polygon fill=\"black\" stroke=\"black\" points=\"564.76,-240.5 574.76,-237 564.76,-233.5 564.76,-240.5\"/>\n",
       "</g>\n",
       "<!-- Reduction Mixer&#45;&gt;L&#45;digitoxose -->\n",
       "<g id=\"edge14\" class=\"edge\">\n",
       "<title>Reduction Mixer&#45;&gt;L&#45;digitoxose</title>\n",
       "<path fill=\"none\" stroke=\"black\" d=\"M839.28,-210C847.68,-210 856.34,-210 864.7,-210\"/>\n",
       "<polygon fill=\"black\" stroke=\"black\" points=\"864.72,-213.5 874.72,-210 864.72,-206.5 864.72,-213.5\"/>\n",
       "</g>\n",
       "<!-- Starting Material&#45;&gt;Oxidation Mixer -->\n",
       "<g id=\"edge3\" class=\"edge\">\n",
       "<title>Starting Material&#45;&gt;Oxidation Mixer</title>\n",
       "<path fill=\"none\" stroke=\"black\" d=\"M208.18,-55.22C222.29,-58.85 237.58,-62.79 252.08,-66.53\"/>\n",
       "<polygon fill=\"black\" stroke=\"black\" points=\"251.42,-69.97 261.98,-69.08 253.17,-63.2 251.42,-69.97\"/>\n",
       "</g>\n",
       "</g>\n",
       "</svg>\n"
      ],
      "text/plain": [
       "<graphviz.dot.Digraph at 0x12c8498e0>"
      ]
     },
     "execution_count": 11,
     "metadata": {},
     "output_type": "execute_result"
    }
   ],
   "source": [
    "# apparatus \n",
    "A = mw.Apparatus(\"Synthesis of L-boivinose\")\n",
    "\n",
    "A.add(pump_1, reagent_vessel_1, sugar)\n",
    "A.add(pump_1, reagent_vessel_2, DMP)\n",
    "A.add(reagent_vessel_1, T_1, sugar)\n",
    "A.add(reagent_vessel_2, T_1, DMP)\n",
    "A.add(T_1, T_2, oxidation)\n",
    "\n",
    "\n",
    "A.add(pump_2, reagent_vessel_3, CsCO3)\n",
    "A.add(pump_2, reagent_vessel_4, adamantanethiol)\n",
    "A.add(reagent_vessel_3, T_2, CsCO3)\n",
    "A.add(reagent_vessel_4, T_3, adamantanethiol)\n",
    "A.add(T_2, T_3, activation)\n",
    "A.add(T_3, T_4, addition)\n",
    "\n",
    "\n",
    "A.add(pump_3, reagent_vessel_5, NaBH4)\n",
    "A.add(reagent_vessel_5, T_4, NaBH4)\n",
    "A.add(T_4, product_vessel, reduction)\n",
    "\n",
    "A.visualize()"
   ]
  },
  {
   "cell_type": "markdown",
   "metadata": {},
   "source": [
    "### Protocol"
   ]
  },
  {
   "cell_type": "code",
   "execution_count": 25,
   "metadata": {},
   "outputs": [
    {
     "name": "stdout",
     "output_type": "stream",
     "text": [
      "TOTAL TIME: 0:24:39\n"
     ]
    }
   ],
   "source": [
    "P = mw.Protocol(A)\n",
    "\n",
    "switch = timedelta(minutes = 1)\n",
    "\n",
    "current = timedelta(seconds = 0)\n",
    "\n",
    "DMP = timedelta(minutes = 7.5)\n",
    "pump_2_initial = timedelta(minutes = 16)\n",
    "NaBH4_initial = timedelta(minutes = 4.7)\n",
    "\n",
    "P.add(pump_1, start = current,\n",
    "              duration = DMP + pump_2_initial + NaBH4_initial, rate = \"0.5mL/min\")\n",
    "\n",
    "current += DMP\n",
    "\n",
    "P.add(pump_2, start = current, \n",
    "              duration = pump_2_initial + NaBH4_initial , rate = \"1 mL/min\")\n",
    "\n",
    "current += pump_2_initial\n",
    "\n",
    "P.add(pump_3, start = current,\n",
    "              duration = NaBH4_initial, rate = \"4mL/min\")\n",
    "\n",
    "current += NaBH4_initial + switch\n",
    "\n",
    "pump_2_final = timedelta(minutes = 8.1)\n",
    "P.add(pump_1, start = current,\n",
    "              duration = pump_2_final, rate = \"0.5mL/min\")\n",
    "P.add(pump_1, start = current,\n",
    "              duration = pump_2_final, rate = \"1mL/min\")\n",
    "P.add(pump_1, start = current,\n",
    "              duration = pump_2_final, rate = \"4mL/min\")\n",
    "\n",
    "current += pump_2_final + switch\n",
    "\n",
    "NaBH4_final = timedelta(minutes = 15.4)\n",
    "P.add(pump_1, start = current, \n",
    "              duration = NaBH4_final, rate = \"0.5mL/min\")\n",
    "P.add(pump_2, start = current, \n",
    "              duration = NaBH4_final, rate = \"1mL/min\")\n",
    "P.add(pump_3, start = current, \n",
    "              duration = NaBH4_final, rate = \"4mL/min\")\n",
    "      \n",
    "current += NaBH4_final + switch\n",
    "\n",
    "flush = timedelta(minutes = 3.75)\n",
    "P.add(pump_3, start = current, \n",
    "              duration = flush, rate = \"4mL/min\")\n",
    "\n",
    "current += flush\n",
    "\n",
    "print(f'TOTAL TIME: {current}')\n",
    "P.execute(confirm = True)"
   ]
  },
  {
   "cell_type": "markdown",
   "metadata": {},
   "source": [
    "### Product and Yield Information"
   ]
  },
  {
   "cell_type": "code",
   "execution_count": null,
   "metadata": {},
   "outputs": [
    {
     "name": "stdout",
     "output_type": "stream",
     "text": [
      "C4 Benzylated Enone; molecular weight:  218.25\n",
      "Theoretical Yield: 0.6242 g\n"
     ]
    }
   ],
   "source": [
    "product = \"L-boivinose\"\n",
    "product_molecular_weight = 388.57\n",
    "\n",
    "theoretical_yield = round(moles * product_molecular_weight, decimals = 4)\n",
    "\n",
    "if moles < 0.0005:\n",
    "    theoretical_yield *= 1000\n",
    "    units = 'mg'\n",
    "else:\n",
    "    units = 'g'\n",
    "\n",
    "print(product + \"; molecular weight: \", product_molecular_weight)\n",
    "\n",
    "print(\"Theoretical Yield:\", theoretical_yield, units)\n",
    "\n",
    "actual_yield = float(input(f\"Enter mass of product in {units}: \"))\n",
    "print(\"Actual Yield:\", actual_yield, units)\n",
    "\n",
    "percent_yield = round((actual_yield / theoretical_yield) * 100, decimals = 1)\n",
    "print(\"Percent Yield:\", percent_yield, \"%\")"
   ]
  }
 ],
 "metadata": {
  "kernelspec": {
   "display_name": "Python 3",
   "language": "python",
   "name": "python3"
  },
  "language_info": {
   "codemirror_mode": {
    "name": "ipython",
    "version": 3
   },
   "file_extension": ".py",
   "mimetype": "text/x-python",
   "name": "python",
   "nbconvert_exporter": "python",
   "pygments_lexer": "ipython3",
   "version": "3.9.6"
  }
 },
 "nbformat": 4,
 "nbformat_minor": 4
}
