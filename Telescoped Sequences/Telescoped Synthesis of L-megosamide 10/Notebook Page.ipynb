{
 "cells": [
  {
   "cell_type": "markdown",
   "metadata": {},
   "source": [
    "## Notebook Page"
   ]
  },
  {
   "cell_type": "code",
   "execution_count": 4,
   "metadata": {},
   "outputs": [],
   "source": [
    "import mechwolf as mw\n",
    "import graphviz\n",
    "import math\n",
    "from datetime import timedelta\n",
    "from astropy.table import QTable, Table, Column\n",
    "from sigfig import round\n",
    "import json"
   ]
  },
  {
   "cell_type": "code",
   "execution_count": 5,
   "metadata": {},
   "outputs": [],
   "source": [
    "with open('meogsamide_reagents.json') as f:\n",
    "    data = json.load(f)"
   ]
  },
  {
   "cell_type": "markdown",
   "metadata": {},
   "source": [
    "### Reagents"
   ]
  },
  {
   "cell_type": "code",
   "execution_count": 6,
   "metadata": {},
   "outputs": [
    {
     "name": "stdout",
     "output_type": "stream",
     "text": [
      "The limiting reagent is Naphthylated Rhamnal\n",
      "\n",
      "Moles: 0.0028008589300718887\n"
     ]
    }
   ],
   "source": [
    "print(f\"The limiting reagent is {data['limiting reagent']}\")\n",
    "mw_limiting = 214.22\n",
    "\n",
    "try:\n",
    "    mass_scale = float(data['mass scale'])\n",
    "except:\n",
    "    print('Invalid input: numerical values only')\n",
    "\n",
    "moles = mass_scale / mw_limiting\n",
    "\n",
    "print(f'\\nMoles: {moles}')"
   ]
  },
  {
   "cell_type": "code",
   "execution_count": 7,
   "metadata": {},
   "outputs": [
    {
     "name": "stdout",
     "output_type": "stream",
     "text": [
      "\n",
      "Volume: 8.752684156474652 mL\n"
     ]
    }
   ],
   "source": [
    "try:\n",
    "    concentration = float(data['concentration'])\n",
    "except:\n",
    "    print('Invalid input: numerical values only')\n",
    "    \n",
    "volume = (moles * 1000) / concentration\n",
    "\n",
    "print(f'\\nVolume: {volume} mL')"
   ]
  },
  {
   "cell_type": "code",
   "execution_count": 8,
   "metadata": {},
   "outputs": [],
   "source": [
    "class Reagent:\n",
    "    \n",
    "    def __init__(self, reagent):\n",
    "        assert 'name' in reagent, 'ERROR: one of the reagents does not have a name field'\n",
    "        assert 'inChi' in reagent, f'Error: {reagent[\"name\"]} does not have an inChi field'\n",
    "        assert 'inChi Key' in reagent, f'Error: {reagent[\"name\"]} does not have an inChi key field'\n",
    "        assert 'molecular weight' in reagent, f'Error: {reagent[\"name\"]} does not have a molecular weight field'\n",
    "        assert 'eq' in reagent, f'Error: {reagent[\"name\"]} does not have an eq field'\n",
    "        assert 'syringe' in reagent, f'Error: {reagent[\"name\"]} does not have an syringe # field'\n",
    "        \n",
    "        self.name = reagent['name']\n",
    "        self.inChi = reagent['inChi']\n",
    "        self.mol_weight = reagent['molecular weight']\n",
    "        self.eq = reagent['eq']\n",
    "        self.syringe = reagent['syringe']\n",
    "        self.moles = round(moles * self.eq, decimals = 4)\n",
    "        self.mass = round(self.moles * self.mol_weight, decimals = 4)\n",
    "        \n",
    "    def __str__(self):\n",
    "        return f\"{self.name}\"\n",
    "    \n",
    "class Solid(Reagent):\n",
    "    \n",
    "    def __init__(self, reagent):\n",
    "        super().__init__(reagent)\n",
    "\n",
    "class Liquid(Reagent):\n",
    "    \n",
    "    def __init__(self, reagent):\n",
    "        super().__init__(reagent)\n",
    "        \n",
    "        assert 'density' in reagent, f'Error: {reagent[\"name\"]} does not have a density field'\n",
    "        self.density = reagent['density']\n",
    "        self.volume = round(self.eq * moles * (self.mol_weight / self.density), decimals = 4)\n",
    "        \n",
    "reagent_list = []\n",
    "for solid in data['solid reagents']:\n",
    "    reagent_list.append(Solid(solid))\n",
    "    \n",
    "for liquid in data['liquid reagents']:\n",
    "    reagent_list.append(Liquid(liquid))"
   ]
  },
  {
   "cell_type": "markdown",
   "metadata": {},
   "source": [
    "## Stoichiometry Table\n",
    "\n",
    "### Reagent Table"
   ]
  },
  {
   "cell_type": "code",
   "execution_count": 9,
   "metadata": {
    "scrolled": true
   },
   "outputs": [
    {
     "name": "stdout",
     "output_type": "stream",
     "text": [
      "      Reagent        Molecular Weight (g/mol)  mol   Mass (g) Volume (mL) Density (g/mL)  eq \n",
      "-------------------- ------------------------ ------ -------- ----------- -------------- ----\n",
      "Naphthylated Rhamnal                     -1.0 0.0028  -0.0028         N/A            N/A  1.0\n",
      "               CsCO3                   325.82 0.0031     1.01         N/A            N/A  1.1\n",
      "               Me2NH                    45.08  0.028   1.2622         N/A            N/A 10.0\n",
      "             NaBH3CN                    62.84  0.028   1.7595         N/A            N/A 10.0\n",
      "                 DMP                   424.14 0.0031   1.3148      1.0981           1.19  1.1\n",
      "                Et3N                   101.19 0.0031   0.3137      0.4294          0.726  1.1\n",
      "          Thiophenol                   110.19 0.0112   1.2341      1.1431           1.08  4.0\n",
      "\n",
      "Solvent: DMF\n"
     ]
    }
   ],
   "source": [
    "reagent_table = QTable()\n",
    "reagent_table['Reagent'] = [reagent.name for reagent in reagent_list]\n",
    "reagent_table['Molecular Weight (g/mol)'] = [reagent.mol_weight for reagent in reagent_list]\n",
    "\n",
    "if moles < 0.0005:\n",
    "    reagent_table['mmol'] = [reagent.moles * 1000 for reagent in reagent_list]\n",
    "    reagent_table['Mass (mg)'] = [round(reagent.mass * 1000, decimals = 4) for reagent in reagent_list]\n",
    "else:\n",
    "    reagent_table['mol'] = [reagent.moles for reagent in reagent_list]\n",
    "    reagent_table['Mass (g)'] = [round(reagent.mass, decimals = 4) for reagent in reagent_list]\n",
    "\n",
    "reagent_table['Volume (mL)'] = [reagent.volume if hasattr(reagent, 'volume') else \"N/A\" for reagent in reagent_list]\n",
    "reagent_table['Density (g/mL)'] = [reagent.density if hasattr(reagent, 'density') else \"N/A\" for reagent in reagent_list]\n",
    "reagent_table['eq'] = [reagent.eq for reagent in reagent_list]\n",
    "\n",
    "reagent_table.pprint(max_lines=-1, max_width=-1)\n",
    "\n",
    "print(f'\\nSolvent: {data[\"solvent\"]}')"
   ]
  },
  {
   "cell_type": "markdown",
   "metadata": {},
   "source": [
    "### Syringe Table"
   ]
  },
  {
   "cell_type": "code",
   "execution_count": 10,
   "metadata": {},
   "outputs": [
    {
     "name": "stdout",
     "output_type": "stream",
     "text": [
      "Syringe       Reagent        Solvent Volume\n",
      "------- -------------------- --------------\n",
      "      1 Naphthylated Rhamnal            6.9\n",
      "      2                  DMP    6.9 mL neat\n",
      "      3          CsCO3, Et3N           10.4\n",
      "      4           Thiophenol           26.7\n",
      "      5       Me2NH, NaBH3CN           55.2\n"
     ]
    }
   ],
   "source": [
    "def get_syringe_reagents(reagents, syr_max):\n",
    "    \n",
    "    def get_reagents_for_syringe_number(syr_num):\n",
    "        reagent_for_syringe_num = \"\"\n",
    "        for reagent in reagents:\n",
    "            if reagent.syringe == syr_num:\n",
    "                reagent_for_syringe_num += f'{reagent.name}, '\n",
    "                \n",
    "        return reagent_for_syringe_num[:-2]\n",
    "                \n",
    "    return list(map(get_reagents_for_syringe_number, range(1, syr_max)))\n",
    "\n",
    "syringe_table = QTable()\n",
    "syringe_max = max([reagent.syringe for reagent in reagent_list]) + 1\n",
    "syringe_table['Syringe'] = list(range(1, syringe_max))\n",
    "syringe_table['Reagent'] = get_syringe_reagents(reagent_list, syringe_max)\n",
    "syringe_table['Solvent Volume'] = data['solvent volume']\n",
    "\n",
    "syringe_table.pprint(max_lines=-1, max_width=-1)"
   ]
  },
  {
   "cell_type": "markdown",
   "metadata": {},
   "source": [
    "### Pumps"
   ]
  },
  {
   "cell_type": "code",
   "execution_count": 11,
   "metadata": {},
   "outputs": [],
   "source": [
    "# Harvard pump code\n",
    "import time\n",
    "import asyncio\n",
    "from loguru import logger\n",
    "from mechwolf import _ureg, Pump\n",
    "\n",
    "class HarvardSyringePump(Pump):\n",
    "    def __init__(self, syringe_volume, syringe_diameter, serial_port, name=None):\n",
    "        super().__init__(name = name)\n",
    "        self.serial_port = serial_port\n",
    "        self.syringe_volume = _ureg.parse_expression(syringe_volume)\n",
    "        self.syringe_diameter = _ureg.parse_expression(syringe_diameter)\n",
    "        \n",
    "    def __enter__(self):\n",
    "        import aioserial\n",
    "\n",
    "        self._ser = aioserial.AioSerial(\n",
    "            self.serial_port,\n",
    "            115200,\n",
    "            parity = aioserial.PARITY_NONE,\n",
    "            stopbits = 1,\n",
    "            timeout = 1,\n",
    "            write_timeout = 1,)\n",
    "        syringe_volume_ml = self.syringe_volume.to(_ureg.ml).magnitude \n",
    "        syringe_diameter_mm = self.syringe_diameter.to(_ureg.mm).magnitude\n",
    "        self._ser.write(f'svolume {syringe_volume_ml} ml\\r'.encode())\n",
    "        self._ser.write(f'diameter {syringe_diameter_mm}\\r'.encode())\n",
    "\n",
    "        return self\n",
    "    \n",
    "    def __exit__(self, exc_type, exc_value, traceback):\n",
    "        self.rate = _ureg.parse_expression(\"0 mL/min\")\n",
    "        self._ser.write(b'stop\\r') \n",
    "        \n",
    "        del self._ser\n",
    "\n",
    "    async def _update(self):\n",
    "        rate_mlmin = self.rate.to(_ureg.ml / _ureg.min).magnitude\n",
    "        if rate_mlmin == 0:\n",
    "            self._ser.write(b'stop\\r') \n",
    "        else:\n",
    "            self._ser.write(f'irate {rate_mlmin} m/m\\r'.encode())\n",
    "            self._ser.write(b'irun\\r')"
   ]
  },
  {
   "cell_type": "code",
   "execution_count": 12,
   "metadata": {},
   "outputs": [],
   "source": [
    "pump_1 = HarvardSyringePump(\"24mL\", \"20.05mm\", serial_port = '/dev/tty.usbmodemD4038611', name = \"Pump 1\")\n",
    "pump_2 = HarvardSyringePump(\"24mL\", \"20.05mm\", serial_port = '/dev/tty.usbmodemD4038591', name = \"Pump 2\")\n",
    "pump_3 = HarvardSyringePump(\"24mL\", \"20.05mm\", serial_port = '/dev/tty.usbmodemD4038601', name = \"Pump 3\")\n",
    "pump_4 = mw.VarianPump(max_rate = '10mL/min', serial_port = '/dev/tty/usbserial', name = \"Pump 4\")"
   ]
  },
  {
   "cell_type": "markdown",
   "metadata": {},
   "source": [
    "### Syringe, Tubing, and Mixer Information"
   ]
  },
  {
   "cell_type": "code",
   "execution_count": 13,
   "metadata": {},
   "outputs": [],
   "source": [
    "#reagent vessels\n",
    "reagent_vessel_1 = mw.Vessel(\"Naphthylated Rhamnal\", name = \"Starting Material\")\n",
    "reagent_vessel_2 = mw.Vessel(\"DMP\", name = \"DMP\")\n",
    "reagent_vessel_3 = mw.Vessel(\"CsCO3\", name = \"CsCO3 + Et3N in THF\")\n",
    "reagent_vessel_4 = mw.Vessel(\"Thiophenol\", name = \"Thiophenol in THF\")\n",
    "reagent_vessel_5 = mw.Vessel(\"Me2NH\", name = \"Me2NH + NaBH3CN in MeOH\")\n",
    "product_vessel = mw.Vessel(\"L-megosamide\", name = \"Product\")\n",
    "\n",
    "#tubing\n",
    "def big_tube(length):\n",
    "    return mw.Tube(length = length, ID = \"0.062 in\", OD = \"1/8 in\", material = \"PFA\")\n",
    "\n",
    "sugar = big_tube(length = \"1 foot\")\n",
    "DMP = big_tube(length = \"1 foot\")\n",
    "oxidation = big_tube(length = \"13 foot\")\n",
    "\n",
    "CsCO3 = big_tube(length = \"1 foot\")\n",
    "activation = big_tube(length = \"3.4 foot\")\n",
    "\n",
    "thiophenol = big_tube(length = \"1 foot\")\n",
    "addition = big_tube(length = \"101 foot\")\n",
    "\n",
    "NH4OAc = big_tube(length = \"1 foot\")\n",
    "amination = big_tube(length = \"673 foot\")\n",
    "\n",
    "#mixers\n",
    "def Tmixer(name):\n",
    "    return mw.TMixer(name = name)\n",
    "\n",
    "T_1 = Tmixer(oxidation)\n",
    "T_2 = Tmixer(activation)\n",
    "T_3 = Tmixer(addition) \n",
    "T_4 = Tmixer(amination) "
   ]
  },
  {
   "cell_type": "markdown",
   "metadata": {},
   "source": [
    "### Apparatus "
   ]
  },
  {
   "cell_type": "code",
   "execution_count": 14,
   "metadata": {},
   "outputs": [
    {
     "data": {
      "image/svg+xml": [
       "<?xml version=\"1.0\" encoding=\"UTF-8\" standalone=\"no\"?>\n",
       "<!DOCTYPE svg PUBLIC \"-//W3C//DTD SVG 1.1//EN\"\n",
       " \"http://www.w3.org/Graphics/SVG/1.1/DTD/svg11.dtd\">\n",
       "<!-- Generated by graphviz version 2.47.3 (20210619.1520)\n",
       " -->\n",
       "<!-- Title: Telescoped L&#45;megosamide Pages: 1 -->\n",
       "<svg width=\"1738pt\" height=\"229pt\"\n",
       " viewBox=\"0.00 0.00 1738.00 229.00\" xmlns=\"http://www.w3.org/2000/svg\" xmlns:xlink=\"http://www.w3.org/1999/xlink\">\n",
       "<g id=\"graph0\" class=\"graph\" transform=\"scale(1 1) rotate(0) translate(4 225)\">\n",
       "<title>Telescoped L&#45;megosamide</title>\n",
       "<polygon fill=\"white\" stroke=\"transparent\" points=\"-4,4 -4,-225 1734,-225 1734,4 -4,4\"/>\n",
       "<text text-anchor=\"middle\" x=\"865\" y=\"-7.8\" font-family=\"Times,serif\" font-size=\"14.00\">Telescoped L&#45;megosamide</text>\n",
       "<!-- CsCO3 + Et3N in THF -->\n",
       "<g id=\"node1\" class=\"node\">\n",
       "<title>CsCO3 + Et3N in THF</title>\n",
       "<path fill=\"none\" stroke=\"black\" d=\"M475,-55.73C475,-57.53 442.28,-59 402,-59 361.72,-59 329,-57.53 329,-55.73 329,-55.73 329,-26.27 329,-26.27 329,-24.47 361.72,-23 402,-23 442.28,-23 475,-24.47 475,-26.27 475,-26.27 475,-55.73 475,-55.73\"/>\n",
       "<path fill=\"none\" stroke=\"black\" d=\"M475,-55.73C475,-53.92 442.28,-52.45 402,-52.45 361.72,-52.45 329,-53.92 329,-55.73\"/>\n",
       "<text text-anchor=\"middle\" x=\"402\" y=\"-37.3\" font-family=\"Times,serif\" font-size=\"14.00\">CsCO3 + Et3N in THF</text>\n",
       "</g>\n",
       "<!-- Tube of length 3.4 foot, ID 0.062 inch, OD 0.125 inch -->\n",
       "<g id=\"node13\" class=\"node\">\n",
       "<title>Tube of length 3.4 foot, ID 0.062 inch, OD 0.125 inch</title>\n",
       "<polygon fill=\"none\" stroke=\"black\" points=\"904,-107 596,-107 596,-83 904,-83 916,-95 904,-107\"/>\n",
       "<text text-anchor=\"middle\" x=\"756\" y=\"-91.3\" font-family=\"Times,serif\" font-size=\"14.00\">Tube of length 3.4 foot, ID 0.062 inch, OD 0.125 inch</text>\n",
       "</g>\n",
       "<!-- CsCO3 + Et3N in THF&#45;&gt;Tube of length 3.4 foot, ID 0.062 inch, OD 0.125 inch -->\n",
       "<g id=\"edge9\" class=\"edge\">\n",
       "<title>CsCO3 + Et3N in THF&#45;&gt;Tube of length 3.4 foot, ID 0.062 inch, OD 0.125 inch</title>\n",
       "<path fill=\"none\" stroke=\"black\" d=\"M475.08,-52.06C518.92,-58.78 576.17,-67.57 627.46,-75.43\"/>\n",
       "<polygon fill=\"black\" stroke=\"black\" points=\"627.22,-78.94 637.63,-76.99 628.28,-72.02 627.22,-78.94\"/>\n",
       "</g>\n",
       "<!-- DMP -->\n",
       "<g id=\"node2\" class=\"node\">\n",
       "<title>DMP</title>\n",
       "<path fill=\"none\" stroke=\"black\" d=\"M179,-163.73C179,-165.53 166.9,-167 152,-167 137.1,-167 125,-165.53 125,-163.73 125,-163.73 125,-134.27 125,-134.27 125,-132.47 137.1,-131 152,-131 166.9,-131 179,-132.47 179,-134.27 179,-134.27 179,-163.73 179,-163.73\"/>\n",
       "<path fill=\"none\" stroke=\"black\" d=\"M179,-163.73C179,-161.92 166.9,-160.45 152,-160.45 137.1,-160.45 125,-161.92 125,-163.73\"/>\n",
       "<text text-anchor=\"middle\" x=\"152\" y=\"-145.3\" font-family=\"Times,serif\" font-size=\"14.00\">DMP</text>\n",
       "</g>\n",
       "<!-- Tube of length 13 foot, ID 0.062 inch, OD 0.125 inch -->\n",
       "<g id=\"node12\" class=\"node\">\n",
       "<title>Tube of length 13 foot, ID 0.062 inch, OD 0.125 inch</title>\n",
       "<polygon fill=\"none\" stroke=\"black\" points=\"548,-107 244,-107 244,-83 548,-83 560,-95 548,-107\"/>\n",
       "<text text-anchor=\"middle\" x=\"402\" y=\"-91.3\" font-family=\"Times,serif\" font-size=\"14.00\">Tube of length 13 foot, ID 0.062 inch, OD 0.125 inch</text>\n",
       "</g>\n",
       "<!-- DMP&#45;&gt;Tube of length 13 foot, ID 0.062 inch, OD 0.125 inch -->\n",
       "<g id=\"edge7\" class=\"edge\">\n",
       "<title>DMP&#45;&gt;Tube of length 13 foot, ID 0.062 inch, OD 0.125 inch</title>\n",
       "<path fill=\"none\" stroke=\"black\" d=\"M179.06,-140.37C197.14,-134.61 221.85,-127.17 244,-122 254.52,-119.54 265.48,-117.21 276.5,-115.02\"/>\n",
       "<polygon fill=\"black\" stroke=\"black\" points=\"277.49,-118.39 286.63,-113.04 276.15,-111.52 277.49,-118.39\"/>\n",
       "</g>\n",
       "<!-- Me2NH + NaBH3CN in MeOH -->\n",
       "<g id=\"node3\" class=\"node\">\n",
       "<title>Me2NH + NaBH3CN in MeOH</title>\n",
       "<path fill=\"none\" stroke=\"black\" d=\"M1211.5,-217.73C1211.5,-219.53 1167.57,-221 1113.5,-221 1059.43,-221 1015.5,-219.53 1015.5,-217.73 1015.5,-217.73 1015.5,-188.27 1015.5,-188.27 1015.5,-186.47 1059.43,-185 1113.5,-185 1167.57,-185 1211.5,-186.47 1211.5,-188.27 1211.5,-188.27 1211.5,-217.73 1211.5,-217.73\"/>\n",
       "<path fill=\"none\" stroke=\"black\" d=\"M1211.5,-217.73C1211.5,-215.92 1167.57,-214.45 1113.5,-214.45 1059.43,-214.45 1015.5,-215.92 1015.5,-217.73\"/>\n",
       "<text text-anchor=\"middle\" x=\"1113.5\" y=\"-199.3\" font-family=\"Times,serif\" font-size=\"14.00\">Me2NH + NaBH3CN in MeOH</text>\n",
       "</g>\n",
       "<!-- Tube of length 673 foot, ID 0.062 inch, OD 0.125 inch -->\n",
       "<g id=\"node14\" class=\"node\">\n",
       "<title>Tube of length 673 foot, ID 0.062 inch, OD 0.125 inch</title>\n",
       "<polygon fill=\"none\" stroke=\"black\" points=\"1622,-188 1311,-188 1311,-164 1622,-164 1634,-176 1622,-188\"/>\n",
       "<text text-anchor=\"middle\" x=\"1472.5\" y=\"-172.3\" font-family=\"Times,serif\" font-size=\"14.00\">Tube of length 673 foot, ID 0.062 inch, OD 0.125 inch</text>\n",
       "</g>\n",
       "<!-- Me2NH + NaBH3CN in MeOH&#45;&gt;Tube of length 673 foot, ID 0.062 inch, OD 0.125 inch -->\n",
       "<g id=\"edge13\" class=\"edge\">\n",
       "<title>Me2NH + NaBH3CN in MeOH&#45;&gt;Tube of length 673 foot, ID 0.062 inch, OD 0.125 inch</title>\n",
       "<path fill=\"none\" stroke=\"black\" d=\"M1211.58,-195.66C1239.13,-193.57 1269.97,-191.24 1300.51,-188.93\"/>\n",
       "<polygon fill=\"black\" stroke=\"black\" points=\"1301.15,-192.39 1310.86,-188.15 1300.62,-185.41 1301.15,-192.39\"/>\n",
       "</g>\n",
       "<!-- Product -->\n",
       "<g id=\"node4\" class=\"node\">\n",
       "<title>Product</title>\n",
       "<path fill=\"none\" stroke=\"black\" d=\"M1730,-190.73C1730,-192.53 1716.55,-194 1700,-194 1683.45,-194 1670,-192.53 1670,-190.73 1670,-190.73 1670,-161.27 1670,-161.27 1670,-159.47 1683.45,-158 1700,-158 1716.55,-158 1730,-159.47 1730,-161.27 1730,-161.27 1730,-190.73 1730,-190.73\"/>\n",
       "<path fill=\"none\" stroke=\"black\" d=\"M1730,-190.73C1730,-188.92 1716.55,-187.45 1700,-187.45 1683.45,-187.45 1670,-188.92 1670,-190.73\"/>\n",
       "<text text-anchor=\"middle\" x=\"1700\" y=\"-172.3\" font-family=\"Times,serif\" font-size=\"14.00\">Product</text>\n",
       "</g>\n",
       "<!-- Pump 1 -->\n",
       "<g id=\"node5\" class=\"node\">\n",
       "<title>Pump 1</title>\n",
       "<polygon fill=\"none\" stroke=\"black\" points=\"60,-140 4,-140 0,-136 0,-104 56,-104 60,-108 60,-140\"/>\n",
       "<polyline fill=\"none\" stroke=\"black\" points=\"56,-136 0,-136 \"/>\n",
       "<polyline fill=\"none\" stroke=\"black\" points=\"56,-136 56,-104 \"/>\n",
       "<polyline fill=\"none\" stroke=\"black\" points=\"56,-136 60,-140 \"/>\n",
       "<text text-anchor=\"middle\" x=\"30\" y=\"-118.3\" font-family=\"Times,serif\" font-size=\"14.00\">Pump 1</text>\n",
       "</g>\n",
       "<!-- Pump 1&#45;&gt;DMP -->\n",
       "<g id=\"edge2\" class=\"edge\">\n",
       "<title>Pump 1&#45;&gt;DMP</title>\n",
       "<path fill=\"none\" stroke=\"black\" d=\"M60.05,-128.54C76.52,-132.24 97.27,-136.91 114.79,-140.85\"/>\n",
       "<polygon fill=\"black\" stroke=\"black\" points=\"114.15,-144.3 124.67,-143.08 115.69,-137.47 114.15,-144.3\"/>\n",
       "</g>\n",
       "<!-- Starting Material -->\n",
       "<g id=\"node9\" class=\"node\">\n",
       "<title>Starting Material</title>\n",
       "<path fill=\"none\" stroke=\"black\" d=\"M208,-109.73C208,-111.53 182.9,-113 152,-113 121.1,-113 96,-111.53 96,-109.73 96,-109.73 96,-80.27 96,-80.27 96,-78.47 121.1,-77 152,-77 182.9,-77 208,-78.47 208,-80.27 208,-80.27 208,-109.73 208,-109.73\"/>\n",
       "<path fill=\"none\" stroke=\"black\" d=\"M208,-109.73C208,-107.92 182.9,-106.45 152,-106.45 121.1,-106.45 96,-107.92 96,-109.73\"/>\n",
       "<text text-anchor=\"middle\" x=\"152\" y=\"-91.3\" font-family=\"Times,serif\" font-size=\"14.00\">Starting Material</text>\n",
       "</g>\n",
       "<!-- Pump 1&#45;&gt;Starting Material -->\n",
       "<g id=\"edge1\" class=\"edge\">\n",
       "<title>Pump 1&#45;&gt;Starting Material</title>\n",
       "<path fill=\"none\" stroke=\"black\" d=\"M60.05,-115.46C68,-113.68 76.94,-111.66 86.04,-109.62\"/>\n",
       "<polygon fill=\"black\" stroke=\"black\" points=\"86.94,-113 95.93,-107.39 85.4,-106.17 86.94,-113\"/>\n",
       "</g>\n",
       "<!-- Pump 2 -->\n",
       "<g id=\"node6\" class=\"node\">\n",
       "<title>Pump 2</title>\n",
       "<polygon fill=\"none\" stroke=\"black\" points=\"182,-59 126,-59 122,-55 122,-23 178,-23 182,-27 182,-59\"/>\n",
       "<polyline fill=\"none\" stroke=\"black\" points=\"178,-55 122,-55 \"/>\n",
       "<polyline fill=\"none\" stroke=\"black\" points=\"178,-55 178,-23 \"/>\n",
       "<polyline fill=\"none\" stroke=\"black\" points=\"178,-55 182,-59 \"/>\n",
       "<text text-anchor=\"middle\" x=\"152\" y=\"-37.3\" font-family=\"Times,serif\" font-size=\"14.00\">Pump 2</text>\n",
       "</g>\n",
       "<!-- Pump 2&#45;&gt;CsCO3 + Et3N in THF -->\n",
       "<g id=\"edge3\" class=\"edge\">\n",
       "<title>Pump 2&#45;&gt;CsCO3 + Et3N in THF</title>\n",
       "<path fill=\"none\" stroke=\"black\" d=\"M182.42,-41C215.83,-41 271.8,-41 318.73,-41\"/>\n",
       "<polygon fill=\"black\" stroke=\"black\" points=\"318.9,-44.5 328.9,-41 318.9,-37.5 318.9,-44.5\"/>\n",
       "</g>\n",
       "<!-- Pump 3 -->\n",
       "<g id=\"node7\" class=\"node\">\n",
       "<title>Pump 3</title>\n",
       "<polygon fill=\"none\" stroke=\"black\" points=\"432,-167 376,-167 372,-163 372,-131 428,-131 432,-135 432,-167\"/>\n",
       "<polyline fill=\"none\" stroke=\"black\" points=\"428,-163 372,-163 \"/>\n",
       "<polyline fill=\"none\" stroke=\"black\" points=\"428,-163 428,-131 \"/>\n",
       "<polyline fill=\"none\" stroke=\"black\" points=\"428,-163 432,-167 \"/>\n",
       "<text text-anchor=\"middle\" x=\"402\" y=\"-145.3\" font-family=\"Times,serif\" font-size=\"14.00\">Pump 3</text>\n",
       "</g>\n",
       "<!-- Thiophenol in THF -->\n",
       "<g id=\"node10\" class=\"node\">\n",
       "<title>Thiophenol in THF</title>\n",
       "<path fill=\"none\" stroke=\"black\" d=\"M818.5,-163.73C818.5,-165.53 790.49,-167 756,-167 721.51,-167 693.5,-165.53 693.5,-163.73 693.5,-163.73 693.5,-134.27 693.5,-134.27 693.5,-132.47 721.51,-131 756,-131 790.49,-131 818.5,-132.47 818.5,-134.27 818.5,-134.27 818.5,-163.73 818.5,-163.73\"/>\n",
       "<path fill=\"none\" stroke=\"black\" d=\"M818.5,-163.73C818.5,-161.92 790.49,-160.45 756,-160.45 721.51,-160.45 693.5,-161.92 693.5,-163.73\"/>\n",
       "<text text-anchor=\"middle\" x=\"756\" y=\"-145.3\" font-family=\"Times,serif\" font-size=\"14.00\">Thiophenol in THF</text>\n",
       "</g>\n",
       "<!-- Pump 3&#45;&gt;Thiophenol in THF -->\n",
       "<g id=\"edge4\" class=\"edge\">\n",
       "<title>Pump 3&#45;&gt;Thiophenol in THF</title>\n",
       "<path fill=\"none\" stroke=\"black\" d=\"M432.11,-149C486.73,-149 606.04,-149 683.34,-149\"/>\n",
       "<polygon fill=\"black\" stroke=\"black\" points=\"683.49,-152.5 693.49,-149 683.49,-145.5 683.49,-152.5\"/>\n",
       "</g>\n",
       "<!-- Pump 4 -->\n",
       "<g id=\"node8\" class=\"node\">\n",
       "<title>Pump 4</title>\n",
       "<polygon fill=\"none\" stroke=\"black\" points=\"786,-221 730,-221 726,-217 726,-185 782,-185 786,-189 786,-221\"/>\n",
       "<polyline fill=\"none\" stroke=\"black\" points=\"782,-217 726,-217 \"/>\n",
       "<polyline fill=\"none\" stroke=\"black\" points=\"782,-217 782,-185 \"/>\n",
       "<polyline fill=\"none\" stroke=\"black\" points=\"782,-217 786,-221 \"/>\n",
       "<text text-anchor=\"middle\" x=\"756\" y=\"-199.3\" font-family=\"Times,serif\" font-size=\"14.00\">Pump 4</text>\n",
       "</g>\n",
       "<!-- Pump 4&#45;&gt;Me2NH + NaBH3CN in MeOH -->\n",
       "<g id=\"edge5\" class=\"edge\">\n",
       "<title>Pump 4&#45;&gt;Me2NH + NaBH3CN in MeOH</title>\n",
       "<path fill=\"none\" stroke=\"black\" d=\"M786.09,-203C833.46,-203 929.59,-203 1005.32,-203\"/>\n",
       "<polygon fill=\"black\" stroke=\"black\" points=\"1005.39,-206.5 1015.39,-203 1005.39,-199.5 1005.39,-206.5\"/>\n",
       "</g>\n",
       "<!-- Starting Material&#45;&gt;Tube of length 13 foot, ID 0.062 inch, OD 0.125 inch -->\n",
       "<g id=\"edge6\" class=\"edge\">\n",
       "<title>Starting Material&#45;&gt;Tube of length 13 foot, ID 0.062 inch, OD 0.125 inch</title>\n",
       "<path fill=\"none\" stroke=\"black\" d=\"M208.04,-95C216.02,-95 224.57,-95 233.45,-95\"/>\n",
       "<polygon fill=\"black\" stroke=\"black\" points=\"233.61,-98.5 243.61,-95 233.61,-91.5 233.61,-98.5\"/>\n",
       "</g>\n",
       "<!-- Tube of length 101 foot, ID 0.062 inch, OD 0.125 inch -->\n",
       "<g id=\"node11\" class=\"node\">\n",
       "<title>Tube of length 101 foot, ID 0.062 inch, OD 0.125 inch</title>\n",
       "<polygon fill=\"none\" stroke=\"black\" points=\"1263,-161 952,-161 952,-137 1263,-137 1275,-149 1263,-161\"/>\n",
       "<text text-anchor=\"middle\" x=\"1113.5\" y=\"-145.3\" font-family=\"Times,serif\" font-size=\"14.00\">Tube of length 101 foot, ID 0.062 inch, OD 0.125 inch</text>\n",
       "</g>\n",
       "<!-- Thiophenol in THF&#45;&gt;Tube of length 101 foot, ID 0.062 inch, OD 0.125 inch -->\n",
       "<g id=\"edge11\" class=\"edge\">\n",
       "<title>Thiophenol in THF&#45;&gt;Tube of length 101 foot, ID 0.062 inch, OD 0.125 inch</title>\n",
       "<path fill=\"none\" stroke=\"black\" d=\"M818.52,-149C852.81,-149 897.38,-149 941.41,-149\"/>\n",
       "<polygon fill=\"black\" stroke=\"black\" points=\"941.68,-152.5 951.68,-149 941.68,-145.5 941.68,-152.5\"/>\n",
       "</g>\n",
       "<!-- Tube of length 101 foot, ID 0.062 inch, OD 0.125 inch&#45;&gt;Tube of length 673 foot, ID 0.062 inch, OD 0.125 inch -->\n",
       "<g id=\"edge12\" class=\"edge\">\n",
       "<title>Tube of length 101 foot, ID 0.062 inch, OD 0.125 inch&#45;&gt;Tube of length 673 foot, ID 0.062 inch, OD 0.125 inch</title>\n",
       "<path fill=\"none\" stroke=\"black\" d=\"M1275.25,-161.16C1283.76,-161.8 1292.33,-162.45 1300.87,-163.1\"/>\n",
       "<polygon fill=\"black\" stroke=\"black\" points=\"1300.65,-166.59 1310.88,-163.85 1301.18,-159.61 1300.65,-166.59\"/>\n",
       "</g>\n",
       "<!-- Tube of length 13 foot, ID 0.062 inch, OD 0.125 inch&#45;&gt;Tube of length 3.4 foot, ID 0.062 inch, OD 0.125 inch -->\n",
       "<g id=\"edge8\" class=\"edge\">\n",
       "<title>Tube of length 13 foot, ID 0.062 inch, OD 0.125 inch&#45;&gt;Tube of length 3.4 foot, ID 0.062 inch, OD 0.125 inch</title>\n",
       "<path fill=\"none\" stroke=\"black\" d=\"M560.21,-95C568.61,-95 577.07,-95 585.51,-95\"/>\n",
       "<polygon fill=\"black\" stroke=\"black\" points=\"585.79,-98.5 595.79,-95 585.79,-91.5 585.79,-98.5\"/>\n",
       "</g>\n",
       "<!-- Tube of length 3.4 foot, ID 0.062 inch, OD 0.125 inch&#45;&gt;Tube of length 101 foot, ID 0.062 inch, OD 0.125 inch -->\n",
       "<g id=\"edge10\" class=\"edge\">\n",
       "<title>Tube of length 3.4 foot, ID 0.062 inch, OD 0.125 inch&#45;&gt;Tube of length 101 foot, ID 0.062 inch, OD 0.125 inch</title>\n",
       "<path fill=\"none\" stroke=\"black\" d=\"M875.87,-113.06C910.41,-118.3 948.29,-124.06 983.42,-129.39\"/>\n",
       "<polygon fill=\"black\" stroke=\"black\" points=\"983.33,-132.92 993.74,-130.96 984.38,-126 983.33,-132.92\"/>\n",
       "</g>\n",
       "<!-- Tube of length 673 foot, ID 0.062 inch, OD 0.125 inch&#45;&gt;Product -->\n",
       "<g id=\"edge14\" class=\"edge\">\n",
       "<title>Tube of length 673 foot, ID 0.062 inch, OD 0.125 inch&#45;&gt;Product</title>\n",
       "<path fill=\"none\" stroke=\"black\" d=\"M1634.08,-176C1643.22,-176 1651.84,-176 1659.63,-176\"/>\n",
       "<polygon fill=\"black\" stroke=\"black\" points=\"1659.72,-179.5 1669.72,-176 1659.72,-172.5 1659.72,-179.5\"/>\n",
       "</g>\n",
       "</g>\n",
       "</svg>\n"
      ],
      "text/plain": [
       "<graphviz.dot.Digraph at 0x12def2760>"
      ]
     },
     "execution_count": 14,
     "metadata": {},
     "output_type": "execute_result"
    }
   ],
   "source": [
    "# apparatus \n",
    "A = mw.Apparatus(\"Telescoped L-megosamide\")\n",
    "\n",
    "A.add(pump_1, reagent_vessel_1, sugar)\n",
    "A.add(pump_1, reagent_vessel_2, DMP)\n",
    "A.add(pump_2, reagent_vessel_3, CsCO3)\n",
    "A.add(pump_3, reagent_vessel_4, thiophenol)\n",
    "A.add(pump_4, reagent_vessel_5, NH4OAc)\n",
    "\n",
    "A.add(reagent_vessel_1, T_1, sugar)\n",
    "A.add(reagent_vessel_2, T_1, DMP)\n",
    "A.add(T_1, T_2, oxidation)\n",
    "\n",
    "A.add(reagent_vessel_3, T_2, CsCO3)\n",
    "A.add(T_2, T_3, activation)\n",
    "\n",
    "A.add(reagent_vessel_4, T_3, thiophenol)\n",
    "A.add(T_3, T_4, addition)\n",
    "\n",
    "A.add(reagent_vessel_5, T_4, NH4OAc)\n",
    "A.add(T_4, product_vessel, amination)\n",
    "\n",
    "A.describe()\n",
    "A.visualize()"
   ]
  },
  {
   "cell_type": "markdown",
   "metadata": {},
   "source": [
    "### Protocol"
   ]
  },
  {
   "cell_type": "code",
   "execution_count": 15,
   "metadata": {},
   "outputs": [
    {
     "name": "stdout",
     "output_type": "stream",
     "text": [
      "TOTAL TIME: 0:30:30\n"
     ]
    }
   ],
   "source": [
    "P = mw.Protocol(A)\n",
    "\n",
    "switch = timedelta(minutes = 1)\n",
    "\n",
    "current = timedelta(seconds = 0)\n",
    "\n",
    "pump_1_initial = timedelta(minutes = 2)\n",
    "P.add(pump_1, start = current,\n",
    "              duration = pump_1_initial, rate = \"0.5mL/min\")\n",
    "\n",
    "current += pump_1_initial + switch\n",
    "\n",
    "deacetylation = timedelta(minutes = 8) \n",
    "protection = timedelta(minutes = 3.5)\n",
    "\n",
    "P.add(pump_1, start = current, \n",
    "              duration = deacetylation + protection, rate = \"0.5mL/min\")\n",
    "\n",
    "current += deacetylation\n",
    "\n",
    "P.add(pump_2, start = current,\n",
    "              duration = protection, rate = \"1mL/min\")\n",
    "\n",
    "current += protection + switch\n",
    "\n",
    "flush = timedelta(minutes = 15) \n",
    "P.add(pump_1, start = current, \n",
    "              duration = flush, rate = \"0.5mL/min\")\n",
    "P.add(pump_2, start = current, \n",
    "              duration = flush, rate = \"1mL/min\")\n",
    "\n",
    "current += flush\n",
    "\n",
    "print(f'TOTAL TIME: {current}')\n",
    "P.execute(confirm = True)"
   ]
  },
  {
   "cell_type": "markdown",
   "metadata": {},
   "source": [
    "### Product and Yield Information"
   ]
  },
  {
   "cell_type": "code",
   "execution_count": 16,
   "metadata": {},
   "outputs": [
    {
     "name": "stdout",
     "output_type": "stream",
     "text": [
      "TBS protected rhamnal; molecular weight:  244.41\n",
      "Theoretical Yield: 0.2282 g\n",
      "Enter mass of product in g: 0.1\n",
      "Actual Yield: 0.1 g\n",
      "Percent Yield: 43.8 %\n"
     ]
    }
   ],
   "source": [
    "product = \"TBS protected rhamnal\"\n",
    "product_molecular_weight = 244.41\n",
    "\n",
    "theoretical_yield = round(moles * product_molecular_weight, decimals = 4)\n",
    "\n",
    "if moles < 0.0005:\n",
    "    theoretical_yield *= 1000\n",
    "    units = 'mg'\n",
    "else:\n",
    "    units = 'g'\n",
    "\n",
    "print(product + \"; molecular weight: \", product_molecular_weight)\n",
    "\n",
    "print(\"Theoretical Yield:\", theoretical_yield, units)\n",
    "\n",
    "actual_yield = float(input(f\"Enter mass of product in {units}: \"))\n",
    "print(\"Actual Yield:\", actual_yield, units)\n",
    "\n",
    "percent_yield = round((actual_yield / theoretical_yield) * 100, decimals = 1)\n",
    "print(\"Percent Yield:\", percent_yield, \"%\")"
   ]
  }
 ],
 "metadata": {
  "kernelspec": {
   "display_name": "Python 3",
   "language": "python",
   "name": "python3"
  },
  "language_info": {
   "codemirror_mode": {
    "name": "ipython",
    "version": 3
   },
   "file_extension": ".py",
   "mimetype": "text/x-python",
   "name": "python",
   "nbconvert_exporter": "python",
   "pygments_lexer": "ipython3",
   "version": "3.9.6"
  }
 },
 "nbformat": 4,
 "nbformat_minor": 4
}
