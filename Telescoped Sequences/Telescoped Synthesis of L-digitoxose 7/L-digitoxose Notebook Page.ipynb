{
 "cells": [
  {
   "cell_type": "markdown",
   "metadata": {},
   "source": [
    "## Notebook Page"
   ]
  },
  {
   "cell_type": "code",
   "execution_count": 11,
   "metadata": {},
   "outputs": [],
   "source": [
    "import mechwolf as mw\n",
    "import graphviz\n",
    "import math\n",
    "from datetime import timedelta\n",
    "from astropy.table import QTable, Table, Column\n",
    "from sigfig import round\n",
    "import json"
   ]
  },
  {
   "cell_type": "code",
   "execution_count": 12,
   "metadata": {},
   "outputs": [],
   "source": [
    "with open('digi_reagents.json') as f:\n",
    "    data = json.load(f)"
   ]
  },
  {
   "cell_type": "markdown",
   "metadata": {},
   "source": [
    "### Reagents"
   ]
  },
  {
   "cell_type": "code",
   "execution_count": 13,
   "metadata": {},
   "outputs": [
    {
     "name": "stdout",
     "output_type": "stream",
     "text": [
      "The limiting reagent is Benzylated Rhamnal\n",
      "\n",
      "Moles: 0.004539882871021928\n"
     ]
    }
   ],
   "source": [
    "print(f\"The limiting reagent is {data['limiting reagent']}\")\n",
    "mw_limiting = 220.27\n",
    "\n",
    "try:\n",
    "    mass_scale = float(data['mass scale'])\n",
    "except:\n",
    "    print('Invalid input: numerical values only')\n",
    "\n",
    "moles = mass_scale / mw_limiting\n",
    "\n",
    "print(f'\\nMoles: {moles}')"
   ]
  },
  {
   "cell_type": "code",
   "execution_count": 14,
   "metadata": {},
   "outputs": [
    {
     "name": "stdout",
     "output_type": "stream",
     "text": [
      "\n",
      "Volume: 14.187133971943524 mL\n"
     ]
    }
   ],
   "source": [
    "try:\n",
    "    concentration = float(data['concentration'])\n",
    "except:\n",
    "    print('Invalid input: numerical values only')\n",
    "    \n",
    "volume = (moles * 1000) / concentration\n",
    "\n",
    "print(f'\\nVolume: {volume} mL')"
   ]
  },
  {
   "cell_type": "code",
   "execution_count": 15,
   "metadata": {},
   "outputs": [],
   "source": [
    "class Reagent:\n",
    "    \n",
    "    def __init__(self, reagent):\n",
    "        assert 'name' in reagent, 'ERROR: one of the reagents does not have a name field'\n",
    "        assert 'inChi' in reagent, f'Error: {reagent[\"name\"]} does not have an inChi field'\n",
    "        assert 'inChi Key' in reagent, f'Error: {reagent[\"name\"]} does not have an inChi key field'\n",
    "        assert 'molecular weight' in reagent, f'Error: {reagent[\"name\"]} does not have a molecular weight field'\n",
    "        assert 'eq' in reagent, f'Error: {reagent[\"name\"]} does not have an eq field'\n",
    "        assert 'syringe' in reagent, f'Error: {reagent[\"name\"]} does not have an syringe # field'\n",
    "        \n",
    "        self.name = reagent['name']\n",
    "        self.inChi = reagent['inChi']\n",
    "        self.mol_weight = reagent['molecular weight']\n",
    "        self.eq = reagent['eq']\n",
    "        self.syringe = reagent['syringe']\n",
    "        self.moles = round(moles * self.eq, decimals = 4)\n",
    "        self.mass = round(self.moles * self.mol_weight, decimals = 4)\n",
    "        \n",
    "    def __str__(self):\n",
    "        return f\"{self.name}\"\n",
    "    \n",
    "class Solid(Reagent):\n",
    "    \n",
    "    def __init__(self, reagent):\n",
    "        super().__init__(reagent)\n",
    "\n",
    "class Liquid(Reagent):\n",
    "    \n",
    "    def __init__(self, reagent):\n",
    "        super().__init__(reagent)\n",
    "        \n",
    "        assert 'density' in reagent, f'Error: {reagent[\"name\"]} does not have a density field'\n",
    "        self.density = reagent['density']\n",
    "        self.volume = round(self.eq * moles * (self.mol_weight / self.density), decimals = 4)\n",
    "        \n",
    "reagent_list = []\n",
    "for solid in data['solid reagents']:\n",
    "    reagent_list.append(Solid(solid))\n",
    "    \n",
    "for liquid in data['liquid reagents']:\n",
    "    reagent_list.append(Liquid(liquid))"
   ]
  },
  {
   "cell_type": "markdown",
   "metadata": {},
   "source": [
    "## Stoichiometry Table\n",
    "\n",
    "### Reagent Table"
   ]
  },
  {
   "cell_type": "code",
   "execution_count": 16,
   "metadata": {
    "scrolled": true
   },
   "outputs": [
    {
     "name": "stdout",
     "output_type": "stream",
     "text": [
      "     Reagent       Molecular Weight (g/mol)  mol   Mass (g) Volume (mL) Density (g/mL)  eq\n",
      "------------------ ------------------------ ------ -------- ----------- -------------- ---\n",
      "Benzylated Rhamnal                   220.27 0.0045   0.9912         N/A            N/A 1.0\n",
      "  Cesium Carbonate                   325.82  0.005   1.6291         N/A            N/A 1.1\n",
      "        Thiocresol                    124.2 0.0182   2.2604         N/A            N/A 4.0\n",
      "Sodium Borohydride                    37.83 0.0091   0.3443         N/A            N/A 2.0\n",
      "               DMP                   424.14  0.005   2.1207      1.5551          1.362 1.1\n",
      "     Triethylamine                   101.19  0.005    0.506       0.696          0.726 1.1\n",
      "\n",
      "Solvent: DMF\n"
     ]
    }
   ],
   "source": [
    "reagent_table = QTable()\n",
    "reagent_table['Reagent'] = [reagent.name for reagent in reagent_list]\n",
    "reagent_table['Molecular Weight (g/mol)'] = [reagent.mol_weight for reagent in reagent_list]\n",
    "\n",
    "if moles < 0.0005:\n",
    "    reagent_table['mmol'] = [reagent.moles * 1000 for reagent in reagent_list]\n",
    "    reagent_table['Mass (mg)'] = [round(reagent.mass * 1000, decimals = 4) for reagent in reagent_list]\n",
    "else:\n",
    "    reagent_table['mol'] = [reagent.moles for reagent in reagent_list]\n",
    "    reagent_table['Mass (g)'] = [round(reagent.mass, decimals = 4) for reagent in reagent_list]\n",
    "\n",
    "reagent_table['Volume (mL)'] = [reagent.volume if hasattr(reagent, 'volume') else \"N/A\" for reagent in reagent_list]\n",
    "reagent_table['Density (g/mL)'] = [reagent.density if hasattr(reagent, 'density') else \"N/A\" for reagent in reagent_list]\n",
    "reagent_table['eq'] = [reagent.eq for reagent in reagent_list]\n",
    "\n",
    "reagent_table.pprint(max_lines=-1, max_width=-1)\n",
    "\n",
    "print(f'\\nSolvent: {data[\"solvent\"]}')"
   ]
  },
  {
   "cell_type": "markdown",
   "metadata": {},
   "source": [
    "### Syringe Table"
   ]
  },
  {
   "cell_type": "code",
   "execution_count": 17,
   "metadata": {},
   "outputs": [
    {
     "name": "stdout",
     "output_type": "stream",
     "text": [
      "Syringe             Reagent             Solvent Volume\n",
      "------- ------------------------------- --------------\n",
      "      1              Benzylated Rhamnal           14.1\n",
      "      2                             DMP   14.1 mL neat\n",
      "      3 Cesium Carbonate, Triethylamine           27.5\n",
      "      4                      Thiocresol           56.4\n",
      "      5              Sodium Borohydride          112.8\n"
     ]
    }
   ],
   "source": [
    "def get_syringe_reagents(reagents, syr_max):\n",
    "    \n",
    "    def get_reagents_for_syringe_number(syr_num):\n",
    "        reagent_for_syringe_num = \"\"\n",
    "        for reagent in reagents:\n",
    "            if reagent.syringe == syr_num:\n",
    "                reagent_for_syringe_num += f'{reagent.name}, '\n",
    "                \n",
    "        return reagent_for_syringe_num[:-2]\n",
    "                \n",
    "    return list(map(get_reagents_for_syringe_number, range(1, syr_max)))\n",
    "\n",
    "syringe_table = QTable()\n",
    "syringe_max = max([reagent.syringe for reagent in reagent_list]) + 1\n",
    "syringe_table['Syringe'] = list(range(1, syringe_max))\n",
    "syringe_table['Reagent'] = get_syringe_reagents(reagent_list, syringe_max)\n",
    "syringe_table['Solvent Volume'] = data['solvent volume']\n",
    "\n",
    "syringe_table.pprint(max_lines=-1, max_width=-1)"
   ]
  },
  {
   "cell_type": "markdown",
   "metadata": {},
   "source": [
    "### Pumps"
   ]
  },
  {
   "cell_type": "code",
   "execution_count": 18,
   "metadata": {},
   "outputs": [],
   "source": [
    "import time\n",
    "import asyncio\n",
    "from loguru import logger\n",
    "from mechwolf import _ureg, Pump\n",
    "\n",
    "class HarvardSyringePump(Pump):\n",
    "    def __init__(self, syringe_volume, syringe_diameter, serial_port, name=None):\n",
    "        super().__init__(name = name)\n",
    "        self.serial_port = serial_port\n",
    "        self.syringe_volume = _ureg.parse_expression(syringe_volume)\n",
    "        self.syringe_diameter = _ureg.parse_expression(syringe_diameter)\n",
    "        \n",
    "    def __enter__(self):\n",
    "        import aioserial\n",
    "\n",
    "        self._ser = aioserial.AioSerial(\n",
    "            self.serial_port,\n",
    "            115200,\n",
    "            parity = aioserial.PARITY_NONE,\n",
    "            stopbits = 1,\n",
    "            timeout = 1,\n",
    "            write_timeout = 1,)\n",
    "        syringe_volume_ml = self.syringe_volume.to(_ureg.ml).magnitude \n",
    "        syringe_diameter_mm = self.syringe_diameter.to(_ureg.mm).magnitude\n",
    "        self._ser.write(f'svolume {syringe_volume_ml} ml\\r'.encode())\n",
    "        self._ser.write(f'diameter {syringe_diameter_mm}\\r'.encode())\n",
    "\n",
    "        return self\n",
    "    \n",
    "    def __exit__(self, exc_type, exc_value, traceback):\n",
    "        self.rate = _ureg.parse_expression(\"0 mL/min\")\n",
    "        self._ser.write(b'stop\\r') \n",
    "        \n",
    "        del self._ser\n",
    "\n",
    "    async def _update(self):\n",
    "        rate_mlmin = self.rate.to(_ureg.ml / _ureg.min).magnitude\n",
    "        if rate_mlmin == 0:\n",
    "            self._ser.write(b'stop\\r') \n",
    "        else:\n",
    "            self._ser.write(f'irate {rate_mlmin} m/m\\r'.encode())\n",
    "            self._ser.write(b'irun\\r')"
   ]
  },
  {
   "cell_type": "code",
   "execution_count": 22,
   "metadata": {},
   "outputs": [],
   "source": [
    "pump_1 = HarvardSyringePump(\"24mL\", \"20.05mm\", serial_port = '/dev/tty.usbmodemD4038611', name = \"Pump 1\")\n",
    "pump_2 = HarvardSyringePump(\"24mL\", \"20.05mm\", serial_port = '/dev/tty.usbmodemD4038591', name = \"Pump 2\")\n",
    "pump_3 = HarvardSyringePump(\"24mL\", \"20.05mm\", serial_port = '/dev/tty.usbmodemD4038601', name = \"Pump 3\")\n",
    "pump_4 = mw.VarianPump(max_rate = '10mL/min', serial_port = '/dev/tty/usbserial', name = \"Pump 4\")"
   ]
  },
  {
   "cell_type": "markdown",
   "metadata": {},
   "source": [
    "### Syringe, Tubing, and Mixer Information"
   ]
  },
  {
   "cell_type": "code",
   "execution_count": 23,
   "metadata": {},
   "outputs": [],
   "source": [
    "#reagent vessels\n",
    "reagent_vessel_1 = mw.Vessel(\"Benzylated Rhamnal\", name = \"Starting Material\")\n",
    "reagent_vessel_2 = mw.Vessel(\"DMP\", name = \"DMP\")\n",
    "reagent_vessel_3 = mw.Vessel(\"CsCO3 + Et3N\", name = \"CsCO3 + Et3N in THF\")\n",
    "reagent_vessel_4 = mw.Vessel(\"TolSH\", name = \"Thiocresol\")\n",
    "reagent_vessel_5 = mw.Vessel(\"NaBH4\", name = \"NaBH4 in MeOH\")\n",
    "product_vessel = mw.Vessel(\"L-digitoxose\", name = \"L-digitoxose\")\n",
    "\n",
    "#tubing\n",
    "def big_tube(length):\n",
    "    return mw.Tube(length = length, ID = \"0.062 in\", OD = \"1/8 in\", material = \"PFA\")\n",
    "\n",
    "sugar = big_tube(length = \"1 foot\")\n",
    "DMP = big_tube(length = \"1 foot\")\n",
    "oxidation = big_tube(length = \"12.5 foot\")\n",
    "CsCO3 = big_tube(length = \"1 foot\")\n",
    "activation = big_tube(length = \"3.3 foot\")\n",
    "thiocresol = big_tube(length = \"4.3 foot\")\n",
    "addition = big_tube(length = \"99 foot\")\n",
    "NaBH4 = big_tube(length = \"1 foot\")\n",
    "reduction = big_tube(length = \"132 foot\")\n",
    "\n",
    "#mixers\n",
    "def Tmixer(name):\n",
    "    return mw.TMixer(name = name)\n",
    "\n",
    "T_1 = Tmixer(oxidation)\n",
    "T_2 = Tmixer(activation)\n",
    "T_3 = Tmixer(addition)\n",
    "T_4 = Tmixer(reduction) "
   ]
  },
  {
   "cell_type": "markdown",
   "metadata": {},
   "source": [
    "### Apparatus "
   ]
  },
  {
   "cell_type": "code",
   "execution_count": 24,
   "metadata": {},
   "outputs": [
    {
     "data": {
      "image/svg+xml": [
       "<?xml version=\"1.0\" encoding=\"UTF-8\" standalone=\"no\"?>\n",
       "<!DOCTYPE svg PUBLIC \"-//W3C//DTD SVG 1.1//EN\"\n",
       " \"http://www.w3.org/Graphics/SVG/1.1/DTD/svg11.dtd\">\n",
       "<!-- Generated by graphviz version 2.47.1 (20210417.1919)\n",
       " -->\n",
       "<!-- Title: Synthesis of L&#45;digitoxose Pages: 1 -->\n",
       "<svg width=\"1745pt\" height=\"263pt\"\n",
       " viewBox=\"0.00 0.00 1745.00 263.00\" xmlns=\"http://www.w3.org/2000/svg\" xmlns:xlink=\"http://www.w3.org/1999/xlink\">\n",
       "<g id=\"graph0\" class=\"graph\" transform=\"scale(1 1) rotate(0) translate(4 259)\">\n",
       "<title>Synthesis of L&#45;digitoxose</title>\n",
       "<polygon fill=\"white\" stroke=\"transparent\" points=\"-4,4 -4,-259 1741,-259 1741,4 -4,4\"/>\n",
       "<text text-anchor=\"middle\" x=\"868.5\" y=\"-7.8\" font-family=\"Times,serif\" font-size=\"14.00\">Synthesis of L&#45;digitoxose</text>\n",
       "<!-- CsCO3 + Et3N in THF -->\n",
       "<g id=\"node1\" class=\"node\">\n",
       "<title>CsCO3 + Et3N in THF</title>\n",
       "<path fill=\"none\" stroke=\"black\" d=\"M474,-151.73C474,-153.53 441.73,-155 402,-155 362.27,-155 330,-153.53 330,-151.73 330,-151.73 330,-122.27 330,-122.27 330,-120.47 362.27,-119 402,-119 441.73,-119 474,-120.47 474,-122.27 474,-122.27 474,-151.73 474,-151.73\"/>\n",
       "<path fill=\"none\" stroke=\"black\" d=\"M474,-151.73C474,-149.92 441.73,-148.45 402,-148.45 362.27,-148.45 330,-149.92 330,-151.73\"/>\n",
       "<text text-anchor=\"middle\" x=\"402\" y=\"-133.3\" font-family=\"Times,serif\" font-size=\"14.00\">CsCO3 + Et3N in THF</text>\n",
       "</g>\n",
       "<!-- Tube of length 3.3 foot, ID 0.062 inch, OD 0.125 inch -->\n",
       "<g id=\"node12\" class=\"node\">\n",
       "<title>Tube of length 3.3 foot, ID 0.062 inch, OD 0.125 inch</title>\n",
       "<polygon fill=\"none\" stroke=\"black\" points=\"902,-141 599,-141 599,-117 902,-117 914,-129 902,-141\"/>\n",
       "<text text-anchor=\"middle\" x=\"756.5\" y=\"-125.3\" font-family=\"Times,serif\" font-size=\"14.00\">Tube of length 3.3 foot, ID 0.062 inch, OD 0.125 inch</text>\n",
       "</g>\n",
       "<!-- CsCO3 + Et3N in THF&#45;&gt;Tube of length 3.3 foot, ID 0.062 inch, OD 0.125 inch -->\n",
       "<g id=\"edge8\" class=\"edge\">\n",
       "<title>CsCO3 + Et3N in THF&#45;&gt;Tube of length 3.3 foot, ID 0.062 inch, OD 0.125 inch</title>\n",
       "<path fill=\"none\" stroke=\"black\" d=\"M474.33,-135.38C507.44,-134.63 548.31,-133.7 588.53,-132.79\"/>\n",
       "<polygon fill=\"black\" stroke=\"black\" points=\"588.82,-136.28 598.74,-132.56 588.66,-129.29 588.82,-136.28\"/>\n",
       "</g>\n",
       "<!-- DMP -->\n",
       "<g id=\"node2\" class=\"node\">\n",
       "<title>DMP</title>\n",
       "<path fill=\"none\" stroke=\"black\" d=\"M177,-55.73C177,-57.53 164.9,-59 150,-59 135.1,-59 123,-57.53 123,-55.73 123,-55.73 123,-26.27 123,-26.27 123,-24.47 135.1,-23 150,-23 164.9,-23 177,-24.47 177,-26.27 177,-26.27 177,-55.73 177,-55.73\"/>\n",
       "<path fill=\"none\" stroke=\"black\" d=\"M177,-55.73C177,-53.92 164.9,-52.45 150,-52.45 135.1,-52.45 123,-53.92 123,-55.73\"/>\n",
       "<text text-anchor=\"middle\" x=\"150\" y=\"-37.3\" font-family=\"Times,serif\" font-size=\"14.00\">DMP</text>\n",
       "</g>\n",
       "<!-- Tube of length 12.5 foot, ID 0.062 inch, OD 0.125 inch -->\n",
       "<g id=\"node10\" class=\"node\">\n",
       "<title>Tube of length 12.5 foot, ID 0.062 inch, OD 0.125 inch</title>\n",
       "<polygon fill=\"none\" stroke=\"black\" points=\"551,-95 241,-95 241,-71 551,-71 563,-83 551,-95\"/>\n",
       "<text text-anchor=\"middle\" x=\"402\" y=\"-79.3\" font-family=\"Times,serif\" font-size=\"14.00\">Tube of length 12.5 foot, ID 0.062 inch, OD 0.125 inch</text>\n",
       "</g>\n",
       "<!-- DMP&#45;&gt;Tube of length 12.5 foot, ID 0.062 inch, OD 0.125 inch -->\n",
       "<g id=\"edge4\" class=\"edge\">\n",
       "<title>DMP&#45;&gt;Tube of length 12.5 foot, ID 0.062 inch, OD 0.125 inch</title>\n",
       "<path fill=\"none\" stroke=\"black\" d=\"M177.28,-45.42C202.94,-49.73 243.83,-56.6 283.68,-63.29\"/>\n",
       "<polygon fill=\"black\" stroke=\"black\" points=\"283.33,-66.78 293.77,-64.99 284.49,-59.88 283.33,-66.78\"/>\n",
       "</g>\n",
       "<!-- L&#45;digitoxose -->\n",
       "<g id=\"node3\" class=\"node\">\n",
       "<title>L&#45;digitoxose</title>\n",
       "<path fill=\"none\" stroke=\"black\" d=\"M1737,-224.73C1737,-226.53 1717.73,-228 1694,-228 1670.27,-228 1651,-226.53 1651,-224.73 1651,-224.73 1651,-195.27 1651,-195.27 1651,-193.47 1670.27,-192 1694,-192 1717.73,-192 1737,-193.47 1737,-195.27 1737,-195.27 1737,-224.73 1737,-224.73\"/>\n",
       "<path fill=\"none\" stroke=\"black\" d=\"M1737,-224.73C1737,-222.92 1717.73,-221.45 1694,-221.45 1670.27,-221.45 1651,-222.92 1651,-224.73\"/>\n",
       "<text text-anchor=\"middle\" x=\"1694\" y=\"-206.3\" font-family=\"Times,serif\" font-size=\"14.00\">L&#45;digitoxose</text>\n",
       "</g>\n",
       "<!-- NaBH4 in MeOH -->\n",
       "<g id=\"node4\" class=\"node\">\n",
       "<title>NaBH4 in MeOH</title>\n",
       "<path fill=\"none\" stroke=\"black\" d=\"M1162.5,-251.73C1162.5,-253.53 1136.95,-255 1105.5,-255 1074.05,-255 1048.5,-253.53 1048.5,-251.73 1048.5,-251.73 1048.5,-222.27 1048.5,-222.27 1048.5,-220.47 1074.05,-219 1105.5,-219 1136.95,-219 1162.5,-220.47 1162.5,-222.27 1162.5,-222.27 1162.5,-251.73 1162.5,-251.73\"/>\n",
       "<path fill=\"none\" stroke=\"black\" d=\"M1162.5,-251.73C1162.5,-249.92 1136.95,-248.45 1105.5,-248.45 1074.05,-248.45 1048.5,-249.92 1048.5,-251.73\"/>\n",
       "<text text-anchor=\"middle\" x=\"1105.5\" y=\"-233.3\" font-family=\"Times,serif\" font-size=\"14.00\">NaBH4 in MeOH</text>\n",
       "</g>\n",
       "<!-- Tube of length 132 foot, ID 0.062 inch, OD 0.125 inch -->\n",
       "<g id=\"node11\" class=\"node\">\n",
       "<title>Tube of length 132 foot, ID 0.062 inch, OD 0.125 inch</title>\n",
       "<polygon fill=\"none\" stroke=\"black\" points=\"1603,-222 1297,-222 1297,-198 1603,-198 1615,-210 1603,-222\"/>\n",
       "<text text-anchor=\"middle\" x=\"1456\" y=\"-206.3\" font-family=\"Times,serif\" font-size=\"14.00\">Tube of length 132 foot, ID 0.062 inch, OD 0.125 inch</text>\n",
       "</g>\n",
       "<!-- NaBH4 in MeOH&#45;&gt;Tube of length 132 foot, ID 0.062 inch, OD 0.125 inch -->\n",
       "<g id=\"edge13\" class=\"edge\">\n",
       "<title>NaBH4 in MeOH&#45;&gt;Tube of length 132 foot, ID 0.062 inch, OD 0.125 inch</title>\n",
       "<path fill=\"none\" stroke=\"black\" d=\"M1162.88,-232.63C1196.82,-230 1241.99,-226.5 1286.64,-223.04\"/>\n",
       "<polygon fill=\"black\" stroke=\"black\" points=\"1287.06,-226.52 1296.76,-222.26 1286.52,-219.54 1287.06,-226.52\"/>\n",
       "</g>\n",
       "<!-- Pump 1 -->\n",
       "<g id=\"node5\" class=\"node\">\n",
       "<title>Pump 1</title>\n",
       "<polygon fill=\"none\" stroke=\"black\" points=\"59,-86 4,-86 0,-82 0,-50 55,-50 59,-54 59,-86\"/>\n",
       "<polyline fill=\"none\" stroke=\"black\" points=\"55,-82 0,-82 \"/>\n",
       "<polyline fill=\"none\" stroke=\"black\" points=\"55,-82 55,-50 \"/>\n",
       "<polyline fill=\"none\" stroke=\"black\" points=\"55,-82 59,-86 \"/>\n",
       "<text text-anchor=\"middle\" x=\"29.5\" y=\"-64.3\" font-family=\"Times,serif\" font-size=\"14.00\">Pump 1</text>\n",
       "</g>\n",
       "<!-- Pump 1&#45;&gt;DMP -->\n",
       "<g id=\"edge2\" class=\"edge\">\n",
       "<title>Pump 1&#45;&gt;DMP</title>\n",
       "<path fill=\"none\" stroke=\"black\" d=\"M59.19,-61.46C75.18,-57.82 95.27,-53.24 112.39,-49.34\"/>\n",
       "<polygon fill=\"black\" stroke=\"black\" points=\"113.63,-52.65 122.6,-47.01 112.08,-45.82 113.63,-52.65\"/>\n",
       "</g>\n",
       "<!-- Starting Material -->\n",
       "<g id=\"node8\" class=\"node\">\n",
       "<title>Starting Material</title>\n",
       "<path fill=\"none\" stroke=\"black\" d=\"M205,-109.73C205,-111.53 180.35,-113 150,-113 119.65,-113 95,-111.53 95,-109.73 95,-109.73 95,-80.27 95,-80.27 95,-78.47 119.65,-77 150,-77 180.35,-77 205,-78.47 205,-80.27 205,-80.27 205,-109.73 205,-109.73\"/>\n",
       "<path fill=\"none\" stroke=\"black\" d=\"M205,-109.73C205,-107.92 180.35,-106.45 150,-106.45 119.65,-106.45 95,-107.92 95,-109.73\"/>\n",
       "<text text-anchor=\"middle\" x=\"150\" y=\"-91.3\" font-family=\"Times,serif\" font-size=\"14.00\">Starting Material</text>\n",
       "</g>\n",
       "<!-- Pump 1&#45;&gt;Starting Material -->\n",
       "<g id=\"edge1\" class=\"edge\">\n",
       "<title>Pump 1&#45;&gt;Starting Material</title>\n",
       "<path fill=\"none\" stroke=\"black\" d=\"M59.19,-74.54C67.03,-76.32 75.86,-78.34 84.85,-80.38\"/>\n",
       "<polygon fill=\"black\" stroke=\"black\" points=\"84.09,-83.8 94.62,-82.61 85.64,-76.97 84.09,-83.8\"/>\n",
       "</g>\n",
       "<!-- Pump 2 -->\n",
       "<g id=\"node6\" class=\"node\">\n",
       "<title>Pump 2</title>\n",
       "<polygon fill=\"none\" stroke=\"black\" points=\"179.5,-190 124.5,-190 120.5,-186 120.5,-154 175.5,-154 179.5,-158 179.5,-190\"/>\n",
       "<polyline fill=\"none\" stroke=\"black\" points=\"175.5,-186 120.5,-186 \"/>\n",
       "<polyline fill=\"none\" stroke=\"black\" points=\"175.5,-186 175.5,-154 \"/>\n",
       "<polyline fill=\"none\" stroke=\"black\" points=\"175.5,-186 179.5,-190 \"/>\n",
       "<text text-anchor=\"middle\" x=\"150\" y=\"-168.3\" font-family=\"Times,serif\" font-size=\"14.00\">Pump 2</text>\n",
       "</g>\n",
       "<!-- Pump 2&#45;&gt;CsCO3 + Et3N in THF -->\n",
       "<g id=\"edge6\" class=\"edge\">\n",
       "<title>Pump 2&#45;&gt;CsCO3 + Et3N in THF</title>\n",
       "<path fill=\"none\" stroke=\"black\" d=\"M179.68,-167.99C213.62,-163.23 271.62,-155.11 319.72,-148.38\"/>\n",
       "<polygon fill=\"black\" stroke=\"black\" points=\"320.41,-151.82 329.83,-146.96 319.44,-144.88 320.41,-151.82\"/>\n",
       "</g>\n",
       "<!-- Thiocresol -->\n",
       "<g id=\"node9\" class=\"node\">\n",
       "<title>Thiocresol</title>\n",
       "<path fill=\"none\" stroke=\"black\" d=\"M793.5,-197.73C793.5,-199.53 776.92,-201 756.5,-201 736.08,-201 719.5,-199.53 719.5,-197.73 719.5,-197.73 719.5,-168.27 719.5,-168.27 719.5,-166.47 736.08,-165 756.5,-165 776.92,-165 793.5,-166.47 793.5,-168.27 793.5,-168.27 793.5,-197.73 793.5,-197.73\"/>\n",
       "<path fill=\"none\" stroke=\"black\" d=\"M793.5,-197.73C793.5,-195.92 776.92,-194.45 756.5,-194.45 736.08,-194.45 719.5,-195.92 719.5,-197.73\"/>\n",
       "<text text-anchor=\"middle\" x=\"756.5\" y=\"-179.3\" font-family=\"Times,serif\" font-size=\"14.00\">Thiocresol</text>\n",
       "</g>\n",
       "<!-- Pump 2&#45;&gt;Thiocresol -->\n",
       "<g id=\"edge7\" class=\"edge\">\n",
       "<title>Pump 2&#45;&gt;Thiocresol</title>\n",
       "<path fill=\"none\" stroke=\"black\" d=\"M179.75,-172.52C276.32,-174.28 589.68,-179.98 708.89,-182.15\"/>\n",
       "<polygon fill=\"black\" stroke=\"black\" points=\"709.08,-185.66 719.14,-182.34 709.2,-178.66 709.08,-185.66\"/>\n",
       "</g>\n",
       "<!-- Pump 3 -->\n",
       "<g id=\"node7\" class=\"node\">\n",
       "<title>Pump 3</title>\n",
       "<polygon fill=\"none\" stroke=\"black\" points=\"786,-255 731,-255 727,-251 727,-219 782,-219 786,-223 786,-255\"/>\n",
       "<polyline fill=\"none\" stroke=\"black\" points=\"782,-251 727,-251 \"/>\n",
       "<polyline fill=\"none\" stroke=\"black\" points=\"782,-251 782,-219 \"/>\n",
       "<polyline fill=\"none\" stroke=\"black\" points=\"782,-251 786,-255 \"/>\n",
       "<text text-anchor=\"middle\" x=\"756.5\" y=\"-233.3\" font-family=\"Times,serif\" font-size=\"14.00\">Pump 3</text>\n",
       "</g>\n",
       "<!-- Pump 3&#45;&gt;NaBH4 in MeOH -->\n",
       "<g id=\"edge12\" class=\"edge\">\n",
       "<title>Pump 3&#45;&gt;NaBH4 in MeOH</title>\n",
       "<path fill=\"none\" stroke=\"black\" d=\"M786.19,-237C841.01,-237 961.94,-237 1037.96,-237\"/>\n",
       "<polygon fill=\"black\" stroke=\"black\" points=\"1038.38,-240.5 1048.38,-237 1038.38,-233.5 1038.38,-240.5\"/>\n",
       "</g>\n",
       "<!-- Starting Material&#45;&gt;Tube of length 12.5 foot, ID 0.062 inch, OD 0.125 inch -->\n",
       "<g id=\"edge3\" class=\"edge\">\n",
       "<title>Starting Material&#45;&gt;Tube of length 12.5 foot, ID 0.062 inch, OD 0.125 inch</title>\n",
       "<path fill=\"none\" stroke=\"black\" d=\"M205.25,-92.4C213.18,-92.02 221.67,-91.61 230.52,-91.18\"/>\n",
       "<polygon fill=\"black\" stroke=\"black\" points=\"230.83,-94.67 240.65,-90.7 230.49,-87.68 230.83,-94.67\"/>\n",
       "</g>\n",
       "<!-- Tube of length 99 foot, ID 0.062 inch, OD 0.125 inch -->\n",
       "<g id=\"node13\" class=\"node\">\n",
       "<title>Tube of length 99 foot, ID 0.062 inch, OD 0.125 inch</title>\n",
       "<polygon fill=\"none\" stroke=\"black\" points=\"1249,-195 950,-195 950,-171 1249,-171 1261,-183 1249,-195\"/>\n",
       "<text text-anchor=\"middle\" x=\"1105.5\" y=\"-179.3\" font-family=\"Times,serif\" font-size=\"14.00\">Tube of length 99 foot, ID 0.062 inch, OD 0.125 inch</text>\n",
       "</g>\n",
       "<!-- Thiocresol&#45;&gt;Tube of length 99 foot, ID 0.062 inch, OD 0.125 inch -->\n",
       "<g id=\"edge9\" class=\"edge\">\n",
       "<title>Thiocresol&#45;&gt;Tube of length 99 foot, ID 0.062 inch, OD 0.125 inch</title>\n",
       "<path fill=\"none\" stroke=\"black\" d=\"M793.65,-183C828.79,-183 884.72,-183 939.52,-183\"/>\n",
       "<polygon fill=\"black\" stroke=\"black\" points=\"939.73,-186.5 949.73,-183 939.73,-179.5 939.73,-186.5\"/>\n",
       "</g>\n",
       "<!-- Tube of length 12.5 foot, ID 0.062 inch, OD 0.125 inch&#45;&gt;Tube of length 3.3 foot, ID 0.062 inch, OD 0.125 inch -->\n",
       "<g id=\"edge5\" class=\"edge\">\n",
       "<title>Tube of length 12.5 foot, ID 0.062 inch, OD 0.125 inch&#45;&gt;Tube of length 3.3 foot, ID 0.062 inch, OD 0.125 inch</title>\n",
       "<path fill=\"none\" stroke=\"black\" d=\"M541.05,-101.02C562.81,-103.85 585.38,-106.8 607.36,-109.67\"/>\n",
       "<polygon fill=\"black\" stroke=\"black\" points=\"607.04,-113.16 617.4,-110.98 607.94,-106.21 607.04,-113.16\"/>\n",
       "</g>\n",
       "<!-- Tube of length 132 foot, ID 0.062 inch, OD 0.125 inch&#45;&gt;L&#45;digitoxose -->\n",
       "<g id=\"edge14\" class=\"edge\">\n",
       "<title>Tube of length 132 foot, ID 0.062 inch, OD 0.125 inch&#45;&gt;L&#45;digitoxose</title>\n",
       "<path fill=\"none\" stroke=\"black\" d=\"M1615.07,-210C1624.06,-210 1632.7,-210 1640.74,-210\"/>\n",
       "<polygon fill=\"black\" stroke=\"black\" points=\"1640.95,-213.5 1650.95,-210 1640.95,-206.5 1640.95,-213.5\"/>\n",
       "</g>\n",
       "<!-- Tube of length 3.3 foot, ID 0.062 inch, OD 0.125 inch&#45;&gt;Tube of length 99 foot, ID 0.062 inch, OD 0.125 inch -->\n",
       "<g id=\"edge10\" class=\"edge\">\n",
       "<title>Tube of length 3.3 foot, ID 0.062 inch, OD 0.125 inch&#45;&gt;Tube of length 99 foot, ID 0.062 inch, OD 0.125 inch</title>\n",
       "<path fill=\"none\" stroke=\"black\" d=\"M873.53,-147.06C907.24,-152.3 944.22,-158.06 978.51,-163.39\"/>\n",
       "<polygon fill=\"black\" stroke=\"black\" points=\"978.16,-166.88 988.58,-164.96 979.24,-159.96 978.16,-166.88\"/>\n",
       "</g>\n",
       "<!-- Tube of length 99 foot, ID 0.062 inch, OD 0.125 inch&#45;&gt;Tube of length 132 foot, ID 0.062 inch, OD 0.125 inch -->\n",
       "<g id=\"edge11\" class=\"edge\">\n",
       "<title>Tube of length 99 foot, ID 0.062 inch, OD 0.125 inch&#45;&gt;Tube of length 132 foot, ID 0.062 inch, OD 0.125 inch</title>\n",
       "<path fill=\"none\" stroke=\"black\" d=\"M1261.13,-194.98C1269.63,-195.64 1278.19,-196.3 1286.74,-196.96\"/>\n",
       "<polygon fill=\"black\" stroke=\"black\" points=\"1286.51,-200.46 1296.75,-197.74 1287.05,-193.48 1286.51,-200.46\"/>\n",
       "</g>\n",
       "</g>\n",
       "</svg>\n"
      ],
      "text/plain": [
       "<graphviz.dot.Digraph at 0x7fb80b76a610>"
      ]
     },
     "execution_count": 24,
     "metadata": {},
     "output_type": "execute_result"
    }
   ],
   "source": [
    "A = mw.Apparatus(\"Synthesis of L-digitoxose\")\n",
    "\n",
    "A.add(pump_1, reagent_vessel_1, sugar)\n",
    "A.add(pump_1, reagent_vessel_2, DMP)\n",
    "A.add(reagent_vessel_1, T_1, sugar)\n",
    "A.add(reagent_vessel_2, T_1, DMP)\n",
    "A.add(T_1, T_2, oxidation)\n",
    "\n",
    "\n",
    "A.add(pump_2, reagent_vessel_3, CsCO3)\n",
    "A.add(pump_2, reagent_vessel_4, thiocresol)\n",
    "A.add(reagent_vessel_3, T_2, CsCO3)\n",
    "A.add(reagent_vessel_4, T_3, thiocresol)\n",
    "A.add(T_2, T_3, activation)\n",
    "A.add(T_3, T_4, addition)\n",
    "\n",
    "\n",
    "A.add(pump_3, reagent_vessel_5, NaBH4)\n",
    "A.add(reagent_vessel_5, T_4, NaBH4)\n",
    "A.add(T_4, product_vessel, reduction)\n",
    "\n",
    "A.describe()\n",
    "A.visualize()"
   ]
  },
  {
   "cell_type": "markdown",
   "metadata": {},
   "source": [
    "### Protocol"
   ]
  },
  {
   "cell_type": "code",
   "execution_count": 27,
   "metadata": {},
   "outputs": [
    {
     "name": "stdout",
     "output_type": "stream",
     "text": [
      "TOTAL TIME: 1:01:45\n"
     ]
    }
   ],
   "source": [
    "P = mw.Protocol(A)\n",
    "\n",
    "switch = timedelta(minutes = 1)\n",
    "\n",
    "current = timedelta(seconds = 0)\n",
    "\n",
    "DMP = timedelta(minutes = 7.5)\n",
    "pump_2_initial = timedelta(minutes = 16)\n",
    "NaBH4_initial = timedelta(minutes = 4.7)\n",
    "\n",
    "P.add(pump_1, start = current,\n",
    "              duration = DMP + pump_2_initial + NaBH4_initial, rate = \"0.5mL/min\")\n",
    "\n",
    "current += DMP\n",
    "\n",
    "P.add(pump_2, start = current, \n",
    "              duration = pump_2_initial + NaBH4_initial , rate = \"1 mL/min\")\n",
    "\n",
    "current += pump_2_initial\n",
    "\n",
    "P.add(pump_3, start = current,\n",
    "              duration = NaBH4_initial, rate = \"4mL/min\")\n",
    "\n",
    "current += NaBH4_initial + switch\n",
    "\n",
    "pump_2_final = timedelta(minutes = 8.1)\n",
    "P.add(pump_1, start = current,\n",
    "              duration = pump_2_final, rate = \"0.5mL/min\")\n",
    "P.add(pump_1, start = current,\n",
    "              duration = pump_2_final, rate = \"1mL/min\")\n",
    "P.add(pump_1, start = current,\n",
    "              duration = pump_2_final, rate = \"4mL/min\")\n",
    "\n",
    "current += pump_2_final + switch\n",
    "\n",
    "NaBH4_final = timedelta(minutes = 15.4)\n",
    "P.add(pump_1, start = current, \n",
    "              duration = NaBH4_final, rate = \"0.5mL/min\")\n",
    "P.add(pump_2, start = current, \n",
    "              duration = NaBH4_final, rate = \"1mL/min\")\n",
    "P.add(pump_3, start = current, \n",
    "              duration = NaBH4_final, rate = \"4mL/min\")\n",
    "      \n",
    "current += NaBH4_final + switch\n",
    "\n",
    "flush = timedelta(minutes = 3.75)\n",
    "P.add(pump_3, start = current, \n",
    "              duration = flush, rate = \"4mL/min\")\n",
    "\n",
    "current += flush\n",
    "\n",
    "print(f'TOTAL TIME: {current}')\n",
    "P.execute(confirm = True)"
   ]
  },
  {
   "cell_type": "markdown",
   "metadata": {},
   "source": [
    "### Product and Yield Information"
   ]
  },
  {
   "cell_type": "code",
   "execution_count": 28,
   "metadata": {},
   "outputs": [
    {
     "name": "stdout",
     "output_type": "stream",
     "text": [
      "L-digitoxose; molecular weight:  221.28\n",
      "Theoretical Yield: 1.0046 g\n",
      "Enter mass of product in g: 0.8\n",
      "Actual Yield: 0.8 g\n",
      "Percent Yield: 79.6 %\n"
     ]
    }
   ],
   "source": [
    "product = \"L-digitoxose\"\n",
    "product_molecular_weight = 221.28\n",
    "\n",
    "theoretical_yield = round(moles * product_molecular_weight, decimals = 4)\n",
    "\n",
    "if moles < 0.0005:\n",
    "    theoretical_yield *= 1000\n",
    "    units = 'mg'\n",
    "else:\n",
    "    units = 'g'\n",
    "\n",
    "print(product + \"; molecular weight: \", product_molecular_weight)\n",
    "\n",
    "print(\"Theoretical Yield:\", theoretical_yield, units)\n",
    "\n",
    "actual_yield = float(input(f\"Enter mass of product in {units}: \"))\n",
    "print(\"Actual Yield:\", actual_yield, units)\n",
    "\n",
    "percent_yield = round((actual_yield / theoretical_yield) * 100, decimals = 1)\n",
    "print(\"Percent Yield:\", percent_yield, \"%\")"
   ]
  }
 ],
 "metadata": {
  "kernelspec": {
   "display_name": "Python 3",
   "language": "python",
   "name": "python3"
  },
  "language_info": {
   "codemirror_mode": {
    "name": "ipython",
    "version": 3
   },
   "file_extension": ".py",
   "mimetype": "text/x-python",
   "name": "python",
   "nbconvert_exporter": "python",
   "pygments_lexer": "ipython3",
   "version": "3.9.0"
  }
 },
 "nbformat": 4,
 "nbformat_minor": 4
}
